{
 "cells": [
  {
   "cell_type": "markdown",
   "metadata": {},
   "source": [
    "#### *Please refer to the accompanying report*\n",
    "\n",
    "## Mini Project Four\n",
    "\n",
    "**File:** nsa325_mp4.ipnyb<br>\n",
    "**Name:** Nishant Aswani<br>\n",
    "**Professor:** Hwasoo Yeo<br>\n",
    "**Assignment:** Mini Project 4<br>\n",
    "**Course:** Machine Learning (ENGR-UH 4560) Fall 2019<br>\n",
    "**Due:** Nov 21, 2019<br>\n",
    "\n",
    "### About the Dataset\n",
    "\n",
    "*`train.csv` will contain the details of a subset of the passengers on board (891 to be exact) and importantly, will reveal whether they survived or not, also known as the “ground truth”.*\n",
    "\n",
    "*The `test.csv` dataset contains similar information but does not disclose the “ground truth” for each passenger. It’s your job to predict these outcomes.*\n",
    "\n",
    "Source: https://www.kaggle.com/c/titanic"
   ]
  },
  {
   "cell_type": "code",
   "execution_count": 88,
   "metadata": {},
   "outputs": [],
   "source": [
    "import numpy as np\n",
    "import pandas as pd\n",
    "\n",
    "# Visualization Libraries\n",
    "import seaborn as sns\n",
    "import matplotlib.pyplot as plt\n",
    "\n",
    "# ML libraries\n",
    "from sklearn.model_selection import train_test_split\n",
    "from sklearn.preprocessing import StandardScaler\n",
    "\n",
    "from sklearn.linear_model import LogisticRegression\n",
    "from sklearn import svm\n",
    "from sklearn.ensemble import RandomForestClassifier\n",
    "\n",
    "from sklearn import metrics\n",
    "from sklearn.metrics import classification_report\n",
    "\n",
    "from sklearn.model_selection import KFold\n",
    "from sklearn.model_selection import GridSearchCV\n",
    "\n",
    "from sklearn.metrics import mean_absolute_error\n",
    "from sklearn.metrics import mean_squared_error\n",
    "\n",
    "\n",
    "from sklearn.decomposition import PCA\n",
    "from sklearn.pipeline import Pipeline\n",
    "\n",
    "from sklearn.model_selection import cross_val_score\n",
    "\n",
    "\n",
    "\n",
    "\n",
    "\n",
    "# To plot the graph embedded in the notebook\n",
    "%matplotlib inline"
   ]
  },
  {
   "cell_type": "markdown",
   "metadata": {},
   "source": [
    "## Data Exploration"
   ]
  },
  {
   "cell_type": "code",
   "execution_count": 2,
   "metadata": {},
   "outputs": [
    {
     "data": {
      "text/html": [
       "<div>\n",
       "<style scoped>\n",
       "    .dataframe tbody tr th:only-of-type {\n",
       "        vertical-align: middle;\n",
       "    }\n",
       "\n",
       "    .dataframe tbody tr th {\n",
       "        vertical-align: top;\n",
       "    }\n",
       "\n",
       "    .dataframe thead th {\n",
       "        text-align: right;\n",
       "    }\n",
       "</style>\n",
       "<table border=\"1\" class=\"dataframe\">\n",
       "  <thead>\n",
       "    <tr style=\"text-align: right;\">\n",
       "      <th></th>\n",
       "      <th>PassengerId</th>\n",
       "      <th>Survived</th>\n",
       "      <th>Pclass</th>\n",
       "      <th>Name</th>\n",
       "      <th>Sex</th>\n",
       "      <th>Age</th>\n",
       "      <th>SibSp</th>\n",
       "      <th>Parch</th>\n",
       "      <th>Ticket</th>\n",
       "      <th>Fare</th>\n",
       "      <th>Cabin</th>\n",
       "      <th>Embarked</th>\n",
       "    </tr>\n",
       "  </thead>\n",
       "  <tbody>\n",
       "    <tr>\n",
       "      <td>0</td>\n",
       "      <td>1</td>\n",
       "      <td>0</td>\n",
       "      <td>3</td>\n",
       "      <td>Braund, Mr. Owen Harris</td>\n",
       "      <td>male</td>\n",
       "      <td>22.0</td>\n",
       "      <td>1</td>\n",
       "      <td>0</td>\n",
       "      <td>A/5 21171</td>\n",
       "      <td>7.2500</td>\n",
       "      <td>NaN</td>\n",
       "      <td>S</td>\n",
       "    </tr>\n",
       "    <tr>\n",
       "      <td>1</td>\n",
       "      <td>2</td>\n",
       "      <td>1</td>\n",
       "      <td>1</td>\n",
       "      <td>Cumings, Mrs. John Bradley (Florence Briggs Th...</td>\n",
       "      <td>female</td>\n",
       "      <td>38.0</td>\n",
       "      <td>1</td>\n",
       "      <td>0</td>\n",
       "      <td>PC 17599</td>\n",
       "      <td>71.2833</td>\n",
       "      <td>C85</td>\n",
       "      <td>C</td>\n",
       "    </tr>\n",
       "    <tr>\n",
       "      <td>2</td>\n",
       "      <td>3</td>\n",
       "      <td>1</td>\n",
       "      <td>3</td>\n",
       "      <td>Heikkinen, Miss. Laina</td>\n",
       "      <td>female</td>\n",
       "      <td>26.0</td>\n",
       "      <td>0</td>\n",
       "      <td>0</td>\n",
       "      <td>STON/O2. 3101282</td>\n",
       "      <td>7.9250</td>\n",
       "      <td>NaN</td>\n",
       "      <td>S</td>\n",
       "    </tr>\n",
       "    <tr>\n",
       "      <td>3</td>\n",
       "      <td>4</td>\n",
       "      <td>1</td>\n",
       "      <td>1</td>\n",
       "      <td>Futrelle, Mrs. Jacques Heath (Lily May Peel)</td>\n",
       "      <td>female</td>\n",
       "      <td>35.0</td>\n",
       "      <td>1</td>\n",
       "      <td>0</td>\n",
       "      <td>113803</td>\n",
       "      <td>53.1000</td>\n",
       "      <td>C123</td>\n",
       "      <td>S</td>\n",
       "    </tr>\n",
       "    <tr>\n",
       "      <td>4</td>\n",
       "      <td>5</td>\n",
       "      <td>0</td>\n",
       "      <td>3</td>\n",
       "      <td>Allen, Mr. William Henry</td>\n",
       "      <td>male</td>\n",
       "      <td>35.0</td>\n",
       "      <td>0</td>\n",
       "      <td>0</td>\n",
       "      <td>373450</td>\n",
       "      <td>8.0500</td>\n",
       "      <td>NaN</td>\n",
       "      <td>S</td>\n",
       "    </tr>\n",
       "  </tbody>\n",
       "</table>\n",
       "</div>"
      ],
      "text/plain": [
       "   PassengerId  Survived  Pclass  \\\n",
       "0            1         0       3   \n",
       "1            2         1       1   \n",
       "2            3         1       3   \n",
       "3            4         1       1   \n",
       "4            5         0       3   \n",
       "\n",
       "                                                Name     Sex   Age  SibSp  \\\n",
       "0                            Braund, Mr. Owen Harris    male  22.0      1   \n",
       "1  Cumings, Mrs. John Bradley (Florence Briggs Th...  female  38.0      1   \n",
       "2                             Heikkinen, Miss. Laina  female  26.0      0   \n",
       "3       Futrelle, Mrs. Jacques Heath (Lily May Peel)  female  35.0      1   \n",
       "4                           Allen, Mr. William Henry    male  35.0      0   \n",
       "\n",
       "   Parch            Ticket     Fare Cabin Embarked  \n",
       "0      0         A/5 21171   7.2500   NaN        S  \n",
       "1      0          PC 17599  71.2833   C85        C  \n",
       "2      0  STON/O2. 3101282   7.9250   NaN        S  \n",
       "3      0            113803  53.1000  C123        S  \n",
       "4      0            373450   8.0500   NaN        S  "
      ]
     },
     "execution_count": 2,
     "metadata": {},
     "output_type": "execute_result"
    }
   ],
   "source": [
    "titanic_df = pd.read_csv('./data/titanic/train.csv')\n",
    "titanic_df.head()"
   ]
  },
  {
   "cell_type": "code",
   "execution_count": 3,
   "metadata": {},
   "outputs": [
    {
     "data": {
      "text/plain": [
       "PassengerId      int64\n",
       "Survived         int64\n",
       "Pclass           int64\n",
       "Name            object\n",
       "Sex             object\n",
       "Age            float64\n",
       "SibSp            int64\n",
       "Parch            int64\n",
       "Ticket          object\n",
       "Fare           float64\n",
       "Cabin           object\n",
       "Embarked        object\n",
       "dtype: object"
      ]
     },
     "execution_count": 3,
     "metadata": {},
     "output_type": "execute_result"
    }
   ],
   "source": [
    "titanic_df.dtypes"
   ]
  },
  {
   "cell_type": "markdown",
   "metadata": {},
   "source": [
    "**We need to clean the null values to make this dataset more usable**\n",
    "\n",
    "Cabin has too many missing values, so we will have to disregard that feature"
   ]
  },
  {
   "cell_type": "code",
   "execution_count": 4,
   "metadata": {},
   "outputs": [
    {
     "data": {
      "text/plain": [
       "PassengerId      0\n",
       "Survived         0\n",
       "Pclass           0\n",
       "Name             0\n",
       "Sex              0\n",
       "Age            177\n",
       "SibSp            0\n",
       "Parch            0\n",
       "Ticket           0\n",
       "Fare             0\n",
       "Cabin          687\n",
       "Embarked         2\n",
       "dtype: int64"
      ]
     },
     "execution_count": 4,
     "metadata": {},
     "output_type": "execute_result"
    }
   ],
   "source": [
    "titanic_df.isnull().sum()"
   ]
  },
  {
   "cell_type": "code",
   "execution_count": 5,
   "metadata": {
    "scrolled": false
   },
   "outputs": [
    {
     "data": {
      "text/plain": [
       "(891, 12)"
      ]
     },
     "execution_count": 5,
     "metadata": {},
     "output_type": "execute_result"
    }
   ],
   "source": [
    "titanic_df.shape"
   ]
  },
  {
   "cell_type": "markdown",
   "metadata": {},
   "source": [
    "## Data Adjustment and Cleaning\n",
    "\n",
    "Let's convert some of the string features to integers so that we can use them for plotting and classification purposes"
   ]
  },
  {
   "cell_type": "code",
   "execution_count": 6,
   "metadata": {},
   "outputs": [],
   "source": [
    "# mapping sex to binary value\n",
    "sexes = sorted(titanic_df['Sex'].unique())\n",
    "genders_mapping = dict(zip(sexes, range(0, len(sexes) + 1)))\n",
    "genders_mapping\n",
    "titanic_df['Sex_Val'] = titanic_df['Sex'].map(genders_mapping).astype(int)"
   ]
  },
  {
   "cell_type": "code",
   "execution_count": 7,
   "metadata": {},
   "outputs": [
    {
     "data": {
      "text/plain": [
       "{'S': 0, 'C': 1, 'Q': 2, nan: 3}"
      ]
     },
     "execution_count": 7,
     "metadata": {},
     "output_type": "execute_result"
    }
   ],
   "source": [
    "# map embarked to values\n",
    "embarked_locs = (titanic_df['Embarked'].unique())\n",
    "embarked_locs_mapping = dict(zip(embarked_locs, \n",
    "                                 range(0, len(embarked_locs) + 1)))\n",
    "embarked_locs_mapping"
   ]
  },
  {
   "cell_type": "code",
   "execution_count": 8,
   "metadata": {},
   "outputs": [
    {
     "data": {
      "text/html": [
       "<div>\n",
       "<style scoped>\n",
       "    .dataframe tbody tr th:only-of-type {\n",
       "        vertical-align: middle;\n",
       "    }\n",
       "\n",
       "    .dataframe tbody tr th {\n",
       "        vertical-align: top;\n",
       "    }\n",
       "\n",
       "    .dataframe thead th {\n",
       "        text-align: right;\n",
       "    }\n",
       "</style>\n",
       "<table border=\"1\" class=\"dataframe\">\n",
       "  <thead>\n",
       "    <tr style=\"text-align: right;\">\n",
       "      <th></th>\n",
       "      <th>PassengerId</th>\n",
       "      <th>Survived</th>\n",
       "      <th>Pclass</th>\n",
       "      <th>Name</th>\n",
       "      <th>Sex</th>\n",
       "      <th>Age</th>\n",
       "      <th>SibSp</th>\n",
       "      <th>Parch</th>\n",
       "      <th>Ticket</th>\n",
       "      <th>Fare</th>\n",
       "      <th>Cabin</th>\n",
       "      <th>Embarked</th>\n",
       "      <th>Sex_Val</th>\n",
       "      <th>Embarked_Val</th>\n",
       "    </tr>\n",
       "  </thead>\n",
       "  <tbody>\n",
       "    <tr>\n",
       "      <td>0</td>\n",
       "      <td>1</td>\n",
       "      <td>0</td>\n",
       "      <td>3</td>\n",
       "      <td>Braund, Mr. Owen Harris</td>\n",
       "      <td>male</td>\n",
       "      <td>22.0</td>\n",
       "      <td>1</td>\n",
       "      <td>0</td>\n",
       "      <td>A/5 21171</td>\n",
       "      <td>7.2500</td>\n",
       "      <td>NaN</td>\n",
       "      <td>S</td>\n",
       "      <td>1</td>\n",
       "      <td>0</td>\n",
       "    </tr>\n",
       "    <tr>\n",
       "      <td>1</td>\n",
       "      <td>2</td>\n",
       "      <td>1</td>\n",
       "      <td>1</td>\n",
       "      <td>Cumings, Mrs. John Bradley (Florence Briggs Th...</td>\n",
       "      <td>female</td>\n",
       "      <td>38.0</td>\n",
       "      <td>1</td>\n",
       "      <td>0</td>\n",
       "      <td>PC 17599</td>\n",
       "      <td>71.2833</td>\n",
       "      <td>C85</td>\n",
       "      <td>C</td>\n",
       "      <td>0</td>\n",
       "      <td>1</td>\n",
       "    </tr>\n",
       "    <tr>\n",
       "      <td>2</td>\n",
       "      <td>3</td>\n",
       "      <td>1</td>\n",
       "      <td>3</td>\n",
       "      <td>Heikkinen, Miss. Laina</td>\n",
       "      <td>female</td>\n",
       "      <td>26.0</td>\n",
       "      <td>0</td>\n",
       "      <td>0</td>\n",
       "      <td>STON/O2. 3101282</td>\n",
       "      <td>7.9250</td>\n",
       "      <td>NaN</td>\n",
       "      <td>S</td>\n",
       "      <td>0</td>\n",
       "      <td>0</td>\n",
       "    </tr>\n",
       "    <tr>\n",
       "      <td>3</td>\n",
       "      <td>4</td>\n",
       "      <td>1</td>\n",
       "      <td>1</td>\n",
       "      <td>Futrelle, Mrs. Jacques Heath (Lily May Peel)</td>\n",
       "      <td>female</td>\n",
       "      <td>35.0</td>\n",
       "      <td>1</td>\n",
       "      <td>0</td>\n",
       "      <td>113803</td>\n",
       "      <td>53.1000</td>\n",
       "      <td>C123</td>\n",
       "      <td>S</td>\n",
       "      <td>0</td>\n",
       "      <td>0</td>\n",
       "    </tr>\n",
       "    <tr>\n",
       "      <td>4</td>\n",
       "      <td>5</td>\n",
       "      <td>0</td>\n",
       "      <td>3</td>\n",
       "      <td>Allen, Mr. William Henry</td>\n",
       "      <td>male</td>\n",
       "      <td>35.0</td>\n",
       "      <td>0</td>\n",
       "      <td>0</td>\n",
       "      <td>373450</td>\n",
       "      <td>8.0500</td>\n",
       "      <td>NaN</td>\n",
       "      <td>S</td>\n",
       "      <td>1</td>\n",
       "      <td>0</td>\n",
       "    </tr>\n",
       "  </tbody>\n",
       "</table>\n",
       "</div>"
      ],
      "text/plain": [
       "   PassengerId  Survived  Pclass  \\\n",
       "0            1         0       3   \n",
       "1            2         1       1   \n",
       "2            3         1       3   \n",
       "3            4         1       1   \n",
       "4            5         0       3   \n",
       "\n",
       "                                                Name     Sex   Age  SibSp  \\\n",
       "0                            Braund, Mr. Owen Harris    male  22.0      1   \n",
       "1  Cumings, Mrs. John Bradley (Florence Briggs Th...  female  38.0      1   \n",
       "2                             Heikkinen, Miss. Laina  female  26.0      0   \n",
       "3       Futrelle, Mrs. Jacques Heath (Lily May Peel)  female  35.0      1   \n",
       "4                           Allen, Mr. William Henry    male  35.0      0   \n",
       "\n",
       "   Parch            Ticket     Fare Cabin Embarked  Sex_Val  Embarked_Val  \n",
       "0      0         A/5 21171   7.2500   NaN        S        1             0  \n",
       "1      0          PC 17599  71.2833   C85        C        0             1  \n",
       "2      0  STON/O2. 3101282   7.9250   NaN        S        0             0  \n",
       "3      0            113803  53.1000  C123        S        0             0  \n",
       "4      0            373450   8.0500   NaN        S        1             0  "
      ]
     },
     "execution_count": 8,
     "metadata": {},
     "output_type": "execute_result"
    }
   ],
   "source": [
    "titanic_df['Embarked_Val'] = titanic_df['Embarked'] \\\n",
    "                               .map(embarked_locs_mapping) \\\n",
    "                               .astype(int)\n",
    "titanic_df.head()"
   ]
  },
  {
   "cell_type": "markdown",
   "metadata": {},
   "source": [
    "We need to clean the embarked and age columns to get rid of null values"
   ]
  },
  {
   "cell_type": "code",
   "execution_count": 9,
   "metadata": {},
   "outputs": [],
   "source": [
    "# replacing all null values in embarked with S (as it was the most used port)\n",
    "\n",
    "if len(titanic_df[titanic_df['Embarked'].isnull()]) > 0:\n",
    "    titanic_df.replace({'Embarked_Val' : \n",
    "                   { embarked_locs_mapping[np.nan] : embarked_locs_mapping['S'] \n",
    "                   }\n",
    "               }, \n",
    "               inplace=True)"
   ]
  },
  {
   "cell_type": "code",
   "execution_count": 10,
   "metadata": {},
   "outputs": [],
   "source": [
    "# fill missing age values with median\n",
    "\n",
    "# To keep the age column intact, we make a copy of and call it AgeFill\n",
    "# that we will use to fill in the missing ages:\n",
    "titanic_df['AgeFill'] = titanic_df['Age']\n",
    "\n",
    "# Populate AgeFill\n",
    "titanic_df['AgeFill'] = titanic_df['AgeFill'] \\\n",
    "                        .groupby([titanic_df['Sex_Val'], titanic_df['Pclass']]) \\\n",
    "                        .apply(lambda x: x.fillna(x.median()))"
   ]
  },
  {
   "cell_type": "code",
   "execution_count": 11,
   "metadata": {},
   "outputs": [
    {
     "data": {
      "text/html": [
       "<div>\n",
       "<style scoped>\n",
       "    .dataframe tbody tr th:only-of-type {\n",
       "        vertical-align: middle;\n",
       "    }\n",
       "\n",
       "    .dataframe tbody tr th {\n",
       "        vertical-align: top;\n",
       "    }\n",
       "\n",
       "    .dataframe thead th {\n",
       "        text-align: right;\n",
       "    }\n",
       "</style>\n",
       "<table border=\"1\" class=\"dataframe\">\n",
       "  <thead>\n",
       "    <tr style=\"text-align: right;\">\n",
       "      <th></th>\n",
       "      <th>PassengerId</th>\n",
       "      <th>Survived</th>\n",
       "      <th>Pclass</th>\n",
       "      <th>Name</th>\n",
       "      <th>Sex</th>\n",
       "      <th>Age</th>\n",
       "      <th>SibSp</th>\n",
       "      <th>Parch</th>\n",
       "      <th>Ticket</th>\n",
       "      <th>Fare</th>\n",
       "      <th>Cabin</th>\n",
       "      <th>Embarked</th>\n",
       "      <th>Sex_Val</th>\n",
       "      <th>Embarked_Val</th>\n",
       "      <th>AgeFill</th>\n",
       "    </tr>\n",
       "  </thead>\n",
       "  <tbody>\n",
       "    <tr>\n",
       "      <td>0</td>\n",
       "      <td>1</td>\n",
       "      <td>0</td>\n",
       "      <td>3</td>\n",
       "      <td>Braund, Mr. Owen Harris</td>\n",
       "      <td>male</td>\n",
       "      <td>22.0</td>\n",
       "      <td>1</td>\n",
       "      <td>0</td>\n",
       "      <td>A/5 21171</td>\n",
       "      <td>7.2500</td>\n",
       "      <td>NaN</td>\n",
       "      <td>S</td>\n",
       "      <td>1</td>\n",
       "      <td>0</td>\n",
       "      <td>22.0</td>\n",
       "    </tr>\n",
       "    <tr>\n",
       "      <td>1</td>\n",
       "      <td>2</td>\n",
       "      <td>1</td>\n",
       "      <td>1</td>\n",
       "      <td>Cumings, Mrs. John Bradley (Florence Briggs Th...</td>\n",
       "      <td>female</td>\n",
       "      <td>38.0</td>\n",
       "      <td>1</td>\n",
       "      <td>0</td>\n",
       "      <td>PC 17599</td>\n",
       "      <td>71.2833</td>\n",
       "      <td>C85</td>\n",
       "      <td>C</td>\n",
       "      <td>0</td>\n",
       "      <td>1</td>\n",
       "      <td>38.0</td>\n",
       "    </tr>\n",
       "    <tr>\n",
       "      <td>2</td>\n",
       "      <td>3</td>\n",
       "      <td>1</td>\n",
       "      <td>3</td>\n",
       "      <td>Heikkinen, Miss. Laina</td>\n",
       "      <td>female</td>\n",
       "      <td>26.0</td>\n",
       "      <td>0</td>\n",
       "      <td>0</td>\n",
       "      <td>STON/O2. 3101282</td>\n",
       "      <td>7.9250</td>\n",
       "      <td>NaN</td>\n",
       "      <td>S</td>\n",
       "      <td>0</td>\n",
       "      <td>0</td>\n",
       "      <td>26.0</td>\n",
       "    </tr>\n",
       "    <tr>\n",
       "      <td>3</td>\n",
       "      <td>4</td>\n",
       "      <td>1</td>\n",
       "      <td>1</td>\n",
       "      <td>Futrelle, Mrs. Jacques Heath (Lily May Peel)</td>\n",
       "      <td>female</td>\n",
       "      <td>35.0</td>\n",
       "      <td>1</td>\n",
       "      <td>0</td>\n",
       "      <td>113803</td>\n",
       "      <td>53.1000</td>\n",
       "      <td>C123</td>\n",
       "      <td>S</td>\n",
       "      <td>0</td>\n",
       "      <td>0</td>\n",
       "      <td>35.0</td>\n",
       "    </tr>\n",
       "    <tr>\n",
       "      <td>4</td>\n",
       "      <td>5</td>\n",
       "      <td>0</td>\n",
       "      <td>3</td>\n",
       "      <td>Allen, Mr. William Henry</td>\n",
       "      <td>male</td>\n",
       "      <td>35.0</td>\n",
       "      <td>0</td>\n",
       "      <td>0</td>\n",
       "      <td>373450</td>\n",
       "      <td>8.0500</td>\n",
       "      <td>NaN</td>\n",
       "      <td>S</td>\n",
       "      <td>1</td>\n",
       "      <td>0</td>\n",
       "      <td>35.0</td>\n",
       "    </tr>\n",
       "  </tbody>\n",
       "</table>\n",
       "</div>"
      ],
      "text/plain": [
       "   PassengerId  Survived  Pclass  \\\n",
       "0            1         0       3   \n",
       "1            2         1       1   \n",
       "2            3         1       3   \n",
       "3            4         1       1   \n",
       "4            5         0       3   \n",
       "\n",
       "                                                Name     Sex   Age  SibSp  \\\n",
       "0                            Braund, Mr. Owen Harris    male  22.0      1   \n",
       "1  Cumings, Mrs. John Bradley (Florence Briggs Th...  female  38.0      1   \n",
       "2                             Heikkinen, Miss. Laina  female  26.0      0   \n",
       "3       Futrelle, Mrs. Jacques Heath (Lily May Peel)  female  35.0      1   \n",
       "4                           Allen, Mr. William Henry    male  35.0      0   \n",
       "\n",
       "   Parch            Ticket     Fare Cabin Embarked  Sex_Val  Embarked_Val  \\\n",
       "0      0         A/5 21171   7.2500   NaN        S        1             0   \n",
       "1      0          PC 17599  71.2833   C85        C        0             1   \n",
       "2      0  STON/O2. 3101282   7.9250   NaN        S        0             0   \n",
       "3      0            113803  53.1000  C123        S        0             0   \n",
       "4      0            373450   8.0500   NaN        S        1             0   \n",
       "\n",
       "   AgeFill  \n",
       "0     22.0  \n",
       "1     38.0  \n",
       "2     26.0  \n",
       "3     35.0  \n",
       "4     35.0  "
      ]
     },
     "execution_count": 11,
     "metadata": {},
     "output_type": "execute_result"
    }
   ],
   "source": [
    "titanic_df.head()"
   ]
  },
  {
   "cell_type": "markdown",
   "metadata": {},
   "source": [
    "## (Simple) Feature Engineering"
   ]
  },
  {
   "cell_type": "code",
   "execution_count": 12,
   "metadata": {},
   "outputs": [
    {
     "data": {
      "text/html": [
       "<div>\n",
       "<style scoped>\n",
       "    .dataframe tbody tr th:only-of-type {\n",
       "        vertical-align: middle;\n",
       "    }\n",
       "\n",
       "    .dataframe tbody tr th {\n",
       "        vertical-align: top;\n",
       "    }\n",
       "\n",
       "    .dataframe thead th {\n",
       "        text-align: right;\n",
       "    }\n",
       "</style>\n",
       "<table border=\"1\" class=\"dataframe\">\n",
       "  <thead>\n",
       "    <tr style=\"text-align: right;\">\n",
       "      <th></th>\n",
       "      <th>PassengerId</th>\n",
       "      <th>Survived</th>\n",
       "      <th>Pclass</th>\n",
       "      <th>Name</th>\n",
       "      <th>Sex</th>\n",
       "      <th>Age</th>\n",
       "      <th>SibSp</th>\n",
       "      <th>Parch</th>\n",
       "      <th>Ticket</th>\n",
       "      <th>Fare</th>\n",
       "      <th>Cabin</th>\n",
       "      <th>Embarked</th>\n",
       "      <th>Sex_Val</th>\n",
       "      <th>Embarked_Val</th>\n",
       "      <th>AgeFill</th>\n",
       "      <th>FamilySize</th>\n",
       "    </tr>\n",
       "  </thead>\n",
       "  <tbody>\n",
       "    <tr>\n",
       "      <td>0</td>\n",
       "      <td>1</td>\n",
       "      <td>0</td>\n",
       "      <td>3</td>\n",
       "      <td>Braund, Mr. Owen Harris</td>\n",
       "      <td>male</td>\n",
       "      <td>22.0</td>\n",
       "      <td>1</td>\n",
       "      <td>0</td>\n",
       "      <td>A/5 21171</td>\n",
       "      <td>7.2500</td>\n",
       "      <td>NaN</td>\n",
       "      <td>S</td>\n",
       "      <td>1</td>\n",
       "      <td>0</td>\n",
       "      <td>22.0</td>\n",
       "      <td>1</td>\n",
       "    </tr>\n",
       "    <tr>\n",
       "      <td>1</td>\n",
       "      <td>2</td>\n",
       "      <td>1</td>\n",
       "      <td>1</td>\n",
       "      <td>Cumings, Mrs. John Bradley (Florence Briggs Th...</td>\n",
       "      <td>female</td>\n",
       "      <td>38.0</td>\n",
       "      <td>1</td>\n",
       "      <td>0</td>\n",
       "      <td>PC 17599</td>\n",
       "      <td>71.2833</td>\n",
       "      <td>C85</td>\n",
       "      <td>C</td>\n",
       "      <td>0</td>\n",
       "      <td>1</td>\n",
       "      <td>38.0</td>\n",
       "      <td>1</td>\n",
       "    </tr>\n",
       "    <tr>\n",
       "      <td>2</td>\n",
       "      <td>3</td>\n",
       "      <td>1</td>\n",
       "      <td>3</td>\n",
       "      <td>Heikkinen, Miss. Laina</td>\n",
       "      <td>female</td>\n",
       "      <td>26.0</td>\n",
       "      <td>0</td>\n",
       "      <td>0</td>\n",
       "      <td>STON/O2. 3101282</td>\n",
       "      <td>7.9250</td>\n",
       "      <td>NaN</td>\n",
       "      <td>S</td>\n",
       "      <td>0</td>\n",
       "      <td>0</td>\n",
       "      <td>26.0</td>\n",
       "      <td>0</td>\n",
       "    </tr>\n",
       "    <tr>\n",
       "      <td>3</td>\n",
       "      <td>4</td>\n",
       "      <td>1</td>\n",
       "      <td>1</td>\n",
       "      <td>Futrelle, Mrs. Jacques Heath (Lily May Peel)</td>\n",
       "      <td>female</td>\n",
       "      <td>35.0</td>\n",
       "      <td>1</td>\n",
       "      <td>0</td>\n",
       "      <td>113803</td>\n",
       "      <td>53.1000</td>\n",
       "      <td>C123</td>\n",
       "      <td>S</td>\n",
       "      <td>0</td>\n",
       "      <td>0</td>\n",
       "      <td>35.0</td>\n",
       "      <td>1</td>\n",
       "    </tr>\n",
       "    <tr>\n",
       "      <td>4</td>\n",
       "      <td>5</td>\n",
       "      <td>0</td>\n",
       "      <td>3</td>\n",
       "      <td>Allen, Mr. William Henry</td>\n",
       "      <td>male</td>\n",
       "      <td>35.0</td>\n",
       "      <td>0</td>\n",
       "      <td>0</td>\n",
       "      <td>373450</td>\n",
       "      <td>8.0500</td>\n",
       "      <td>NaN</td>\n",
       "      <td>S</td>\n",
       "      <td>1</td>\n",
       "      <td>0</td>\n",
       "      <td>35.0</td>\n",
       "      <td>0</td>\n",
       "    </tr>\n",
       "  </tbody>\n",
       "</table>\n",
       "</div>"
      ],
      "text/plain": [
       "   PassengerId  Survived  Pclass  \\\n",
       "0            1         0       3   \n",
       "1            2         1       1   \n",
       "2            3         1       3   \n",
       "3            4         1       1   \n",
       "4            5         0       3   \n",
       "\n",
       "                                                Name     Sex   Age  SibSp  \\\n",
       "0                            Braund, Mr. Owen Harris    male  22.0      1   \n",
       "1  Cumings, Mrs. John Bradley (Florence Briggs Th...  female  38.0      1   \n",
       "2                             Heikkinen, Miss. Laina  female  26.0      0   \n",
       "3       Futrelle, Mrs. Jacques Heath (Lily May Peel)  female  35.0      1   \n",
       "4                           Allen, Mr. William Henry    male  35.0      0   \n",
       "\n",
       "   Parch            Ticket     Fare Cabin Embarked  Sex_Val  Embarked_Val  \\\n",
       "0      0         A/5 21171   7.2500   NaN        S        1             0   \n",
       "1      0          PC 17599  71.2833   C85        C        0             1   \n",
       "2      0  STON/O2. 3101282   7.9250   NaN        S        0             0   \n",
       "3      0            113803  53.1000  C123        S        0             0   \n",
       "4      0            373450   8.0500   NaN        S        1             0   \n",
       "\n",
       "   AgeFill  FamilySize  \n",
       "0     22.0           1  \n",
       "1     38.0           1  \n",
       "2     26.0           0  \n",
       "3     35.0           1  \n",
       "4     35.0           0  "
      ]
     },
     "execution_count": 12,
     "metadata": {},
     "output_type": "execute_result"
    }
   ],
   "source": [
    "# Making a FamilySize feature from parents and siblings features\n",
    "titanic_df['FamilySize'] = titanic_df['SibSp'] + titanic_df['Parch']"
   ]
  },
  {
   "cell_type": "code",
   "execution_count": 13,
   "metadata": {},
   "outputs": [],
   "source": [
    "# Using dummy variables for embarked val to avoid any ordering\n",
    "titanic_df = pd.concat([titanic_df, pd.get_dummies(titanic_df['Embarked_Val'], prefix='Embarked_Val')], axis=1)"
   ]
  },
  {
   "cell_type": "code",
   "execution_count": 61,
   "metadata": {},
   "outputs": [
    {
     "data": {
      "text/html": [
       "<div>\n",
       "<style scoped>\n",
       "    .dataframe tbody tr th:only-of-type {\n",
       "        vertical-align: middle;\n",
       "    }\n",
       "\n",
       "    .dataframe tbody tr th {\n",
       "        vertical-align: top;\n",
       "    }\n",
       "\n",
       "    .dataframe thead th {\n",
       "        text-align: right;\n",
       "    }\n",
       "</style>\n",
       "<table border=\"1\" class=\"dataframe\">\n",
       "  <thead>\n",
       "    <tr style=\"text-align: right;\">\n",
       "      <th></th>\n",
       "      <th>Survived</th>\n",
       "      <th>Pclass</th>\n",
       "      <th>Fare</th>\n",
       "      <th>Sex_Val</th>\n",
       "      <th>AgeFill</th>\n",
       "      <th>FamilySize</th>\n",
       "      <th>Embarked_Val_0</th>\n",
       "      <th>Embarked_Val_1</th>\n",
       "      <th>Embarked_Val_2</th>\n",
       "    </tr>\n",
       "  </thead>\n",
       "  <tbody>\n",
       "    <tr>\n",
       "      <td>0</td>\n",
       "      <td>0</td>\n",
       "      <td>3</td>\n",
       "      <td>7.2500</td>\n",
       "      <td>1</td>\n",
       "      <td>22.0</td>\n",
       "      <td>1</td>\n",
       "      <td>1</td>\n",
       "      <td>0</td>\n",
       "      <td>0</td>\n",
       "    </tr>\n",
       "    <tr>\n",
       "      <td>1</td>\n",
       "      <td>1</td>\n",
       "      <td>1</td>\n",
       "      <td>71.2833</td>\n",
       "      <td>0</td>\n",
       "      <td>38.0</td>\n",
       "      <td>1</td>\n",
       "      <td>0</td>\n",
       "      <td>1</td>\n",
       "      <td>0</td>\n",
       "    </tr>\n",
       "    <tr>\n",
       "      <td>2</td>\n",
       "      <td>1</td>\n",
       "      <td>3</td>\n",
       "      <td>7.9250</td>\n",
       "      <td>0</td>\n",
       "      <td>26.0</td>\n",
       "      <td>0</td>\n",
       "      <td>1</td>\n",
       "      <td>0</td>\n",
       "      <td>0</td>\n",
       "    </tr>\n",
       "    <tr>\n",
       "      <td>3</td>\n",
       "      <td>1</td>\n",
       "      <td>1</td>\n",
       "      <td>53.1000</td>\n",
       "      <td>0</td>\n",
       "      <td>35.0</td>\n",
       "      <td>1</td>\n",
       "      <td>1</td>\n",
       "      <td>0</td>\n",
       "      <td>0</td>\n",
       "    </tr>\n",
       "    <tr>\n",
       "      <td>4</td>\n",
       "      <td>0</td>\n",
       "      <td>3</td>\n",
       "      <td>8.0500</td>\n",
       "      <td>1</td>\n",
       "      <td>35.0</td>\n",
       "      <td>0</td>\n",
       "      <td>1</td>\n",
       "      <td>0</td>\n",
       "      <td>0</td>\n",
       "    </tr>\n",
       "  </tbody>\n",
       "</table>\n",
       "</div>"
      ],
      "text/plain": [
       "   Survived  Pclass     Fare  Sex_Val  AgeFill  FamilySize  Embarked_Val_0  \\\n",
       "0         0       3   7.2500        1     22.0           1               1   \n",
       "1         1       1  71.2833        0     38.0           1               0   \n",
       "2         1       3   7.9250        0     26.0           0               1   \n",
       "3         1       1  53.1000        0     35.0           1               1   \n",
       "4         0       3   8.0500        1     35.0           0               1   \n",
       "\n",
       "   Embarked_Val_1  Embarked_Val_2  \n",
       "0               0               0  \n",
       "1               1               0  \n",
       "2               0               0  \n",
       "3               0               0  \n",
       "4               0               0  "
      ]
     },
     "execution_count": 61,
     "metadata": {},
     "output_type": "execute_result"
    }
   ],
   "source": [
    "titanic_df.head()"
   ]
  },
  {
   "cell_type": "markdown",
   "metadata": {},
   "source": [
    "## Data Visualization"
   ]
  },
  {
   "cell_type": "code",
   "execution_count": 14,
   "metadata": {},
   "outputs": [
    {
     "name": "stderr",
     "output_type": "stream",
     "text": [
      "/home/niniack/anaconda3/lib/python3.7/site-packages/statsmodels/nonparametric/kde.py:447: RuntimeWarning: invalid value encountered in greater\n",
      "  X = X[np.logical_and(X > clip[0], X < clip[1])] # won't work for two columns.\n",
      "/home/niniack/anaconda3/lib/python3.7/site-packages/statsmodels/nonparametric/kde.py:447: RuntimeWarning: invalid value encountered in less\n",
      "  X = X[np.logical_and(X > clip[0], X < clip[1])] # won't work for two columns.\n"
     ]
    },
    {
     "data": {
      "text/plain": [
       "<seaborn.axisgrid.PairGrid at 0x7fd10c81a2b0>"
      ]
     },
     "execution_count": 14,
     "metadata": {},
     "output_type": "execute_result"
    },
    {
     "data": {
      "image/png": "[encoded data removed]",
      "text/plain": [
       "<Figure size 1131.88x1080 with 42 Axes>"
      ]
     },
     "metadata": {
      "needs_background": "light"
     },
     "output_type": "display_data"
    }
   ],
   "source": [
    "sns.pairplot(titanic_df, hue=\"Survived\", palette=\"husl\", vars=[\"Pclass\", \"Age\", \"Fare\", \"Sex_Val\", \"Embarked_Val\", \"FamilySize\"])"
   ]
  },
  {
   "cell_type": "code",
   "execution_count": 15,
   "metadata": {
    "scrolled": false
   },
   "outputs": [],
   "source": [
    "titanic_df = titanic_df.drop(['Name', 'Sex', 'Ticket', 'Cabin', 'Embarked', 'Embarked_Val', 'Age', 'SibSp', 'Parch', 'PassengerId'],axis=1)"
   ]
  },
  {
   "cell_type": "code",
   "execution_count": 16,
   "metadata": {},
   "outputs": [
    {
     "data": {
      "text/html": [
       "<div>\n",
       "<style scoped>\n",
       "    .dataframe tbody tr th:only-of-type {\n",
       "        vertical-align: middle;\n",
       "    }\n",
       "\n",
       "    .dataframe tbody tr th {\n",
       "        vertical-align: top;\n",
       "    }\n",
       "\n",
       "    .dataframe thead th {\n",
       "        text-align: right;\n",
       "    }\n",
       "</style>\n",
       "<table border=\"1\" class=\"dataframe\">\n",
       "  <thead>\n",
       "    <tr style=\"text-align: right;\">\n",
       "      <th></th>\n",
       "      <th>Survived</th>\n",
       "      <th>Pclass</th>\n",
       "      <th>Fare</th>\n",
       "      <th>Sex_Val</th>\n",
       "      <th>AgeFill</th>\n",
       "      <th>FamilySize</th>\n",
       "      <th>Embarked_Val_0</th>\n",
       "      <th>Embarked_Val_1</th>\n",
       "      <th>Embarked_Val_2</th>\n",
       "    </tr>\n",
       "  </thead>\n",
       "  <tbody>\n",
       "    <tr>\n",
       "      <td>0</td>\n",
       "      <td>0</td>\n",
       "      <td>3</td>\n",
       "      <td>7.2500</td>\n",
       "      <td>1</td>\n",
       "      <td>22.0</td>\n",
       "      <td>1</td>\n",
       "      <td>1</td>\n",
       "      <td>0</td>\n",
       "      <td>0</td>\n",
       "    </tr>\n",
       "    <tr>\n",
       "      <td>1</td>\n",
       "      <td>1</td>\n",
       "      <td>1</td>\n",
       "      <td>71.2833</td>\n",
       "      <td>0</td>\n",
       "      <td>38.0</td>\n",
       "      <td>1</td>\n",
       "      <td>0</td>\n",
       "      <td>1</td>\n",
       "      <td>0</td>\n",
       "    </tr>\n",
       "    <tr>\n",
       "      <td>2</td>\n",
       "      <td>1</td>\n",
       "      <td>3</td>\n",
       "      <td>7.9250</td>\n",
       "      <td>0</td>\n",
       "      <td>26.0</td>\n",
       "      <td>0</td>\n",
       "      <td>1</td>\n",
       "      <td>0</td>\n",
       "      <td>0</td>\n",
       "    </tr>\n",
       "    <tr>\n",
       "      <td>3</td>\n",
       "      <td>1</td>\n",
       "      <td>1</td>\n",
       "      <td>53.1000</td>\n",
       "      <td>0</td>\n",
       "      <td>35.0</td>\n",
       "      <td>1</td>\n",
       "      <td>1</td>\n",
       "      <td>0</td>\n",
       "      <td>0</td>\n",
       "    </tr>\n",
       "    <tr>\n",
       "      <td>4</td>\n",
       "      <td>0</td>\n",
       "      <td>3</td>\n",
       "      <td>8.0500</td>\n",
       "      <td>1</td>\n",
       "      <td>35.0</td>\n",
       "      <td>0</td>\n",
       "      <td>1</td>\n",
       "      <td>0</td>\n",
       "      <td>0</td>\n",
       "    </tr>\n",
       "  </tbody>\n",
       "</table>\n",
       "</div>"
      ],
      "text/plain": [
       "   Survived  Pclass     Fare  Sex_Val  AgeFill  FamilySize  Embarked_Val_0  \\\n",
       "0         0       3   7.2500        1     22.0           1               1   \n",
       "1         1       1  71.2833        0     38.0           1               0   \n",
       "2         1       3   7.9250        0     26.0           0               1   \n",
       "3         1       1  53.1000        0     35.0           1               1   \n",
       "4         0       3   8.0500        1     35.0           0               1   \n",
       "\n",
       "   Embarked_Val_1  Embarked_Val_2  \n",
       "0               0               0  \n",
       "1               1               0  \n",
       "2               0               0  \n",
       "3               0               0  \n",
       "4               0               0  "
      ]
     },
     "execution_count": 16,
     "metadata": {},
     "output_type": "execute_result"
    }
   ],
   "source": [
    "titanic_df.head()"
   ]
  },
  {
   "cell_type": "markdown",
   "metadata": {},
   "source": [
    "## Splitting Data (Train/Test)"
   ]
  },
  {
   "cell_type": "code",
   "execution_count": 17,
   "metadata": {},
   "outputs": [
    {
     "data": {
      "text/plain": [
       "array([[ 0.    ,  3.    ,  7.25  , ...,  1.    ,  0.    ,  0.    ],\n",
       "       [ 1.    ,  1.    , 71.2833, ...,  0.    ,  1.    ,  0.    ],\n",
       "       [ 1.    ,  3.    ,  7.925 , ...,  1.    ,  0.    ,  0.    ],\n",
       "       ...,\n",
       "       [ 0.    ,  3.    , 23.45  , ...,  1.    ,  0.    ,  0.    ],\n",
       "       [ 1.    ,  1.    , 30.    , ...,  0.    ,  1.    ,  0.    ],\n",
       "       [ 0.    ,  3.    ,  7.75  , ...,  0.    ,  0.    ,  1.    ]])"
      ]
     },
     "execution_count": 17,
     "metadata": {},
     "output_type": "execute_result"
    }
   ],
   "source": [
    "train_data = titanic_df.values\n",
    "train_data"
   ]
  },
  {
   "cell_type": "code",
   "execution_count": 18,
   "metadata": {},
   "outputs": [
    {
     "name": "stdout",
     "output_type": "stream",
     "text": [
      "(891, 8) (891,)\n",
      "(712, 8) (712,)\n",
      "(179, 8) (179,)\n"
     ]
    }
   ],
   "source": [
    "# Training data features, skip the first column 'Survived'\n",
    "train_features = train_data[:, 1:]\n",
    "\n",
    "# 'Survived' column values\n",
    "train_target = train_data[:, 0]\n",
    "\n",
    "# Split 80-20 train vs test data\n",
    "train_x, test_x, train_y, test_y = train_test_split(train_features, \n",
    "                                                    train_target, \n",
    "                                                    test_size=0.20, \n",
    "                                                    random_state=0)\n",
    "\n",
    "print (train_features.shape, train_target.shape)\n",
    "print (train_x.shape, train_y.shape)\n",
    "print (test_x.shape, test_y.shape)\n"
   ]
  },
  {
   "cell_type": "markdown",
   "metadata": {},
   "source": [
    "## Baseline Logistic Regression Model\n",
    "We use the baseline models we produced in lab"
   ]
  },
  {
   "cell_type": "code",
   "execution_count": 19,
   "metadata": {},
   "outputs": [],
   "source": [
    "# instantiate our model and fit the model with the training data\n",
    "# LogisticRegression(solver = 'liblinear')\n",
    "\n",
    "clf_lr = LogisticRegression(solver=\"liblinear\").fit(train_x, train_y)\n",
    "ypred_prob = clf_lr.predict_proba(train_x)\n",
    "ypred = clf_lr.predict(train_x)"
   ]
  },
  {
   "cell_type": "code",
   "execution_count": 20,
   "metadata": {},
   "outputs": [],
   "source": [
    "predicted_y = clf_lr.predict(test_x)\n",
    "confusion_matrix = metrics.confusion_matrix(test_y, predicted_y)"
   ]
  },
  {
   "cell_type": "code",
   "execution_count": 21,
   "metadata": {},
   "outputs": [
    {
     "name": "stdout",
     "output_type": "stream",
     "text": [
      "Confusion Matrix  [[95 15]\n",
      " [20 49]]\n",
      "          Predicted\n",
      "         |  0  |  1  |\n",
      "         |-----|-----|\n",
      "       0 |  95 |  15 |\n",
      "Actual   |-----|-----|\n",
      "       1 |  20 |  49 |\n",
      "         |-----|-----|\n"
     ]
    }
   ],
   "source": [
    "print (\"Confusion Matrix \", confusion_matrix)\n",
    "\n",
    "print (\"          Predicted\")\n",
    "print (\"         |  0  |  1  |\")\n",
    "print (\"         |-----|-----|\")\n",
    "print (\"       0 | %3d | %3d |\" % (confusion_matrix[0, 0],\n",
    "                                   confusion_matrix[0, 1]))\n",
    "print (\"Actual   |-----|-----|\")\n",
    "print (\"       1 | %3d | %3d |\" % (confusion_matrix[1, 0],\n",
    "                                   confusion_matrix[1, 1]))\n",
    "print (\"         |-----|-----|\")"
   ]
  },
  {
   "cell_type": "code",
   "execution_count": 22,
   "metadata": {},
   "outputs": [],
   "source": [
    "TP = confusion_matrix[0, 0]\n",
    "TN = confusion_matrix[1, 1]\n",
    "ALL = np.sum(confusion_matrix)\n",
    "\n",
    "calc_accuracy = (TP+TN)/ALL\n",
    "\n",
    "accuracy = clf_lr.score(test_x, test_y)"
   ]
  },
  {
   "cell_type": "code",
   "execution_count": 23,
   "metadata": {},
   "outputs": [
    {
     "name": "stdout",
     "output_type": "stream",
     "text": [
      "Logistic Regression Model\n",
      "-------------------------\n",
      "Mean accuracy with test data: 0.8044692737430168\n"
     ]
    }
   ],
   "source": [
    "print(\"Logistic Regression Model\")\n",
    "print(\"-------------------------\")\n",
    "print(\"Mean accuracy with test data:\", accuracy)"
   ]
  },
  {
   "cell_type": "code",
   "execution_count": 24,
   "metadata": {},
   "outputs": [
    {
     "name": "stdout",
     "output_type": "stream",
     "text": [
      "              precision    recall  f1-score   support\n",
      "\n",
      "Not Survived       0.83      0.86      0.84       110\n",
      "    Survived       0.77      0.71      0.74        69\n",
      "\n",
      "    accuracy                           0.80       179\n",
      "   macro avg       0.80      0.79      0.79       179\n",
      "weighted avg       0.80      0.80      0.80       179\n",
      "\n"
     ]
    }
   ],
   "source": [
    "summary = metrics.classification_report(test_y, predicted_y, target_names=['Not Survived', 'Survived'])\n",
    "print(summary)"
   ]
  },
  {
   "cell_type": "code",
   "execution_count": 25,
   "metadata": {},
   "outputs": [
    {
     "data": {
      "text/plain": [
       "Text(0.5, 1.0, '')"
      ]
     },
     "execution_count": 25,
     "metadata": {},
     "output_type": "execute_result"
    },
    {
     "data": {
      "image/png": "[encoded data removed]",
      "text/plain": [
       "<Figure size 1080x576 with 1 Axes>"
      ]
     },
     "metadata": {
      "needs_background": "light"
     },
     "output_type": "display_data"
    }
   ],
   "source": [
    "feature_importance_tuple = list(zip(titanic_df.columns,abs(clf_lr.coef_[0])))\n",
    "df_feature_importances = pd.DataFrame(feature_importance_tuple, columns=['feature','importance']).sort_values('importance',ascending=False)\n",
    "plt.figure(figsize=(15,8))\n",
    "sns.set(style=\"white\")\n",
    "sns.set(style=\"ticks\")\n",
    "ax = sns.barplot(x=\"feature\", y=\"importance\", data=df_feature_importances)\n",
    "ax.set_title(\"\")"
   ]
  },
  {
   "cell_type": "markdown",
   "metadata": {},
   "source": [
    "## Baseline SVM Model"
   ]
  },
  {
   "cell_type": "code",
   "execution_count": 26,
   "metadata": {},
   "outputs": [],
   "source": [
    "clf_svm = svm.SVC(gamma = 'scale', kernel = 'linear').fit(train_x, train_y)\n",
    "ypred = clf_svm.predict(train_x)"
   ]
  },
  {
   "cell_type": "code",
   "execution_count": 27,
   "metadata": {},
   "outputs": [],
   "source": [
    "predict_y = clf_svm.predict(test_x)\n",
    "confusion_matrix = metrics.confusion_matrix(test_y, predict_y)"
   ]
  },
  {
   "cell_type": "code",
   "execution_count": 28,
   "metadata": {},
   "outputs": [
    {
     "name": "stdout",
     "output_type": "stream",
     "text": [
      "Confusion Matrix  [[92 18]\n",
      " [20 49]]\n",
      "          Predicted\n",
      "         |  0  |  1  |\n",
      "         |-----|-----|\n",
      "       0 |  92 |  18 |\n",
      "Actual   |-----|-----|\n",
      "       1 |  20 |  49 |\n",
      "         |-----|-----|\n"
     ]
    }
   ],
   "source": [
    "print (\"Confusion Matrix \", confusion_matrix)\n",
    "\n",
    "print (\"          Predicted\")\n",
    "print (\"         |  0  |  1  |\")\n",
    "print (\"         |-----|-----|\")\n",
    "print (\"       0 | %3d | %3d |\" % (confusion_matrix[0, 0],\n",
    "                                   confusion_matrix[0, 1]))\n",
    "print (\"Actual   |-----|-----|\")\n",
    "print (\"       1 | %3d | %3d |\" % (confusion_matrix[1, 0],\n",
    "                                   confusion_matrix[1, 1]))\n",
    "print (\"         |-----|-----|\")"
   ]
  },
  {
   "cell_type": "code",
   "execution_count": 29,
   "metadata": {},
   "outputs": [],
   "source": [
    "TP = confusion_matrix[0,0]\n",
    "TN = confusion_matrix[1,1]\n",
    "ALL = np.sum(confusion_matrix)\n",
    "\n",
    "calc_accuracy = (TP+TN)/ALL\n",
    "\n",
    "accuracy = clf_svm.score(test_x, test_y)"
   ]
  },
  {
   "cell_type": "code",
   "execution_count": 30,
   "metadata": {},
   "outputs": [
    {
     "name": "stdout",
     "output_type": "stream",
     "text": [
      "Support Vector Machine\n",
      "-------------------------\n",
      "Mean accuracy with test data: 0.7877094972067039\n"
     ]
    }
   ],
   "source": [
    "print(\"Support Vector Machine\")\n",
    "print(\"-------------------------\")\n",
    "print(\"Mean accuracy with test data:\", accuracy)"
   ]
  },
  {
   "cell_type": "code",
   "execution_count": 31,
   "metadata": {},
   "outputs": [
    {
     "name": "stdout",
     "output_type": "stream",
     "text": [
      "              precision    recall  f1-score   support\n",
      "\n",
      "Not Survived       0.82      0.84      0.83       110\n",
      "    Survived       0.73      0.71      0.72        69\n",
      "\n",
      "    accuracy                           0.79       179\n",
      "   macro avg       0.78      0.77      0.77       179\n",
      "weighted avg       0.79      0.79      0.79       179\n",
      "\n"
     ]
    }
   ],
   "source": [
    "summary = classification_report(test_y, predict_y, target_names=['Not Survived', 'Survived'])\n",
    "print(summary)"
   ]
  },
  {
   "cell_type": "code",
   "execution_count": 32,
   "metadata": {},
   "outputs": [
    {
     "data": {
      "text/plain": [
       "Text(0.5, 1.0, '')"
      ]
     },
     "execution_count": 32,
     "metadata": {},
     "output_type": "execute_result"
    },
    {
     "data": {
      "image/png": "[encoded data removed]",
      "text/plain": [
       "<Figure size 1080x576 with 1 Axes>"
      ]
     },
     "metadata": {},
     "output_type": "display_data"
    }
   ],
   "source": [
    "feature_importance_tuple = list(zip(titanic_df.columns,abs(clf_svm.coef_[0])))\n",
    "df_feature_importances = pd.DataFrame(feature_importance_tuple, columns=['feature','importance']).sort_values('importance',ascending=False)\n",
    "df_feature_importances\n",
    "plt.figure(figsize=(15,8))\n",
    "sns.set(style=\"white\")\n",
    "sns.set(style=\"ticks\")\n",
    "ax = sns.barplot(x=\"feature\", y=\"importance\", data=df_feature_importances)\n",
    "ax.set_title(\"\")"
   ]
  },
  {
   "cell_type": "markdown",
   "metadata": {},
   "source": [
    "## Baseline Decision Tree Model (Random Forest)"
   ]
  },
  {
   "cell_type": "code",
   "execution_count": 136,
   "metadata": {},
   "outputs": [],
   "source": [
    "## define a function for random forest\n",
    "def randomForestClassifier(x_train, y_train, x_test, y_test):\n",
    "  estimatorValues = [320, 350, 400, 500, 600, 700, 800, 900]\n",
    "  clf = RandomForestClassifier(n_jobs = -1)\n",
    "  hyper_parameter = {\"n_estimators\": estimatorValues}\n",
    "  best_parameter = GridSearchCV(clf, hyper_parameter, scoring = \"neg_mean_absolute_error\", cv=KFold(n_splits=3, random_state=1, shuffle=True), verbose=2)\n",
    "  best_parameter.fit(x_train, y_train)\n",
    "  estimators = best_parameter.best_params_[\"n_estimators\"]\n",
    "  print(\"estimators: \" + str(estimators))\n",
    "\n",
    "  #applying random forest with best hyper-parameter\n",
    "  clf = RandomForestClassifier(n_estimators = estimators, n_jobs = -1, oob_score=True)\n",
    "  clf.fit(x_train, y_train)\n",
    "  y_pred = clf.predict(x_train)\n",
    "  train_MAPE = mean_absolute_error(y_train, y_pred)/ (sum(y_train)/len(y_train))\n",
    "  train_MSE = mean_squared_error(y_train, y_pred)\n",
    "  y_pred = clf.predict(x_test)\n",
    "  test_MAPE = mean_absolute_error(y_test, y_pred)/ (sum(y_test)/len(y_test))\n",
    "  test_MSE = mean_squared_error(y_test, y_pred)\n",
    "  train_accuracy = clf.score(x_train, y_train)\n",
    "  test_accuracy = clf.score(x_test, y_test)\n",
    "\n",
    "  feature_importances = clf.feature_importances_\n",
    "  oob_score = clf.oob_score_\n",
    "\n",
    "  \n",
    "  return train_MAPE, train_MSE, test_MAPE, test_MSE, train_accuracy, test_accuracy, feature_importances, oob_score\n"
   ]
  },
  {
   "cell_type": "code",
   "execution_count": 137,
   "metadata": {},
   "outputs": [
    {
     "name": "stdout",
     "output_type": "stream",
     "text": [
      "Fitting 3 folds for each of 8 candidates, totalling 24 fits\n",
      "[CV] n_estimators=320 ................................................\n"
     ]
    },
    {
     "name": "stderr",
     "output_type": "stream",
     "text": [
      "[Parallel(n_jobs=1)]: Using backend SequentialBackend with 1 concurrent workers.\n"
     ]
    },
    {
     "name": "stdout",
     "output_type": "stream",
     "text": [
      "[CV] ................................. n_estimators=320, total=   0.4s\n",
      "[CV] n_estimators=320 ................................................\n"
     ]
    },
    {
     "name": "stderr",
     "output_type": "stream",
     "text": [
      "[Parallel(n_jobs=1)]: Done   1 out of   1 | elapsed:    0.5s remaining:    0.0s\n"
     ]
    },
    {
     "name": "stdout",
     "output_type": "stream",
     "text": [
      "[CV] ................................. n_estimators=320, total=   0.4s\n",
      "[CV] n_estimators=320 ................................................\n",
      "[CV] ................................. n_estimators=320, total=   0.4s\n",
      "[CV] n_estimators=350 ................................................\n",
      "[CV] ................................. n_estimators=350, total=   0.4s\n",
      "[CV] n_estimators=350 ................................................\n",
      "[CV] ................................. n_estimators=350, total=   0.4s\n",
      "[CV] n_estimators=350 ................................................\n",
      "[CV] ................................. n_estimators=350, total=   0.4s\n",
      "[CV] n_estimators=400 ................................................\n",
      "[CV] ................................. n_estimators=400, total=   0.5s\n",
      "[CV] n_estimators=400 ................................................\n",
      "[CV] ................................. n_estimators=400, total=   0.5s\n",
      "[CV] n_estimators=400 ................................................\n",
      "[CV] ................................. n_estimators=400, total=   0.4s\n",
      "[CV] n_estimators=500 ................................................\n",
      "[CV] ................................. n_estimators=500, total=   0.5s\n",
      "[CV] n_estimators=500 ................................................\n",
      "[CV] ................................. n_estimators=500, total=   0.6s\n",
      "[CV] n_estimators=500 ................................................\n",
      "[CV] ................................. n_estimators=500, total=   0.6s\n",
      "[CV] n_estimators=600 ................................................\n",
      "[CV] ................................. n_estimators=600, total=   0.6s\n",
      "[CV] n_estimators=600 ................................................\n",
      "[CV] ................................. n_estimators=600, total=   0.6s\n",
      "[CV] n_estimators=600 ................................................\n",
      "[CV] ................................. n_estimators=600, total=   0.7s\n",
      "[CV] n_estimators=700 ................................................\n",
      "[CV] ................................. n_estimators=700, total=   0.7s\n",
      "[CV] n_estimators=700 ................................................\n",
      "[CV] ................................. n_estimators=700, total=   0.7s\n",
      "[CV] n_estimators=700 ................................................\n",
      "[CV] ................................. n_estimators=700, total=   0.7s\n",
      "[CV] n_estimators=800 ................................................\n",
      "[CV] ................................. n_estimators=800, total=   0.9s\n",
      "[CV] n_estimators=800 ................................................\n",
      "[CV] ................................. n_estimators=800, total=   0.8s\n",
      "[CV] n_estimators=800 ................................................\n",
      "[CV] ................................. n_estimators=800, total=   0.9s\n",
      "[CV] n_estimators=900 ................................................\n",
      "[CV] ................................. n_estimators=900, total=   0.9s\n",
      "[CV] n_estimators=900 ................................................\n",
      "[CV] ................................. n_estimators=900, total=   1.0s\n",
      "[CV] n_estimators=900 ................................................\n",
      "[CV] ................................. n_estimators=900, total=   0.9s\n"
     ]
    },
    {
     "name": "stderr",
     "output_type": "stream",
     "text": [
      "[Parallel(n_jobs=1)]: Done  24 out of  24 | elapsed:   15.1s finished\n"
     ]
    },
    {
     "name": "stdout",
     "output_type": "stream",
     "text": [
      "estimators: 320\n"
     ]
    }
   ],
   "source": [
    "#Random Forest Model\n",
    "trainMAPE_rf, trainMSE_rf, testMAPE_rf, testMSE_rf, train_accuracy, test_accuracy, feature_importances_rf, oob_score_rf = randomForestClassifier(train_x, train_y, test_x, test_y)"
   ]
  },
  {
   "cell_type": "code",
   "execution_count": 138,
   "metadata": {},
   "outputs": [
    {
     "name": "stdout",
     "output_type": "stream",
     "text": [
      "Random Forest Classifier\n",
      "-------------------------\n",
      "Mean accuracy with test data: 0.8379888268156425\n"
     ]
    }
   ],
   "source": [
    "print(\"Random Forest Classifier\")\n",
    "print(\"-------------------------\")\n",
    "print(\"Mean accuracy with test data:\", test_accuracy)"
   ]
  },
  {
   "cell_type": "code",
   "execution_count": 139,
   "metadata": {},
   "outputs": [
    {
     "data": {
      "text/plain": [
       "Text(0.5, 1.0, '')"
      ]
     },
     "execution_count": 139,
     "metadata": {},
     "output_type": "execute_result"
    },
    {
     "data": {
      "image/png": "[encoded data removed]",
      "text/plain": [
       "<Figure size 1080x576 with 1 Axes>"
      ]
     },
     "metadata": {},
     "output_type": "display_data"
    }
   ],
   "source": [
    "feature_importance_tuple = list(zip(titanic_df.columns,feature_importances_rf))\n",
    "df_feature_importances = pd.DataFrame(feature_importance_tuple, columns=['feature','importance']).sort_values('importance',ascending=False)\n",
    "df_feature_importances\n",
    "plt.figure(figsize=(15,8))\n",
    "sns.set(style=\"white\")\n",
    "sns.set(style=\"ticks\")\n",
    "ax = sns.barplot(x=\"feature\", y=\"importance\", data=df_feature_importances)\n",
    "ax.set_title(\"\")"
   ]
  },
  {
   "cell_type": "markdown",
   "metadata": {},
   "source": [
    "We see that all of the graphs produce a different feature importance graph. We can attempt PCA to see if it helps in improving the accuracy of any of these models, especially SVM, seeing as it only uses one feature as an important one."
   ]
  },
  {
   "cell_type": "markdown",
   "metadata": {},
   "source": [
    "## Improvements in Random Forest Model (PCA, GridSearch, Pipeline)"
   ]
  },
  {
   "cell_type": "code",
   "execution_count": 37,
   "metadata": {},
   "outputs": [
    {
     "name": "stdout",
     "output_type": "stream",
     "text": [
      "shape of the scaled and 'PCA'ed features:  (891, 4)\n"
     ]
    }
   ],
   "source": [
    "# For PCA, First Need to Scale the Data.  \n",
    "scaler1 = StandardScaler()\n",
    "scaler1.fit(train_data)\n",
    "feature_scaled = scaler1.transform(train_data)\n",
    "\n",
    "# Now Apply PCA\n",
    "pca1 = PCA(n_components=4)\n",
    "pca1.fit(feature_scaled)\n",
    "feature_scaled_pca = pca1.transform(feature_scaled)\n",
    "print(\"shape of the scaled and 'PCA'ed features: \", np.shape(feature_scaled_pca))"
   ]
  },
  {
   "cell_type": "code",
   "execution_count": 38,
   "metadata": {},
   "outputs": [
    {
     "name": "stdout",
     "output_type": "stream",
     "text": [
      "Variance Ratio of the 4 Principal Components Ananlysis:  [0.35210453 0.25436854 0.22941117 0.16411577]\n"
     ]
    }
   ],
   "source": [
    "feat_var = np.var(feature_scaled_pca, axis=0)\n",
    "feat_var_rat = feat_var/(np.sum(feat_var))\n",
    "\n",
    "print (\"Variance Ratio of the 4 Principal Components Ananlysis: \", feat_var_rat)"
   ]
  },
  {
   "cell_type": "code",
   "execution_count": 39,
   "metadata": {},
   "outputs": [
    {
     "name": "stdout",
     "output_type": "stream",
     "text": [
      "<class 'list'>\n"
     ]
    },
    {
     "data": {
      "text/plain": [
       "<matplotlib.legend.Legend at 0x7fd102e82550>"
      ]
     },
     "execution_count": 39,
     "metadata": {},
     "output_type": "execute_result"
    },
    {
     "data": {
      "image/png": "[encoded data removed]",
      "text/plain": [
       "<Figure size 864x504 with 2 Axes>"
      ]
     },
     "metadata": {},
     "output_type": "display_data"
    }
   ],
   "source": [
    "titanic_target_list = train_y.tolist()\n",
    "print (type(titanic_target_list))\n",
    "\n",
    "#print (cancer_target_list)\n",
    "#print (type(yl))\n",
    "\n",
    "feature_scaled_pca_X0 = feature_scaled_pca[:, 0]\n",
    "feature_scaled_pca_X1 = feature_scaled_pca[:, 1]\n",
    "feature_scaled_pca_X2 = feature_scaled_pca[:, 2]\n",
    "feature_scaled_pca_X3 = feature_scaled_pca[:, 3]\n",
    "\n",
    "labels = titanic_target_list\n",
    "colordict = {0:'brown', 1:'darkslategray'}\n",
    "piclabel = {0:'Not Survived', 1:'Survived'}\n",
    "markers = {0:'o', 1:'*'}\n",
    "alphas = {0:0.3, 1:0.4}\n",
    "\n",
    "fig = plt.figure(figsize=(12, 7))\n",
    "plt.subplot(1,2,1)\n",
    "for l in np.unique(labels):\n",
    "    ix = np.where(labels==l)\n",
    "    plt.scatter(feature_scaled_pca_X0[ix], feature_scaled_pca_X1[ix], c=colordict[l], \n",
    "               label=piclabel[l], s=40, marker=markers[l], alpha=alphas[l])\n",
    "plt.xlabel(\"First Principal Component\", fontsize=15)\n",
    "plt.ylabel(\"Second Principal Component\", fontsize=15)\n",
    "\n",
    "plt.legend(fontsize=15)\n",
    "\n",
    "plt.subplot(1,2,2)\n",
    "for l1 in np.unique(labels):\n",
    "    ix1 = np.where(labels==l1)\n",
    "    plt.scatter(feature_scaled_pca_X2[ix1], feature_scaled_pca_X3[ix1], c=colordict[l1], \n",
    "               label=piclabel[l1], s=40, marker=markers[l1], alpha=alphas[l1])\n",
    "plt.xlabel(\"Third Principal Component\", fontsize=15)\n",
    "plt.ylabel(\"Fourth Principal Component\", fontsize=15)\n",
    "\n",
    "plt.legend(fontsize=15)\n"
   ]
  },
  {
   "cell_type": "code",
   "execution_count": 96,
   "metadata": {},
   "outputs": [],
   "source": [
    "def randomForestClassifierPipeline(x_train, y_train, x_test, y_test):\n",
    "\n",
    "    pipe_steps = [('scaler', StandardScaler()), ('pca', PCA()), ('rf', RandomForestClassifier(n_jobs = -1))]\n",
    "    pipeline = Pipeline(pipe_steps)\n",
    "\n",
    "    check_params= {\n",
    "    'pca__n_components': [4], \n",
    "    'rf__n_estimators': [320, 350, 400, 500, 600, 700, 800, 900],\n",
    "    'rf__max_depth': [5, 7, 9, 11, 13, 15]}\n",
    "    \n",
    "\n",
    "    grid_search = GridSearchCV(pipeline, \n",
    "                               check_params, \n",
    "                               cv=KFold(n_splits=3, random_state=1, shuffle=True),\n",
    "                               verbose=2)\n",
    "    \n",
    "    grid_search.fit(x_train, y_train)\n",
    "    grid_search.best_params_\n",
    "    \n",
    "    estimator = grid_search.best_params_[\"rf__n_estimators\"]\n",
    "    depth = grid_search.best_params_[\"rf__max_depth\"]\n",
    "    \n",
    "    print(\"estimator: \" + str(estimator))\n",
    "    print(\"depth: \" + str(depth))\n",
    "    \n",
    "    \n",
    "    #applying random forest with best hyper-parameter\n",
    "    pipe_steps = [('scaler', StandardScaler()), ('pca', PCA()), ('rf', RandomForestClassifier(n_jobs = -1, n_estimators = estimator, max_depth = depth, oob_score=True))]\n",
    "    clf = Pipeline(pipe_steps)\n",
    "    clf.fit(x_train, y_train)\n",
    "    y_pred = clf.predict(x_train)\n",
    "    train_MAPE = mean_absolute_error(y_train, y_pred)/ (sum(y_train)/len(y_train))\n",
    "    train_MSE = mean_squared_error(y_train, y_pred)\n",
    "    y_pred = clf.predict(x_test)\n",
    "    test_MAPE = mean_absolute_error(y_test, y_pred)/ (sum(y_test)/len(y_test))\n",
    "    test_MSE = mean_squared_error(y_test, y_pred)\n",
    "    train_accuracy = clf.score(x_train, y_train)\n",
    "    test_accuracy = clf.score(x_test, y_test)\n",
    "\n",
    "    feature_importances = clf['rf'].feature_importances_\n",
    "    oob_score = clf['rf'].oob_score_\n",
    "\n",
    "\n",
    "    return train_MAPE, train_MSE, test_MAPE, test_MSE, train_accuracy, test_accuracy, feature_importances, oob_score\n",
    "\n",
    "\n",
    "#   values = [320, 350, 400, 500, 600, 700, 800, 900]\n",
    "#   clf = RandomForestClassifier(n_jobs = -1)\n",
    "#   hyper_parameter = {\"n_estimators\": values}\n",
    "#   best_parameter = GridSearchCV(pipeline, hyper_parameter, scoring = \"neg_mean_absolute_error\", cv=KFold(n_splits=3, random_state=1, shuffle=True), verbose=2)\n",
    "#   best_parameter.fit(x_train, y_train)\n",
    "#   estimators = best_parameter.best_params_[\"n_estimators\"]\n",
    "#   print(\"estimators: \" + str(estimators))\n",
    "\n",
    "\n",
    "\n",
    "\n"
   ]
  },
  {
   "cell_type": "code",
   "execution_count": 97,
   "metadata": {},
   "outputs": [
    {
     "name": "stdout",
     "output_type": "stream",
     "text": [
      "Fitting 3 folds for each of 48 candidates, totalling 144 fits\n",
      "[CV] pca__n_components=4, rf__max_depth=5, rf__n_estimators=320 ......\n"
     ]
    },
    {
     "name": "stderr",
     "output_type": "stream",
     "text": [
      "[Parallel(n_jobs=1)]: Using backend SequentialBackend with 1 concurrent workers.\n"
     ]
    },
    {
     "name": "stdout",
     "output_type": "stream",
     "text": [
      "[CV]  pca__n_components=4, rf__max_depth=5, rf__n_estimators=320, total=   1.8s\n",
      "[CV] pca__n_components=4, rf__max_depth=5, rf__n_estimators=320 ......\n"
     ]
    },
    {
     "name": "stderr",
     "output_type": "stream",
     "text": [
      "[Parallel(n_jobs=1)]: Done   1 out of   1 | elapsed:    1.8s remaining:    0.0s\n"
     ]
    },
    {
     "name": "stdout",
     "output_type": "stream",
     "text": [
      "[CV]  pca__n_components=4, rf__max_depth=5, rf__n_estimators=320, total=   0.5s\n",
      "[CV] pca__n_components=4, rf__max_depth=5, rf__n_estimators=320 ......\n",
      "[CV]  pca__n_components=4, rf__max_depth=5, rf__n_estimators=320, total=   0.6s\n",
      "[CV] pca__n_components=4, rf__max_depth=5, rf__n_estimators=350 ......\n",
      "[CV]  pca__n_components=4, rf__max_depth=5, rf__n_estimators=350, total=   0.5s\n",
      "[CV] pca__n_components=4, rf__max_depth=5, rf__n_estimators=350 ......\n",
      "[CV]  pca__n_components=4, rf__max_depth=5, rf__n_estimators=350, total=   0.5s\n",
      "[CV] pca__n_components=4, rf__max_depth=5, rf__n_estimators=350 ......\n",
      "[CV]  pca__n_components=4, rf__max_depth=5, rf__n_estimators=350, total=   0.5s\n",
      "[CV] pca__n_components=4, rf__max_depth=5, rf__n_estimators=400 ......\n",
      "[CV]  pca__n_components=4, rf__max_depth=5, rf__n_estimators=400, total=   0.6s\n",
      "[CV] pca__n_components=4, rf__max_depth=5, rf__n_estimators=400 ......\n",
      "[CV]  pca__n_components=4, rf__max_depth=5, rf__n_estimators=400, total=   0.5s\n",
      "[CV] pca__n_components=4, rf__max_depth=5, rf__n_estimators=400 ......\n",
      "[CV]  pca__n_components=4, rf__max_depth=5, rf__n_estimators=400, total=   0.5s\n",
      "[CV] pca__n_components=4, rf__max_depth=5, rf__n_estimators=500 ......\n",
      "[CV]  pca__n_components=4, rf__max_depth=5, rf__n_estimators=500, total=   0.7s\n",
      "[CV] pca__n_components=4, rf__max_depth=5, rf__n_estimators=500 ......\n",
      "[CV]  pca__n_components=4, rf__max_depth=5, rf__n_estimators=500, total=   0.5s\n",
      "[CV] pca__n_components=4, rf__max_depth=5, rf__n_estimators=500 ......\n",
      "[CV]  pca__n_components=4, rf__max_depth=5, rf__n_estimators=500, total=   0.6s\n",
      "[CV] pca__n_components=4, rf__max_depth=5, rf__n_estimators=600 ......\n",
      "[CV]  pca__n_components=4, rf__max_depth=5, rf__n_estimators=600, total=   0.9s\n",
      "[CV] pca__n_components=4, rf__max_depth=5, rf__n_estimators=600 ......\n",
      "[CV]  pca__n_components=4, rf__max_depth=5, rf__n_estimators=600, total=   0.7s\n",
      "[CV] pca__n_components=4, rf__max_depth=5, rf__n_estimators=600 ......\n",
      "[CV]  pca__n_components=4, rf__max_depth=5, rf__n_estimators=600, total=   0.7s\n",
      "[CV] pca__n_components=4, rf__max_depth=5, rf__n_estimators=700 ......\n",
      "[CV]  pca__n_components=4, rf__max_depth=5, rf__n_estimators=700, total=   0.7s\n",
      "[CV] pca__n_components=4, rf__max_depth=5, rf__n_estimators=700 ......\n",
      "[CV]  pca__n_components=4, rf__max_depth=5, rf__n_estimators=700, total=   0.8s\n",
      "[CV] pca__n_components=4, rf__max_depth=5, rf__n_estimators=700 ......\n",
      "[CV]  pca__n_components=4, rf__max_depth=5, rf__n_estimators=700, total=   0.7s\n",
      "[CV] pca__n_components=4, rf__max_depth=5, rf__n_estimators=800 ......\n",
      "[CV]  pca__n_components=4, rf__max_depth=5, rf__n_estimators=800, total=   0.9s\n",
      "[CV] pca__n_components=4, rf__max_depth=5, rf__n_estimators=800 ......\n",
      "[CV]  pca__n_components=4, rf__max_depth=5, rf__n_estimators=800, total=   0.9s\n",
      "[CV] pca__n_components=4, rf__max_depth=5, rf__n_estimators=800 ......\n",
      "[CV]  pca__n_components=4, rf__max_depth=5, rf__n_estimators=800, total=   1.0s\n",
      "[CV] pca__n_components=4, rf__max_depth=5, rf__n_estimators=900 ......\n",
      "[CV]  pca__n_components=4, rf__max_depth=5, rf__n_estimators=900, total=   1.0s\n",
      "[CV] pca__n_components=4, rf__max_depth=5, rf__n_estimators=900 ......\n",
      "[CV]  pca__n_components=4, rf__max_depth=5, rf__n_estimators=900, total=   1.0s\n",
      "[CV] pca__n_components=4, rf__max_depth=5, rf__n_estimators=900 ......\n",
      "[CV]  pca__n_components=4, rf__max_depth=5, rf__n_estimators=900, total=   1.1s\n",
      "[CV] pca__n_components=4, rf__max_depth=7, rf__n_estimators=320 ......\n",
      "[CV]  pca__n_components=4, rf__max_depth=7, rf__n_estimators=320, total=   0.5s\n",
      "[CV] pca__n_components=4, rf__max_depth=7, rf__n_estimators=320 ......\n",
      "[CV]  pca__n_components=4, rf__max_depth=7, rf__n_estimators=320, total=   0.5s\n",
      "[CV] pca__n_components=4, rf__max_depth=7, rf__n_estimators=320 ......\n",
      "[CV]  pca__n_components=4, rf__max_depth=7, rf__n_estimators=320, total=   0.5s\n",
      "[CV] pca__n_components=4, rf__max_depth=7, rf__n_estimators=350 ......\n",
      "[CV]  pca__n_components=4, rf__max_depth=7, rf__n_estimators=350, total=   0.5s\n",
      "[CV] pca__n_components=4, rf__max_depth=7, rf__n_estimators=350 ......\n",
      "[CV]  pca__n_components=4, rf__max_depth=7, rf__n_estimators=350, total=   0.5s\n",
      "[CV] pca__n_components=4, rf__max_depth=7, rf__n_estimators=350 ......\n",
      "[CV]  pca__n_components=4, rf__max_depth=7, rf__n_estimators=350, total=   0.5s\n",
      "[CV] pca__n_components=4, rf__max_depth=7, rf__n_estimators=400 ......\n",
      "[CV]  pca__n_components=4, rf__max_depth=7, rf__n_estimators=400, total=   0.5s\n",
      "[CV] pca__n_components=4, rf__max_depth=7, rf__n_estimators=400 ......\n",
      "[CV]  pca__n_components=4, rf__max_depth=7, rf__n_estimators=400, total=   0.5s\n",
      "[CV] pca__n_components=4, rf__max_depth=7, rf__n_estimators=400 ......\n",
      "[CV]  pca__n_components=4, rf__max_depth=7, rf__n_estimators=400, total=   0.5s\n",
      "[CV] pca__n_components=4, rf__max_depth=7, rf__n_estimators=500 ......\n",
      "[CV]  pca__n_components=4, rf__max_depth=7, rf__n_estimators=500, total=   0.6s\n",
      "[CV] pca__n_components=4, rf__max_depth=7, rf__n_estimators=500 ......\n",
      "[CV]  pca__n_components=4, rf__max_depth=7, rf__n_estimators=500, total=   0.6s\n",
      "[CV] pca__n_components=4, rf__max_depth=7, rf__n_estimators=500 ......\n",
      "[CV]  pca__n_components=4, rf__max_depth=7, rf__n_estimators=500, total=   0.7s\n",
      "[CV] pca__n_components=4, rf__max_depth=7, rf__n_estimators=600 ......\n",
      "[CV]  pca__n_components=4, rf__max_depth=7, rf__n_estimators=600, total=   0.7s\n",
      "[CV] pca__n_components=4, rf__max_depth=7, rf__n_estimators=600 ......\n",
      "[CV]  pca__n_components=4, rf__max_depth=7, rf__n_estimators=600, total=   0.7s\n",
      "[CV] pca__n_components=4, rf__max_depth=7, rf__n_estimators=600 ......\n",
      "[CV]  pca__n_components=4, rf__max_depth=7, rf__n_estimators=600, total=   0.6s\n",
      "[CV] pca__n_components=4, rf__max_depth=7, rf__n_estimators=700 ......\n",
      "[CV]  pca__n_components=4, rf__max_depth=7, rf__n_estimators=700, total=   0.8s\n",
      "[CV] pca__n_components=4, rf__max_depth=7, rf__n_estimators=700 ......\n",
      "[CV]  pca__n_components=4, rf__max_depth=7, rf__n_estimators=700, total=   0.7s\n",
      "[CV] pca__n_components=4, rf__max_depth=7, rf__n_estimators=700 ......\n",
      "[CV]  pca__n_components=4, rf__max_depth=7, rf__n_estimators=700, total=   0.7s\n",
      "[CV] pca__n_components=4, rf__max_depth=7, rf__n_estimators=800 ......\n",
      "[CV]  pca__n_components=4, rf__max_depth=7, rf__n_estimators=800, total=   0.9s\n",
      "[CV] pca__n_components=4, rf__max_depth=7, rf__n_estimators=800 ......\n",
      "[CV]  pca__n_components=4, rf__max_depth=7, rf__n_estimators=800, total=   0.9s\n",
      "[CV] pca__n_components=4, rf__max_depth=7, rf__n_estimators=800 ......\n",
      "[CV]  pca__n_components=4, rf__max_depth=7, rf__n_estimators=800, total=   0.9s\n",
      "[CV] pca__n_components=4, rf__max_depth=7, rf__n_estimators=900 ......\n",
      "[CV]  pca__n_components=4, rf__max_depth=7, rf__n_estimators=900, total=   1.0s\n",
      "[CV] pca__n_components=4, rf__max_depth=7, rf__n_estimators=900 ......\n",
      "[CV]  pca__n_components=4, rf__max_depth=7, rf__n_estimators=900, total=   1.0s\n",
      "[CV] pca__n_components=4, rf__max_depth=7, rf__n_estimators=900 ......\n",
      "[CV]  pca__n_components=4, rf__max_depth=7, rf__n_estimators=900, total=   1.0s\n",
      "[CV] pca__n_components=4, rf__max_depth=9, rf__n_estimators=320 ......\n",
      "[CV]  pca__n_components=4, rf__max_depth=9, rf__n_estimators=320, total=   0.4s\n",
      "[CV] pca__n_components=4, rf__max_depth=9, rf__n_estimators=320 ......\n",
      "[CV]  pca__n_components=4, rf__max_depth=9, rf__n_estimators=320, total=   0.5s\n",
      "[CV] pca__n_components=4, rf__max_depth=9, rf__n_estimators=320 ......\n",
      "[CV]  pca__n_components=4, rf__max_depth=9, rf__n_estimators=320, total=   0.5s\n",
      "[CV] pca__n_components=4, rf__max_depth=9, rf__n_estimators=350 ......\n",
      "[CV]  pca__n_components=4, rf__max_depth=9, rf__n_estimators=350, total=   0.5s\n",
      "[CV] pca__n_components=4, rf__max_depth=9, rf__n_estimators=350 ......\n",
      "[CV]  pca__n_components=4, rf__max_depth=9, rf__n_estimators=350, total=   0.5s\n",
      "[CV] pca__n_components=4, rf__max_depth=9, rf__n_estimators=350 ......\n",
      "[CV]  pca__n_components=4, rf__max_depth=9, rf__n_estimators=350, total=   0.5s\n",
      "[CV] pca__n_components=4, rf__max_depth=9, rf__n_estimators=400 ......\n",
      "[CV]  pca__n_components=4, rf__max_depth=9, rf__n_estimators=400, total=   0.6s\n",
      "[CV] pca__n_components=4, rf__max_depth=9, rf__n_estimators=400 ......\n",
      "[CV]  pca__n_components=4, rf__max_depth=9, rf__n_estimators=400, total=   0.5s\n",
      "[CV] pca__n_components=4, rf__max_depth=9, rf__n_estimators=400 ......\n"
     ]
    },
    {
     "name": "stdout",
     "output_type": "stream",
     "text": [
      "[CV]  pca__n_components=4, rf__max_depth=9, rf__n_estimators=400, total=   0.5s\n",
      "[CV] pca__n_components=4, rf__max_depth=9, rf__n_estimators=500 ......\n",
      "[CV]  pca__n_components=4, rf__max_depth=9, rf__n_estimators=500, total=   0.6s\n",
      "[CV] pca__n_components=4, rf__max_depth=9, rf__n_estimators=500 ......\n",
      "[CV]  pca__n_components=4, rf__max_depth=9, rf__n_estimators=500, total=   0.6s\n",
      "[CV] pca__n_components=4, rf__max_depth=9, rf__n_estimators=500 ......\n",
      "[CV]  pca__n_components=4, rf__max_depth=9, rf__n_estimators=500, total=   0.6s\n",
      "[CV] pca__n_components=4, rf__max_depth=9, rf__n_estimators=600 ......\n",
      "[CV]  pca__n_components=4, rf__max_depth=9, rf__n_estimators=600, total=   0.8s\n",
      "[CV] pca__n_components=4, rf__max_depth=9, rf__n_estimators=600 ......\n",
      "[CV]  pca__n_components=4, rf__max_depth=9, rf__n_estimators=600, total=   0.6s\n",
      "[CV] pca__n_components=4, rf__max_depth=9, rf__n_estimators=600 ......\n",
      "[CV]  pca__n_components=4, rf__max_depth=9, rf__n_estimators=600, total=   0.6s\n",
      "[CV] pca__n_components=4, rf__max_depth=9, rf__n_estimators=700 ......\n",
      "[CV]  pca__n_components=4, rf__max_depth=9, rf__n_estimators=700, total=   0.7s\n",
      "[CV] pca__n_components=4, rf__max_depth=9, rf__n_estimators=700 ......\n",
      "[CV]  pca__n_components=4, rf__max_depth=9, rf__n_estimators=700, total=   0.7s\n",
      "[CV] pca__n_components=4, rf__max_depth=9, rf__n_estimators=700 ......\n",
      "[CV]  pca__n_components=4, rf__max_depth=9, rf__n_estimators=700, total=   0.7s\n",
      "[CV] pca__n_components=4, rf__max_depth=9, rf__n_estimators=800 ......\n",
      "[CV]  pca__n_components=4, rf__max_depth=9, rf__n_estimators=800, total=   0.9s\n",
      "[CV] pca__n_components=4, rf__max_depth=9, rf__n_estimators=800 ......\n",
      "[CV]  pca__n_components=4, rf__max_depth=9, rf__n_estimators=800, total=   0.8s\n",
      "[CV] pca__n_components=4, rf__max_depth=9, rf__n_estimators=800 ......\n",
      "[CV]  pca__n_components=4, rf__max_depth=9, rf__n_estimators=800, total=   1.0s\n",
      "[CV] pca__n_components=4, rf__max_depth=9, rf__n_estimators=900 ......\n",
      "[CV]  pca__n_components=4, rf__max_depth=9, rf__n_estimators=900, total=   1.0s\n",
      "[CV] pca__n_components=4, rf__max_depth=9, rf__n_estimators=900 ......\n",
      "[CV]  pca__n_components=4, rf__max_depth=9, rf__n_estimators=900, total=   0.9s\n",
      "[CV] pca__n_components=4, rf__max_depth=9, rf__n_estimators=900 ......\n",
      "[CV]  pca__n_components=4, rf__max_depth=9, rf__n_estimators=900, total=   1.0s\n",
      "[CV] pca__n_components=4, rf__max_depth=11, rf__n_estimators=320 .....\n",
      "[CV]  pca__n_components=4, rf__max_depth=11, rf__n_estimators=320, total=   0.4s\n",
      "[CV] pca__n_components=4, rf__max_depth=11, rf__n_estimators=320 .....\n",
      "[CV]  pca__n_components=4, rf__max_depth=11, rf__n_estimators=320, total=   0.5s\n",
      "[CV] pca__n_components=4, rf__max_depth=11, rf__n_estimators=320 .....\n",
      "[CV]  pca__n_components=4, rf__max_depth=11, rf__n_estimators=320, total=   0.5s\n",
      "[CV] pca__n_components=4, rf__max_depth=11, rf__n_estimators=350 .....\n",
      "[CV]  pca__n_components=4, rf__max_depth=11, rf__n_estimators=350, total=   0.5s\n",
      "[CV] pca__n_components=4, rf__max_depth=11, rf__n_estimators=350 .....\n",
      "[CV]  pca__n_components=4, rf__max_depth=11, rf__n_estimators=350, total=   0.5s\n",
      "[CV] pca__n_components=4, rf__max_depth=11, rf__n_estimators=350 .....\n",
      "[CV]  pca__n_components=4, rf__max_depth=11, rf__n_estimators=350, total=   0.5s\n",
      "[CV] pca__n_components=4, rf__max_depth=11, rf__n_estimators=400 .....\n",
      "[CV]  pca__n_components=4, rf__max_depth=11, rf__n_estimators=400, total=   0.5s\n",
      "[CV] pca__n_components=4, rf__max_depth=11, rf__n_estimators=400 .....\n",
      "[CV]  pca__n_components=4, rf__max_depth=11, rf__n_estimators=400, total=   0.5s\n",
      "[CV] pca__n_components=4, rf__max_depth=11, rf__n_estimators=400 .....\n",
      "[CV]  pca__n_components=4, rf__max_depth=11, rf__n_estimators=400, total=   0.6s\n",
      "[CV] pca__n_components=4, rf__max_depth=11, rf__n_estimators=500 .....\n",
      "[CV]  pca__n_components=4, rf__max_depth=11, rf__n_estimators=500, total=   0.6s\n",
      "[CV] pca__n_components=4, rf__max_depth=11, rf__n_estimators=500 .....\n",
      "[CV]  pca__n_components=4, rf__max_depth=11, rf__n_estimators=500, total=   0.5s\n",
      "[CV] pca__n_components=4, rf__max_depth=11, rf__n_estimators=500 .....\n",
      "[CV]  pca__n_components=4, rf__max_depth=11, rf__n_estimators=500, total=   0.6s\n",
      "[CV] pca__n_components=4, rf__max_depth=11, rf__n_estimators=600 .....\n",
      "[CV]  pca__n_components=4, rf__max_depth=11, rf__n_estimators=600, total=   0.6s\n",
      "[CV] pca__n_components=4, rf__max_depth=11, rf__n_estimators=600 .....\n",
      "[CV]  pca__n_components=4, rf__max_depth=11, rf__n_estimators=600, total=   0.7s\n",
      "[CV] pca__n_components=4, rf__max_depth=11, rf__n_estimators=600 .....\n",
      "[CV]  pca__n_components=4, rf__max_depth=11, rf__n_estimators=600, total=   0.6s\n",
      "[CV] pca__n_components=4, rf__max_depth=11, rf__n_estimators=700 .....\n",
      "[CV]  pca__n_components=4, rf__max_depth=11, rf__n_estimators=700, total=   0.7s\n",
      "[CV] pca__n_components=4, rf__max_depth=11, rf__n_estimators=700 .....\n",
      "[CV]  pca__n_components=4, rf__max_depth=11, rf__n_estimators=700, total=   0.8s\n",
      "[CV] pca__n_components=4, rf__max_depth=11, rf__n_estimators=700 .....\n",
      "[CV]  pca__n_components=4, rf__max_depth=11, rf__n_estimators=700, total=   0.7s\n",
      "[CV] pca__n_components=4, rf__max_depth=11, rf__n_estimators=800 .....\n",
      "[CV]  pca__n_components=4, rf__max_depth=11, rf__n_estimators=800, total=   1.0s\n",
      "[CV] pca__n_components=4, rf__max_depth=11, rf__n_estimators=800 .....\n",
      "[CV]  pca__n_components=4, rf__max_depth=11, rf__n_estimators=800, total=   0.9s\n",
      "[CV] pca__n_components=4, rf__max_depth=11, rf__n_estimators=800 .....\n",
      "[CV]  pca__n_components=4, rf__max_depth=11, rf__n_estimators=800, total=   1.0s\n",
      "[CV] pca__n_components=4, rf__max_depth=11, rf__n_estimators=900 .....\n",
      "[CV]  pca__n_components=4, rf__max_depth=11, rf__n_estimators=900, total=   1.2s\n",
      "[CV] pca__n_components=4, rf__max_depth=11, rf__n_estimators=900 .....\n",
      "[CV]  pca__n_components=4, rf__max_depth=11, rf__n_estimators=900, total=   1.0s\n",
      "[CV] pca__n_components=4, rf__max_depth=11, rf__n_estimators=900 .....\n",
      "[CV]  pca__n_components=4, rf__max_depth=11, rf__n_estimators=900, total=   1.0s\n",
      "[CV] pca__n_components=4, rf__max_depth=13, rf__n_estimators=320 .....\n",
      "[CV]  pca__n_components=4, rf__max_depth=13, rf__n_estimators=320, total=   0.5s\n",
      "[CV] pca__n_components=4, rf__max_depth=13, rf__n_estimators=320 .....\n",
      "[CV]  pca__n_components=4, rf__max_depth=13, rf__n_estimators=320, total=   0.5s\n",
      "[CV] pca__n_components=4, rf__max_depth=13, rf__n_estimators=320 .....\n",
      "[CV]  pca__n_components=4, rf__max_depth=13, rf__n_estimators=320, total=   0.5s\n",
      "[CV] pca__n_components=4, rf__max_depth=13, rf__n_estimators=350 .....\n",
      "[CV]  pca__n_components=4, rf__max_depth=13, rf__n_estimators=350, total=   0.5s\n",
      "[CV] pca__n_components=4, rf__max_depth=13, rf__n_estimators=350 .....\n",
      "[CV]  pca__n_components=4, rf__max_depth=13, rf__n_estimators=350, total=   0.5s\n",
      "[CV] pca__n_components=4, rf__max_depth=13, rf__n_estimators=350 .....\n",
      "[CV]  pca__n_components=4, rf__max_depth=13, rf__n_estimators=350, total=   0.5s\n",
      "[CV] pca__n_components=4, rf__max_depth=13, rf__n_estimators=400 .....\n",
      "[CV]  pca__n_components=4, rf__max_depth=13, rf__n_estimators=400, total=   0.7s\n",
      "[CV] pca__n_components=4, rf__max_depth=13, rf__n_estimators=400 .....\n",
      "[CV]  pca__n_components=4, rf__max_depth=13, rf__n_estimators=400, total=   0.5s\n",
      "[CV] pca__n_components=4, rf__max_depth=13, rf__n_estimators=400 .....\n",
      "[CV]  pca__n_components=4, rf__max_depth=13, rf__n_estimators=400, total=   0.6s\n",
      "[CV] pca__n_components=4, rf__max_depth=13, rf__n_estimators=500 .....\n",
      "[CV]  pca__n_components=4, rf__max_depth=13, rf__n_estimators=500, total=   0.6s\n",
      "[CV] pca__n_components=4, rf__max_depth=13, rf__n_estimators=500 .....\n",
      "[CV]  pca__n_components=4, rf__max_depth=13, rf__n_estimators=500, total=   0.6s\n",
      "[CV] pca__n_components=4, rf__max_depth=13, rf__n_estimators=500 .....\n",
      "[CV]  pca__n_components=4, rf__max_depth=13, rf__n_estimators=500, total=   0.7s\n",
      "[CV] pca__n_components=4, rf__max_depth=13, rf__n_estimators=600 .....\n",
      "[CV]  pca__n_components=4, rf__max_depth=13, rf__n_estimators=600, total=   0.7s\n",
      "[CV] pca__n_components=4, rf__max_depth=13, rf__n_estimators=600 .....\n",
      "[CV]  pca__n_components=4, rf__max_depth=13, rf__n_estimators=600, total=   0.7s\n",
      "[CV] pca__n_components=4, rf__max_depth=13, rf__n_estimators=600 .....\n",
      "[CV]  pca__n_components=4, rf__max_depth=13, rf__n_estimators=600, total=   0.7s\n",
      "[CV] pca__n_components=4, rf__max_depth=13, rf__n_estimators=700 .....\n"
     ]
    },
    {
     "name": "stdout",
     "output_type": "stream",
     "text": [
      "[CV]  pca__n_components=4, rf__max_depth=13, rf__n_estimators=700, total=   0.7s\n",
      "[CV] pca__n_components=4, rf__max_depth=13, rf__n_estimators=700 .....\n",
      "[CV]  pca__n_components=4, rf__max_depth=13, rf__n_estimators=700, total=   0.8s\n",
      "[CV] pca__n_components=4, rf__max_depth=13, rf__n_estimators=700 .....\n",
      "[CV]  pca__n_components=4, rf__max_depth=13, rf__n_estimators=700, total=   0.7s\n",
      "[CV] pca__n_components=4, rf__max_depth=13, rf__n_estimators=800 .....\n",
      "[CV]  pca__n_components=4, rf__max_depth=13, rf__n_estimators=800, total=   1.0s\n",
      "[CV] pca__n_components=4, rf__max_depth=13, rf__n_estimators=800 .....\n",
      "[CV]  pca__n_components=4, rf__max_depth=13, rf__n_estimators=800, total=   0.9s\n",
      "[CV] pca__n_components=4, rf__max_depth=13, rf__n_estimators=800 .....\n",
      "[CV]  pca__n_components=4, rf__max_depth=13, rf__n_estimators=800, total=   1.0s\n",
      "[CV] pca__n_components=4, rf__max_depth=13, rf__n_estimators=900 .....\n",
      "[CV]  pca__n_components=4, rf__max_depth=13, rf__n_estimators=900, total=   1.1s\n",
      "[CV] pca__n_components=4, rf__max_depth=13, rf__n_estimators=900 .....\n",
      "[CV]  pca__n_components=4, rf__max_depth=13, rf__n_estimators=900, total=   1.1s\n",
      "[CV] pca__n_components=4, rf__max_depth=13, rf__n_estimators=900 .....\n",
      "[CV]  pca__n_components=4, rf__max_depth=13, rf__n_estimators=900, total=   1.0s\n",
      "[CV] pca__n_components=4, rf__max_depth=15, rf__n_estimators=320 .....\n",
      "[CV]  pca__n_components=4, rf__max_depth=15, rf__n_estimators=320, total=   0.5s\n",
      "[CV] pca__n_components=4, rf__max_depth=15, rf__n_estimators=320 .....\n",
      "[CV]  pca__n_components=4, rf__max_depth=15, rf__n_estimators=320, total=   0.5s\n",
      "[CV] pca__n_components=4, rf__max_depth=15, rf__n_estimators=320 .....\n",
      "[CV]  pca__n_components=4, rf__max_depth=15, rf__n_estimators=320, total=   0.5s\n",
      "[CV] pca__n_components=4, rf__max_depth=15, rf__n_estimators=350 .....\n",
      "[CV]  pca__n_components=4, rf__max_depth=15, rf__n_estimators=350, total=   0.5s\n",
      "[CV] pca__n_components=4, rf__max_depth=15, rf__n_estimators=350 .....\n",
      "[CV]  pca__n_components=4, rf__max_depth=15, rf__n_estimators=350, total=   0.5s\n",
      "[CV] pca__n_components=4, rf__max_depth=15, rf__n_estimators=350 .....\n",
      "[CV]  pca__n_components=4, rf__max_depth=15, rf__n_estimators=350, total=   0.5s\n",
      "[CV] pca__n_components=4, rf__max_depth=15, rf__n_estimators=400 .....\n",
      "[CV]  pca__n_components=4, rf__max_depth=15, rf__n_estimators=400, total=   0.6s\n",
      "[CV] pca__n_components=4, rf__max_depth=15, rf__n_estimators=400 .....\n",
      "[CV]  pca__n_components=4, rf__max_depth=15, rf__n_estimators=400, total=   0.6s\n",
      "[CV] pca__n_components=4, rf__max_depth=15, rf__n_estimators=400 .....\n",
      "[CV]  pca__n_components=4, rf__max_depth=15, rf__n_estimators=400, total=   0.6s\n",
      "[CV] pca__n_components=4, rf__max_depth=15, rf__n_estimators=500 .....\n",
      "[CV]  pca__n_components=4, rf__max_depth=15, rf__n_estimators=500, total=   0.6s\n",
      "[CV] pca__n_components=4, rf__max_depth=15, rf__n_estimators=500 .....\n",
      "[CV]  pca__n_components=4, rf__max_depth=15, rf__n_estimators=500, total=   0.5s\n",
      "[CV] pca__n_components=4, rf__max_depth=15, rf__n_estimators=500 .....\n",
      "[CV]  pca__n_components=4, rf__max_depth=15, rf__n_estimators=500, total=   0.5s\n",
      "[CV] pca__n_components=4, rf__max_depth=15, rf__n_estimators=600 .....\n",
      "[CV]  pca__n_components=4, rf__max_depth=15, rf__n_estimators=600, total=   0.7s\n",
      "[CV] pca__n_components=4, rf__max_depth=15, rf__n_estimators=600 .....\n",
      "[CV]  pca__n_components=4, rf__max_depth=15, rf__n_estimators=600, total=   0.6s\n",
      "[CV] pca__n_components=4, rf__max_depth=15, rf__n_estimators=600 .....\n",
      "[CV]  pca__n_components=4, rf__max_depth=15, rf__n_estimators=600, total=   0.6s\n",
      "[CV] pca__n_components=4, rf__max_depth=15, rf__n_estimators=700 .....\n",
      "[CV]  pca__n_components=4, rf__max_depth=15, rf__n_estimators=700, total=   0.7s\n",
      "[CV] pca__n_components=4, rf__max_depth=15, rf__n_estimators=700 .....\n",
      "[CV]  pca__n_components=4, rf__max_depth=15, rf__n_estimators=700, total=   0.8s\n",
      "[CV] pca__n_components=4, rf__max_depth=15, rf__n_estimators=700 .....\n",
      "[CV]  pca__n_components=4, rf__max_depth=15, rf__n_estimators=700, total=   0.7s\n",
      "[CV] pca__n_components=4, rf__max_depth=15, rf__n_estimators=800 .....\n",
      "[CV]  pca__n_components=4, rf__max_depth=15, rf__n_estimators=800, total=   0.9s\n",
      "[CV] pca__n_components=4, rf__max_depth=15, rf__n_estimators=800 .....\n",
      "[CV]  pca__n_components=4, rf__max_depth=15, rf__n_estimators=800, total=   0.9s\n",
      "[CV] pca__n_components=4, rf__max_depth=15, rf__n_estimators=800 .....\n",
      "[CV]  pca__n_components=4, rf__max_depth=15, rf__n_estimators=800, total=   1.0s\n",
      "[CV] pca__n_components=4, rf__max_depth=15, rf__n_estimators=900 .....\n",
      "[CV]  pca__n_components=4, rf__max_depth=15, rf__n_estimators=900, total=   1.0s\n",
      "[CV] pca__n_components=4, rf__max_depth=15, rf__n_estimators=900 .....\n",
      "[CV]  pca__n_components=4, rf__max_depth=15, rf__n_estimators=900, total=   1.0s\n",
      "[CV] pca__n_components=4, rf__max_depth=15, rf__n_estimators=900 .....\n",
      "[CV]  pca__n_components=4, rf__max_depth=15, rf__n_estimators=900, total=   1.0s\n"
     ]
    },
    {
     "name": "stderr",
     "output_type": "stream",
     "text": [
      "[Parallel(n_jobs=1)]: Done 144 out of 144 | elapsed:  1.7min finished\n"
     ]
    },
    {
     "name": "stdout",
     "output_type": "stream",
     "text": [
      "estimator: 800\n",
      "depth: 5\n"
     ]
    }
   ],
   "source": [
    "#Random Forest Model\n",
    "trainMAPE_rf, trainMSE_rf, testMAPE_rf, testMSE_rf, train_accuracy, test_accuracy, feature_importances_rf, oob_score_rf = randomForestClassifierPipeline(train_x, train_y, test_x, test_y)\n"
   ]
  },
  {
   "cell_type": "code",
   "execution_count": 98,
   "metadata": {},
   "outputs": [
    {
     "name": "stdout",
     "output_type": "stream",
     "text": [
      "0.8268156424581006\n"
     ]
    }
   ],
   "source": [
    "print(test_accuracy)"
   ]
  },
  {
   "cell_type": "code",
   "execution_count": 99,
   "metadata": {},
   "outputs": [
    {
     "data": {
      "text/plain": [
       "Text(0.5, 1.0, '')"
      ]
     },
     "execution_count": 99,
     "metadata": {},
     "output_type": "execute_result"
    },
    {
     "data": {
      "image/png": "[encoded data removed]",
      "text/plain": [
       "<Figure size 1080x576 with 1 Axes>"
      ]
     },
     "metadata": {
      "needs_background": "light"
     },
     "output_type": "display_data"
    }
   ],
   "source": [
    "feature_importance_tuple = list(zip(titanic_df.columns,feature_importances_rf))\n",
    "df_feature_importances = pd.DataFrame(feature_importance_tuple, columns=['feature','importance']).sort_values('importance',ascending=False)\n",
    "df_feature_importances\n",
    "plt.figure(figsize=(15,8))\n",
    "sns.set(style=\"white\")\n",
    "sns.set(style=\"ticks\")\n",
    "ax = sns.barplot(x=\"feature\", y=\"importance\", data=df_feature_importances)\n",
    "ax.set_title(\"\")"
   ]
  },
  {
   "cell_type": "markdown",
   "metadata": {},
   "source": [
    "## Ensemble Learning"
   ]
  },
  {
   "cell_type": "code",
   "execution_count": 133,
   "metadata": {},
   "outputs": [],
   "source": [
    "from sklearn.ensemble import VotingClassifier\n",
    "\n",
    "estimators = []\n",
    "\n",
    "model1 = LogisticRegression(solver=\"liblinear\")\n",
    "estimators.append(('logistic', model1))\n",
    "model2 = svm.SVC(gamma = 'scale', kernel = 'linear')\n",
    "estimators.append(('svm', model2))\n",
    "model3= RandomForestClassifier(n_jobs = -1, n_estimators = 800, max_depth = 5, oob_score=True)\n",
    "estimators.append(('rf', model3))\n",
    "\n",
    "# create the ensemble model\n",
    "ensemble = VotingClassifier(estimators, weights=[1,1,2])\n",
    "ensemble.fit(train_x, train_y)\n",
    "test_accuracy_ensemble = ensemble.score(test_x, test_y)"
   ]
  },
  {
   "cell_type": "code",
   "execution_count": 134,
   "metadata": {},
   "outputs": [
    {
     "name": "stdout",
     "output_type": "stream",
     "text": [
      "0.8156424581005587\n"
     ]
    }
   ],
   "source": [
    "print(test_accuracy_ensemble)"
   ]
  },
  {
   "cell_type": "code",
   "execution_count": 140,
   "metadata": {},
   "outputs": [
    {
     "data": {
      "text/plain": [
       "0.8324022346368715"
      ]
     },
     "execution_count": 140,
     "metadata": {},
     "output_type": "execute_result"
    }
   ],
   "source": [
    "ensemble.named_estimators_['rf'].score(test_x, test_y)"
   ]
  },
  {
   "cell_type": "code",
   "execution_count": 135,
   "metadata": {},
   "outputs": [
    {
     "data": {
      "text/plain": [
       "Text(0.5, 1.0, '')"
      ]
     },
     "execution_count": 135,
     "metadata": {},
     "output_type": "execute_result"
    },
    {
     "data": {
      "image/png": "[encoded data removed]",
      "text/plain": [
       "<Figure size 1080x576 with 1 Axes>"
      ]
     },
     "metadata": {},
     "output_type": "display_data"
    }
   ],
   "source": [
    "\n",
    "feature_importance_tuple = list(zip(titanic_df.columns,ensemble.named_estimators_['rf'].feature_importances_))\n",
    "df_feature_importances = pd.DataFrame(feature_importance_tuple, columns=['feature','importance']).sort_values('importance',ascending=False)\n",
    "df_feature_importances\n",
    "plt.figure(figsize=(15,8))\n",
    "sns.set(style=\"white\")\n",
    "sns.set(style=\"ticks\")\n",
    "ax = sns.barplot(x=\"feature\", y=\"importance\", data=df_feature_importances)\n",
    "ax.set_title(\"\")"
   ]
  },
  {
   "cell_type": "code",
   "execution_count": null,
   "metadata": {},
   "outputs": [],
   "source": []
  }
 ],
 "metadata": {
  "kernelspec": {
   "display_name": "Python 3",
   "language": "python",
   "name": "python3"
  },
  "language_info": {
   "codemirror_mode": {
    "name": "ipython",
    "version": 3
   },
   "file_extension": ".py",
   "mimetype": "text/x-python",
   "name": "python",
   "nbconvert_exporter": "python",
   "pygments_lexer": "ipython3",
   "version": "3.7.3"
  }
 },
 "nbformat": 4,
 "nbformat_minor": 2
}
