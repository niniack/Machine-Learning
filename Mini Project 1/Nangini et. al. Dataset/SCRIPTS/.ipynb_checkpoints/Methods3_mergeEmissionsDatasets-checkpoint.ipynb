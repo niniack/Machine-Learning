{
 "cells": [
  {
   "cell_type": "markdown",
   "metadata": {
    "collapsed": true
   },
   "source": [
    "# Step 3. Integrate two other emission datasets focusing on developing countries\n",
    "CDP, carbonn, PKU"
   ]
  },
  {
   "cell_type": "code",
   "execution_count": 37,
   "metadata": {},
   "outputs": [],
   "source": [
    "#conda install functools32\n",
    "from matplotlib.pyplot import *\n",
    "%matplotlib inline"
   ]
  },
  {
   "cell_type": "code",
   "execution_count": 38,
   "metadata": {},
   "outputs": [],
   "source": [
    "import numpy as np\n",
    "from matplotlib import pyplot as plt"
   ]
  },
  {
   "cell_type": "code",
   "execution_count": 39,
   "metadata": {},
   "outputs": [],
   "source": [
    "#pandas\n",
    "import pandas as pd\n",
    "import collections\n",
    "import os\n",
    "\n",
    "import csv"
   ]
  },
  {
   "cell_type": "code",
   "execution_count": 40,
   "metadata": {},
   "outputs": [],
   "source": [
    "pd.set_option('display.max_colwidth', -1)"
   ]
  },
  {
   "cell_type": "markdown",
   "metadata": {},
   "source": [
    "# Variables"
   ]
  },
  {
   "cell_type": "code",
   "execution_count": 41,
   "metadata": {},
   "outputs": [],
   "source": [
    "var_city = 'city name'"
   ]
  },
  {
   "cell_type": "markdown",
   "metadata": {},
   "source": [
    "# Functions"
   ]
  },
  {
   "cell_type": "code",
   "execution_count": 42,
   "metadata": {},
   "outputs": [],
   "source": [
    "def tag_column_names_with_datasetname(df, tagname):\n",
    "    \"\"\" Add to column name dataset from which column was obtained\"\"\"\n",
    "    \n",
    "    col_names = list(df)\n",
    "    \n",
    "    for cname in col_names:\n",
    "        if cname != var_city:\n",
    "            if cname != 'country':\n",
    "                df.rename(columns = {cname:cname + ' (' + tagname + ')'}, inplace = True)\n",
    "    \n",
    "    return df"
   ]
  },
  {
   "cell_type": "markdown",
   "metadata": {},
   "source": [
    "# Read data"
   ]
  },
  {
   "cell_type": "markdown",
   "metadata": {},
   "source": [
    "## Emissions datasets"
   ]
  },
  {
   "cell_type": "markdown",
   "metadata": {},
   "source": [
    "### Read CDP dataset after QA/QC corrections and adjustments for CH<sub>4</sub> contributions"
   ]
  },
  {
   "cell_type": "code",
   "execution_count": 66,
   "metadata": {},
   "outputs": [],
   "source": [
    "# Output file from Methods2_CH4corrections.ipynb\n",
    "fname = 'DATA/INTERMEDIATE_FILES/cdp_correctedCO2.csv'\n",
    "df_cdp = pd.read_csv(fname, sep=\"\\t\")"
   ]
  },
  {
   "cell_type": "code",
   "execution_count": 67,
   "metadata": {},
   "outputs": [
    {
     "name": "stdout",
     "output_type": "stream",
     "text": [
      "(187, 41)\n"
     ]
    },
    {
     "data": {
      "text/html": [
       "<div>\n",
       "<style scoped>\n",
       "    .dataframe tbody tr th:only-of-type {\n",
       "        vertical-align: middle;\n",
       "    }\n",
       "\n",
       "    .dataframe tbody tr th {\n",
       "        vertical-align: top;\n",
       "    }\n",
       "\n",
       "    .dataframe thead th {\n",
       "        text-align: right;\n",
       "    }\n",
       "</style>\n",
       "<table border=\"1\" class=\"dataframe\">\n",
       "  <thead>\n",
       "    <tr style=\"text-align: right;\">\n",
       "      <th></th>\n",
       "      <th>city name</th>\n",
       "      <th>City Name (CDP)</th>\n",
       "      <th>country</th>\n",
       "      <th>region (CDP)</th>\n",
       "      <th>Boundary (CDP)</th>\n",
       "      <th>Reporting Year (CDP)</th>\n",
       "      <th>Measurement year only (CDP)</th>\n",
       "      <th>Current Population (CDP)</th>\n",
       "      <th>Current Population Year (CDP)</th>\n",
       "      <th>scope fraction (CDP)</th>\n",
       "      <th>...</th>\n",
       "      <th>corrected CH4_(waste+natgas)/person</th>\n",
       "      <th>Production (m3)</th>\n",
       "      <th>Exports (m3)</th>\n",
       "      <th>Export/Production</th>\n",
       "      <th>data from CIA World Fact Book for 2014</th>\n",
       "      <th>City Location (CDP)</th>\n",
       "      <th>City GDP (CDP)</th>\n",
       "      <th>GDP Currency (CDP)</th>\n",
       "      <th>Year of GDP (CDP)</th>\n",
       "      <th>GDP Source (CDP)</th>\n",
       "    </tr>\n",
       "  </thead>\n",
       "  <tbody>\n",
       "    <tr>\n",
       "      <th>0</th>\n",
       "      <td>Pingtung</td>\n",
       "      <td>Pingtung County Government</td>\n",
       "      <td>Taiwan</td>\n",
       "      <td>East Asia</td>\n",
       "      <td>Administrative boundary of a local government</td>\n",
       "      <td>2017.0</td>\n",
       "      <td>2013.0</td>\n",
       "      <td>835792.0</td>\n",
       "      <td>2016.0</td>\n",
       "      <td>1.0</td>\n",
       "      <td>...</td>\n",
       "      <td>0.014925</td>\n",
       "      <td>1</td>\n",
       "      <td>0</td>\n",
       "      <td>0.0</td>\n",
       "      <td>NaN</td>\n",
       "      <td>(22.551976, 120.54876)</td>\n",
       "      <td>NaN</td>\n",
       "      <td>NaN</td>\n",
       "      <td>NaN</td>\n",
       "      <td>NaN</td>\n",
       "    </tr>\n",
       "    <tr>\n",
       "      <th>1</th>\n",
       "      <td>Lima</td>\n",
       "      <td>Metropolitan Municipality of Lima</td>\n",
       "      <td>Peru</td>\n",
       "      <td>Latin America &amp; Caribbean</td>\n",
       "      <td>A metropolitan area</td>\n",
       "      <td>2016.0</td>\n",
       "      <td>2012.0</td>\n",
       "      <td>8755262.0</td>\n",
       "      <td>2014.0</td>\n",
       "      <td>1.0</td>\n",
       "      <td>...</td>\n",
       "      <td>0.009998</td>\n",
       "      <td>1</td>\n",
       "      <td>0</td>\n",
       "      <td>0.0</td>\n",
       "      <td>NaN</td>\n",
       "      <td>(-12.046374, -77.042793)</td>\n",
       "      <td>NaN</td>\n",
       "      <td>NaN</td>\n",
       "      <td>NaN</td>\n",
       "      <td>INEI</td>\n",
       "    </tr>\n",
       "  </tbody>\n",
       "</table>\n",
       "<p>2 rows × 41 columns</p>\n",
       "</div>"
      ],
      "text/plain": [
       "  city name                    City Name (CDP) country  \\\n",
       "0  Pingtung  Pingtung County Government         Taiwan   \n",
       "1  Lima      Metropolitan Municipality of Lima  Peru     \n",
       "\n",
       "                region (CDP)                                 Boundary (CDP)  \\\n",
       "0  East Asia                  Administrative boundary of a local government   \n",
       "1  Latin America & Caribbean  A metropolitan area                             \n",
       "\n",
       "   Reporting Year (CDP)  Measurement year only (CDP)  \\\n",
       "0  2017.0                2013.0                        \n",
       "1  2016.0                2012.0                        \n",
       "\n",
       "   Current Population (CDP)  Current Population Year (CDP)  \\\n",
       "0  835792.0                  2016.0                          \n",
       "1  8755262.0                 2014.0                          \n",
       "\n",
       "   scope fraction (CDP)        ...         \\\n",
       "0  1.0                         ...          \n",
       "1  1.0                         ...          \n",
       "\n",
       "   corrected CH4_(waste+natgas)/person  Production (m3)  Exports (m3)  \\\n",
       "0  0.014925                             1                0              \n",
       "1  0.009998                             1                0              \n",
       "\n",
       "  Export/Production data from CIA World Fact Book for 2014  \\\n",
       "0  0.0              NaN                                      \n",
       "1  0.0              NaN                                      \n",
       "\n",
       "        City Location (CDP)  City GDP (CDP)  GDP Currency (CDP)  \\\n",
       "0  (22.551976, 120.54876)   NaN              NaN                  \n",
       "1  (-12.046374, -77.042793) NaN              NaN                  \n",
       "\n",
       "   Year of GDP (CDP)  GDP Source (CDP)  \n",
       "0 NaN                 NaN               \n",
       "1 NaN                 INEI              \n",
       "\n",
       "[2 rows x 41 columns]"
      ]
     },
     "execution_count": 67,
     "metadata": {},
     "output_type": "execute_result"
    }
   ],
   "source": [
    "df_cdp = df_cdp.drop('Unnamed: 0', 1)\n",
    "\n",
    "print df_cdp.shape\n",
    "df_cdp.head(2)"
   ]
  },
  {
   "cell_type": "code",
   "execution_count": null,
   "metadata": {},
   "outputs": [],
   "source": []
  },
  {
   "cell_type": "code",
   "execution_count": 68,
   "metadata": {},
   "outputs": [],
   "source": [
    "#Rename 'London' to 'Greater London' to match Creutzig\n",
    "df_cdp.loc[df_cdp[var_city]=='London', var_city] = 'Greater London'"
   ]
  },
  {
   "cell_type": "markdown",
   "metadata": {},
   "source": [
    "### Read carbonn datasets"
   ]
  },
  {
   "cell_type": "code",
   "execution_count": 69,
   "metadata": {},
   "outputs": [
    {
     "name": "stdout",
     "output_type": "stream",
     "text": [
      "(48, 16)\n"
     ]
    },
    {
     "data": {
      "text/html": [
       "<div>\n",
       "<style scoped>\n",
       "    .dataframe tbody tr th:only-of-type {\n",
       "        vertical-align: middle;\n",
       "    }\n",
       "\n",
       "    .dataframe tbody tr th {\n",
       "        vertical-align: top;\n",
       "    }\n",
       "\n",
       "    .dataframe thead th {\n",
       "        text-align: right;\n",
       "    }\n",
       "</style>\n",
       "<table border=\"1\" class=\"dataframe\">\n",
       "  <thead>\n",
       "    <tr style=\"text-align: right;\">\n",
       "      <th></th>\n",
       "      <th>city name</th>\n",
       "      <th>full city name</th>\n",
       "      <th>city_type</th>\n",
       "      <th>lat</th>\n",
       "      <th>lon</th>\n",
       "      <th>pop</th>\n",
       "      <th>pop_yr</th>\n",
       "      <th>country</th>\n",
       "      <th>region</th>\n",
       "      <th>most recent emissions</th>\n",
       "      <th>most recent emissions year</th>\n",
       "      <th>protocol</th>\n",
       "      <th>nGDP</th>\n",
       "      <th>GDP</th>\n",
       "      <th>GDP year</th>\n",
       "      <th>GDP unit</th>\n",
       "    </tr>\n",
       "  </thead>\n",
       "  <tbody>\n",
       "    <tr>\n",
       "      <th>0</th>\n",
       "      <td>Aguascalientes</td>\n",
       "      <td>Municipality of Aguascalientes</td>\n",
       "      <td>Municipality</td>\n",
       "      <td>21.88970</td>\n",
       "      <td>-102.295000</td>\n",
       "      <td>934424</td>\n",
       "      <td>2012.0</td>\n",
       "      <td>Mexico</td>\n",
       "      <td>Latin America &amp; Caribbean</td>\n",
       "      <td>3839803.0</td>\n",
       "      <td>2010.0</td>\n",
       "      <td>Community</td>\n",
       "      <td>9.736522e+06</td>\n",
       "      <td>8321480.00</td>\n",
       "      <td>2013.0</td>\n",
       "      <td>USD</td>\n",
       "    </tr>\n",
       "    <tr>\n",
       "      <th>1</th>\n",
       "      <td>Balikpapan</td>\n",
       "      <td>City of Balikpapan</td>\n",
       "      <td>Municipality</td>\n",
       "      <td>-1.23793</td>\n",
       "      <td>116.852853</td>\n",
       "      <td>762492</td>\n",
       "      <td>2016.0</td>\n",
       "      <td>Indonesia</td>\n",
       "      <td>Southeast Asia</td>\n",
       "      <td>481003.0</td>\n",
       "      <td>2015.0</td>\n",
       "      <td>Community - GPC</td>\n",
       "      <td>6.066077e+03</td>\n",
       "      <td>69874824.44</td>\n",
       "      <td>2015.0</td>\n",
       "      <td>IDR</td>\n",
       "    </tr>\n",
       "  </tbody>\n",
       "</table>\n",
       "</div>"
      ],
      "text/plain": [
       "        city name                  full city name     city_type       lat  \\\n",
       "0  Aguascalientes  Municipality of Aguascalientes  Municipality  21.88970   \n",
       "1  Balikpapan      City of Balikpapan              Municipality -1.23793    \n",
       "\n",
       "          lon     pop  pop_yr    country                     region  \\\n",
       "0 -102.295000  934424  2012.0  Mexico     Latin America & Caribbean   \n",
       "1  116.852853  762492  2016.0  Indonesia  Southeast Asia              \n",
       "\n",
       "   most recent emissions  most recent emissions year         protocol  \\\n",
       "0  3839803.0              2010.0                      Community         \n",
       "1  481003.0               2015.0                      Community - GPC   \n",
       "\n",
       "           nGDP          GDP  GDP year GDP unit  \n",
       "0  9.736522e+06  8321480.00   2013.0    USD      \n",
       "1  6.066077e+03  69874824.44  2015.0    IDR      "
      ]
     },
     "execution_count": 69,
     "metadata": {},
     "output_type": "execute_result"
    }
   ],
   "source": [
    "#48 new cities NOT in CDP and NOT in GEA+\n",
    "f_carbonn_new = 'DATA/ORIGINAL_EMISSIONS_SOURCEFILES/carbonn_selectedCities.tsv'\n",
    "\n",
    "df_carbonn_new = pd.read_csv(f_carbonn_new, sep='\\t')\n",
    "\n",
    "df_carbonn_new.drop('Unnamed: 0', axis=1, inplace=True)\n",
    "\n",
    "print df_carbonn_new.shape\n",
    "df_carbonn_new.head(2)"
   ]
  },
  {
   "cell_type": "code",
   "execution_count": null,
   "metadata": {},
   "outputs": [],
   "source": []
  },
  {
   "cell_type": "code",
   "execution_count": 70,
   "metadata": {},
   "outputs": [
    {
     "name": "stdout",
     "output_type": "stream",
     "text": [
      "(25, 16)\n"
     ]
    },
    {
     "data": {
      "text/html": [
       "<div>\n",
       "<style scoped>\n",
       "    .dataframe tbody tr th:only-of-type {\n",
       "        vertical-align: middle;\n",
       "    }\n",
       "\n",
       "    .dataframe tbody tr th {\n",
       "        vertical-align: top;\n",
       "    }\n",
       "\n",
       "    .dataframe thead th {\n",
       "        text-align: right;\n",
       "    }\n",
       "</style>\n",
       "<table border=\"1\" class=\"dataframe\">\n",
       "  <thead>\n",
       "    <tr style=\"text-align: right;\">\n",
       "      <th></th>\n",
       "      <th>city name</th>\n",
       "      <th>full city name</th>\n",
       "      <th>city_type</th>\n",
       "      <th>lat</th>\n",
       "      <th>lon</th>\n",
       "      <th>pop</th>\n",
       "      <th>pop_yr</th>\n",
       "      <th>country</th>\n",
       "      <th>region</th>\n",
       "      <th>most recent emissions</th>\n",
       "      <th>most recent emissions year</th>\n",
       "      <th>protocol</th>\n",
       "      <th>nGDP</th>\n",
       "      <th>GDP</th>\n",
       "      <th>GDP year</th>\n",
       "      <th>GDP unit</th>\n",
       "    </tr>\n",
       "  </thead>\n",
       "  <tbody>\n",
       "    <tr>\n",
       "      <th>0</th>\n",
       "      <td>Ahmedabad</td>\n",
       "      <td>Ahmedabad Municipal Corporation</td>\n",
       "      <td>Municipality</td>\n",
       "      <td>23.03000</td>\n",
       "      <td>72.580000</td>\n",
       "      <td>5570585</td>\n",
       "      <td>2011.0</td>\n",
       "      <td>India</td>\n",
       "      <td>South Asia</td>\n",
       "      <td>13855311.0</td>\n",
       "      <td>2008.0</td>\n",
       "      <td>Community</td>\n",
       "      <td>1.093038e+10</td>\n",
       "      <td>NaN</td>\n",
       "      <td>NaN</td>\n",
       "      <td>NaN</td>\n",
       "    </tr>\n",
       "    <tr>\n",
       "      <th>1</th>\n",
       "      <td>Bangalore</td>\n",
       "      <td>Bengaluru Municipal Corporation</td>\n",
       "      <td>Municipality</td>\n",
       "      <td>12.97029</td>\n",
       "      <td>77.596152</td>\n",
       "      <td>9621551</td>\n",
       "      <td>2011.0</td>\n",
       "      <td>India</td>\n",
       "      <td>South Asia</td>\n",
       "      <td>5568706.7</td>\n",
       "      <td>2008.0</td>\n",
       "      <td>Community</td>\n",
       "      <td>1.605697e+10</td>\n",
       "      <td>1.362799e+10</td>\n",
       "      <td>2011.0</td>\n",
       "      <td>USD</td>\n",
       "    </tr>\n",
       "  </tbody>\n",
       "</table>\n",
       "</div>"
      ],
      "text/plain": [
       "   city name                   full city name     city_type       lat  \\\n",
       "0  Ahmedabad  Ahmedabad Municipal Corporation  Municipality  23.03000   \n",
       "1  Bangalore  Bengaluru Municipal Corporation  Municipality  12.97029   \n",
       "\n",
       "         lon      pop  pop_yr country      region  most recent emissions  \\\n",
       "0  72.580000  5570585  2011.0  India   South Asia  13855311.0              \n",
       "1  77.596152  9621551  2011.0  India   South Asia  5568706.7               \n",
       "\n",
       "   most recent emissions year   protocol          nGDP           GDP  \\\n",
       "0  2008.0                      Community  1.093038e+10 NaN             \n",
       "1  2008.0                      Community  1.605697e+10  1.362799e+10   \n",
       "\n",
       "   GDP year GDP unit  \n",
       "0 NaN        NaN      \n",
       "1  2011.0    USD      "
      ]
     },
     "execution_count": 70,
     "metadata": {},
     "output_type": "execute_result"
    }
   ],
   "source": [
    "#Read in 25 carbonn cities in GEA+ but NOT in CDP.\n",
    "\n",
    "fname='DATA/ORIGINAL_EMISSIONS_SOURCEFILES/carbonn_Creutzig_notCDP.tsv'\n",
    "df_carbonn_creutzig_notCDP = pd.read_csv(fname, sep=\"\\t\")\n",
    "\n",
    "df_carbonn_creutzig_notCDP.drop('Unnamed: 0', 1, inplace=True)\n",
    "\n",
    "print df_carbonn_creutzig_notCDP.shape\n",
    "df_carbonn_creutzig_notCDP.head(2)"
   ]
  },
  {
   "cell_type": "code",
   "execution_count": null,
   "metadata": {},
   "outputs": [],
   "source": []
  },
  {
   "cell_type": "markdown",
   "metadata": {},
   "source": [
    "### tag column names"
   ]
  },
  {
   "cell_type": "code",
   "execution_count": 71,
   "metadata": {},
   "outputs": [
    {
     "data": {
      "text/plain": [
       "['city name',\n",
       " 'full city name (carbonn)',\n",
       " 'city_type (carbonn)',\n",
       " 'lat (carbonn)',\n",
       " 'lon (carbonn)',\n",
       " 'pop (carbonn)',\n",
       " 'pop_yr (carbonn)',\n",
       " 'country',\n",
       " 'region (carbonn)',\n",
       " 'most recent emissions (carbonn)',\n",
       " 'most recent emissions year (carbonn)',\n",
       " 'protocol (carbonn)',\n",
       " 'nGDP (carbonn)',\n",
       " 'GDP (carbonn)',\n",
       " 'GDP year (carbonn)',\n",
       " 'GDP unit (carbonn)']"
      ]
     },
     "execution_count": 71,
     "metadata": {},
     "output_type": "execute_result"
    }
   ],
   "source": [
    "tag_column_names_with_datasetname(df_carbonn_new, 'carbonn')\n",
    "tag_column_names_with_datasetname(df_carbonn_creutzig_notCDP, 'carbonn')\n",
    "\n",
    "list(df_carbonn_creutzig_notCDP)"
   ]
  },
  {
   "cell_type": "markdown",
   "metadata": {},
   "source": [
    "### Read PKU dataset"
   ]
  },
  {
   "cell_type": "code",
   "execution_count": 72,
   "metadata": {},
   "outputs": [
    {
     "name": "stdout",
     "output_type": "stream",
     "text": [
      "(83, 12)\n"
     ]
    },
    {
     "data": {
      "text/html": [
       "<div>\n",
       "<style scoped>\n",
       "    .dataframe tbody tr th:only-of-type {\n",
       "        vertical-align: middle;\n",
       "    }\n",
       "\n",
       "    .dataframe tbody tr th {\n",
       "        vertical-align: top;\n",
       "    }\n",
       "\n",
       "    .dataframe thead th {\n",
       "        text-align: right;\n",
       "    }\n",
       "</style>\n",
       "<table border=\"1\" class=\"dataframe\">\n",
       "  <thead>\n",
       "    <tr style=\"text-align: right;\">\n",
       "      <th></th>\n",
       "      <th>city name</th>\n",
       "      <th>full city name</th>\n",
       "      <th>Urban Population</th>\n",
       "      <th>Built-up Area (km2)</th>\n",
       "      <th>Income Per Capita (RMB)</th>\n",
       "      <th>GDP (10000 RMB)</th>\n",
       "      <th>CO2 Emissions Per Capita (Ton)</th>\n",
       "      <th>Scope-1 GHG emissions</th>\n",
       "      <th>Scope-1 source dataset</th>\n",
       "      <th>Scope-1 GHG emissions units</th>\n",
       "      <th>Year of Emission</th>\n",
       "      <th>Emissions Protocol</th>\n",
       "    </tr>\n",
       "  </thead>\n",
       "  <tbody>\n",
       "    <tr>\n",
       "      <th>0</th>\n",
       "      <td>Beijing</td>\n",
       "      <td>Bejing</td>\n",
       "      <td>16446857</td>\n",
       "      <td>1733.8</td>\n",
       "      <td>66458.74</td>\n",
       "      <td>139044131</td>\n",
       "      <td>4.566519</td>\n",
       "      <td>7.510488e+07</td>\n",
       "      <td>PKU</td>\n",
       "      <td>tCO2</td>\n",
       "      <td>2010</td>\n",
       "      <td>Other</td>\n",
       "    </tr>\n",
       "    <tr>\n",
       "      <th>1</th>\n",
       "      <td>Tianjin</td>\n",
       "      <td>Tianjin</td>\n",
       "      <td>9562255</td>\n",
       "      <td>1294.1</td>\n",
       "      <td>53192.42</td>\n",
       "      <td>85614571</td>\n",
       "      <td>3.640000</td>\n",
       "      <td>3.480661e+07</td>\n",
       "      <td>PKU</td>\n",
       "      <td>tCO2</td>\n",
       "      <td>2010</td>\n",
       "      <td>Other</td>\n",
       "    </tr>\n",
       "  </tbody>\n",
       "</table>\n",
       "</div>"
      ],
      "text/plain": [
       "  city name full city name  Urban Population  Built-up Area (km2)  \\\n",
       "0  Beijing   Bejing         16446857          1733.8                \n",
       "1  Tianjin   Tianjin        9562255           1294.1                \n",
       "\n",
       "   Income Per Capita (RMB)  GDP (10000 RMB)  CO2 Emissions Per Capita (Ton)  \\\n",
       "0  66458.74                 139044131        4.566519                         \n",
       "1  53192.42                 85614571         3.640000                         \n",
       "\n",
       "   Scope-1 GHG emissions Scope-1 source dataset Scope-1 GHG emissions units  \\\n",
       "0  7.510488e+07           PKU                    tCO2                         \n",
       "1  3.480661e+07           PKU                    tCO2                         \n",
       "\n",
       "   Year of Emission Emissions Protocol  \n",
       "0  2010              Other              \n",
       "1  2010              Other              "
      ]
     },
     "execution_count": 72,
     "metadata": {},
     "output_type": "execute_result"
    }
   ],
   "source": [
    "fchina='DATA/ORIGINAL_EMISSIONS_SOURCEFILES/china_prepared.tsv'\n",
    "df_china = pd.read_csv(fchina, sep=\"\\t\")\n",
    "\n",
    "df_china.drop('Unnamed: 0', 1, inplace=True)\n",
    "\n",
    "print df_china.shape\n",
    "df_china.head(2)"
   ]
  },
  {
   "cell_type": "code",
   "execution_count": 73,
   "metadata": {},
   "outputs": [
    {
     "data": {
      "text/plain": [
       "['city name',\n",
       " 'full city name',\n",
       " 'Urban Population',\n",
       " 'Built-up Area (km2)',\n",
       " 'Income Per Capita (RMB)',\n",
       " 'GDP (10000 RMB)',\n",
       " 'CO2 Emissions Per Capita (Ton)',\n",
       " 'Scope-1 GHG emissions',\n",
       " 'Scope-1 source dataset',\n",
       " 'Scope-1 GHG emissions units',\n",
       " 'Year of Emission',\n",
       " 'Emissions Protocol']"
      ]
     },
     "execution_count": 73,
     "metadata": {},
     "output_type": "execute_result"
    }
   ],
   "source": [
    "list(df_china)"
   ]
  },
  {
   "cell_type": "code",
   "execution_count": 74,
   "metadata": {},
   "outputs": [],
   "source": [
    "#Add country, protocol and region columns\n",
    "df_china['country'] = 'China'\n",
    "df_china['region'] = 'East Asia'"
   ]
  },
  {
   "cell_type": "code",
   "execution_count": null,
   "metadata": {},
   "outputs": [],
   "source": []
  },
  {
   "cell_type": "code",
   "execution_count": 75,
   "metadata": {},
   "outputs": [
    {
     "data": {
      "text/plain": [
       "['city name',\n",
       " 'full city name (PKU)',\n",
       " 'Urban Population (PKU)',\n",
       " 'Built-up Area (km2) (PKU)',\n",
       " 'Income Per Capita (RMB) (PKU)',\n",
       " 'GDP (10000 RMB) (PKU)',\n",
       " 'CO2 Emissions Per Capita (Ton) (PKU)',\n",
       " 'Scope-1 GHG emissions (PKU)',\n",
       " 'Scope-1 source dataset (PKU)',\n",
       " 'Scope-1 GHG emissions units (PKU)',\n",
       " 'Year of Emission (PKU)',\n",
       " 'Emissions Protocol (PKU)',\n",
       " 'country',\n",
       " 'region (PKU)']"
      ]
     },
     "execution_count": 75,
     "metadata": {},
     "output_type": "execute_result"
    }
   ],
   "source": [
    "tag_column_names_with_datasetname(df_china, 'PKU')\n",
    "\n",
    "list(df_china)"
   ]
  },
  {
   "cell_type": "markdown",
   "metadata": {},
   "source": [
    "# Concatenate emission datasets"
   ]
  },
  {
   "cell_type": "code",
   "execution_count": 76,
   "metadata": {},
   "outputs": [],
   "source": [
    "#Remove tags from the following columns which are in common across all datasets\n",
    "df_cdp.rename(columns = {'region (CDP)':'region'}, inplace = True)\n",
    "\n",
    "df_carbonn_creutzig_notCDP.rename(columns = {'region (carbonn)':'region'}, inplace = True)\n",
    "df_carbonn_new.rename(columns = {'region (carbonn)':'region'}, inplace = True)\n",
    "\n",
    "df_carbonn_creutzig_notCDP.rename(columns = {'protocol (carbonn)':'Emissions Protocol'}, inplace = True)\n",
    "df_carbonn_new.rename(columns = {'protocol (carbonn)':'Emissions Protocol'}, inplace = True)\n",
    "\n",
    "df_china.rename(columns = {'Scope-1 GHG emissions (PKU)':'Scope-1 GHG emissions'}, inplace = True)\n",
    "df_china.rename(columns = {'Scope-1 source dataset (PKU)':'Scope-1 source dataset'}, inplace = True)\n",
    "df_china.rename(columns = {'Scope-1 GHG emissions units (PKU)':'Scope-1 GHG emissions units'}, inplace = True)\n",
    "df_china.rename(columns = {'Year of Emission (PKU)':'Year of Emission'}, inplace = True)\n",
    "df_china.rename(columns = {'Emissions Protocol (PKU)':'Emissions Protocol'}, inplace = True)\n",
    "df_china.rename(columns = {'region (PKU)':'region'}, inplace = True)"
   ]
  },
  {
   "cell_type": "markdown",
   "metadata": {},
   "source": [
    "## Master df\n",
    "Start populating a master df with CDP data."
   ]
  },
  {
   "cell_type": "code",
   "execution_count": 77,
   "metadata": {},
   "outputs": [],
   "source": [
    "df_master = pd.DataFrame()"
   ]
  },
  {
   "cell_type": "code",
   "execution_count": 78,
   "metadata": {},
   "outputs": [],
   "source": [
    "df_master[var_city] = df_cdp[var_city]\n",
    "df_master['country'] = df_cdp['country']\n",
    "df_master['region'] = df_cdp['region']\n",
    "df_master['Scope-1 GHG emissions'] = df_cdp['Total Scope 1 Emissions (metric ton CO2e) (CDP)']\n",
    "df_master['Scope-1 source dataset'] = 'CDP' \n",
    "df_master['Scope-1 GHG emissions units'] = 'tCO2-eq' \n",
    "df_master['Year of Emission'] = df_cdp['Measurement year only (CDP)']\n",
    "df_master['Emissions Protocol'] = df_cdp['Primary Methodology (CDP)']\n",
    "df_master['Scope 2 [metric ton CO2e] (CDP)'] = df_cdp['Total Scope 2 Emissions (metric ton CO2e) (CDP)']\n",
    "df_master['Total Emissions [metric ton CO2e] (CDP)'] = df_cdp['Total City-wide Emissions (metric ton CO2e) (CDP)']\n"
   ]
  },
  {
   "cell_type": "code",
   "execution_count": 79,
   "metadata": {},
   "outputs": [],
   "source": [
    "col_toadd = ['City Name (CDP)', 'Boundary (CDP)', 'City Location (CDP)',\n",
    "             'Reporting Year (CDP)', \n",
    "             'Current Population (CDP)', 'Current Population Year (CDP)', 'scope fraction (CDP)',\n",
    " 'CDP2016 data edited (CDP)', 'Emissions Quality Flag (CDP)', 'Gases included (CDP)',\n",
    " 'TOT lower bound [tCO2] (CDP)', 'TOT upper bound [tCO2] (CDP)', 'TOT mean [tCO2] (CDP)', 'S1 lower bound [tCO2] (CDP)',\n",
    " 'S1 upper bound [tCO2] (CDP)', 'S1 mean [tCO2] (CDP)', \n",
    " 'Methodology Details (CDP)', 'Increase/Decrease from last year (CDP)', 'Reason for increase/decrease in emissions (CDP)',\n",
    " 'Average annual temperature (in Celsius) (CDP)', 'Land area (in square km) (CDP)',\n",
    " 'Average altitude (m) (CDP)', 'City GDP (CDP)', 'GDP Currency (CDP)', 'Year of GDP (CDP)',\n",
    " 'GDP Source (CDP)','CH4_waste/person', 'CH4_(waste+natgas)/person',\n",
    " 'corrected CH4_(waste+natgas)/person', 'Production (m3)', 'Exports (m3)', 'Export/Production',\n",
    " 'data from CIA World Fact Book for 2014', ]"
   ]
  },
  {
   "cell_type": "code",
   "execution_count": 80,
   "metadata": {},
   "outputs": [],
   "source": [
    "for idx in range(len(col_toadd)):\n",
    "    df_master[col_toadd[idx]] = df_cdp[col_toadd[idx]]  "
   ]
  },
  {
   "cell_type": "markdown",
   "metadata": {},
   "source": [
    "**Add 25 carbonn cities in Creutzig but NOT in CDP (df_carbonn_creutzig_notCDP).**"
   ]
  },
  {
   "cell_type": "code",
   "execution_count": 81,
   "metadata": {},
   "outputs": [],
   "source": [
    "#Add the common columns\n",
    "df_carbonn_creutzig_notCDP.rename(columns = {'most recent emissions (carbonn)':'Scope-1 GHG emissions'}, inplace = True)\n",
    "df_carbonn_creutzig_notCDP.rename(columns = {'most recent emissions year (carbonn)':'Year of Emission'}, inplace = True)\n",
    "df_carbonn_creutzig_notCDP.rename(columns = {'protocol':'Emissions Protocol'}, inplace = True)\n",
    "\n",
    "df_carbonn_creutzig_notCDP['Scope-1 source dataset'] = 'carbonn' \n",
    "df_carbonn_creutzig_notCDP['Scope-1 GHG emissions units'] = 'tCO2-eq' "
   ]
  },
  {
   "cell_type": "code",
   "execution_count": 82,
   "metadata": {},
   "outputs": [
    {
     "name": "stdout",
     "output_type": "stream",
     "text": [
      "(187, 43)\n",
      "(25, 18)\n",
      "(212, 53)\n"
     ]
    }
   ],
   "source": [
    "print df_master.shape\n",
    "print df_carbonn_creutzig_notCDP.shape\n",
    "\n",
    "df_master = pd.concat([df_master,df_carbonn_creutzig_notCDP], axis=0, ignore_index=True)\n",
    "\n",
    "print df_master.shape"
   ]
  },
  {
   "cell_type": "code",
   "execution_count": null,
   "metadata": {},
   "outputs": [],
   "source": []
  },
  {
   "cell_type": "markdown",
   "metadata": {},
   "source": [
    "**Add 48 unique carbonn cities (df_carbonn_new)**"
   ]
  },
  {
   "cell_type": "code",
   "execution_count": 83,
   "metadata": {},
   "outputs": [],
   "source": [
    "#Add the common columns\n",
    "df_carbonn_new.rename(columns = {'most recent emissions (carbonn)':'Scope-1 GHG emissions'}, inplace = True)\n",
    "df_carbonn_new.rename(columns = {'most recent emissions year (carbonn)':'Year of Emission'}, inplace = True)\n",
    "df_carbonn_new.rename(columns = {'protocol':'Emissions Protocol'}, inplace = True)\n",
    "\n",
    "df_carbonn_new['Scope-1 source dataset'] = 'carbonn' \n",
    "df_carbonn_new['Scope-1 GHG emissions units'] = 'tCO2-eq'"
   ]
  },
  {
   "cell_type": "code",
   "execution_count": null,
   "metadata": {},
   "outputs": [],
   "source": []
  },
  {
   "cell_type": "code",
   "execution_count": 84,
   "metadata": {},
   "outputs": [
    {
     "name": "stdout",
     "output_type": "stream",
     "text": [
      "(212, 53)\n",
      "(48, 18)\n",
      "(260, 53)\n"
     ]
    }
   ],
   "source": [
    "print df_master.shape\n",
    "print df_carbonn_new.shape\n",
    "\n",
    "df_master = pd.concat([df_master,df_carbonn_new], axis=0, ignore_index=True)\n",
    "\n",
    "print df_master.shape"
   ]
  },
  {
   "cell_type": "code",
   "execution_count": null,
   "metadata": {},
   "outputs": [],
   "source": []
  },
  {
   "cell_type": "markdown",
   "metadata": {},
   "source": [
    "**Add the 83 Chinese cities (df_china)**  "
   ]
  },
  {
   "cell_type": "code",
   "execution_count": 85,
   "metadata": {},
   "outputs": [
    {
     "name": "stdout",
     "output_type": "stream",
     "text": [
      "(260, 53)\n",
      "(83, 14)\n",
      "(343, 59)\n"
     ]
    }
   ],
   "source": [
    "print df_master.shape\n",
    "print df_china.shape\n",
    "\n",
    "df_master = pd.concat([df_master,df_china], axis=0, ignore_index=True)\n",
    "\n",
    "print df_master.shape"
   ]
  },
  {
   "cell_type": "code",
   "execution_count": 86,
   "metadata": {},
   "outputs": [],
   "source": [
    "df_master.rename(columns = {'Average altitude (m) (CDP)':'Average altitude (m)'}, inplace = True)"
   ]
  },
  {
   "cell_type": "code",
   "execution_count": 87,
   "metadata": {},
   "outputs": [
    {
     "data": {
      "text/plain": [
       "129    Aarhus     \n",
       "40     Abington   \n",
       "147    Addis Ababa\n",
       "91     Adelaide   \n",
       "130    Aerøskøbing\n",
       "Name: city name, dtype: object"
      ]
     },
     "execution_count": 87,
     "metadata": {},
     "output_type": "execute_result"
    }
   ],
   "source": [
    "#Sort by city name\n",
    "df_master = df_master.sort_values(var_city)\n",
    "df_master[var_city].head(5)"
   ]
  },
  {
   "cell_type": "code",
   "execution_count": null,
   "metadata": {},
   "outputs": [],
   "source": []
  },
  {
   "cell_type": "markdown",
   "metadata": {},
   "source": [
    "# Change units from tCO2-eq to tCO2 for CDP cities that specify CO2 only"
   ]
  },
  {
   "cell_type": "code",
   "execution_count": 88,
   "metadata": {},
   "outputs": [],
   "source": [
    "df_master.loc[df_master['Gases included (CDP)']=='CO2', 'Scope-1 GHG emissions units'] = 'tCO2'"
   ]
  },
  {
   "cell_type": "code",
   "execution_count": null,
   "metadata": {},
   "outputs": [],
   "source": []
  },
  {
   "cell_type": "markdown",
   "metadata": {},
   "source": [
    "# Reorder columns"
   ]
  },
  {
   "cell_type": "code",
   "execution_count": 89,
   "metadata": {},
   "outputs": [
    {
     "name": "stdout",
     "output_type": "stream",
     "text": [
      "59\n"
     ]
    },
    {
     "data": {
      "text/plain": [
       "(343, 59)"
      ]
     },
     "execution_count": 89,
     "metadata": {},
     "output_type": "execute_result"
    }
   ],
   "source": [
    "col_order = [\n",
    " 'city name',\n",
    " 'Average altitude (m)',\n",
    " 'Average annual temperature (in Celsius) (CDP)',\n",
    " 'Boundary (CDP)',\n",
    " 'Built-up Area (km2) (PKU)',\n",
    " 'CDP2016 data edited (CDP)',\n",
    " 'CH4_(waste+natgas)/person',\n",
    " 'CH4_waste/person',\n",
    " 'CO2 Emissions Per Capita (Ton) (PKU)',\n",
    " 'City GDP (CDP)',\n",
    " 'City Location (CDP)',\n",
    " 'City Name (CDP)',\n",
    " 'Current Population (CDP)',\n",
    " 'Current Population Year (CDP)',\n",
    " 'Emissions Quality Flag (CDP)',\n",
    " 'Emissions Protocol',\n",
    " 'Export/Production',\n",
    " 'Exports (m3)',\n",
    " 'GDP (10000 RMB) (PKU)',\n",
    " 'GDP Currency (CDP)',\n",
    " 'GDP Source (CDP)',\n",
    " 'Gases included (CDP)',\n",
    " 'Income Per Capita (RMB) (PKU)',\n",
    " 'Increase/Decrease from last year (CDP)',\n",
    " 'Land area (in square km) (CDP)',\n",
    " 'Methodology Details (CDP)',\n",
    " 'Production (m3)',\n",
    " 'Reason for increase/decrease in emissions (CDP)',\n",
    " 'Reporting Year (CDP)',\n",
    " 'S1 lower bound [tCO2] (CDP)',\n",
    " 'S1 mean [tCO2] (CDP)',\n",
    " 'S1 upper bound [tCO2] (CDP)',\n",
    " 'Scope-1 GHG emissions',\n",
    " 'Scope-1 source dataset',\n",
    " 'Scope-1 GHG emissions units',\n",
    " 'Year of Emission',\n",
    " 'Scope 2 [metric ton CO2e] (CDP)',\n",
    " 'TOT lower bound [tCO2] (CDP)',\n",
    " 'TOT mean [tCO2] (CDP)',\n",
    " 'TOT upper bound [tCO2] (CDP)',\n",
    " 'Total Emissions [metric ton CO2e] (CDP)',\n",
    " 'Urban Population (PKU)',\n",
    " 'Year of GDP (CDP)',\n",
    " 'city_type (carbonn)',\n",
    " 'corrected CH4_(waste+natgas)/person',\n",
    " 'country',\n",
    " 'data from CIA World Fact Book for 2014',\n",
    " 'full city name (PKU)',\n",
    " 'full city name (carbonn)',\n",
    " 'GDP unit (carbonn)',\n",
    " 'GDP (carbonn)',\n",
    " 'GDP year (carbonn)',\n",
    " 'lat (carbonn)',\n",
    " 'lon (carbonn)',\n",
    " 'nGDP (carbonn)',\n",
    " 'pop (carbonn)',\n",
    " 'pop_yr (carbonn)',\n",
    " 'region',\n",
    " 'scope fraction (CDP)'\n",
    "]\n",
    "\n",
    "print len(col_order)\n",
    "df_master.shape"
   ]
  },
  {
   "cell_type": "code",
   "execution_count": 90,
   "metadata": {},
   "outputs": [
    {
     "name": "stdout",
     "output_type": "stream",
     "text": [
      "(343, 59)\n"
     ]
    }
   ],
   "source": [
    "df_master = df_master[col_order]\n",
    "print df_master.shape"
   ]
  },
  {
   "cell_type": "code",
   "execution_count": null,
   "metadata": {},
   "outputs": [],
   "source": []
  },
  {
   "cell_type": "markdown",
   "metadata": {},
   "source": [
    "\n",
    "# Save data"
   ]
  },
  {
   "cell_type": "code",
   "execution_count": 91,
   "metadata": {},
   "outputs": [],
   "source": [
    "df_master.to_csv('DATA/INTERMEDIATE_FILES/merged_emissions_dataset.tsv', sep='\\t' , encoding='utf-8')"
   ]
  },
  {
   "cell_type": "code",
   "execution_count": null,
   "metadata": {},
   "outputs": [],
   "source": []
  },
  {
   "cell_type": "markdown",
   "metadata": {},
   "source": [
    "# Continue to Methods4_addAncillaryData.ipynb"
   ]
  }
 ],
 "metadata": {
  "kernelspec": {
   "display_name": "Python 2",
   "language": "python",
   "name": "python2"
  },
  "language_info": {
   "codemirror_mode": {
    "name": "ipython",
    "version": 2
   },
   "file_extension": ".py",
   "mimetype": "text/x-python",
   "name": "python",
   "nbconvert_exporter": "python",
   "pygments_lexer": "ipython2",
   "version": "2.7.14"
  }
 },
 "nbformat": 4,
 "nbformat_minor": 1
}
