{
 "cells": [
  {
   "cell_type": "markdown",
   "metadata": {
    "collapsed": true
   },
   "source": [
    "# Methods4_addAncillaryData.ipynb\n",
    "Add ancillary data collected to match Scope-1 CO2 emissions for all datasets."
   ]
  },
  {
   "cell_type": "code",
   "execution_count": 9,
   "metadata": {},
   "outputs": [],
   "source": [
    "from matplotlib.pyplot import *\n",
    "%matplotlib inline"
   ]
  },
  {
   "cell_type": "code",
   "execution_count": 10,
   "metadata": {},
   "outputs": [],
   "source": [
    "import numpy as np\n",
    "from matplotlib import pyplot as plt"
   ]
  },
  {
   "cell_type": "code",
   "execution_count": 11,
   "metadata": {},
   "outputs": [],
   "source": [
    "import pandas as pd\n",
    "import collections\n",
    "import os\n",
    "\n",
    "import csv"
   ]
  },
  {
   "cell_type": "code",
   "execution_count": 12,
   "metadata": {},
   "outputs": [],
   "source": [
    "import sys\n",
    "stdout = sys.stdout\n",
    "reload(sys)\n",
    "sys.setdefaultencoding('utf-8')\n",
    "sys.stdout = stdout"
   ]
  },
  {
   "cell_type": "code",
   "execution_count": 13,
   "metadata": {},
   "outputs": [],
   "source": [
    "pd.set_option('display.max_colwidth', -1)"
   ]
  },
  {
   "cell_type": "markdown",
   "metadata": {},
   "source": [
    "# Variables"
   ]
  },
  {
   "cell_type": "code",
   "execution_count": 14,
   "metadata": {},
   "outputs": [],
   "source": [
    "var_city = 'city name'"
   ]
  },
  {
   "cell_type": "markdown",
   "metadata": {},
   "source": [
    "# Functions"
   ]
  },
  {
   "cell_type": "code",
   "execution_count": 15,
   "metadata": {},
   "outputs": [],
   "source": [
    "def tag_column_names_with_datasetname(df, tagname):\n",
    "    \"\"\" Add to column name dataset from which column was obtained\"\"\"\n",
    "    \n",
    "    col_names = list(df)\n",
    "    \n",
    "    for cname in col_names:\n",
    "        if cname != var_city:\n",
    "            if cname != 'country':\n",
    "                df.rename(columns = {cname:cname + ' (' + tagname + ')'}, inplace = True)\n",
    "    \n",
    "    return df"
   ]
  },
  {
   "cell_type": "code",
   "execution_count": 16,
   "metadata": {},
   "outputs": [],
   "source": [
    "def fn_mergeDuplicates(df, attr):\n",
    "    \"\"\"merges attr_x and attr_y into one single attr after checking for nan\"\"\"\n",
    "\n",
    "    attr_x = attr + '_x'\n",
    "    attr_y = attr + '_y'\n",
    "    \n",
    "    #make common col in df\n",
    "    df[attr] = np.nan\n",
    "\n",
    "    #_x exists, _y does not\n",
    "    condx = (~df[attr_x].isnull() & df[attr_y].isnull() )\n",
    "\n",
    "    df.loc[condx, attr] = df[attr_x]\n",
    "\n",
    "    #_y exists, _x does not\n",
    "    condy = (df[attr_x].isnull() & ~df[attr_y].isnull() )\n",
    "\n",
    "    df.loc[condy, attr] = df[attr_y]\n",
    "\n",
    "    #_x == _y\n",
    "    cond_both = (df[attr_x] == df[attr_y] )\n",
    "\n",
    "    df.loc[cond_both, attr] = np.nan\n",
    "    \n",
    "    df.drop(attr_x, 1, inplace=True)\n",
    "    df.drop(attr_y, 1, inplace=True)\n",
    "    \n",
    "    return df"
   ]
  },
  {
   "cell_type": "markdown",
   "metadata": {},
   "source": [
    "# Read data"
   ]
  },
  {
   "cell_type": "markdown",
   "metadata": {},
   "source": [
    "## Merged Emissions datasets\n",
    "343 cities x 59 columns"
   ]
  },
  {
   "cell_type": "code",
   "execution_count": 17,
   "metadata": {},
   "outputs": [],
   "source": [
    "# Output file from Methods_mergeEmissionsDatasets.ipynb\n",
    "femissions = 'DATA/INTERMEDIATE_FILES/merged_emissions_dataset.tsv'\n",
    "df_emissions = pd.read_csv(femissions, sep=\"\\t\", encoding = 'utf-8')"
   ]
  },
  {
   "cell_type": "code",
   "execution_count": 18,
   "metadata": {},
   "outputs": [
    {
     "name": "stdout",
     "output_type": "stream",
     "text": [
      "(343, 59)\n"
     ]
    },
    {
     "data": {
      "text/html": [
       "<div>\n",
       "<style scoped>\n",
       "    .dataframe tbody tr th:only-of-type {\n",
       "        vertical-align: middle;\n",
       "    }\n",
       "\n",
       "    .dataframe tbody tr th {\n",
       "        vertical-align: top;\n",
       "    }\n",
       "\n",
       "    .dataframe thead th {\n",
       "        text-align: right;\n",
       "    }\n",
       "</style>\n",
       "<table border=\"1\" class=\"dataframe\">\n",
       "  <thead>\n",
       "    <tr style=\"text-align: right;\">\n",
       "      <th></th>\n",
       "      <th>city name</th>\n",
       "      <th>Average altitude (m)</th>\n",
       "      <th>Average annual temperature (in Celsius) (CDP)</th>\n",
       "      <th>Boundary (CDP)</th>\n",
       "      <th>Built-up Area (km2) (PKU)</th>\n",
       "      <th>CDP2016 data edited (CDP)</th>\n",
       "      <th>CH4_(waste+natgas)/person</th>\n",
       "      <th>CH4_waste/person</th>\n",
       "      <th>CO2 Emissions Per Capita (Ton) (PKU)</th>\n",
       "      <th>City GDP (CDP)</th>\n",
       "      <th>...</th>\n",
       "      <th>GDP unit (carbonn)</th>\n",
       "      <th>GDP (carbonn)</th>\n",
       "      <th>GDP year (carbonn)</th>\n",
       "      <th>lat (carbonn)</th>\n",
       "      <th>lon (carbonn)</th>\n",
       "      <th>nGDP (carbonn)</th>\n",
       "      <th>pop (carbonn)</th>\n",
       "      <th>pop_yr (carbonn)</th>\n",
       "      <th>region</th>\n",
       "      <th>scope fraction (CDP)</th>\n",
       "    </tr>\n",
       "  </thead>\n",
       "  <tbody>\n",
       "    <tr>\n",
       "      <th>0</th>\n",
       "      <td>Aarhus</td>\n",
       "      <td>NaN</td>\n",
       "      <td>NaN</td>\n",
       "      <td>Administrative boundary of a local government</td>\n",
       "      <td>NaN</td>\n",
       "      <td>NaN</td>\n",
       "      <td>0.017031</td>\n",
       "      <td>0.010683</td>\n",
       "      <td>NaN</td>\n",
       "      <td>NaN</td>\n",
       "      <td>...</td>\n",
       "      <td>NaN</td>\n",
       "      <td>NaN</td>\n",
       "      <td>NaN</td>\n",
       "      <td>NaN</td>\n",
       "      <td>NaN</td>\n",
       "      <td>NaN</td>\n",
       "      <td>NaN</td>\n",
       "      <td>NaN</td>\n",
       "      <td>Europe</td>\n",
       "      <td>NaN</td>\n",
       "    </tr>\n",
       "    <tr>\n",
       "      <th>1</th>\n",
       "      <td>Abington</td>\n",
       "      <td>86.0</td>\n",
       "      <td>13.6</td>\n",
       "      <td>Other: Municipal boundary</td>\n",
       "      <td>NaN</td>\n",
       "      <td>NaN</td>\n",
       "      <td>0.036729</td>\n",
       "      <td>0.017699</td>\n",
       "      <td>NaN</td>\n",
       "      <td>NaN</td>\n",
       "      <td>...</td>\n",
       "      <td>NaN</td>\n",
       "      <td>NaN</td>\n",
       "      <td>NaN</td>\n",
       "      <td>NaN</td>\n",
       "      <td>NaN</td>\n",
       "      <td>NaN</td>\n",
       "      <td>NaN</td>\n",
       "      <td>NaN</td>\n",
       "      <td>North America</td>\n",
       "      <td>1.0</td>\n",
       "    </tr>\n",
       "  </tbody>\n",
       "</table>\n",
       "<p>2 rows × 59 columns</p>\n",
       "</div>"
      ],
      "text/plain": [
       "  city name  Average altitude (m)  \\\n",
       "0  Aarhus   NaN                     \n",
       "1  Abington  86.0                   \n",
       "\n",
       "   Average annual temperature (in Celsius) (CDP)  \\\n",
       "0 NaN                                              \n",
       "1  13.6                                            \n",
       "\n",
       "                                  Boundary (CDP)  Built-up Area (km2) (PKU)  \\\n",
       "0  Administrative boundary of a local government NaN                          \n",
       "1  Other: Municipal boundary                     NaN                          \n",
       "\n",
       "  CDP2016 data edited (CDP)  CH4_(waste+natgas)/person  CH4_waste/person  \\\n",
       "0  NaN                       0.017031                   0.010683           \n",
       "1  NaN                       0.036729                   0.017699           \n",
       "\n",
       "   CO2 Emissions Per Capita (Ton) (PKU)  City GDP (CDP)         ...           \\\n",
       "0 NaN                                   NaN                     ...            \n",
       "1 NaN                                   NaN                     ...            \n",
       "\n",
       "  GDP unit (carbonn) GDP (carbonn)  GDP year (carbonn)  lat (carbonn)  \\\n",
       "0  NaN               NaN           NaN                 NaN              \n",
       "1  NaN               NaN           NaN                 NaN              \n",
       "\n",
       "  lon (carbonn) nGDP (carbonn)  pop (carbonn)  pop_yr (carbonn)  \\\n",
       "0 NaN           NaN            NaN            NaN                 \n",
       "1 NaN           NaN            NaN            NaN                 \n",
       "\n",
       "          region scope fraction (CDP)  \n",
       "0  Europe        NaN                   \n",
       "1  North America  1.0                  \n",
       "\n",
       "[2 rows x 59 columns]"
      ]
     },
     "execution_count": 18,
     "metadata": {},
     "output_type": "execute_result"
    }
   ],
   "source": [
    "df_emissions.drop('Unnamed: 0', 1, inplace=True)\n",
    "\n",
    "print df_emissions.shape\n",
    "df_emissions.head(2)"
   ]
  },
  {
   "cell_type": "markdown",
   "metadata": {},
   "source": [
    "## Ancillary datatsets"
   ]
  },
  {
   "cell_type": "markdown",
   "metadata": {},
   "source": [
    "### Read datatset from Creutzig et al."
   ]
  },
  {
   "cell_type": "code",
   "execution_count": 19,
   "metadata": {},
   "outputs": [
    {
     "name": "stdout",
     "output_type": "stream",
     "text": [
      "(273, 41)\n"
     ]
    },
    {
     "data": {
      "text/html": [
       "<div>\n",
       "<style scoped>\n",
       "    .dataframe tbody tr th:only-of-type {\n",
       "        vertical-align: middle;\n",
       "    }\n",
       "\n",
       "    .dataframe tbody tr th {\n",
       "        vertical-align: top;\n",
       "    }\n",
       "\n",
       "    .dataframe thead th {\n",
       "        text-align: right;\n",
       "    }\n",
       "</style>\n",
       "<table border=\"1\" class=\"dataframe\">\n",
       "  <thead>\n",
       "    <tr style=\"text-align: right;\">\n",
       "      <th></th>\n",
       "      <th>city name</th>\n",
       "      <th>full city name (GEA)</th>\n",
       "      <th>full city name (UITP)</th>\n",
       "      <th>full city name (WB)</th>\n",
       "      <th>definition  (WB)</th>\n",
       "      <th>study_year (WB)</th>\n",
       "      <th>country</th>\n",
       "      <th>population (GEA)</th>\n",
       "      <th>population (UITP)</th>\n",
       "      <th>population (WB)</th>\n",
       "      <th>...</th>\n",
       "      <th>household_size (GEA+)</th>\n",
       "      <th>year_household_size (GEA+)</th>\n",
       "      <th>household_source (GEA+)</th>\n",
       "      <th>comment_household_size (GEA+)</th>\n",
       "      <th>urbanization_ratio (GEA+)</th>\n",
       "      <th>water_bounded (GEA+)</th>\n",
       "      <th>other_bounded (GEA+)</th>\n",
       "      <th>GDP-PPP/cap (GEA)</th>\n",
       "      <th>GDP-PPP/cap (UITP)</th>\n",
       "      <th>GDP-PPP/cap (WB)</th>\n",
       "    </tr>\n",
       "  </thead>\n",
       "  <tbody>\n",
       "    <tr>\n",
       "      <th>0</th>\n",
       "      <td>Ahmedabad</td>\n",
       "      <td>Ahmadabad</td>\n",
       "      <td>NaN</td>\n",
       "      <td>NaN</td>\n",
       "      <td>NaN</td>\n",
       "      <td>NaN</td>\n",
       "      <td>India</td>\n",
       "      <td>4900000.0</td>\n",
       "      <td>NaN</td>\n",
       "      <td>NaN</td>\n",
       "      <td>...</td>\n",
       "      <td>4.80</td>\n",
       "      <td>2011.0</td>\n",
       "      <td>Household: http://www.censusindia.gov.in/2011census/hlo/District_Tables/Distt_table/24/HH1604-2400CRCD.pdf -- Population: http://www.censusindia.gov.in/2011-prov-results/prov_data_products_gujarat.html</td>\n",
       "      <td>Calculation: pop/household (7208200/1494656)</td>\n",
       "      <td>29.235</td>\n",
       "      <td>0.0</td>\n",
       "      <td>River</td>\n",
       "      <td>6247.853521</td>\n",
       "      <td>NaN</td>\n",
       "      <td>NaN</td>\n",
       "    </tr>\n",
       "    <tr>\n",
       "      <th>1</th>\n",
       "      <td>Amsterdam</td>\n",
       "      <td>Amsterdam</td>\n",
       "      <td>Amsterdam</td>\n",
       "      <td>NaN</td>\n",
       "      <td>NaN</td>\n",
       "      <td>NaN</td>\n",
       "      <td>Netherlands</td>\n",
       "      <td>743000.0</td>\n",
       "      <td>831499.0</td>\n",
       "      <td>NaN</td>\n",
       "      <td>...</td>\n",
       "      <td>1.82</td>\n",
       "      <td>2004.0</td>\n",
       "      <td>http://www.urbanaudit.org</td>\n",
       "      <td>-999</td>\n",
       "      <td>80.172</td>\n",
       "      <td>1.0</td>\n",
       "      <td>-999</td>\n",
       "      <td>41069.368118</td>\n",
       "      <td>28321.84</td>\n",
       "      <td>NaN</td>\n",
       "    </tr>\n",
       "  </tbody>\n",
       "</table>\n",
       "<p>2 rows × 41 columns</p>\n",
       "</div>"
      ],
      "text/plain": [
       "   city name full city name (GEA) full city name (UITP) full city name (WB)  \\\n",
       "0  Ahmedabad  Ahmadabad            NaN                   NaN                  \n",
       "1  Amsterdam  Amsterdam            Amsterdam             NaN                  \n",
       "\n",
       "  definition  (WB)  study_year (WB)      country  population (GEA)  \\\n",
       "0  NaN             NaN               India        4900000.0          \n",
       "1  NaN             NaN               Netherlands  743000.0           \n",
       "\n",
       "   population (UITP)  population (WB)        ...         \\\n",
       "0 NaN                NaN                     ...          \n",
       "1  831499.0          NaN                     ...          \n",
       "\n",
       "   household_size (GEA+)  year_household_size (GEA+)  \\\n",
       "0  4.80                   2011.0                       \n",
       "1  1.82                   2004.0                       \n",
       "\n",
       "                                                                                                                                                                                     household_source (GEA+)  \\\n",
       "0  Household: http://www.censusindia.gov.in/2011census/hlo/District_Tables/Distt_table/24/HH1604-2400CRCD.pdf -- Population: http://www.censusindia.gov.in/2011-prov-results/prov_data_products_gujarat.html   \n",
       "1  http://www.urbanaudit.org                                                                                                                                                                                   \n",
       "\n",
       "                  comment_household_size (GEA+)  urbanization_ratio (GEA+)  \\\n",
       "0  Calculation: pop/household (7208200/1494656)  29.235                      \n",
       "1  -999                                          80.172                      \n",
       "\n",
       "   water_bounded (GEA+)  other_bounded (GEA+)  GDP-PPP/cap (GEA)  \\\n",
       "0  0.0                   River                 6247.853521         \n",
       "1  1.0                   -999                  41069.368118        \n",
       "\n",
       "   GDP-PPP/cap (UITP)  GDP-PPP/cap (WB)  \n",
       "0 NaN                 NaN                \n",
       "1  28321.84           NaN                \n",
       "\n",
       "[2 rows x 41 columns]"
      ]
     },
     "execution_count": 19,
     "metadata": {},
     "output_type": "execute_result"
    }
   ],
   "source": [
    "#273 cities in GEA+\n",
    "f_creutzig = 'DATA/ORIGINAL_ANCILLARY_SOURCEFILES/merge_gea_uitp_wb_pruned.tsv'\n",
    "\n",
    "df_creutzig = pd.read_csv(f_creutzig, sep='\\t', encoding = 'utf-8')\n",
    "\n",
    "df_creutzig.drop('Unnamed: 0', axis=1, inplace=True)\n",
    "\n",
    "print df_creutzig.shape\n",
    "df_creutzig.head(2)"
   ]
  },
  {
   "cell_type": "code",
   "execution_count": 20,
   "metadata": {},
   "outputs": [],
   "source": [
    "df_creutzig.drop('country', 1, inplace=True)"
   ]
  },
  {
   "cell_type": "code",
   "execution_count": null,
   "metadata": {},
   "outputs": [],
   "source": []
  },
  {
   "cell_type": "markdown",
   "metadata": {},
   "source": [
    "### Read ancillary data retrieved manually from external sources"
   ]
  },
  {
   "cell_type": "code",
   "execution_count": 21,
   "metadata": {},
   "outputs": [],
   "source": [
    "fname = 'DATA/ORIGINAL_ANCILLARY_SOURCEFILES/merge_gea_uitp_wb_cdp2016_cdp_only_toFill.xlsx'\n",
    "\n",
    "#worksheet with manually-added columns.\n",
    "f_filled = 'with manual edits'"
   ]
  },
  {
   "cell_type": "code",
   "execution_count": 22,
   "metadata": {},
   "outputs": [],
   "source": [
    "df_filledCreutzig = pd.read_excel(open(fname,'rb'), sheetname=f_filled, encoding = 'utf-8')"
   ]
  },
  {
   "cell_type": "code",
   "execution_count": 23,
   "metadata": {},
   "outputs": [],
   "source": [
    "#Keep only the new columns that need to be added to df_primary\n",
    "df_filledCreutzig.drop(u'Account Number (CDP)', 1, inplace=True)\n",
    "df_filledCreutzig.drop(u'area_size (GEA)', 1, inplace=True)\n",
    "df_filledCreutzig.drop(u'definition  (WB)', 1, inplace=True)\n",
    "df_filledCreutzig.drop(u'diesel_price (GEA)', 1, inplace=True)\n",
    "df_filledCreutzig.drop(u'gasoline_price (GEA)', 1, inplace=True)\n",
    "\n",
    "#Not consistently collected\n",
    "df_filledCreutzig.drop(u'pop (others) access date', 1, inplace=True)\n",
    "df_filledCreutzig.drop(u'area (others) access date', 1, inplace=True)\n",
    "df_filledCreutzig.drop(u'travel time access date', 1, inplace=True)\n",
    "\n",
    "#Not used\n",
    "df_filledCreutzig.drop('pop density (computed)', 1, inplace=True)"
   ]
  },
  {
   "cell_type": "code",
   "execution_count": 24,
   "metadata": {},
   "outputs": [
    {
     "name": "stdout",
     "output_type": "stream",
     "text": [
      "19\n"
     ]
    }
   ],
   "source": [
    "#Replace -999 with nan\n",
    "attr='household_size (updated)'\n",
    "print df_filledCreutzig.loc[df_filledCreutzig[attr] < 0, attr].count()\n",
    "\n",
    "df_filledCreutzig.loc[df_filledCreutzig[attr] < 0, attr] = np.nan"
   ]
  },
  {
   "cell_type": "code",
   "execution_count": 25,
   "metadata": {},
   "outputs": [
    {
     "name": "stdout",
     "output_type": "stream",
     "text": [
      "19\n"
     ]
    }
   ],
   "source": [
    "#Replace -999 with nan\n",
    "attr='year_household_size (updated)'\n",
    "print df_filledCreutzig.loc[df_filledCreutzig[attr] < 0, attr].count()\n",
    "\n",
    "df_filledCreutzig.loc[df_filledCreutzig[attr] < 0, attr] = np.nan"
   ]
  },
  {
   "cell_type": "code",
   "execution_count": null,
   "metadata": {},
   "outputs": [],
   "source": []
  },
  {
   "cell_type": "code",
   "execution_count": 26,
   "metadata": {},
   "outputs": [],
   "source": [
    "#Tag columns with ('others') tag\n",
    "cname = u'mean travel time [min]'\n",
    "df_filledCreutzig.rename(columns = {cname:cname + ' (others)'}, inplace = True)\n",
    "\n",
    "cname = u'mean travel time ref year'\n",
    "df_filledCreutzig.rename(columns = {cname:cname + ' (others)'}, inplace = True)\n",
    "\n",
    "cname = u'mean travel time ref'\n",
    "df_filledCreutzig.rename(columns = {cname:cname + ' (others)'}, inplace = True)\n",
    "\n",
    "cname = u'diesel_price (2014)'\n",
    "df_filledCreutzig.rename(columns = {cname:cname + ' (others)'}, inplace = True)\n",
    "\n",
    "cname = u'gasoline_price (2014)'\n",
    "df_filledCreutzig.rename(columns = {cname:cname + ' (others)'}, inplace = True)\n",
    "\n",
    "cname = u'household_size (updated)'\n",
    "df_filledCreutzig.rename(columns = {cname:cname + ' (others)'}, inplace = True)\n",
    "\n",
    "cname = u'year_household_size (updated)'\n",
    "df_filledCreutzig.rename(columns = {cname:cname + ' (others)'}, inplace = True)\n",
    "\n",
    "cname = u'household_source (updated)'\n",
    "df_filledCreutzig.rename(columns = {cname:cname + ' (others)'}, inplace = True)\n",
    "\n",
    "cname = u'comment_household_size (updated)'\n",
    "df_filledCreutzig.rename(columns = {cname:cname + ' (others)'}, inplace = True)"
   ]
  },
  {
   "cell_type": "markdown",
   "metadata": {},
   "source": [
    "### Read ancillary fuel data for carbonn and PKU cities"
   ]
  },
  {
   "cell_type": "code",
   "execution_count": 27,
   "metadata": {},
   "outputs": [
    {
     "name": "stdout",
     "output_type": "stream",
     "text": [
      "(156, 5)\n"
     ]
    },
    {
     "data": {
      "text/html": [
       "<div>\n",
       "<style scoped>\n",
       "    .dataframe tbody tr th:only-of-type {\n",
       "        vertical-align: middle;\n",
       "    }\n",
       "\n",
       "    .dataframe tbody tr th {\n",
       "        vertical-align: top;\n",
       "    }\n",
       "\n",
       "    .dataframe thead th {\n",
       "        text-align: right;\n",
       "    }\n",
       "</style>\n",
       "<table border=\"1\" class=\"dataframe\">\n",
       "  <thead>\n",
       "    <tr style=\"text-align: right;\">\n",
       "      <th></th>\n",
       "      <th>city name</th>\n",
       "      <th>country</th>\n",
       "      <th>Scope-1 source dataset</th>\n",
       "      <th>diesel_price (2014) (others)</th>\n",
       "      <th>gasoline_price (2014) (others)</th>\n",
       "    </tr>\n",
       "  </thead>\n",
       "  <tbody>\n",
       "    <tr>\n",
       "      <th>5</th>\n",
       "      <td>Aguascalientes</td>\n",
       "      <td>Mexico</td>\n",
       "      <td>carbonn</td>\n",
       "      <td>102</td>\n",
       "      <td>103</td>\n",
       "    </tr>\n",
       "    <tr>\n",
       "      <th>6</th>\n",
       "      <td>Ahmedabad</td>\n",
       "      <td>India</td>\n",
       "      <td>carbonn</td>\n",
       "      <td>91</td>\n",
       "      <td>110</td>\n",
       "    </tr>\n",
       "    <tr>\n",
       "      <th>12</th>\n",
       "      <td>Anshan</td>\n",
       "      <td>China</td>\n",
       "      <td>PKU</td>\n",
       "      <td>109</td>\n",
       "      <td>117</td>\n",
       "    </tr>\n",
       "    <tr>\n",
       "      <th>13</th>\n",
       "      <td>Anyang</td>\n",
       "      <td>China</td>\n",
       "      <td>PKU</td>\n",
       "      <td>109</td>\n",
       "      <td>117</td>\n",
       "    </tr>\n",
       "    <tr>\n",
       "      <th>20</th>\n",
       "      <td>Balikpapan</td>\n",
       "      <td>Indonesia</td>\n",
       "      <td>carbonn</td>\n",
       "      <td>80</td>\n",
       "      <td>93</td>\n",
       "    </tr>\n",
       "  </tbody>\n",
       "</table>\n",
       "</div>"
      ],
      "text/plain": [
       "         city name    country Scope-1 source dataset  \\\n",
       "5   Aguascalientes  Mexico     carbonn                 \n",
       "6   Ahmedabad       India      carbonn                 \n",
       "12  Anshan          China      PKU                     \n",
       "13  Anyang          China      PKU                     \n",
       "20  Balikpapan      Indonesia  carbonn                 \n",
       "\n",
       "    diesel_price (2014) (others)  gasoline_price (2014) (others)  \n",
       "5   102                           103                             \n",
       "6   91                            110                             \n",
       "12  109                           117                             \n",
       "13  109                           117                             \n",
       "20  80                            93                              "
      ]
     },
     "execution_count": 27,
     "metadata": {},
     "output_type": "execute_result"
    }
   ],
   "source": [
    "fname = 'DATA/ORIGINAL_ANCILLARY_SOURCEFILES/missingFuel_AP.xlsx'\n",
    "\n",
    "#worksheet\n",
    "f_fuel = 'missingFuel'\n",
    "\n",
    "df_fuel = pd.read_excel(open(fname,'rb'), sheetname=f_fuel, encoding = 'utf-8')\n",
    "print df_fuel.shape\n",
    "df_fuel.head(5)"
   ]
  },
  {
   "cell_type": "code",
   "execution_count": 28,
   "metadata": {},
   "outputs": [],
   "source": [
    "df_fuel.drop('country', 1, inplace=True)\n",
    "df_fuel.drop('Scope-1 source dataset', 1, inplace=True)"
   ]
  },
  {
   "cell_type": "code",
   "execution_count": 29,
   "metadata": {},
   "outputs": [
    {
     "data": {
      "text/html": [
       "<div>\n",
       "<style scoped>\n",
       "    .dataframe tbody tr th:only-of-type {\n",
       "        vertical-align: middle;\n",
       "    }\n",
       "\n",
       "    .dataframe tbody tr th {\n",
       "        vertical-align: top;\n",
       "    }\n",
       "\n",
       "    .dataframe thead th {\n",
       "        text-align: right;\n",
       "    }\n",
       "</style>\n",
       "<table border=\"1\" class=\"dataframe\">\n",
       "  <thead>\n",
       "    <tr style=\"text-align: right;\">\n",
       "      <th></th>\n",
       "      <th>city name</th>\n",
       "      <th>diesel_price (2014) (others)</th>\n",
       "      <th>gasoline_price (2014) (others)</th>\n",
       "    </tr>\n",
       "  </thead>\n",
       "  <tbody>\n",
       "    <tr>\n",
       "      <th>5</th>\n",
       "      <td>Aguascalientes</td>\n",
       "      <td>1.02</td>\n",
       "      <td>1.03</td>\n",
       "    </tr>\n",
       "    <tr>\n",
       "      <th>6</th>\n",
       "      <td>Ahmedabad</td>\n",
       "      <td>0.91</td>\n",
       "      <td>1.10</td>\n",
       "    </tr>\n",
       "    <tr>\n",
       "      <th>12</th>\n",
       "      <td>Anshan</td>\n",
       "      <td>1.09</td>\n",
       "      <td>1.17</td>\n",
       "    </tr>\n",
       "    <tr>\n",
       "      <th>13</th>\n",
       "      <td>Anyang</td>\n",
       "      <td>1.09</td>\n",
       "      <td>1.17</td>\n",
       "    </tr>\n",
       "    <tr>\n",
       "      <th>20</th>\n",
       "      <td>Balikpapan</td>\n",
       "      <td>0.80</td>\n",
       "      <td>0.93</td>\n",
       "    </tr>\n",
       "  </tbody>\n",
       "</table>\n",
       "</div>"
      ],
      "text/plain": [
       "         city name  diesel_price (2014) (others)  \\\n",
       "5   Aguascalientes  1.02                           \n",
       "6   Ahmedabad       0.91                           \n",
       "12  Anshan          1.09                           \n",
       "13  Anyang          1.09                           \n",
       "20  Balikpapan      0.80                           \n",
       "\n",
       "    gasoline_price (2014) (others)  \n",
       "5   1.03                            \n",
       "6   1.10                            \n",
       "12  1.17                            \n",
       "13  1.17                            \n",
       "20  0.93                            "
      ]
     },
     "execution_count": 29,
     "metadata": {},
     "output_type": "execute_result"
    }
   ],
   "source": [
    "#Convert cents to USD\n",
    "df_fuel['diesel_price (2014) (others)'] = df_fuel['diesel_price (2014) (others)']/100\n",
    "df_fuel['gasoline_price (2014) (others)'] = df_fuel['gasoline_price (2014) (others)']/100\n",
    "\n",
    "df_fuel.head(5)"
   ]
  },
  {
   "cell_type": "markdown",
   "metadata": {},
   "source": [
    "### Read GDP ancillary data for CDP retrieved manually from external sources"
   ]
  },
  {
   "cell_type": "code",
   "execution_count": 30,
   "metadata": {},
   "outputs": [
    {
     "name": "stdout",
     "output_type": "stream",
     "text": [
      "(187, 9)\n"
     ]
    },
    {
     "data": {
      "text/html": [
       "<div>\n",
       "<style scoped>\n",
       "    .dataframe tbody tr th:only-of-type {\n",
       "        vertical-align: middle;\n",
       "    }\n",
       "\n",
       "    .dataframe tbody tr th {\n",
       "        vertical-align: top;\n",
       "    }\n",
       "\n",
       "    .dataframe thead th {\n",
       "        text-align: right;\n",
       "    }\n",
       "</style>\n",
       "<table border=\"1\" class=\"dataframe\">\n",
       "  <thead>\n",
       "    <tr style=\"text-align: right;\">\n",
       "      <th></th>\n",
       "      <th>city name</th>\n",
       "      <th>GDP-PPP [$BN] (others)</th>\n",
       "      <th>GDP-PPP/cap [$USD] (others)</th>\n",
       "      <th>GDP-PPP [$BN] (others) source</th>\n",
       "      <th>GDP-PPP year (others)</th>\n",
       "      <th>nGDP [$BN] (others)</th>\n",
       "      <th>nGDP/cap [$USD] (others)</th>\n",
       "      <th>nGDP [$BN] (others) source</th>\n",
       "      <th>nGDP [$BN] (others) source year</th>\n",
       "    </tr>\n",
       "  </thead>\n",
       "  <tbody>\n",
       "    <tr>\n",
       "      <th>0</th>\n",
       "      <td>Aarhus</td>\n",
       "      <td>NaN</td>\n",
       "      <td>NaN</td>\n",
       "      <td>NaN</td>\n",
       "      <td>2008</td>\n",
       "      <td>NaN</td>\n",
       "      <td>NaN</td>\n",
       "      <td>NaN</td>\n",
       "      <td>NaN</td>\n",
       "    </tr>\n",
       "    <tr>\n",
       "      <th>1</th>\n",
       "      <td>Abington</td>\n",
       "      <td>NaN</td>\n",
       "      <td>NaN</td>\n",
       "      <td>NaN</td>\n",
       "      <td>2008</td>\n",
       "      <td>NaN</td>\n",
       "      <td>NaN</td>\n",
       "      <td>[20] Economic growth widespread across metropolitan areas in 2014. GDP by metropolitan area statistics. Available at https://bea.gov/newsreleases/regional/gdp_metro/2015/pdf/gdp_metro0915.pdf</td>\n",
       "      <td>NaN</td>\n",
       "    </tr>\n",
       "  </tbody>\n",
       "</table>\n",
       "</div>"
      ],
      "text/plain": [
       "  city name  GDP-PPP [$BN] (others)  GDP-PPP/cap [$USD] (others)  \\\n",
       "0  Aarhus   NaN                     NaN                            \n",
       "1  Abington NaN                     NaN                            \n",
       "\n",
       "  GDP-PPP [$BN] (others) source  GDP-PPP year (others)  nGDP [$BN] (others)  \\\n",
       "0  NaN                           2008                  NaN                    \n",
       "1  NaN                           2008                  NaN                    \n",
       "\n",
       "   nGDP/cap [$USD] (others)  \\\n",
       "0 NaN                         \n",
       "1 NaN                         \n",
       "\n",
       "                                                                                                                                                                        nGDP [$BN] (others) source  \\\n",
       "0  NaN                                                                                                                                                                                               \n",
       "1  [20] Economic growth widespread across metropolitan areas in 2014. GDP by metropolitan area statistics. Available at https://bea.gov/newsreleases/regional/gdp_metro/2015/pdf/gdp_metro0915.pdf   \n",
       "\n",
       "   nGDP [$BN] (others) source year  \n",
       "0 NaN                               \n",
       "1 NaN                               "
      ]
     },
     "execution_count": 30,
     "metadata": {},
     "output_type": "execute_result"
    }
   ],
   "source": [
    "#External GDP for CDP cities\n",
    "f_gdp_cdp = 'DATA/ORIGINAL_ANCILLARY_SOURCEFILES/GDP_all available_24-11-2017_processed.tsv'\n",
    "\n",
    "df_gdp_cdp = pd.read_csv(f_gdp_cdp, sep='\\t', encoding = 'utf-8')\n",
    "\n",
    "df_gdp_cdp.drop('Unnamed: 0', axis=1, inplace=True)\n",
    "\n",
    "print df_gdp_cdp.shape\n",
    "df_gdp_cdp.head(2)"
   ]
  },
  {
   "cell_type": "markdown",
   "metadata": {},
   "source": [
    "### Read ancillary data for carbonn subset\n",
    "Ancillary data to merge: GDP, population, city area, household size.  \n",
    "File is a merge of ancillary data for the 48 hand-selected carbonn + 25 carbonn cities in Creutzig et al."
   ]
  },
  {
   "cell_type": "code",
   "execution_count": 31,
   "metadata": {},
   "outputs": [
    {
     "name": "stdout",
     "output_type": "stream",
     "text": [
      "(73, 18)\n"
     ]
    },
    {
     "data": {
      "text/html": [
       "<div>\n",
       "<style scoped>\n",
       "    .dataframe tbody tr th:only-of-type {\n",
       "        vertical-align: middle;\n",
       "    }\n",
       "\n",
       "    .dataframe tbody tr th {\n",
       "        vertical-align: top;\n",
       "    }\n",
       "\n",
       "    .dataframe thead th {\n",
       "        text-align: right;\n",
       "    }\n",
       "</style>\n",
       "<table border=\"1\" class=\"dataframe\">\n",
       "  <thead>\n",
       "    <tr style=\"text-align: right;\">\n",
       "      <th></th>\n",
       "      <th>city name</th>\n",
       "      <th>population (others)</th>\n",
       "      <th>population (others) source year</th>\n",
       "      <th>population (others) source</th>\n",
       "      <th>area [km2] (others)</th>\n",
       "      <th>area [km2] (others) source year</th>\n",
       "      <th>area [km2] (others) source</th>\n",
       "      <th>GDP-PPP [$BN] (others)</th>\n",
       "      <th>GDP-PPP/cap [$USD] (others)</th>\n",
       "      <th>GDP-PPP [$BN] (others) source</th>\n",
       "      <th>GDP-PPP year (others)</th>\n",
       "      <th>nGDP [$BN] (others)</th>\n",
       "      <th>nGDP/cap [$USD] (others)</th>\n",
       "      <th>nGDP [$BN] (others) source year</th>\n",
       "      <th>nGDP [$BN] (others) source</th>\n",
       "      <th>Household_size</th>\n",
       "      <th>Household_source</th>\n",
       "      <th>Year_Household size</th>\n",
       "    </tr>\n",
       "  </thead>\n",
       "  <tbody>\n",
       "    <tr>\n",
       "      <th>0</th>\n",
       "      <td>Aguascalientes</td>\n",
       "      <td>934424</td>\n",
       "      <td>2012</td>\n",
       "      <td>Wikipedia</td>\n",
       "      <td>385.0</td>\n",
       "      <td>2012</td>\n",
       "      <td>Wikipedia</td>\n",
       "      <td>NaN</td>\n",
       "      <td>NaN</td>\n",
       "      <td>NaN</td>\n",
       "      <td>NaN</td>\n",
       "      <td>NaN</td>\n",
       "      <td>NaN</td>\n",
       "      <td>NaN</td>\n",
       "      <td>NaN</td>\n",
       "      <td>NaN</td>\n",
       "      <td>NaN</td>\n",
       "      <td>NaN</td>\n",
       "    </tr>\n",
       "    <tr>\n",
       "      <th>1</th>\n",
       "      <td>Balikpapan</td>\n",
       "      <td>736806</td>\n",
       "      <td>2015</td>\n",
       "      <td>Wikipedia</td>\n",
       "      <td>503.3</td>\n",
       "      <td>2015</td>\n",
       "      <td>Wikipedia</td>\n",
       "      <td>NaN</td>\n",
       "      <td>NaN</td>\n",
       "      <td>NaN</td>\n",
       "      <td>NaN</td>\n",
       "      <td>7.0</td>\n",
       "      <td>1.254480e+07</td>\n",
       "      <td>NaN</td>\n",
       "      <td>[3], [19]</td>\n",
       "      <td>NaN</td>\n",
       "      <td>NaN</td>\n",
       "      <td>NaN</td>\n",
       "    </tr>\n",
       "  </tbody>\n",
       "</table>\n",
       "</div>"
      ],
      "text/plain": [
       "        city name  population (others)  population (others) source year  \\\n",
       "0  Aguascalientes  934424               2012                              \n",
       "1  Balikpapan      736806               2015                              \n",
       "\n",
       "  population (others) source  area [km2] (others)  \\\n",
       "0  Wikipedia                  385.0                 \n",
       "1  Wikipedia                  503.3                 \n",
       "\n",
       "   area [km2] (others) source year area [km2] (others) source  \\\n",
       "0  2012                             Wikipedia                   \n",
       "1  2015                             Wikipedia                   \n",
       "\n",
       "   GDP-PPP [$BN] (others)  GDP-PPP/cap [$USD] (others)  \\\n",
       "0 NaN                     NaN                            \n",
       "1 NaN                     NaN                            \n",
       "\n",
       "  GDP-PPP [$BN] (others) source  GDP-PPP year (others)  nGDP [$BN] (others)  \\\n",
       "0  NaN                          NaN                    NaN                    \n",
       "1  NaN                          NaN                     7.0                   \n",
       "\n",
       "   nGDP/cap [$USD] (others)  nGDP [$BN] (others) source year  \\\n",
       "0 NaN                       NaN                                \n",
       "1  1.254480e+07             NaN                                \n",
       "\n",
       "  nGDP [$BN] (others) source  Household_size Household_source  \\\n",
       "0  NaN                       NaN              NaN               \n",
       "1  [3], [19]                 NaN              NaN               \n",
       "\n",
       "  Year_Household size  \n",
       "0  NaN                 \n",
       "1  NaN                 "
      ]
     },
     "execution_count": 31,
     "metadata": {},
     "output_type": "execute_result"
    }
   ],
   "source": [
    "#49 new carbonn cities + 25 carbonn cities in Creutzig et al.\n",
    "f_carbonn = 'DATA/ORIGINAL_ANCILLARY_SOURCEFILES/carbonn_ancillary.tsv'\n",
    "\n",
    "df_carbonn = pd.read_csv(f_carbonn, sep='\\t', encoding = 'utf-8')\n",
    "\n",
    "df_carbonn.drop('Unnamed: 0', axis=1, inplace=True)\n",
    "\n",
    "print df_carbonn.shape\n",
    "df_carbonn.head(2)"
   ]
  },
  {
   "cell_type": "code",
   "execution_count": null,
   "metadata": {},
   "outputs": [],
   "source": []
  },
  {
   "cell_type": "markdown",
   "metadata": {},
   "source": [
    "### Read ancillary data collected manually for chinese cities\n",
    "Ancillary data to merge: lat, lon, population + refs, area + refs"
   ]
  },
  {
   "cell_type": "code",
   "execution_count": 32,
   "metadata": {},
   "outputs": [
    {
     "name": "stdout",
     "output_type": "stream",
     "text": [
      "(83, 16)\n"
     ]
    },
    {
     "data": {
      "text/html": [
       "<div>\n",
       "<style scoped>\n",
       "    .dataframe tbody tr th:only-of-type {\n",
       "        vertical-align: middle;\n",
       "    }\n",
       "\n",
       "    .dataframe tbody tr th {\n",
       "        vertical-align: top;\n",
       "    }\n",
       "\n",
       "    .dataframe thead th {\n",
       "        text-align: right;\n",
       "    }\n",
       "</style>\n",
       "<table border=\"1\" class=\"dataframe\">\n",
       "  <thead>\n",
       "    <tr style=\"text-align: right;\">\n",
       "      <th></th>\n",
       "      <th>city name</th>\n",
       "      <th>lat</th>\n",
       "      <th>lon</th>\n",
       "      <th>population (others)</th>\n",
       "      <th>population (others) source year</th>\n",
       "      <th>population (others) source</th>\n",
       "      <th>area [km2] (others)</th>\n",
       "      <th>area [km2] (others) source year</th>\n",
       "      <th>area [km2] (others) source</th>\n",
       "      <th>GDP-PPP [$BN] (others)</th>\n",
       "      <th>GDP-PPP year (others)</th>\n",
       "      <th>GDP-PPP/cap [$USD] (others)</th>\n",
       "      <th>GDP-PPP [$BN] (others) source</th>\n",
       "      <th>nGDP [$BN] (others)</th>\n",
       "      <th>nGDP/cap [$USD] (others)</th>\n",
       "      <th>nGDP [$BN] (others) source</th>\n",
       "    </tr>\n",
       "  </thead>\n",
       "  <tbody>\n",
       "    <tr>\n",
       "      <th>0</th>\n",
       "      <td>Beijing</td>\n",
       "      <td>39.916667</td>\n",
       "      <td>116.383333</td>\n",
       "      <td>18766000</td>\n",
       "      <td>NaN</td>\n",
       "      <td>wikipedia, urban values</td>\n",
       "      <td>1368.0</td>\n",
       "      <td>NaN</td>\n",
       "      <td>(urban), from wikipedia</td>\n",
       "      <td>0.00000</td>\n",
       "      <td>2015</td>\n",
       "      <td>NaN</td>\n",
       "      <td>[21] Redefining Global Cities Report and online dataset 2015. GDP (Millions PPP$). Brookings Institution. Retrieved 26/09/2017 at https://www.brookings.edu/research/redefining-global-cities/#cancel</td>\n",
       "      <td>206.2</td>\n",
       "      <td>10952.355659</td>\n",
       "      <td>[3] The Most Dynamic Cities of 2025. Foreign Policy. Retrieved 24/08/2012. http://foreignpolicy.com/2012/08/07/the-most-dynamic-cities-of-2025/, [19]\\n[19] Global Cities of the Future. Dynamic map. McKinsey&amp;CompacKinsey Global Institute City Scope v2.0 Last updated June 2012. Retrieved 27/09/2017. Available at: http://www.mckinsey.com/tools/Wrappers/Redesign/InteractiveWrapper.aspx?sc_itemid={C84CB74F-A3B1-47B1-8265-6252F6D85B68}</td>\n",
       "    </tr>\n",
       "    <tr>\n",
       "      <th>1</th>\n",
       "      <td>Tianjin</td>\n",
       "      <td>39.133333</td>\n",
       "      <td>117.183333</td>\n",
       "      <td>12784000</td>\n",
       "      <td>NaN</td>\n",
       "      <td>wikipedia, urban values</td>\n",
       "      <td>174.9</td>\n",
       "      <td>NaN</td>\n",
       "      <td>(urban), from wikipedia</td>\n",
       "      <td>0.00364</td>\n",
       "      <td>2014</td>\n",
       "      <td>NaN</td>\n",
       "      <td>[1] Berube A., J. L. Trujillo, T. Ran, J. Parilla (Thursday, January 22, 2015), Brookings/Global Metro Monitor Report. Available online at https://www.brookings.edu/wp-content/uploads/2015/01/bmpp_gmm_final.pdf and the 2014 Global Metro Monitor Map, available at https://www.brookings.edu/research/global-metro-monitor/. The data retrieved 27/09/2017.</td>\n",
       "      <td>128.8</td>\n",
       "      <td>11614.066727</td>\n",
       "      <td>[3], [19]</td>\n",
       "    </tr>\n",
       "  </tbody>\n",
       "</table>\n",
       "</div>"
      ],
      "text/plain": [
       "  city name        lat         lon  population (others)  \\\n",
       "0  Beijing   39.916667  116.383333  18766000              \n",
       "1  Tianjin   39.133333  117.183333  12784000              \n",
       "\n",
       "   population (others) source year population (others) source  \\\n",
       "0 NaN                               wikipedia, urban values     \n",
       "1 NaN                               wikipedia, urban values     \n",
       "\n",
       "   area [km2] (others)  area [km2] (others) source year  \\\n",
       "0  1368.0              NaN                                \n",
       "1  174.9               NaN                                \n",
       "\n",
       "  area [km2] (others) source  GDP-PPP [$BN] (others)  GDP-PPP year (others)  \\\n",
       "0  (urban), from wikipedia    0.00000                 2015                    \n",
       "1  (urban), from wikipedia    0.00364                 2014                    \n",
       "\n",
       "   GDP-PPP/cap [$USD] (others)  \\\n",
       "0 NaN                            \n",
       "1 NaN                            \n",
       "\n",
       "                                                                                                                                                                                                                                                                                                                                     GDP-PPP [$BN] (others) source  \\\n",
       "0  [21] Redefining Global Cities Report and online dataset 2015. GDP (Millions PPP$). Brookings Institution. Retrieved 26/09/2017 at https://www.brookings.edu/research/redefining-global-cities/#cancel                                                                                                                                                             \n",
       "1  [1] Berube A., J. L. Trujillo, T. Ran, J. Parilla (Thursday, January 22, 2015), Brookings/Global Metro Monitor Report. Available online at https://www.brookings.edu/wp-content/uploads/2015/01/bmpp_gmm_final.pdf and the 2014 Global Metro Monitor Map, available at https://www.brookings.edu/research/global-metro-monitor/. The data retrieved 27/09/2017.   \n",
       "\n",
       "   nGDP [$BN] (others)  nGDP/cap [$USD] (others)  \\\n",
       "0  206.2                10952.355659               \n",
       "1  128.8                11614.066727               \n",
       "\n",
       "                                                                                                                                                                                                                                                                                                                                                                                                                          nGDP [$BN] (others) source  \n",
       "0  [3] The Most Dynamic Cities of 2025. Foreign Policy. Retrieved 24/08/2012. http://foreignpolicy.com/2012/08/07/the-most-dynamic-cities-of-2025/, [19]\\n[19] Global Cities of the Future. Dynamic map. McKinsey&CompacKinsey Global Institute City Scope v2.0 Last updated June 2012. Retrieved 27/09/2017. Available at: http://www.mckinsey.com/tools/Wrappers/Redesign/InteractiveWrapper.aspx?sc_itemid={C84CB74F-A3B1-47B1-8265-6252F6D85B68}  \n",
       "1  [3], [19]                                                                                                                                                                                                                                                                                                                                                                                                                                          "
      ]
     },
     "execution_count": 32,
     "metadata": {},
     "output_type": "execute_result"
    }
   ],
   "source": [
    "#25 carbonn cities that overlap with Creutzig et al.\n",
    "f_china_ancillary = 'DATA/ORIGINAL_ANCILLARY_SOURCEFILES/china_ancillary.tsv'\n",
    "\n",
    "df_china_ancillary = pd.read_csv(f_china_ancillary, sep='\\t', encoding = 'utf-8')\n",
    "\n",
    "df_china_ancillary.drop('Unnamed: 0', axis=1, inplace=True)\n",
    "\n",
    "print df_china_ancillary.shape\n",
    "df_china_ancillary.head(2)"
   ]
  },
  {
   "cell_type": "code",
   "execution_count": 33,
   "metadata": {},
   "outputs": [],
   "source": [
    "df_china_ancillary.rename(columns = {'lat': 'lat (PKU)'}, inplace = True)\n",
    "df_china_ancillary.rename(columns = {'lon': 'lon (PKU)'}, inplace = True)"
   ]
  },
  {
   "cell_type": "markdown",
   "metadata": {},
   "source": [
    "### Read ancillary data for Japanese cities\n",
    "Ancillary data to merge: area, population, GDP (unit million USD), diesel & gasoline price, % population growth rate as measured between 2010-2015, altitude (m), avg household size, mean travel time to work (min), HDD 25C/CDD 0C for 2017."
   ]
  },
  {
   "cell_type": "code",
   "execution_count": 34,
   "metadata": {},
   "outputs": [
    {
     "name": "stdout",
     "output_type": "stream",
     "text": [
      "(7, 18)\n"
     ]
    },
    {
     "data": {
      "text/html": [
       "<div>\n",
       "<style scoped>\n",
       "    .dataframe tbody tr th:only-of-type {\n",
       "        vertical-align: middle;\n",
       "    }\n",
       "\n",
       "    .dataframe tbody tr th {\n",
       "        vertical-align: top;\n",
       "    }\n",
       "\n",
       "    .dataframe thead th {\n",
       "        text-align: right;\n",
       "    }\n",
       "</style>\n",
       "<table border=\"1\" class=\"dataframe\">\n",
       "  <thead>\n",
       "    <tr style=\"text-align: right;\">\n",
       "      <th></th>\n",
       "      <th>city name</th>\n",
       "      <th>area [km2] (others)</th>\n",
       "      <th>population (others)</th>\n",
       "      <th>Average altitude (m)</th>\n",
       "      <th>household_size (updated) (others)</th>\n",
       "      <th>mean travel time [min] (others)</th>\n",
       "      <th>GDP [$BN]</th>\n",
       "      <th>Scope 1 [tCO2]</th>\n",
       "      <th>area [km2] (others) source year</th>\n",
       "      <th>area [km2] (others) source</th>\n",
       "      <th>population (others) source year</th>\n",
       "      <th>population (others) source</th>\n",
       "      <th>year_household_size (updated) (others)</th>\n",
       "      <th>household_source (updated) (others)</th>\n",
       "      <th>mean travel time ref year (others)</th>\n",
       "      <th>mean travel time ref (others)</th>\n",
       "      <th>GDP source</th>\n",
       "      <th>GDP source year</th>\n",
       "    </tr>\n",
       "  </thead>\n",
       "  <tbody>\n",
       "    <tr>\n",
       "      <th>0</th>\n",
       "      <td>Hiroshima</td>\n",
       "      <td>906.53</td>\n",
       "      <td>1154391</td>\n",
       "      <td>165.6</td>\n",
       "      <td>2.25</td>\n",
       "      <td>27.9</td>\n",
       "      <td>46.47573</td>\n",
       "      <td>5866540.52</td>\n",
       "      <td>2016</td>\n",
       "      <td>Planimetric reports on the land area of Japan, http://www.gsi.go.jp/kokusaikoryu/kokusaikoryu-e31006.html</td>\n",
       "      <td>2015</td>\n",
       "      <td>National Population Census, http://www.stat.go.jp/english/data/kokusei/index.html</td>\n",
       "      <td>2015</td>\n",
       "      <td>National Population Census, http://www.stat.go.jp/english/data/kokusei/index.html</td>\n",
       "      <td>2013</td>\n",
       "      <td>Housing and Land Survey, http://www.stat.go.jp/english/data/jyutaku/index.html</td>\n",
       "      <td>National Accounts of Japan, http://www.esri.cao.go.jp/en/sna/menu.html</td>\n",
       "      <td>2014</td>\n",
       "    </tr>\n",
       "    <tr>\n",
       "      <th>1</th>\n",
       "      <td>Kyoto</td>\n",
       "      <td>827.83</td>\n",
       "      <td>1474811</td>\n",
       "      <td>179.7</td>\n",
       "      <td>2.09</td>\n",
       "      <td>28.6</td>\n",
       "      <td>56.49646</td>\n",
       "      <td>6465840.87</td>\n",
       "      <td>2016</td>\n",
       "      <td>Planimetric reports on the land area of Japan, http://www.gsi.go.jp/kokusaikoryu/kokusaikoryu-e31006.html</td>\n",
       "      <td>2015</td>\n",
       "      <td>National Population Census, http://www.stat.go.jp/english/data/kokusei/index.html</td>\n",
       "      <td>2015</td>\n",
       "      <td>National Population Census, http://www.stat.go.jp/english/data/kokusei/index.html</td>\n",
       "      <td>2013</td>\n",
       "      <td>Housing and Land Survey, http://www.stat.go.jp/english/data/jyutaku/index.html</td>\n",
       "      <td>National Accounts of Japan, http://www.esri.cao.go.jp/en/sna/menu.html</td>\n",
       "      <td>2014</td>\n",
       "    </tr>\n",
       "    <tr>\n",
       "      <th>2</th>\n",
       "      <td>Nagoya</td>\n",
       "      <td>326.45</td>\n",
       "      <td>2215062</td>\n",
       "      <td>18.3</td>\n",
       "      <td>2.17</td>\n",
       "      <td>30.7</td>\n",
       "      <td>115.81709</td>\n",
       "      <td>13844208.98</td>\n",
       "      <td>2016</td>\n",
       "      <td>Planimetric reports on the land area of Japan, http://www.gsi.go.jp/kokusaikoryu/kokusaikoryu-e31006.html</td>\n",
       "      <td>2015</td>\n",
       "      <td>National Population Census, http://www.stat.go.jp/english/data/kokusei/index.html</td>\n",
       "      <td>2015</td>\n",
       "      <td>National Population Census, http://www.stat.go.jp/english/data/kokusei/index.html</td>\n",
       "      <td>2013</td>\n",
       "      <td>Housing and Land Survey, http://www.stat.go.jp/english/data/jyutaku/index.html</td>\n",
       "      <td>National Accounts of Japan, http://www.esri.cao.go.jp/en/sna/menu.html</td>\n",
       "      <td>2014</td>\n",
       "    </tr>\n",
       "    <tr>\n",
       "      <th>3</th>\n",
       "      <td>Sapporo</td>\n",
       "      <td>1121.26</td>\n",
       "      <td>1880863</td>\n",
       "      <td>70.2</td>\n",
       "      <td>2.12</td>\n",
       "      <td>28.0</td>\n",
       "      <td>60.01644</td>\n",
       "      <td>9892811.22</td>\n",
       "      <td>2016</td>\n",
       "      <td>Planimetric reports on the land area of Japan, http://www.gsi.go.jp/kokusaikoryu/kokusaikoryu-e31006.html</td>\n",
       "      <td>2015</td>\n",
       "      <td>National Population Census, http://www.stat.go.jp/english/data/kokusei/index.html</td>\n",
       "      <td>2015</td>\n",
       "      <td>National Population Census, http://www.stat.go.jp/english/data/kokusei/index.html</td>\n",
       "      <td>2013</td>\n",
       "      <td>Housing and Land Survey, http://www.stat.go.jp/english/data/jyutaku/index.html</td>\n",
       "      <td>National Accounts of Japan, http://www.esri.cao.go.jp/en/sna/menu.html</td>\n",
       "      <td>2014</td>\n",
       "    </tr>\n",
       "    <tr>\n",
       "      <th>4</th>\n",
       "      <td>Tokyo</td>\n",
       "      <td>2190.93</td>\n",
       "      <td>12576611</td>\n",
       "      <td>43.0</td>\n",
       "      <td>2.02</td>\n",
       "      <td>43.8</td>\n",
       "      <td>938.04581</td>\n",
       "      <td>71096920.30</td>\n",
       "      <td>2016</td>\n",
       "      <td>Planimetric reports on the land area of Japan, http://www.gsi.go.jp/kokusaikoryu/kokusaikoryu-e31006.html</td>\n",
       "      <td>2015</td>\n",
       "      <td>National Population Census, http://www.stat.go.jp/english/data/kokusei/index.html</td>\n",
       "      <td>2015</td>\n",
       "      <td>National Population Census, http://www.stat.go.jp/english/data/kokusei/index.html</td>\n",
       "      <td>2013</td>\n",
       "      <td>Housing and Land Survey, http://www.stat.go.jp/english/data/jyutaku/index.html</td>\n",
       "      <td>National Accounts of Japan, http://www.esri.cao.go.jp/en/sna/menu.html</td>\n",
       "      <td>2014</td>\n",
       "    </tr>\n",
       "    <tr>\n",
       "      <th>5</th>\n",
       "      <td>Yokohama</td>\n",
       "      <td>437.49</td>\n",
       "      <td>3579628</td>\n",
       "      <td>37.1</td>\n",
       "      <td>2.26</td>\n",
       "      <td>51.5</td>\n",
       "      <td>113.12382</td>\n",
       "      <td>17869514.08</td>\n",
       "      <td>2016</td>\n",
       "      <td>Planimetric reports on the land area of Japan, http://www.gsi.go.jp/kokusaikoryu/kokusaikoryu-e31006.html</td>\n",
       "      <td>2015</td>\n",
       "      <td>National Population Census, http://www.stat.go.jp/english/data/kokusei/index.html</td>\n",
       "      <td>2015</td>\n",
       "      <td>National Population Census, http://www.stat.go.jp/english/data/kokusei/index.html</td>\n",
       "      <td>2013</td>\n",
       "      <td>Housing and Land Survey, http://www.stat.go.jp/english/data/jyutaku/index.html</td>\n",
       "      <td>National Accounts of Japan, http://www.esri.cao.go.jp/en/sna/menu.html</td>\n",
       "      <td>2014</td>\n",
       "    </tr>\n",
       "    <tr>\n",
       "      <th>6</th>\n",
       "      <td>Sendai</td>\n",
       "      <td>786.30</td>\n",
       "      <td>1025126</td>\n",
       "      <td>105.5</td>\n",
       "      <td>2.18</td>\n",
       "      <td>28.5</td>\n",
       "      <td>45.30468</td>\n",
       "      <td>7082098.37</td>\n",
       "      <td>2016</td>\n",
       "      <td>Planimetric reports on the land area of Japan, http://www.gsi.go.jp/kokusaikoryu/kokusaikoryu-e31006.html</td>\n",
       "      <td>2015</td>\n",
       "      <td>National Population Census, http://www.stat.go.jp/english/data/kokusei/index.html</td>\n",
       "      <td>2015</td>\n",
       "      <td>National Population Census, http://www.stat.go.jp/english/data/kokusei/index.html</td>\n",
       "      <td>2013</td>\n",
       "      <td>Housing and Land Survey, http://www.stat.go.jp/english/data/jyutaku/index.html</td>\n",
       "      <td>National Accounts of Japan, http://www.esri.cao.go.jp/en/sna/menu.html</td>\n",
       "      <td>2014</td>\n",
       "    </tr>\n",
       "  </tbody>\n",
       "</table>\n",
       "</div>"
      ],
      "text/plain": [
       "   city name  area [km2] (others)  population (others)  Average altitude (m)  \\\n",
       "0  Hiroshima  906.53               1154391              165.6                  \n",
       "1  Kyoto      827.83               1474811              179.7                  \n",
       "2  Nagoya     326.45               2215062              18.3                   \n",
       "3  Sapporo    1121.26              1880863              70.2                   \n",
       "4  Tokyo      2190.93              12576611             43.0                   \n",
       "5  Yokohama   437.49               3579628              37.1                   \n",
       "6  Sendai     786.30               1025126              105.5                  \n",
       "\n",
       "   household_size (updated) (others)  mean travel time [min] (others)  \\\n",
       "0  2.25                               27.9                              \n",
       "1  2.09                               28.6                              \n",
       "2  2.17                               30.7                              \n",
       "3  2.12                               28.0                              \n",
       "4  2.02                               43.8                              \n",
       "5  2.26                               51.5                              \n",
       "6  2.18                               28.5                              \n",
       "\n",
       "   GDP [$BN]  Scope 1 [tCO2]  area [km2] (others) source year  \\\n",
       "0  46.47573   5866540.52      2016                              \n",
       "1  56.49646   6465840.87      2016                              \n",
       "2  115.81709  13844208.98     2016                              \n",
       "3  60.01644   9892811.22      2016                              \n",
       "4  938.04581  71096920.30     2016                              \n",
       "5  113.12382  17869514.08     2016                              \n",
       "6  45.30468   7082098.37      2016                              \n",
       "\n",
       "                                                                                  area [km2] (others) source  \\\n",
       "0  Planimetric reports on the land area of Japan, http://www.gsi.go.jp/kokusaikoryu/kokusaikoryu-e31006.html   \n",
       "1  Planimetric reports on the land area of Japan, http://www.gsi.go.jp/kokusaikoryu/kokusaikoryu-e31006.html   \n",
       "2  Planimetric reports on the land area of Japan, http://www.gsi.go.jp/kokusaikoryu/kokusaikoryu-e31006.html   \n",
       "3  Planimetric reports on the land area of Japan, http://www.gsi.go.jp/kokusaikoryu/kokusaikoryu-e31006.html   \n",
       "4  Planimetric reports on the land area of Japan, http://www.gsi.go.jp/kokusaikoryu/kokusaikoryu-e31006.html   \n",
       "5  Planimetric reports on the land area of Japan, http://www.gsi.go.jp/kokusaikoryu/kokusaikoryu-e31006.html   \n",
       "6  Planimetric reports on the land area of Japan, http://www.gsi.go.jp/kokusaikoryu/kokusaikoryu-e31006.html   \n",
       "\n",
       "   population (others) source year  \\\n",
       "0  2015                              \n",
       "1  2015                              \n",
       "2  2015                              \n",
       "3  2015                              \n",
       "4  2015                              \n",
       "5  2015                              \n",
       "6  2015                              \n",
       "\n",
       "                                                          population (others) source  \\\n",
       "0  National Population Census, http://www.stat.go.jp/english/data/kokusei/index.html   \n",
       "1  National Population Census, http://www.stat.go.jp/english/data/kokusei/index.html   \n",
       "2  National Population Census, http://www.stat.go.jp/english/data/kokusei/index.html   \n",
       "3  National Population Census, http://www.stat.go.jp/english/data/kokusei/index.html   \n",
       "4  National Population Census, http://www.stat.go.jp/english/data/kokusei/index.html   \n",
       "5  National Population Census, http://www.stat.go.jp/english/data/kokusei/index.html   \n",
       "6  National Population Census, http://www.stat.go.jp/english/data/kokusei/index.html   \n",
       "\n",
       "   year_household_size (updated) (others)  \\\n",
       "0  2015                                     \n",
       "1  2015                                     \n",
       "2  2015                                     \n",
       "3  2015                                     \n",
       "4  2015                                     \n",
       "5  2015                                     \n",
       "6  2015                                     \n",
       "\n",
       "                                                 household_source (updated) (others)  \\\n",
       "0  National Population Census, http://www.stat.go.jp/english/data/kokusei/index.html   \n",
       "1  National Population Census, http://www.stat.go.jp/english/data/kokusei/index.html   \n",
       "2  National Population Census, http://www.stat.go.jp/english/data/kokusei/index.html   \n",
       "3  National Population Census, http://www.stat.go.jp/english/data/kokusei/index.html   \n",
       "4  National Population Census, http://www.stat.go.jp/english/data/kokusei/index.html   \n",
       "5  National Population Census, http://www.stat.go.jp/english/data/kokusei/index.html   \n",
       "6  National Population Census, http://www.stat.go.jp/english/data/kokusei/index.html   \n",
       "\n",
       "   mean travel time ref year (others)  \\\n",
       "0  2013                                 \n",
       "1  2013                                 \n",
       "2  2013                                 \n",
       "3  2013                                 \n",
       "4  2013                                 \n",
       "5  2013                                 \n",
       "6  2013                                 \n",
       "\n",
       "                                                    mean travel time ref (others)  \\\n",
       "0  Housing and Land Survey, http://www.stat.go.jp/english/data/jyutaku/index.html   \n",
       "1  Housing and Land Survey, http://www.stat.go.jp/english/data/jyutaku/index.html   \n",
       "2  Housing and Land Survey, http://www.stat.go.jp/english/data/jyutaku/index.html   \n",
       "3  Housing and Land Survey, http://www.stat.go.jp/english/data/jyutaku/index.html   \n",
       "4  Housing and Land Survey, http://www.stat.go.jp/english/data/jyutaku/index.html   \n",
       "5  Housing and Land Survey, http://www.stat.go.jp/english/data/jyutaku/index.html   \n",
       "6  Housing and Land Survey, http://www.stat.go.jp/english/data/jyutaku/index.html   \n",
       "\n",
       "                                                               GDP source  \\\n",
       "0  National Accounts of Japan, http://www.esri.cao.go.jp/en/sna/menu.html   \n",
       "1  National Accounts of Japan, http://www.esri.cao.go.jp/en/sna/menu.html   \n",
       "2  National Accounts of Japan, http://www.esri.cao.go.jp/en/sna/menu.html   \n",
       "3  National Accounts of Japan, http://www.esri.cao.go.jp/en/sna/menu.html   \n",
       "4  National Accounts of Japan, http://www.esri.cao.go.jp/en/sna/menu.html   \n",
       "5  National Accounts of Japan, http://www.esri.cao.go.jp/en/sna/menu.html   \n",
       "6  National Accounts of Japan, http://www.esri.cao.go.jp/en/sna/menu.html   \n",
       "\n",
       "   GDP source year  \n",
       "0  2014             \n",
       "1  2014             \n",
       "2  2014             \n",
       "3  2014             \n",
       "4  2014             \n",
       "5  2014             \n",
       "6  2014             "
      ]
     },
     "execution_count": 34,
     "metadata": {},
     "output_type": "execute_result"
    }
   ],
   "source": [
    "f_japan = 'DATA/ORIGINAL_ANCILLARY_SOURCEFILES/japan_prepared.tsv'\n",
    "\n",
    "df_japan = pd.read_csv(f_japan, sep='\\t', encoding = 'utf-8')\n",
    "\n",
    "df_japan.drop('Unnamed: 0', axis=1, inplace=True)\n",
    "\n",
    "print df_japan.shape\n",
    "df_japan"
   ]
  },
  {
   "cell_type": "markdown",
   "metadata": {},
   "source": [
    "# Merge ancillary attributes into merged emissions dataset"
   ]
  },
  {
   "cell_type": "markdown",
   "metadata": {},
   "source": [
    "## Merge ancillary attributes from Creutzig et al."
   ]
  },
  {
   "cell_type": "code",
   "execution_count": 35,
   "metadata": {},
   "outputs": [
    {
     "name": "stdout",
     "output_type": "stream",
     "text": [
      "(273, 40)\n",
      "(343, 59)\n",
      "99\n",
      "616\n"
     ]
    }
   ],
   "source": [
    "print df_creutzig.shape\n",
    "print df_emissions.shape\n",
    "print df_creutzig.shape[1] + df_emissions.shape[1]\n",
    "print df_creutzig.shape[0] + df_emissions.shape[0]"
   ]
  },
  {
   "cell_type": "code",
   "execution_count": 36,
   "metadata": {},
   "outputs": [
    {
     "data": {
      "text/plain": [
       "{u'city name'}"
      ]
     },
     "execution_count": 36,
     "metadata": {},
     "output_type": "execute_result"
    }
   ],
   "source": [
    "#Find columns in common\n",
    "colList1 = list(df_emissions)\n",
    "colList2 = list(df_creutzig)\n",
    "\n",
    "set(colList1) & set(colList2)"
   ]
  },
  {
   "cell_type": "code",
   "execution_count": 37,
   "metadata": {},
   "outputs": [
    {
     "data": {
      "text/plain": [
       "(343, 99)"
      ]
     },
     "execution_count": 37,
     "metadata": {},
     "output_type": "execute_result"
    }
   ],
   "source": [
    "df_merge1 = pd.DataFrame()\n",
    "\n",
    "#Add a flag to indicate that city has ancillary data from D_GEA+\n",
    "df_creutzig['Ancillary from GEA+'] = 1\n",
    "\n",
    "df_merge1 = pd.merge(df_emissions, df_creutzig, how='left', on=var_city)\n",
    "\n",
    "df_merge1.shape  #(343, 99)"
   ]
  },
  {
   "cell_type": "code",
   "execution_count": null,
   "metadata": {},
   "outputs": [],
   "source": []
  },
  {
   "cell_type": "code",
   "execution_count": 38,
   "metadata": {},
   "outputs": [
    {
     "name": "stdout",
     "output_type": "stream",
     "text": [
      "57\n"
     ]
    },
    {
     "data": {
      "text/plain": [
       "[u'Amsterdam',\n",
       " u'Athens',\n",
       " u'Atlanta',\n",
       " u'Austin',\n",
       " u'Birmingham',\n",
       " u'Bogot\\xe1',\n",
       " u'Bologna',\n",
       " u'Boulder',\n",
       " u'Bournemouth',\n",
       " u'Bras\\xedlia',\n",
       " u'Calgary',\n",
       " u'Cape Town',\n",
       " u'Cardiff',\n",
       " u'Chicago',\n",
       " u'Copenhagen',\n",
       " u'Curitiba',\n",
       " u'Denver',\n",
       " u'Dublin',\n",
       " u'Greater London',\n",
       " u'Hamburg',\n",
       " u'Helsinki',\n",
       " u'Hong Kong',\n",
       " u'Houston',\n",
       " u'Jakarta',\n",
       " u'Johannesburg',\n",
       " u'Leicester',\n",
       " u'Lisbon',\n",
       " u'Ljubljana',\n",
       " u'Los Angeles',\n",
       " u'Madrid',\n",
       " u'Manchester',\n",
       " u'Melbourne',\n",
       " u'Mexico City',\n",
       " u'Milano',\n",
       " u'Minneapolis',\n",
       " u'Montreal',\n",
       " u'New York City',\n",
       " u'Oslo',\n",
       " u'Paris',\n",
       " u'Portland, OR',\n",
       " u'Pretoria Tshwane',\n",
       " u'Rio de Janeiro',\n",
       " u'Roma',\n",
       " u'San Diego',\n",
       " u'San Francisco',\n",
       " u'Seattle',\n",
       " u'Seoul',\n",
       " u'Stockholm',\n",
       " u'Sydney',\n",
       " u'Taipei City',\n",
       " u'Tokyo',\n",
       " u'Torino',\n",
       " u'Toronto',\n",
       " u'Vancouver',\n",
       " u'Vilnius',\n",
       " u'Wellington',\n",
       " u'Z\\xfcrich']"
      ]
     },
     "execution_count": 38,
     "metadata": {},
     "output_type": "execute_result"
    }
   ],
   "source": [
    "print df_merge1.loc[(df_merge1['Scope-1 source dataset']=='CDP') & (df_merge1['Ancillary from GEA+']==1), var_city].count()\n",
    "list(df_merge1.loc[(df_merge1['Scope-1 source dataset']=='CDP') & (df_merge1['Ancillary from GEA+']==1), var_city])"
   ]
  },
  {
   "cell_type": "code",
   "execution_count": null,
   "metadata": {},
   "outputs": [],
   "source": []
  },
  {
   "cell_type": "markdown",
   "metadata": {},
   "source": [
    "## Merge updated ancillary attributes of Creutzig dataset for CDP cities"
   ]
  },
  {
   "cell_type": "code",
   "execution_count": 39,
   "metadata": {},
   "outputs": [
    {
     "name": "stdout",
     "output_type": "stream",
     "text": [
      "(343, 99)\n",
      "(187, 16)\n",
      "114\n"
     ]
    }
   ],
   "source": [
    "print df_merge1.shape\n",
    "print df_filledCreutzig.shape\n",
    "print df_merge1.shape[1] + df_filledCreutzig.shape[1] -1"
   ]
  },
  {
   "cell_type": "code",
   "execution_count": 40,
   "metadata": {},
   "outputs": [
    {
     "data": {
      "text/plain": [
       "{u'city name'}"
      ]
     },
     "execution_count": 40,
     "metadata": {},
     "output_type": "execute_result"
    }
   ],
   "source": [
    "#Find columns in common\n",
    "colList1 = list(df_merge1)\n",
    "colList2 = list(df_filledCreutzig)\n",
    "\n",
    "set(colList1) & set(colList2)"
   ]
  },
  {
   "cell_type": "code",
   "execution_count": 41,
   "metadata": {},
   "outputs": [
    {
     "data": {
      "text/plain": [
       "(343, 114)"
      ]
     },
     "execution_count": 41,
     "metadata": {},
     "output_type": "execute_result"
    }
   ],
   "source": [
    "df_merge2 = pd.DataFrame()\n",
    "\n",
    "df_merge2 = pd.merge(df_merge1, df_filledCreutzig, how='outer', on=var_city)\n",
    "\n",
    "df_merge2.shape"
   ]
  },
  {
   "cell_type": "code",
   "execution_count": 42,
   "metadata": {},
   "outputs": [
    {
     "data": {
      "text/plain": [
       "147"
      ]
     },
     "execution_count": 42,
     "metadata": {},
     "output_type": "execute_result"
    }
   ],
   "source": [
    "df_merge2.loc[~df_merge2['mean travel time [min] (others)'].isnull(), var_city].count()"
   ]
  },
  {
   "cell_type": "code",
   "execution_count": null,
   "metadata": {},
   "outputs": [],
   "source": []
  },
  {
   "cell_type": "markdown",
   "metadata": {},
   "source": [
    "## Merge fuel prices for carbonn and PKU cities"
   ]
  },
  {
   "cell_type": "code",
   "execution_count": 43,
   "metadata": {},
   "outputs": [
    {
     "name": "stdout",
     "output_type": "stream",
     "text": [
      "(343, 114)\n",
      "(156, 3)\n",
      "Number of cities missing fuel price: 156\n",
      "Number of columns after merge should be: 116\n"
     ]
    }
   ],
   "source": [
    "print df_merge2.shape\n",
    "print df_fuel.shape\n",
    "print 'Number of cities missing fuel price: ' +  repr(df_merge2.loc[df_merge2['diesel_price (2014) (others)'].isnull(), var_city].count())\n",
    "print 'Number of columns after merge should be: ' +  repr(df_merge2.shape[1] + df_fuel.shape[1] -1)"
   ]
  },
  {
   "cell_type": "code",
   "execution_count": 44,
   "metadata": {},
   "outputs": [
    {
     "data": {
      "text/plain": [
       "(343, 116)"
      ]
     },
     "execution_count": 44,
     "metadata": {},
     "output_type": "execute_result"
    }
   ],
   "source": [
    "df_merge2fuel = pd.DataFrame()\n",
    "\n",
    "df_merge2fuel = pd.merge(df_merge2, df_fuel, how='outer', on=var_city)\n",
    "\n",
    "df_merge2fuel.shape"
   ]
  },
  {
   "cell_type": "code",
   "execution_count": 45,
   "metadata": {},
   "outputs": [
    {
     "data": {
      "text/plain": [
       "['diesel_price (2014) (others)', 'gasoline_price (2014) (others)']"
      ]
     },
     "execution_count": 45,
     "metadata": {},
     "output_type": "execute_result"
    }
   ],
   "source": [
    "commonCols = ['diesel_price (2014) (others)', 'gasoline_price (2014) (others)']\n",
    "commonCols"
   ]
  },
  {
   "cell_type": "code",
   "execution_count": 46,
   "metadata": {},
   "outputs": [
    {
     "name": "stdout",
     "output_type": "stream",
     "text": [
      "**\n"
     ]
    }
   ],
   "source": [
    "for idx in range(0,len(commonCols)): \n",
    "    attr = commonCols[idx]\n",
    "    fn_mergeDuplicates(df_merge2fuel, attr)\n",
    "        \n",
    "print '**'"
   ]
  },
  {
   "cell_type": "code",
   "execution_count": 47,
   "metadata": {
    "scrolled": true
   },
   "outputs": [
    {
     "name": "stdout",
     "output_type": "stream",
     "text": [
      "0\n"
     ]
    }
   ],
   "source": [
    "#Check\n",
    "print df_merge2fuel.loc[df_merge2fuel['diesel_price (2014) (others)'].isnull(), var_city].count()\n",
    "#=> check OK."
   ]
  },
  {
   "cell_type": "code",
   "execution_count": 48,
   "metadata": {
    "scrolled": true
   },
   "outputs": [
    {
     "name": "stdout",
     "output_type": "stream",
     "text": [
      "Series([], Name: city name, dtype: object)\n"
     ]
    }
   ],
   "source": [
    "#Check\n",
    "print df_merge2fuel.loc[df_merge2fuel['gasoline_price (2014) (others)'].isnull(), var_city]\n",
    "#=> check OK."
   ]
  },
  {
   "cell_type": "code",
   "execution_count": null,
   "metadata": {},
   "outputs": [],
   "source": []
  },
  {
   "cell_type": "markdown",
   "metadata": {},
   "source": [
    "## Merge ancillary attributes from external sources for Chinese cities"
   ]
  },
  {
   "cell_type": "code",
   "execution_count": 49,
   "metadata": {},
   "outputs": [
    {
     "name": "stdout",
     "output_type": "stream",
     "text": [
      "(343, 114)\n",
      "(83, 16)\n",
      "Number of columns after merge should be: 129\n"
     ]
    }
   ],
   "source": [
    "print df_merge2fuel.shape\n",
    "print df_china_ancillary.shape\n",
    "print 'Number of columns after merge should be: ' +  repr(df_merge2fuel.shape[1] + df_china_ancillary.shape[1] -1)"
   ]
  },
  {
   "cell_type": "code",
   "execution_count": 50,
   "metadata": {},
   "outputs": [
    {
     "data": {
      "text/plain": [
       "[u'city name',\n",
       " 'lat (PKU)',\n",
       " 'lon (PKU)',\n",
       " u'population (others)',\n",
       " u'population (others) source year',\n",
       " u'population (others) source',\n",
       " u'area [km2] (others)',\n",
       " u'area [km2] (others) source year',\n",
       " u'area [km2] (others) source',\n",
       " u'GDP-PPP [$BN] (others)',\n",
       " u'GDP-PPP year (others)',\n",
       " u'GDP-PPP/cap [$USD] (others)',\n",
       " u'GDP-PPP [$BN] (others) source',\n",
       " u'nGDP [$BN] (others)',\n",
       " u'nGDP/cap [$USD] (others)',\n",
       " u'nGDP [$BN] (others) source']"
      ]
     },
     "execution_count": 50,
     "metadata": {},
     "output_type": "execute_result"
    }
   ],
   "source": [
    "list(df_china_ancillary)"
   ]
  },
  {
   "cell_type": "code",
   "execution_count": null,
   "metadata": {},
   "outputs": [],
   "source": []
  },
  {
   "cell_type": "code",
   "execution_count": 51,
   "metadata": {},
   "outputs": [
    {
     "data": {
      "text/plain": [
       "[u'population (others) source year',\n",
       " u'area [km2] (others)',\n",
       " u'population (others)',\n",
       " u'area [km2] (others) source year',\n",
       " u'area [km2] (others) source',\n",
       " u'city name',\n",
       " u'population (others) source']"
      ]
     },
     "execution_count": 51,
     "metadata": {},
     "output_type": "execute_result"
    }
   ],
   "source": [
    "#Find columns in common\n",
    "colList1 = list(df_merge2)\n",
    "colList2 = list(df_china_ancillary)\n",
    "\n",
    "commonCols = list(set(colList1) & set(colList2)) #=> 7 common column1 therefore merged df should have 116 -7 = 109 columns, 343 cities\n",
    "commonCols"
   ]
  },
  {
   "cell_type": "code",
   "execution_count": 52,
   "metadata": {},
   "outputs": [
    {
     "data": {
      "text/plain": [
       "(343, 129)"
      ]
     },
     "execution_count": 52,
     "metadata": {},
     "output_type": "execute_result"
    }
   ],
   "source": [
    "df_merge3 = pd.DataFrame()\n",
    "\n",
    "df_merge3 = pd.merge(df_merge2fuel, df_china_ancillary, how='left', on=var_city)\n",
    "\n",
    "df_merge3.shape"
   ]
  },
  {
   "cell_type": "code",
   "execution_count": 53,
   "metadata": {},
   "outputs": [
    {
     "name": "stdout",
     "output_type": "stream",
     "text": [
      "**\n"
     ]
    }
   ],
   "source": [
    "for idx in range(0,len(commonCols)): \n",
    "    attr = commonCols[idx]\n",
    "    if attr != var_city:\n",
    "        fn_mergeDuplicates(df_merge3, attr)\n",
    "        \n",
    "print '**'"
   ]
  },
  {
   "cell_type": "markdown",
   "metadata": {},
   "source": [
    "## Merge external GDP data"
   ]
  },
  {
   "cell_type": "markdown",
   "metadata": {},
   "source": [
    "### GDP data for CDP"
   ]
  },
  {
   "cell_type": "code",
   "execution_count": 54,
   "metadata": {},
   "outputs": [
    {
     "name": "stdout",
     "output_type": "stream",
     "text": [
      "(343, 123)\n",
      "(187, 9)\n"
     ]
    }
   ],
   "source": [
    "print df_merge3.shape\n",
    "print df_gdp_cdp.shape"
   ]
  },
  {
   "cell_type": "code",
   "execution_count": 55,
   "metadata": {},
   "outputs": [
    {
     "data": {
      "text/plain": [
       "[u'city name',\n",
       " u'GDP-PPP [$BN] (others)',\n",
       " u'GDP-PPP/cap [$USD] (others)',\n",
       " u'GDP-PPP [$BN] (others) source',\n",
       " u'GDP-PPP year (others)',\n",
       " u'nGDP [$BN] (others)',\n",
       " u'nGDP/cap [$USD] (others)',\n",
       " u'nGDP [$BN] (others) source',\n",
       " u'nGDP [$BN] (others) source year']"
      ]
     },
     "execution_count": 55,
     "metadata": {},
     "output_type": "execute_result"
    }
   ],
   "source": [
    "list(df_gdp_cdp)"
   ]
  },
  {
   "cell_type": "code",
   "execution_count": 56,
   "metadata": {},
   "outputs": [
    {
     "data": {
      "text/plain": [
       "[u'nGDP [$BN] (others)',\n",
       " u'GDP-PPP year (others)',\n",
       " u'GDP-PPP/cap [$USD] (others)',\n",
       " u'GDP-PPP [$BN] (others)',\n",
       " u'city name',\n",
       " u'nGDP [$BN] (others) source',\n",
       " u'nGDP/cap [$USD] (others)',\n",
       " u'GDP-PPP [$BN] (others) source']"
      ]
     },
     "execution_count": 56,
     "metadata": {},
     "output_type": "execute_result"
    }
   ],
   "source": [
    "#Find columns in common\n",
    "colList1 = list(df_merge3)\n",
    "colList2 = list(df_gdp_cdp)\n",
    "\n",
    "commonCols = list(set(colList1) & set(colList2)) #=> 1 common column1 therefore merged df should have 117 -1 = 116 columns, 343 cities\n",
    "commonCols"
   ]
  },
  {
   "cell_type": "code",
   "execution_count": 57,
   "metadata": {},
   "outputs": [
    {
     "data": {
      "text/plain": [
       "[u'nGDP [$BN] (others)',\n",
       " u'GDP-PPP year (others)',\n",
       " u'GDP-PPP/cap [$USD] (others)',\n",
       " u'GDP-PPP [$BN] (others)',\n",
       " u'city name',\n",
       " u'nGDP [$BN] (others) source',\n",
       " u'nGDP/cap [$USD] (others)',\n",
       " u'GDP-PPP [$BN] (others) source']"
      ]
     },
     "execution_count": 57,
     "metadata": {},
     "output_type": "execute_result"
    }
   ],
   "source": [
    "#Find columns in common\n",
    "colList1 = list(df_merge3)\n",
    "colList2 = list(df_gdp_cdp)\n",
    "\n",
    "commonCols = list(set(colList1) & set(colList2)) #=> 1 common column1 therefore merged df should have 117 -1 = 116 columns, 343 cities\n",
    "commonCols"
   ]
  },
  {
   "cell_type": "code",
   "execution_count": 58,
   "metadata": {},
   "outputs": [
    {
     "name": "stdout",
     "output_type": "stream",
     "text": [
      "Number of columns after merge should be: 124\n"
     ]
    }
   ],
   "source": [
    "print 'Number of columns after merge should be: ' +  repr(df_merge3.shape[1] + df_gdp_cdp.shape[1] -len(commonCols))"
   ]
  },
  {
   "cell_type": "code",
   "execution_count": 59,
   "metadata": {},
   "outputs": [
    {
     "data": {
      "text/plain": [
       "(343, 131)"
      ]
     },
     "execution_count": 59,
     "metadata": {},
     "output_type": "execute_result"
    }
   ],
   "source": [
    "df_merge4 = pd.DataFrame()\n",
    "\n",
    "df_merge4 = pd.merge(df_merge3, df_gdp_cdp, how='left', on=var_city)\n",
    "\n",
    "df_merge4.shape"
   ]
  },
  {
   "cell_type": "code",
   "execution_count": 60,
   "metadata": {},
   "outputs": [
    {
     "name": "stdout",
     "output_type": "stream",
     "text": [
      "**\n"
     ]
    }
   ],
   "source": [
    "for idx in range(0,len(commonCols)): \n",
    "    attr = commonCols[idx]\n",
    "    if attr != var_city:\n",
    "        fn_mergeDuplicates(df_merge4, attr)\n",
    "        \n",
    "print '**'"
   ]
  },
  {
   "cell_type": "code",
   "execution_count": null,
   "metadata": {},
   "outputs": [],
   "source": []
  },
  {
   "cell_type": "code",
   "execution_count": 61,
   "metadata": {},
   "outputs": [
    {
     "name": "stdout",
     "output_type": "stream",
     "text": [
      "(343, 124)\n"
     ]
    }
   ],
   "source": [
    "print df_merge4.shape"
   ]
  },
  {
   "cell_type": "code",
   "execution_count": null,
   "metadata": {},
   "outputs": [],
   "source": []
  },
  {
   "cell_type": "markdown",
   "metadata": {},
   "source": [
    "### GDP + ancillary data for carbonn subset"
   ]
  },
  {
   "cell_type": "code",
   "execution_count": 62,
   "metadata": {},
   "outputs": [
    {
     "name": "stdout",
     "output_type": "stream",
     "text": [
      "(343, 124)\n",
      "(73, 18)\n"
     ]
    }
   ],
   "source": [
    "print df_merge4.shape\n",
    "print df_carbonn.shape"
   ]
  },
  {
   "cell_type": "code",
   "execution_count": 63,
   "metadata": {},
   "outputs": [
    {
     "data": {
      "text/plain": [
       "[u'population (others) source year',\n",
       " u'area [km2] (others)',\n",
       " u'population (others)',\n",
       " u'nGDP [$BN] (others)',\n",
       " u'GDP-PPP year (others)',\n",
       " u'GDP-PPP/cap [$USD] (others)',\n",
       " u'GDP-PPP [$BN] (others)',\n",
       " u'area [km2] (others) source year',\n",
       " u'area [km2] (others) source',\n",
       " u'city name',\n",
       " u'nGDP [$BN] (others) source',\n",
       " u'GDP-PPP [$BN] (others) source',\n",
       " u'population (others) source',\n",
       " u'nGDP/cap [$USD] (others)',\n",
       " u'nGDP [$BN] (others) source year']"
      ]
     },
     "execution_count": 63,
     "metadata": {},
     "output_type": "execute_result"
    }
   ],
   "source": [
    "#Find columns in common\n",
    "colList1 = list(df_merge4)\n",
    "colList2 = list(df_carbonn)\n",
    "\n",
    "commonCols = list(set(colList1) & set(colList2) )\n",
    "commonCols"
   ]
  },
  {
   "cell_type": "code",
   "execution_count": 64,
   "metadata": {},
   "outputs": [
    {
     "name": "stdout",
     "output_type": "stream",
     "text": [
      "[u'Year_Household size', u'Household_source', u'Household_size']\n"
     ]
    }
   ],
   "source": [
    "#new columns to be added to merge\n",
    "newCols = list(set(colList2)-set(colList1))\n",
    "print newCols"
   ]
  },
  {
   "cell_type": "code",
   "execution_count": 65,
   "metadata": {},
   "outputs": [
    {
     "name": "stdout",
     "output_type": "stream",
     "text": [
      "(343, 141)\n"
     ]
    }
   ],
   "source": [
    "df_merge5 = pd.DataFrame()\n",
    "\n",
    "df_merge5 = pd.merge(df_merge4, df_carbonn, on=var_city, how='left')\n",
    "\n",
    "print df_merge5.shape"
   ]
  },
  {
   "cell_type": "code",
   "execution_count": null,
   "metadata": {},
   "outputs": [],
   "source": []
  },
  {
   "cell_type": "markdown",
   "metadata": {},
   "source": [
    "#### Consolidate duplicate columns (keep non-nan value)"
   ]
  },
  {
   "cell_type": "code",
   "execution_count": 66,
   "metadata": {
    "scrolled": false
   },
   "outputs": [
    {
     "name": "stdout",
     "output_type": "stream",
     "text": [
      "**\n",
      "(343, 127)\n"
     ]
    }
   ],
   "source": [
    "for idx in range(0,len(commonCols)): \n",
    "    attr = commonCols[idx]\n",
    "    if attr != var_city:\n",
    "        fn_mergeDuplicates(df_merge5, attr)\n",
    "    \n",
    "print '**'\n",
    "print df_merge5.shape"
   ]
  },
  {
   "cell_type": "code",
   "execution_count": 67,
   "metadata": {},
   "outputs": [],
   "source": [
    "#Reorder first instances of GDP ref\n",
    "\n",
    "#nGDP\n",
    "df_merge5.loc[df_merge5[var_city]=='Ahmedabad','nGDP [$BN] (others) source'] = '[3] The Most Dynamic Cities of 2025. Foreign Policy. Retrieved 24/08/2012. http://foreignpolicy.com/2012/08/07/the-most-dynamic-cities-of-2025/,\\n[19] Global Cities of the Future. Dynamic map. McKinsey&CompacKinsey Global Institute City Scope v2.0 Last updated June 2012. Retrieved 27/09/2017. Available at: http://www.mckinsey.com/tools/Wrappers/Redesign/InteractiveWrapper.aspx?sc_itemid={C84CB74F-A3B1-47B1-8265-6252F6D85B68}'\n",
    "\n",
    "df_merge5.loc[df_merge5[var_city]=='Beijing','nGDP [$BN] (others) source'] = '[3], [19]'\n",
    "\n",
    "df_merge5.loc[df_merge5[var_city]=='Boston','nGDP [$BN] (others) source'] = '[19]'\n",
    "\n",
    "df_merge5.loc[df_merge5[var_city]=='Hong Kong','nGDP [$BN] (others) source'] = '[3]'\n",
    "\n",
    "#GDP-PPP\n",
    "df_merge5.loc[df_merge5[var_city]=='Ahmedabad','GDP-PPP [$BN] (others) source'] = '[2]'\n",
    "df_merge5.loc[df_merge5[var_city]=='Tianjin','GDP-PPP [$BN] (others) source'] = '[1]'"
   ]
  },
  {
   "cell_type": "code",
   "execution_count": null,
   "metadata": {},
   "outputs": [],
   "source": []
  },
  {
   "cell_type": "markdown",
   "metadata": {},
   "source": [
    "#### compare household size data from Creutzig et. al with external source manually collected for carbonn cities in Creutzig et al.\n",
    "\n",
    "From Creutzig et al:\n",
    "* 'household_size (GEA|UITP|WB)',\n",
    "* 'year_household_size (GEA|UITP|WB)',\n",
    "* 'household_source (GEA|UITP|WB)',\n",
    "* 'comment_household_size (GEA|UITP|WB)'\n",
    "\n",
    "From external sources manually collected for carbonn cities in Creutzig et al. (but not in CDP):  \n",
    "* 'Household_size',\n",
    "* 'Year_Household size',\n",
    "* 'Household_source',\n",
    "\n",
    "From external sources manually collected for CDP cities in Creutzig et al.:  \n",
    "* 'household_size (updated) (external)',\n",
    "* 'year_household_size (updated) (external)',\n",
    "* 'household_source (updated) (external)',\n",
    "* 'comment_household_size (updated) (external)',\n",
    "\n"
   ]
  },
  {
   "cell_type": "code",
   "execution_count": 68,
   "metadata": {},
   "outputs": [
    {
     "data": {
      "text/html": [
       "<div>\n",
       "<style scoped>\n",
       "    .dataframe tbody tr th:only-of-type {\n",
       "        vertical-align: middle;\n",
       "    }\n",
       "\n",
       "    .dataframe tbody tr th {\n",
       "        vertical-align: top;\n",
       "    }\n",
       "\n",
       "    .dataframe thead th {\n",
       "        text-align: right;\n",
       "    }\n",
       "</style>\n",
       "<table border=\"1\" class=\"dataframe\">\n",
       "  <thead>\n",
       "    <tr style=\"text-align: right;\">\n",
       "      <th></th>\n",
       "      <th>city name</th>\n",
       "      <th>Year_Household size</th>\n",
       "    </tr>\n",
       "  </thead>\n",
       "  <tbody>\n",
       "    <tr>\n",
       "      <th>6</th>\n",
       "      <td>Ahmedabad</td>\n",
       "      <td>2011</td>\n",
       "    </tr>\n",
       "    <tr>\n",
       "      <th>23</th>\n",
       "      <td>Bangalore</td>\n",
       "      <td>2011</td>\n",
       "    </tr>\n",
       "    <tr>\n",
       "      <th>26</th>\n",
       "      <td>Barcelona</td>\n",
       "      <td>2014</td>\n",
       "    </tr>\n",
       "    <tr>\n",
       "      <th>48</th>\n",
       "      <td>Bristol</td>\n",
       "      <td>2013</td>\n",
       "    </tr>\n",
       "    <tr>\n",
       "      <th>49</th>\n",
       "      <td>Brussels</td>\n",
       "      <td>2014</td>\n",
       "    </tr>\n",
       "    <tr>\n",
       "      <th>51</th>\n",
       "      <td>Buffalo City</td>\n",
       "      <td>2007</td>\n",
       "    </tr>\n",
       "    <tr>\n",
       "      <th>85</th>\n",
       "      <td>Ekurhuleni</td>\n",
       "      <td>2007</td>\n",
       "    </tr>\n",
       "    <tr>\n",
       "      <th>92</th>\n",
       "      <td>Fort Collins</td>\n",
       "      <td>2012-2016</td>\n",
       "    </tr>\n",
       "    <tr>\n",
       "      <th>100</th>\n",
       "      <td>Graz</td>\n",
       "      <td>2013</td>\n",
       "    </tr>\n",
       "    <tr>\n",
       "      <th>106</th>\n",
       "      <td>Gävle</td>\n",
       "      <td>2017</td>\n",
       "    </tr>\n",
       "    <tr>\n",
       "      <th>137</th>\n",
       "      <td>Istanbul</td>\n",
       "      <td>2016</td>\n",
       "    </tr>\n",
       "    <tr>\n",
       "      <th>157</th>\n",
       "      <td>Kyoto</td>\n",
       "      <td>2018</td>\n",
       "    </tr>\n",
       "    <tr>\n",
       "      <th>180</th>\n",
       "      <td>Lyon</td>\n",
       "      <td>2012</td>\n",
       "    </tr>\n",
       "    <tr>\n",
       "      <th>192</th>\n",
       "      <td>Msunduzi</td>\n",
       "      <td>2007</td>\n",
       "    </tr>\n",
       "    <tr>\n",
       "      <th>201</th>\n",
       "      <td>Nantes</td>\n",
       "      <td>2012</td>\n",
       "    </tr>\n",
       "    <tr>\n",
       "      <th>203</th>\n",
       "      <td>Nelson Mandela</td>\n",
       "      <td>2007</td>\n",
       "    </tr>\n",
       "    <tr>\n",
       "      <th>262</th>\n",
       "      <td>Sapporo</td>\n",
       "      <td>2018</td>\n",
       "    </tr>\n",
       "    <tr>\n",
       "      <th>275</th>\n",
       "      <td>Singapore</td>\n",
       "      <td>2016</td>\n",
       "    </tr>\n",
       "    <tr>\n",
       "      <th>301</th>\n",
       "      <td>Umeå</td>\n",
       "      <td>2017</td>\n",
       "    </tr>\n",
       "    <tr>\n",
       "      <th>303</th>\n",
       "      <td>Uppsala</td>\n",
       "      <td>2017</td>\n",
       "    </tr>\n",
       "    <tr>\n",
       "      <th>308</th>\n",
       "      <td>Växjö</td>\n",
       "      <td>2017</td>\n",
       "    </tr>\n",
       "    <tr>\n",
       "      <th>339</th>\n",
       "      <td>eThekwini</td>\n",
       "      <td>2007</td>\n",
       "    </tr>\n",
       "    <tr>\n",
       "      <th>341</th>\n",
       "      <td>Örebro</td>\n",
       "      <td>2017</td>\n",
       "    </tr>\n",
       "  </tbody>\n",
       "</table>\n",
       "</div>"
      ],
      "text/plain": [
       "          city name Year_Household size\n",
       "6    Ahmedabad       2011              \n",
       "23   Bangalore       2011              \n",
       "26   Barcelona       2014              \n",
       "48   Bristol         2013              \n",
       "49   Brussels        2014              \n",
       "51   Buffalo City    2007              \n",
       "85   Ekurhuleni      2007              \n",
       "92   Fort Collins    2012-2016         \n",
       "100  Graz            2013              \n",
       "106  Gävle           2017              \n",
       "137  Istanbul        2016              \n",
       "157  Kyoto           2018              \n",
       "180  Lyon            2012              \n",
       "192  Msunduzi        2007              \n",
       "201  Nantes          2012              \n",
       "203  Nelson Mandela  2007              \n",
       "262  Sapporo         2018              \n",
       "275  Singapore       2016              \n",
       "301  Umeå            2017              \n",
       "303  Uppsala         2017              \n",
       "308  Växjö           2017              \n",
       "339  eThekwini       2007              \n",
       "341  Örebro          2017              "
      ]
     },
     "execution_count": 68,
     "metadata": {},
     "output_type": "execute_result"
    }
   ],
   "source": [
    "df_merge5.loc[~df_merge5['Year_Household size'].isnull(), [var_city, 'Year_Household size']]"
   ]
  },
  {
   "cell_type": "code",
   "execution_count": 69,
   "metadata": {},
   "outputs": [
    {
     "name": "stdout",
     "output_type": "stream",
     "text": [
      "[u'Fort Collins', u'Graz', u'Kyoto', u'Sapporo']\n",
      "Fort Collins\n",
      "Graz\n",
      "Kyoto\n",
      "Sapporo\n"
     ]
    }
   ],
   "source": [
    "#household size data for carbonn_venn cities missing from Creutzig can be put into external columns\n",
    "cond1 = ~df_merge5['Year_Household size'].isnull() #external for carbonn_venn cities\n",
    "cond2 = df_merge5['year_household_size (GEA+)'].isnull()\n",
    "\n",
    "df_merge5.loc[cond1 & cond2, \n",
    "\n",
    "[var_city,'Measurement year only (CDP)','Scope 1 year', 'Year_Household size', \n",
    "  'year_household_size (updated) (others)', 'year_household_size (GEA+)']\n",
    "]\n",
    "\n",
    "var_hh = 'household_size (updated) (others)'\n",
    "var_hh_yr = 'year_household_size (updated) (others)'\n",
    "var_hh_source = 'household_source (updated) (others)'\n",
    "cityList = list(df_merge5.loc[cond1 & cond2,var_city])\n",
    "print cityList\n",
    "\n",
    "for idx in range(len(cityList)):\n",
    "    print cityList[idx]\n",
    "    df_merge5.loc[df_merge5[var_city] == cityList[idx], var_hh] = df_merge5['Household_size']\n",
    "    df_merge5.loc[df_merge5[var_city] == cityList[idx], var_hh_yr] = df_merge5['Year_Household size']\n",
    "    df_merge5.loc[df_merge5[var_city] == cityList[idx], var_hh_source] = df_merge5['Household_source']"
   ]
  },
  {
   "cell_type": "code",
   "execution_count": 70,
   "metadata": {},
   "outputs": [
    {
     "data": {
      "text/html": [
       "<div>\n",
       "<style scoped>\n",
       "    .dataframe tbody tr th:only-of-type {\n",
       "        vertical-align: middle;\n",
       "    }\n",
       "\n",
       "    .dataframe tbody tr th {\n",
       "        vertical-align: top;\n",
       "    }\n",
       "\n",
       "    .dataframe thead th {\n",
       "        text-align: right;\n",
       "    }\n",
       "</style>\n",
       "<table border=\"1\" class=\"dataframe\">\n",
       "  <thead>\n",
       "    <tr style=\"text-align: right;\">\n",
       "      <th></th>\n",
       "      <th>city name</th>\n",
       "      <th>Measurement year only (CDP)</th>\n",
       "      <th>Year of Emission</th>\n",
       "      <th>Year_Household size</th>\n",
       "      <th>year_household_size (updated) (others)</th>\n",
       "      <th>year_household_size (GEA+)</th>\n",
       "    </tr>\n",
       "  </thead>\n",
       "  <tbody>\n",
       "    <tr>\n",
       "      <th>92</th>\n",
       "      <td>Fort Collins</td>\n",
       "      <td>NaN</td>\n",
       "      <td>2016.0</td>\n",
       "      <td>2012-2016</td>\n",
       "      <td>2012-2016</td>\n",
       "      <td>NaN</td>\n",
       "    </tr>\n",
       "    <tr>\n",
       "      <th>100</th>\n",
       "      <td>Graz</td>\n",
       "      <td>NaN</td>\n",
       "      <td>1994.0</td>\n",
       "      <td>2013</td>\n",
       "      <td>2013</td>\n",
       "      <td>NaN</td>\n",
       "    </tr>\n",
       "    <tr>\n",
       "      <th>157</th>\n",
       "      <td>Kyoto</td>\n",
       "      <td>NaN</td>\n",
       "      <td>2011.0</td>\n",
       "      <td>2018</td>\n",
       "      <td>2018</td>\n",
       "      <td>NaN</td>\n",
       "    </tr>\n",
       "    <tr>\n",
       "      <th>262</th>\n",
       "      <td>Sapporo</td>\n",
       "      <td>NaN</td>\n",
       "      <td>2014.0</td>\n",
       "      <td>2018</td>\n",
       "      <td>2018</td>\n",
       "      <td>NaN</td>\n",
       "    </tr>\n",
       "  </tbody>\n",
       "</table>\n",
       "</div>"
      ],
      "text/plain": [
       "        city name  Measurement year only (CDP)  Year of Emission  \\\n",
       "92   Fort Collins NaN                           2016.0             \n",
       "100  Graz         NaN                           1994.0             \n",
       "157  Kyoto        NaN                           2011.0             \n",
       "262  Sapporo      NaN                           2014.0             \n",
       "\n",
       "    Year_Household size year_household_size (updated) (others)  \\\n",
       "92   2012-2016           2012-2016                               \n",
       "100  2013                2013                                    \n",
       "157  2018                2018                                    \n",
       "262  2018                2018                                    \n",
       "\n",
       "    year_household_size (GEA+)  \n",
       "92   NaN                        \n",
       "100  NaN                        \n",
       "157  NaN                        \n",
       "262  NaN                        "
      ]
     },
     "execution_count": 70,
     "metadata": {},
     "output_type": "execute_result"
    }
   ],
   "source": [
    "#Check\n",
    "df_merge5.loc[cond1 & cond2, \n",
    "\n",
    "[var_city,'Measurement year only (CDP)','Year of Emission', 'Year_Household size', \n",
    "  'year_household_size (updated) (others)', 'year_household_size (GEA+)']\n",
    "]\n",
    "#=> OK"
   ]
  },
  {
   "cell_type": "code",
   "execution_count": 71,
   "metadata": {},
   "outputs": [
    {
     "data": {
      "text/html": [
       "<div>\n",
       "<style scoped>\n",
       "    .dataframe tbody tr th:only-of-type {\n",
       "        vertical-align: middle;\n",
       "    }\n",
       "\n",
       "    .dataframe tbody tr th {\n",
       "        vertical-align: top;\n",
       "    }\n",
       "\n",
       "    .dataframe thead th {\n",
       "        text-align: right;\n",
       "    }\n",
       "</style>\n",
       "<table border=\"1\" class=\"dataframe\">\n",
       "  <thead>\n",
       "    <tr style=\"text-align: right;\">\n",
       "      <th></th>\n",
       "      <th>city name</th>\n",
       "      <th>Measurement year only (CDP)</th>\n",
       "      <th>Year of Emission</th>\n",
       "      <th>Year_Household size</th>\n",
       "      <th>year_household_size (GEA+)</th>\n",
       "    </tr>\n",
       "  </thead>\n",
       "  <tbody>\n",
       "    <tr>\n",
       "      <th>6</th>\n",
       "      <td>Ahmedabad</td>\n",
       "      <td>NaN</td>\n",
       "      <td>2008.0</td>\n",
       "      <td>2011</td>\n",
       "      <td>2011.0</td>\n",
       "    </tr>\n",
       "    <tr>\n",
       "      <th>23</th>\n",
       "      <td>Bangalore</td>\n",
       "      <td>NaN</td>\n",
       "      <td>2008.0</td>\n",
       "      <td>2011</td>\n",
       "      <td>2011.0</td>\n",
       "    </tr>\n",
       "    <tr>\n",
       "      <th>26</th>\n",
       "      <td>Barcelona</td>\n",
       "      <td>NaN</td>\n",
       "      <td>2012.0</td>\n",
       "      <td>2014</td>\n",
       "      <td>2004.0</td>\n",
       "    </tr>\n",
       "    <tr>\n",
       "      <th>48</th>\n",
       "      <td>Bristol</td>\n",
       "      <td>NaN</td>\n",
       "      <td>2012.0</td>\n",
       "      <td>2013</td>\n",
       "      <td>2011.0</td>\n",
       "    </tr>\n",
       "    <tr>\n",
       "      <th>49</th>\n",
       "      <td>Brussels</td>\n",
       "      <td>NaN</td>\n",
       "      <td>2011.0</td>\n",
       "      <td>2014</td>\n",
       "      <td>2010.0</td>\n",
       "    </tr>\n",
       "    <tr>\n",
       "      <th>51</th>\n",
       "      <td>Buffalo City</td>\n",
       "      <td>NaN</td>\n",
       "      <td>2007.0</td>\n",
       "      <td>2007</td>\n",
       "      <td>2010.0</td>\n",
       "    </tr>\n",
       "    <tr>\n",
       "      <th>85</th>\n",
       "      <td>Ekurhuleni</td>\n",
       "      <td>NaN</td>\n",
       "      <td>2014.0</td>\n",
       "      <td>2007</td>\n",
       "      <td>2007.0</td>\n",
       "    </tr>\n",
       "    <tr>\n",
       "      <th>106</th>\n",
       "      <td>Gävle</td>\n",
       "      <td>NaN</td>\n",
       "      <td>2011.0</td>\n",
       "      <td>2017</td>\n",
       "      <td>2011.0</td>\n",
       "    </tr>\n",
       "    <tr>\n",
       "      <th>137</th>\n",
       "      <td>Istanbul</td>\n",
       "      <td>NaN</td>\n",
       "      <td>2010.0</td>\n",
       "      <td>2016</td>\n",
       "      <td>2000.0</td>\n",
       "    </tr>\n",
       "    <tr>\n",
       "      <th>180</th>\n",
       "      <td>Lyon</td>\n",
       "      <td>NaN</td>\n",
       "      <td>2010.0</td>\n",
       "      <td>2012</td>\n",
       "      <td>2009.0</td>\n",
       "    </tr>\n",
       "    <tr>\n",
       "      <th>192</th>\n",
       "      <td>Msunduzi</td>\n",
       "      <td>NaN</td>\n",
       "      <td>2015.0</td>\n",
       "      <td>2007</td>\n",
       "      <td>2007.0</td>\n",
       "    </tr>\n",
       "    <tr>\n",
       "      <th>201</th>\n",
       "      <td>Nantes</td>\n",
       "      <td>NaN</td>\n",
       "      <td>2003.0</td>\n",
       "      <td>2012</td>\n",
       "      <td>2009</td>\n",
       "    </tr>\n",
       "    <tr>\n",
       "      <th>203</th>\n",
       "      <td>Nelson Mandela</td>\n",
       "      <td>NaN</td>\n",
       "      <td>2012.0</td>\n",
       "      <td>2007</td>\n",
       "      <td>2007.0</td>\n",
       "    </tr>\n",
       "    <tr>\n",
       "      <th>275</th>\n",
       "      <td>Singapore</td>\n",
       "      <td>NaN</td>\n",
       "      <td>2010.0</td>\n",
       "      <td>2016</td>\n",
       "      <td>2010</td>\n",
       "    </tr>\n",
       "    <tr>\n",
       "      <th>301</th>\n",
       "      <td>Umeå</td>\n",
       "      <td>NaN</td>\n",
       "      <td>2013.0</td>\n",
       "      <td>2017</td>\n",
       "      <td>2011</td>\n",
       "    </tr>\n",
       "    <tr>\n",
       "      <th>303</th>\n",
       "      <td>Uppsala</td>\n",
       "      <td>NaN</td>\n",
       "      <td>2014.0</td>\n",
       "      <td>2017</td>\n",
       "      <td>2011</td>\n",
       "    </tr>\n",
       "    <tr>\n",
       "      <th>308</th>\n",
       "      <td>Växjö</td>\n",
       "      <td>NaN</td>\n",
       "      <td>2013.0</td>\n",
       "      <td>2017</td>\n",
       "      <td>2011</td>\n",
       "    </tr>\n",
       "    <tr>\n",
       "      <th>339</th>\n",
       "      <td>eThekwini</td>\n",
       "      <td>NaN</td>\n",
       "      <td>2015.0</td>\n",
       "      <td>2007</td>\n",
       "      <td>2007.0</td>\n",
       "    </tr>\n",
       "    <tr>\n",
       "      <th>341</th>\n",
       "      <td>Örebro</td>\n",
       "      <td>NaN</td>\n",
       "      <td>2015.0</td>\n",
       "      <td>2017</td>\n",
       "      <td>2011.0</td>\n",
       "    </tr>\n",
       "  </tbody>\n",
       "</table>\n",
       "</div>"
      ],
      "text/plain": [
       "          city name  Measurement year only (CDP)  Year of Emission  \\\n",
       "6    Ahmedabad      NaN                           2008.0             \n",
       "23   Bangalore      NaN                           2008.0             \n",
       "26   Barcelona      NaN                           2012.0             \n",
       "48   Bristol        NaN                           2012.0             \n",
       "49   Brussels       NaN                           2011.0             \n",
       "51   Buffalo City   NaN                           2007.0             \n",
       "85   Ekurhuleni     NaN                           2014.0             \n",
       "106  Gävle          NaN                           2011.0             \n",
       "137  Istanbul       NaN                           2010.0             \n",
       "180  Lyon           NaN                           2010.0             \n",
       "192  Msunduzi       NaN                           2015.0             \n",
       "201  Nantes         NaN                           2003.0             \n",
       "203  Nelson Mandela NaN                           2012.0             \n",
       "275  Singapore      NaN                           2010.0             \n",
       "301  Umeå           NaN                           2013.0             \n",
       "303  Uppsala        NaN                           2014.0             \n",
       "308  Växjö          NaN                           2013.0             \n",
       "339  eThekwini      NaN                           2015.0             \n",
       "341  Örebro         NaN                           2015.0             \n",
       "\n",
       "    Year_Household size year_household_size (GEA+)  \n",
       "6    2011                2011.0                     \n",
       "23   2011                2011.0                     \n",
       "26   2014                2004.0                     \n",
       "48   2013                2011.0                     \n",
       "49   2014                2010.0                     \n",
       "51   2007                2010.0                     \n",
       "85   2007                2007.0                     \n",
       "106  2017                2011.0                     \n",
       "137  2016                2000.0                     \n",
       "180  2012                2009.0                     \n",
       "192  2007                2007.0                     \n",
       "201  2012                2009                       \n",
       "203  2007                2007.0                     \n",
       "275  2016                2010                       \n",
       "301  2017                2011                       \n",
       "303  2017                2011                       \n",
       "308  2017                2011                       \n",
       "339  2007                2007.0                     \n",
       "341  2017                2011.0                     "
      ]
     },
     "execution_count": 71,
     "metadata": {},
     "output_type": "execute_result"
    }
   ],
   "source": [
    "#For the remaining, keep household size data whose year is closest to emissions year\n",
    "\n",
    "cond1 = ~df_merge5['Year_Household size'].isnull()\n",
    "cond2 = ~df_merge5['year_household_size (GEA+)'].isnull()\n",
    "\n",
    "\n",
    "df_tmp = df_merge5.loc[cond1 & cond2, \n",
    "    [var_city,'Measurement year only (CDP)','Year of Emission', 'Year_Household size', 'year_household_size (GEA+)']\n",
    "]\n",
    "\n",
    "df_tmp"
   ]
  },
  {
   "cell_type": "code",
   "execution_count": 72,
   "metadata": {},
   "outputs": [
    {
     "data": {
      "text/html": [
       "<div>\n",
       "<style scoped>\n",
       "    .dataframe tbody tr th:only-of-type {\n",
       "        vertical-align: middle;\n",
       "    }\n",
       "\n",
       "    .dataframe tbody tr th {\n",
       "        vertical-align: top;\n",
       "    }\n",
       "\n",
       "    .dataframe thead th {\n",
       "        text-align: right;\n",
       "    }\n",
       "</style>\n",
       "<table border=\"1\" class=\"dataframe\">\n",
       "  <thead>\n",
       "    <tr style=\"text-align: right;\">\n",
       "      <th></th>\n",
       "      <th>city name</th>\n",
       "      <th>Measurement year only (CDP)</th>\n",
       "      <th>Year of Emission</th>\n",
       "      <th>Year_Household size</th>\n",
       "      <th>year_household_size (GEA+)</th>\n",
       "    </tr>\n",
       "  </thead>\n",
       "  <tbody>\n",
       "    <tr>\n",
       "      <th>26</th>\n",
       "      <td>Barcelona</td>\n",
       "      <td>NaN</td>\n",
       "      <td>2012.0</td>\n",
       "      <td>2014</td>\n",
       "      <td>2004.0</td>\n",
       "    </tr>\n",
       "    <tr>\n",
       "      <th>51</th>\n",
       "      <td>Buffalo City</td>\n",
       "      <td>NaN</td>\n",
       "      <td>2007.0</td>\n",
       "      <td>2007</td>\n",
       "      <td>2010.0</td>\n",
       "    </tr>\n",
       "    <tr>\n",
       "      <th>137</th>\n",
       "      <td>Istanbul</td>\n",
       "      <td>NaN</td>\n",
       "      <td>2010.0</td>\n",
       "      <td>2016</td>\n",
       "      <td>2000.0</td>\n",
       "    </tr>\n",
       "    <tr>\n",
       "      <th>341</th>\n",
       "      <td>Örebro</td>\n",
       "      <td>NaN</td>\n",
       "      <td>2015.0</td>\n",
       "      <td>2017</td>\n",
       "      <td>2011.0</td>\n",
       "    </tr>\n",
       "  </tbody>\n",
       "</table>\n",
       "</div>"
      ],
      "text/plain": [
       "        city name  Measurement year only (CDP)  Year of Emission  \\\n",
       "26   Barcelona    NaN                           2012.0             \n",
       "51   Buffalo City NaN                           2007.0             \n",
       "137  Istanbul     NaN                           2010.0             \n",
       "341  Örebro       NaN                           2015.0             \n",
       "\n",
       "    Year_Household size year_household_size (GEA+)  \n",
       "26   2014                2004.0                     \n",
       "51   2007                2010.0                     \n",
       "137  2016                2000.0                     \n",
       "341  2017                2011.0                     "
      ]
     },
     "execution_count": 72,
     "metadata": {},
     "output_type": "execute_result"
    }
   ],
   "source": [
    "cond1 = abs(df_tmp['Year_Household size'].astype(float).values - df_tmp['Year of Emission'].values)\n",
    "cond2 = abs(df_tmp['year_household_size (GEA+)'].astype(float).values - df_tmp['Year of Emission'].astype(int).values)\n",
    "\n",
    "df_tmp.loc[cond1 < cond2, \n",
    "           [var_city,'Measurement year only (CDP)','Year of Emission', 'Year_Household size', \n",
    "            'year_household_size (GEA+)']\n",
    "\n",
    "]"
   ]
  },
  {
   "cell_type": "code",
   "execution_count": 73,
   "metadata": {},
   "outputs": [
    {
     "name": "stdout",
     "output_type": "stream",
     "text": [
      "[u'Barcelona', u'Buffalo City', u'Istanbul', u'\\xd6rebro']\n"
     ]
    }
   ],
   "source": [
    "#Conclusion: replace (GEA+) household size data for the four cities found above:\n",
    "cityList = list(df_tmp.loc[cond1 < cond2, var_city] )\n",
    "print cityList\n",
    "\n",
    "var_hh = 'household_size (updated) (others)'\n",
    "var_hh_yr = 'year_household_size (updated) (others)'\n",
    "var_hh_source = 'household_source (updated) (others)'\n",
    "\n",
    "\n",
    "for idx in range(len(cityList)):\n",
    "    df_merge5.loc[df_merge5[var_city] == cityList[idx], var_hh] = df_merge5['Household_size']\n",
    "    df_merge5.loc[df_merge5[var_city] == cityList[idx], var_hh_yr] = df_merge5['Year_Household size']\n",
    "    df_merge5.loc[df_merge5[var_city] == cityList[idx], var_hh_source] = df_merge5['Household_source']"
   ]
  },
  {
   "cell_type": "code",
   "execution_count": 74,
   "metadata": {},
   "outputs": [
    {
     "data": {
      "text/html": [
       "<div>\n",
       "<style scoped>\n",
       "    .dataframe tbody tr th:only-of-type {\n",
       "        vertical-align: middle;\n",
       "    }\n",
       "\n",
       "    .dataframe tbody tr th {\n",
       "        vertical-align: top;\n",
       "    }\n",
       "\n",
       "    .dataframe thead th {\n",
       "        text-align: right;\n",
       "    }\n",
       "</style>\n",
       "<table border=\"1\" class=\"dataframe\">\n",
       "  <thead>\n",
       "    <tr style=\"text-align: right;\">\n",
       "      <th></th>\n",
       "      <th>city name</th>\n",
       "      <th>Measurement year only (CDP)</th>\n",
       "      <th>Year of Emission</th>\n",
       "      <th>Year_Household size</th>\n",
       "      <th>year_household_size (updated) (others)</th>\n",
       "      <th>year_household_size (GEA+)</th>\n",
       "    </tr>\n",
       "  </thead>\n",
       "  <tbody>\n",
       "    <tr>\n",
       "      <th>6</th>\n",
       "      <td>Ahmedabad</td>\n",
       "      <td>NaN</td>\n",
       "      <td>2008.0</td>\n",
       "      <td>2011</td>\n",
       "      <td>NaN</td>\n",
       "      <td>2011.0</td>\n",
       "    </tr>\n",
       "    <tr>\n",
       "      <th>23</th>\n",
       "      <td>Bangalore</td>\n",
       "      <td>NaN</td>\n",
       "      <td>2008.0</td>\n",
       "      <td>2011</td>\n",
       "      <td>NaN</td>\n",
       "      <td>2011.0</td>\n",
       "    </tr>\n",
       "    <tr>\n",
       "      <th>26</th>\n",
       "      <td>Barcelona</td>\n",
       "      <td>NaN</td>\n",
       "      <td>2012.0</td>\n",
       "      <td>2014</td>\n",
       "      <td>2014</td>\n",
       "      <td>2004.0</td>\n",
       "    </tr>\n",
       "    <tr>\n",
       "      <th>48</th>\n",
       "      <td>Bristol</td>\n",
       "      <td>NaN</td>\n",
       "      <td>2012.0</td>\n",
       "      <td>2013</td>\n",
       "      <td>NaN</td>\n",
       "      <td>2011.0</td>\n",
       "    </tr>\n",
       "    <tr>\n",
       "      <th>49</th>\n",
       "      <td>Brussels</td>\n",
       "      <td>NaN</td>\n",
       "      <td>2011.0</td>\n",
       "      <td>2014</td>\n",
       "      <td>NaN</td>\n",
       "      <td>2010.0</td>\n",
       "    </tr>\n",
       "    <tr>\n",
       "      <th>51</th>\n",
       "      <td>Buffalo City</td>\n",
       "      <td>NaN</td>\n",
       "      <td>2007.0</td>\n",
       "      <td>2007</td>\n",
       "      <td>2007</td>\n",
       "      <td>2010.0</td>\n",
       "    </tr>\n",
       "    <tr>\n",
       "      <th>85</th>\n",
       "      <td>Ekurhuleni</td>\n",
       "      <td>NaN</td>\n",
       "      <td>2014.0</td>\n",
       "      <td>2007</td>\n",
       "      <td>NaN</td>\n",
       "      <td>2007.0</td>\n",
       "    </tr>\n",
       "    <tr>\n",
       "      <th>106</th>\n",
       "      <td>Gävle</td>\n",
       "      <td>NaN</td>\n",
       "      <td>2011.0</td>\n",
       "      <td>2017</td>\n",
       "      <td>NaN</td>\n",
       "      <td>2011.0</td>\n",
       "    </tr>\n",
       "    <tr>\n",
       "      <th>137</th>\n",
       "      <td>Istanbul</td>\n",
       "      <td>NaN</td>\n",
       "      <td>2010.0</td>\n",
       "      <td>2016</td>\n",
       "      <td>2016</td>\n",
       "      <td>2000.0</td>\n",
       "    </tr>\n",
       "    <tr>\n",
       "      <th>180</th>\n",
       "      <td>Lyon</td>\n",
       "      <td>NaN</td>\n",
       "      <td>2010.0</td>\n",
       "      <td>2012</td>\n",
       "      <td>NaN</td>\n",
       "      <td>2009.0</td>\n",
       "    </tr>\n",
       "    <tr>\n",
       "      <th>192</th>\n",
       "      <td>Msunduzi</td>\n",
       "      <td>NaN</td>\n",
       "      <td>2015.0</td>\n",
       "      <td>2007</td>\n",
       "      <td>NaN</td>\n",
       "      <td>2007.0</td>\n",
       "    </tr>\n",
       "    <tr>\n",
       "      <th>201</th>\n",
       "      <td>Nantes</td>\n",
       "      <td>NaN</td>\n",
       "      <td>2003.0</td>\n",
       "      <td>2012</td>\n",
       "      <td>NaN</td>\n",
       "      <td>2009</td>\n",
       "    </tr>\n",
       "    <tr>\n",
       "      <th>203</th>\n",
       "      <td>Nelson Mandela</td>\n",
       "      <td>NaN</td>\n",
       "      <td>2012.0</td>\n",
       "      <td>2007</td>\n",
       "      <td>NaN</td>\n",
       "      <td>2007.0</td>\n",
       "    </tr>\n",
       "    <tr>\n",
       "      <th>275</th>\n",
       "      <td>Singapore</td>\n",
       "      <td>NaN</td>\n",
       "      <td>2010.0</td>\n",
       "      <td>2016</td>\n",
       "      <td>NaN</td>\n",
       "      <td>2010</td>\n",
       "    </tr>\n",
       "    <tr>\n",
       "      <th>301</th>\n",
       "      <td>Umeå</td>\n",
       "      <td>NaN</td>\n",
       "      <td>2013.0</td>\n",
       "      <td>2017</td>\n",
       "      <td>NaN</td>\n",
       "      <td>2011</td>\n",
       "    </tr>\n",
       "    <tr>\n",
       "      <th>303</th>\n",
       "      <td>Uppsala</td>\n",
       "      <td>NaN</td>\n",
       "      <td>2014.0</td>\n",
       "      <td>2017</td>\n",
       "      <td>NaN</td>\n",
       "      <td>2011</td>\n",
       "    </tr>\n",
       "    <tr>\n",
       "      <th>308</th>\n",
       "      <td>Växjö</td>\n",
       "      <td>NaN</td>\n",
       "      <td>2013.0</td>\n",
       "      <td>2017</td>\n",
       "      <td>NaN</td>\n",
       "      <td>2011</td>\n",
       "    </tr>\n",
       "    <tr>\n",
       "      <th>339</th>\n",
       "      <td>eThekwini</td>\n",
       "      <td>NaN</td>\n",
       "      <td>2015.0</td>\n",
       "      <td>2007</td>\n",
       "      <td>NaN</td>\n",
       "      <td>2007.0</td>\n",
       "    </tr>\n",
       "    <tr>\n",
       "      <th>341</th>\n",
       "      <td>Örebro</td>\n",
       "      <td>NaN</td>\n",
       "      <td>2015.0</td>\n",
       "      <td>2017</td>\n",
       "      <td>2017</td>\n",
       "      <td>2011.0</td>\n",
       "    </tr>\n",
       "  </tbody>\n",
       "</table>\n",
       "</div>"
      ],
      "text/plain": [
       "          city name  Measurement year only (CDP)  Year of Emission  \\\n",
       "6    Ahmedabad      NaN                           2008.0             \n",
       "23   Bangalore      NaN                           2008.0             \n",
       "26   Barcelona      NaN                           2012.0             \n",
       "48   Bristol        NaN                           2012.0             \n",
       "49   Brussels       NaN                           2011.0             \n",
       "51   Buffalo City   NaN                           2007.0             \n",
       "85   Ekurhuleni     NaN                           2014.0             \n",
       "106  Gävle          NaN                           2011.0             \n",
       "137  Istanbul       NaN                           2010.0             \n",
       "180  Lyon           NaN                           2010.0             \n",
       "192  Msunduzi       NaN                           2015.0             \n",
       "201  Nantes         NaN                           2003.0             \n",
       "203  Nelson Mandela NaN                           2012.0             \n",
       "275  Singapore      NaN                           2010.0             \n",
       "301  Umeå           NaN                           2013.0             \n",
       "303  Uppsala        NaN                           2014.0             \n",
       "308  Växjö          NaN                           2013.0             \n",
       "339  eThekwini      NaN                           2015.0             \n",
       "341  Örebro         NaN                           2015.0             \n",
       "\n",
       "    Year_Household size year_household_size (updated) (others)  \\\n",
       "6    2011                NaN                                     \n",
       "23   2011                NaN                                     \n",
       "26   2014                2014                                    \n",
       "48   2013                NaN                                     \n",
       "49   2014                NaN                                     \n",
       "51   2007                2007                                    \n",
       "85   2007                NaN                                     \n",
       "106  2017                NaN                                     \n",
       "137  2016                2016                                    \n",
       "180  2012                NaN                                     \n",
       "192  2007                NaN                                     \n",
       "201  2012                NaN                                     \n",
       "203  2007                NaN                                     \n",
       "275  2016                NaN                                     \n",
       "301  2017                NaN                                     \n",
       "303  2017                NaN                                     \n",
       "308  2017                NaN                                     \n",
       "339  2007                NaN                                     \n",
       "341  2017                2017                                    \n",
       "\n",
       "    year_household_size (GEA+)  \n",
       "6    2011.0                     \n",
       "23   2011.0                     \n",
       "26   2004.0                     \n",
       "48   2011.0                     \n",
       "49   2010.0                     \n",
       "51   2010.0                     \n",
       "85   2007.0                     \n",
       "106  2011.0                     \n",
       "137  2000.0                     \n",
       "180  2009.0                     \n",
       "192  2007.0                     \n",
       "201  2009                       \n",
       "203  2007.0                     \n",
       "275  2010                       \n",
       "301  2011                       \n",
       "303  2011                       \n",
       "308  2011                       \n",
       "339  2007.0                     \n",
       "341  2011.0                     "
      ]
     },
     "execution_count": 74,
     "metadata": {},
     "output_type": "execute_result"
    }
   ],
   "source": [
    "#Check\n",
    "\n",
    "cond1 = ~df_merge5['Year_Household size'].isnull()\n",
    "cond2 = ~df_merge5['year_household_size (GEA+)'].isnull()\n",
    "df_merge5.loc[cond1 & cond2, \n",
    "\n",
    "[var_city,'Measurement year only (CDP)','Year of Emission', 'Year_Household size', \n",
    "  'year_household_size (updated) (others)', 'year_household_size (GEA+)']\n",
    "]\n",
    "#=> OK"
   ]
  },
  {
   "cell_type": "code",
   "execution_count": 75,
   "metadata": {},
   "outputs": [],
   "source": [
    "#Drop household size columns from df_carbonn_venn that are now no longer needed\n",
    "df_merge5.drop('Household_size', 1, inplace=True)\n",
    "df_merge5.drop('Year_Household size', 1, inplace=True)\n",
    "df_merge5.drop('Household_source', 1, inplace=True)"
   ]
  },
  {
   "cell_type": "code",
   "execution_count": 76,
   "metadata": {},
   "outputs": [
    {
     "name": "stdout",
     "output_type": "stream",
     "text": [
      "(343, 124)\n"
     ]
    }
   ],
   "source": [
    "print df_merge5.shape"
   ]
  },
  {
   "cell_type": "code",
   "execution_count": null,
   "metadata": {},
   "outputs": [],
   "source": []
  },
  {
   "cell_type": "markdown",
   "metadata": {},
   "source": [
    "# Merge ancillary attributes from NEIS dataset"
   ]
  },
  {
   "cell_type": "code",
   "execution_count": 77,
   "metadata": {},
   "outputs": [],
   "source": [
    "def compare_colValues(df_master, df_new, city_names, col_names):\n",
    "    \"\"\" Compare values for same attribute\"\"\"\n",
    "    \n",
    "    for city in city_names:\n",
    "        for col in col_names:\n",
    "            m = df_master.loc[df_master[var_city]==city, col].tolist()[0]\n",
    "            new = df_new.loc[df_new[var_city]==city, col].tolist()[0]\n",
    "            print city + ' ' + repr(col) + ': ' + repr(m) + ' (master)'\n",
    "            print city + ' ' + repr(col) + ': ' + repr(new) + ' (new)'\n",
    "            print ''\n",
    "        print '----------------------------------------------------------'\n",
    "    \n",
    "    \n",
    "#     return df"
   ]
  },
  {
   "cell_type": "code",
   "execution_count": 78,
   "metadata": {},
   "outputs": [],
   "source": [
    "def fill_colValues(df_master, df_new, city_names, col_names):\n",
    "    \"\"\" Fill values of df_master with values from df_new for given attribute\"\"\"\n",
    "    \n",
    "    for city in city_names:\n",
    "        for col in col_names:           \n",
    "            new = df_new.loc[df_new[var_city]==city, col].tolist()[0]\n",
    "            df_master.loc[df_master[var_city]==city, col] = new\n",
    "\n",
    "    return df_master"
   ]
  },
  {
   "cell_type": "code",
   "execution_count": 79,
   "metadata": {},
   "outputs": [
    {
     "data": {
      "text/plain": [
       "(7, 18)"
      ]
     },
     "execution_count": 79,
     "metadata": {},
     "output_type": "execute_result"
    }
   ],
   "source": [
    "df_japan.shape"
   ]
  },
  {
   "cell_type": "code",
   "execution_count": 80,
   "metadata": {
    "scrolled": false
   },
   "outputs": [
    {
     "data": {
      "text/plain": [
       "u'Hiroshima|Kyoto|Nagoya|Okayama|Osaka|Sapporo|Sendai|Tokyo|Yokohama'"
      ]
     },
     "execution_count": 80,
     "metadata": {},
     "output_type": "execute_result"
    }
   ],
   "source": [
    "#Compare external values with those values already obtained\n",
    "\n",
    "cdp_cityList = list(df_emissions.loc[df_emissions['country'].str.contains('Japan'), var_city])\n",
    "\n",
    "cdppattern = '|'.join(cdp_cityList)\n",
    "cdppattern"
   ]
  },
  {
   "cell_type": "code",
   "execution_count": 81,
   "metadata": {},
   "outputs": [
    {
     "name": "stdout",
     "output_type": "stream",
     "text": [
      "7\n",
      "[u'Hiroshima', u'Kyoto', u'Nagoya', u'Sapporo', u'Tokyo', u'Yokohama', u'Sendai']\n"
     ]
    }
   ],
   "source": [
    "#Cities in common with CDP\n",
    "print df_japan.loc[df_japan[var_city].str.contains(cdppattern), var_city].count()\n",
    "venn_japan = df_japan.loc[df_japan[var_city].str.contains(cdppattern), var_city].tolist()\n",
    "print venn_japan\n",
    "\n",
    "#=> All 7 cities in df_japan are in CDP.\n",
    "#=> Osaka in CDP is not in df_japan; Okayama was removed"
   ]
  },
  {
   "cell_type": "code",
   "execution_count": 82,
   "metadata": {},
   "outputs": [
    {
     "name": "stdout",
     "output_type": "stream",
     "text": [
      "Hiroshima 'Average altitude (m)': nan (master)\n",
      "Hiroshima 'Average altitude (m)': 165.6 (new)\n",
      "\n",
      "Hiroshima 'area [km2] (others)': 906.53 (master)\n",
      "Hiroshima 'area [km2] (others)': 906.53 (new)\n",
      "\n",
      "Hiroshima 'population (others)': 1196274.0 (master)\n",
      "Hiroshima 'population (others)': 1154391 (new)\n",
      "\n",
      "Hiroshima 'household_size (updated) (others)': 2.21 (master)\n",
      "Hiroshima 'household_size (updated) (others)': 2.25 (new)\n",
      "\n",
      "Hiroshima 'mean travel time [min] (others)': 30.9 (master)\n",
      "Hiroshima 'mean travel time [min] (others)': 27.9 (new)\n",
      "\n",
      "----------------------------------------------------------\n",
      "Kyoto 'Average altitude (m)': nan (master)\n",
      "Kyoto 'Average altitude (m)': 179.7 (new)\n",
      "\n",
      "Kyoto 'area [km2] (others)': 827.83 (master)\n",
      "Kyoto 'area [km2] (others)': 827.83 (new)\n",
      "\n",
      "Kyoto 'population (others)': 1475183.0 (master)\n",
      "Kyoto 'population (others)': 1474811 (new)\n",
      "\n",
      "Kyoto 'household_size (updated) (others)': 2.05 (master)\n",
      "Kyoto 'household_size (updated) (others)': 2.09 (new)\n",
      "\n",
      "Kyoto 'mean travel time [min] (others)': nan (master)\n",
      "Kyoto 'mean travel time [min] (others)': 28.6 (new)\n",
      "\n",
      "----------------------------------------------------------\n",
      "Nagoya 'Average altitude (m)': nan (master)\n",
      "Nagoya 'Average altitude (m)': 18.3 (new)\n",
      "\n",
      "Nagoya 'area [km2] (others)': 326.43 (master)\n",
      "Nagoya 'area [km2] (others)': 326.45 (new)\n",
      "\n",
      "Nagoya 'population (others)': 2283289.0 (master)\n",
      "Nagoya 'population (others)': 2215062 (new)\n",
      "\n",
      "Nagoya 'household_size (updated) (others)': 2.13 (master)\n",
      "Nagoya 'household_size (updated) (others)': 2.17 (new)\n",
      "\n",
      "Nagoya 'mean travel time [min] (others)': nan (master)\n",
      "Nagoya 'mean travel time [min] (others)': 30.7 (new)\n",
      "\n",
      "----------------------------------------------------------\n",
      "Sapporo 'Average altitude (m)': nan (master)\n",
      "Sapporo 'Average altitude (m)': 70.2 (new)\n",
      "\n",
      "Sapporo 'area [km2] (others)': 1121.12 (master)\n",
      "Sapporo 'area [km2] (others)': 1121.26 (new)\n",
      "\n",
      "Sapporo 'population (others)': 1947097.0 (master)\n",
      "Sapporo 'population (others)': 1880863 (new)\n",
      "\n",
      "Sapporo 'household_size (updated) (others)': 2.08 (master)\n",
      "Sapporo 'household_size (updated) (others)': 2.12 (new)\n",
      "\n",
      "Sapporo 'mean travel time [min] (others)': nan (master)\n",
      "Sapporo 'mean travel time [min] (others)': 28.0 (new)\n",
      "\n",
      "----------------------------------------------------------\n",
      "Tokyo 'Average altitude (m)': nan (master)\n",
      "Tokyo 'Average altitude (m)': 43.0 (new)\n",
      "\n",
      "Tokyo 'area [km2] (others)': 2191.0 (master)\n",
      "Tokyo 'area [km2] (others)': 2190.93 (new)\n",
      "\n",
      "Tokyo 'population (others)': 13513734.0 (master)\n",
      "Tokyo 'population (others)': 12576611 (new)\n",
      "\n",
      "Tokyo 'household_size (updated) (others)': 1.99 (master)\n",
      "Tokyo 'household_size (updated) (others)': 2.02 (new)\n",
      "\n",
      "Tokyo 'mean travel time [min] (others)': 34.8 (master)\n",
      "Tokyo 'mean travel time [min] (others)': 43.8 (new)\n",
      "\n",
      "----------------------------------------------------------\n",
      "Yokohama 'Average altitude (m)': 39.0 (master)\n",
      "Yokohama 'Average altitude (m)': 37.1 (new)\n",
      "\n",
      "Yokohama 'area [km2] (others)': 437.0 (master)\n",
      "Yokohama 'area [km2] (others)': 437.49 (new)\n",
      "\n",
      "Yokohama 'population (others)': 3720000.0 (master)\n",
      "Yokohama 'population (others)': 3579628 (new)\n",
      "\n",
      "Yokohama 'household_size (updated) (others)': 2.23 (master)\n",
      "Yokohama 'household_size (updated) (others)': 2.26 (new)\n",
      "\n",
      "Yokohama 'mean travel time [min] (others)': nan (master)\n",
      "Yokohama 'mean travel time [min] (others)': 51.5 (new)\n",
      "\n",
      "----------------------------------------------------------\n",
      "Sendai 'Average altitude (m)': nan (master)\n",
      "Sendai 'Average altitude (m)': 105.5 (new)\n",
      "\n",
      "Sendai 'area [km2] (others)': 786.3 (master)\n",
      "Sendai 'area [km2] (others)': 786.3 (new)\n",
      "\n",
      "Sendai 'population (others)': 1086012.0 (master)\n",
      "Sendai 'population (others)': 1025126 (new)\n",
      "\n",
      "Sendai 'household_size (updated) (others)': nan (master)\n",
      "Sendai 'household_size (updated) (others)': 2.18 (new)\n",
      "\n",
      "Sendai 'mean travel time [min] (others)': nan (master)\n",
      "Sendai 'mean travel time [min] (others)': 28.5 (new)\n",
      "\n",
      "----------------------------------------------------------\n"
     ]
    }
   ],
   "source": [
    "col_names = ['Average altitude (m)','area [km2] (others)', 'population (others)', 'household_size (updated) (others)', 'mean travel time [min] (others)']\n",
    "compare_colValues(df_merge5, df_japan, venn_japan, col_names)"
   ]
  },
  {
   "cell_type": "code",
   "execution_count": null,
   "metadata": {},
   "outputs": [],
   "source": []
  },
  {
   "cell_type": "code",
   "execution_count": 83,
   "metadata": {},
   "outputs": [
    {
     "data": {
      "text/html": [
       "<div>\n",
       "<style scoped>\n",
       "    .dataframe tbody tr th:only-of-type {\n",
       "        vertical-align: middle;\n",
       "    }\n",
       "\n",
       "    .dataframe tbody tr th {\n",
       "        vertical-align: top;\n",
       "    }\n",
       "\n",
       "    .dataframe thead th {\n",
       "        text-align: right;\n",
       "    }\n",
       "</style>\n",
       "<table border=\"1\" class=\"dataframe\">\n",
       "  <thead>\n",
       "    <tr style=\"text-align: right;\">\n",
       "      <th></th>\n",
       "      <th>city name</th>\n",
       "      <th>mean travel time [min] (others)</th>\n",
       "    </tr>\n",
       "  </thead>\n",
       "  <tbody>\n",
       "    <tr>\n",
       "      <th>122</th>\n",
       "      <td>Hiroshima</td>\n",
       "      <td>30.9</td>\n",
       "    </tr>\n",
       "    <tr>\n",
       "      <th>157</th>\n",
       "      <td>Kyoto</td>\n",
       "      <td>NaN</td>\n",
       "    </tr>\n",
       "    <tr>\n",
       "      <th>195</th>\n",
       "      <td>Nagoya</td>\n",
       "      <td>NaN</td>\n",
       "    </tr>\n",
       "    <tr>\n",
       "      <th>211</th>\n",
       "      <td>Okayama</td>\n",
       "      <td>28.6</td>\n",
       "    </tr>\n",
       "    <tr>\n",
       "      <th>212</th>\n",
       "      <td>Osaka</td>\n",
       "      <td>NaN</td>\n",
       "    </tr>\n",
       "    <tr>\n",
       "      <th>262</th>\n",
       "      <td>Sapporo</td>\n",
       "      <td>NaN</td>\n",
       "    </tr>\n",
       "    <tr>\n",
       "      <th>267</th>\n",
       "      <td>Sendai</td>\n",
       "      <td>NaN</td>\n",
       "    </tr>\n",
       "    <tr>\n",
       "      <th>291</th>\n",
       "      <td>Tokyo</td>\n",
       "      <td>34.8</td>\n",
       "    </tr>\n",
       "    <tr>\n",
       "      <th>329</th>\n",
       "      <td>Yokohama</td>\n",
       "      <td>NaN</td>\n",
       "    </tr>\n",
       "  </tbody>\n",
       "</table>\n",
       "</div>"
      ],
      "text/plain": [
       "     city name  mean travel time [min] (others)\n",
       "122  Hiroshima  30.9                           \n",
       "157  Kyoto     NaN                             \n",
       "195  Nagoya    NaN                             \n",
       "211  Okayama    28.6                           \n",
       "212  Osaka     NaN                             \n",
       "262  Sapporo   NaN                             \n",
       "267  Sendai    NaN                             \n",
       "291  Tokyo      34.8                           \n",
       "329  Yokohama  NaN                             "
      ]
     },
     "execution_count": 83,
     "metadata": {},
     "output_type": "execute_result"
    }
   ],
   "source": [
    "df_merge5.loc[(df_merge5['country']=='Japan'), [var_city, 'mean travel time [min] (others)'] ]"
   ]
  },
  {
   "cell_type": "markdown",
   "metadata": {},
   "source": [
    "## Manually fill in values with values from D<sup>NIES</sup>"
   ]
  },
  {
   "cell_type": "code",
   "execution_count": 84,
   "metadata": {},
   "outputs": [
    {
     "name": "stdout",
     "output_type": "stream",
     "text": [
      "Hiroshima 'Average altitude (m)': 165.6 (master)\n",
      "Hiroshima 'Average altitude (m)': 165.6 (new)\n",
      "\n",
      "Hiroshima 'area [km2] (others)': 906.53 (master)\n",
      "Hiroshima 'area [km2] (others)': 906.53 (new)\n",
      "\n",
      "Hiroshima 'population (others)': 1154391.0 (master)\n",
      "Hiroshima 'population (others)': 1154391 (new)\n",
      "\n",
      "Hiroshima 'household_size (updated) (others)': 2.25 (master)\n",
      "Hiroshima 'household_size (updated) (others)': 2.25 (new)\n",
      "\n",
      "Hiroshima 'mean travel time [min] (others)': 27.9 (master)\n",
      "Hiroshima 'mean travel time [min] (others)': 27.9 (new)\n",
      "\n",
      "----------------------------------------------------------\n",
      "Kyoto 'Average altitude (m)': 179.7 (master)\n",
      "Kyoto 'Average altitude (m)': 179.7 (new)\n",
      "\n",
      "Kyoto 'area [km2] (others)': 827.83 (master)\n",
      "Kyoto 'area [km2] (others)': 827.83 (new)\n",
      "\n",
      "Kyoto 'population (others)': 1474811.0 (master)\n",
      "Kyoto 'population (others)': 1474811 (new)\n",
      "\n",
      "Kyoto 'household_size (updated) (others)': 2.09 (master)\n",
      "Kyoto 'household_size (updated) (others)': 2.09 (new)\n",
      "\n",
      "Kyoto 'mean travel time [min] (others)': 28.6 (master)\n",
      "Kyoto 'mean travel time [min] (others)': 28.6 (new)\n",
      "\n",
      "----------------------------------------------------------\n",
      "Nagoya 'Average altitude (m)': 18.3 (master)\n",
      "Nagoya 'Average altitude (m)': 18.3 (new)\n",
      "\n",
      "Nagoya 'area [km2] (others)': 326.45 (master)\n",
      "Nagoya 'area [km2] (others)': 326.45 (new)\n",
      "\n",
      "Nagoya 'population (others)': 2215062.0 (master)\n",
      "Nagoya 'population (others)': 2215062 (new)\n",
      "\n",
      "Nagoya 'household_size (updated) (others)': 2.17 (master)\n",
      "Nagoya 'household_size (updated) (others)': 2.17 (new)\n",
      "\n",
      "Nagoya 'mean travel time [min] (others)': 30.7 (master)\n",
      "Nagoya 'mean travel time [min] (others)': 30.7 (new)\n",
      "\n",
      "----------------------------------------------------------\n",
      "Sapporo 'Average altitude (m)': 70.2 (master)\n",
      "Sapporo 'Average altitude (m)': 70.2 (new)\n",
      "\n",
      "Sapporo 'area [km2] (others)': 1121.26 (master)\n",
      "Sapporo 'area [km2] (others)': 1121.26 (new)\n",
      "\n",
      "Sapporo 'population (others)': 1880863.0 (master)\n",
      "Sapporo 'population (others)': 1880863 (new)\n",
      "\n",
      "Sapporo 'household_size (updated) (others)': 2.12 (master)\n",
      "Sapporo 'household_size (updated) (others)': 2.12 (new)\n",
      "\n",
      "Sapporo 'mean travel time [min] (others)': 28.0 (master)\n",
      "Sapporo 'mean travel time [min] (others)': 28.0 (new)\n",
      "\n",
      "----------------------------------------------------------\n",
      "Tokyo 'Average altitude (m)': 43.0 (master)\n",
      "Tokyo 'Average altitude (m)': 43.0 (new)\n",
      "\n",
      "Tokyo 'area [km2] (others)': 2190.93 (master)\n",
      "Tokyo 'area [km2] (others)': 2190.93 (new)\n",
      "\n",
      "Tokyo 'population (others)': 12576611.0 (master)\n",
      "Tokyo 'population (others)': 12576611 (new)\n",
      "\n",
      "Tokyo 'household_size (updated) (others)': 2.02 (master)\n",
      "Tokyo 'household_size (updated) (others)': 2.02 (new)\n",
      "\n",
      "Tokyo 'mean travel time [min] (others)': 43.8 (master)\n",
      "Tokyo 'mean travel time [min] (others)': 43.8 (new)\n",
      "\n",
      "----------------------------------------------------------\n",
      "Yokohama 'Average altitude (m)': 37.1 (master)\n",
      "Yokohama 'Average altitude (m)': 37.1 (new)\n",
      "\n",
      "Yokohama 'area [km2] (others)': 437.49 (master)\n",
      "Yokohama 'area [km2] (others)': 437.49 (new)\n",
      "\n",
      "Yokohama 'population (others)': 3579628.0 (master)\n",
      "Yokohama 'population (others)': 3579628 (new)\n",
      "\n",
      "Yokohama 'household_size (updated) (others)': 2.26 (master)\n",
      "Yokohama 'household_size (updated) (others)': 2.26 (new)\n",
      "\n",
      "Yokohama 'mean travel time [min] (others)': 51.5 (master)\n",
      "Yokohama 'mean travel time [min] (others)': 51.5 (new)\n",
      "\n",
      "----------------------------------------------------------\n",
      "Sendai 'Average altitude (m)': 105.5 (master)\n",
      "Sendai 'Average altitude (m)': 105.5 (new)\n",
      "\n",
      "Sendai 'area [km2] (others)': 786.3 (master)\n",
      "Sendai 'area [km2] (others)': 786.3 (new)\n",
      "\n",
      "Sendai 'population (others)': 1025126.0 (master)\n",
      "Sendai 'population (others)': 1025126 (new)\n",
      "\n",
      "Sendai 'household_size (updated) (others)': 2.18 (master)\n",
      "Sendai 'household_size (updated) (others)': 2.18 (new)\n",
      "\n",
      "Sendai 'mean travel time [min] (others)': 28.5 (master)\n",
      "Sendai 'mean travel time [min] (others)': 28.5 (new)\n",
      "\n",
      "----------------------------------------------------------\n"
     ]
    }
   ],
   "source": [
    "col_names = ['Average altitude (m)','area [km2] (others)', 'population (others)', 'household_size (updated) (others)', 'mean travel time [min] (others)']\n",
    "fill_colValues(df_merge5, df_japan, venn_japan, col_names)\n",
    "\n",
    "#Check:\n",
    "compare_colValues(df_merge5, df_japan, venn_japan, col_names)\n",
    "#=> ok"
   ]
  },
  {
   "cell_type": "code",
   "execution_count": 85,
   "metadata": {},
   "outputs": [
    {
     "name": "stdout",
     "output_type": "stream",
     "text": [
      "152\n"
     ]
    }
   ],
   "source": [
    "print df_merge5.loc[~df_merge5['mean travel time [min] (others)'].isnull(), var_city].count()"
   ]
  },
  {
   "cell_type": "code",
   "execution_count": 86,
   "metadata": {},
   "outputs": [
    {
     "name": "stdout",
     "output_type": "stream",
     "text": [
      "195    7690000.0\n",
      "Name: Scope-1 GHG emissions, dtype: float64\n",
      "2    13844208.98\n",
      "Name: Scope 1 [tCO2], dtype: float64\n",
      "\n",
      "55.5466911191\n"
     ]
    }
   ],
   "source": [
    "cname='Nagoya'\n",
    "\n",
    "s1_cdp = df_emissions.loc[df_emissions[var_city]==cname, 'Scope-1 GHG emissions']\n",
    "s1_japan = df_japan.loc[df_japan[var_city]==cname, 'Scope 1 [tCO2]']\n",
    "print s1_cdp\n",
    "print s1_japan\n",
    "\n",
    "print ''\n",
    "print float(s1_cdp)/float(s1_japan ) * 100"
   ]
  },
  {
   "cell_type": "code",
   "execution_count": 87,
   "metadata": {},
   "outputs": [
    {
     "name": "stdout",
     "output_type": "stream",
     "text": [
      "157    7684000.0\n",
      "Name: Scope-1 GHG emissions, dtype: float64\n",
      "1    6465840.87\n",
      "Name: Scope 1 [tCO2], dtype: float64\n",
      "\n",
      "118.839918187\n"
     ]
    }
   ],
   "source": [
    "cname='Kyoto'\n",
    "\n",
    "s1_cdp = df_emissions.loc[df_emissions[var_city]==cname, 'Scope-1 GHG emissions']\n",
    "s1_japan = df_japan.loc[df_japan[var_city]==cname, 'Scope 1 [tCO2]']\n",
    "print s1_cdp\n",
    "print s1_japan\n",
    "\n",
    "print ''\n",
    "print float(s1_cdp)/float(s1_japan ) * 100"
   ]
  },
  {
   "cell_type": "code",
   "execution_count": 88,
   "metadata": {},
   "outputs": [
    {
     "data": {
      "text/html": [
       "<div>\n",
       "<style scoped>\n",
       "    .dataframe tbody tr th:only-of-type {\n",
       "        vertical-align: middle;\n",
       "    }\n",
       "\n",
       "    .dataframe tbody tr th {\n",
       "        vertical-align: top;\n",
       "    }\n",
       "\n",
       "    .dataframe thead th {\n",
       "        text-align: right;\n",
       "    }\n",
       "</style>\n",
       "<table border=\"1\" class=\"dataframe\">\n",
       "  <thead>\n",
       "    <tr style=\"text-align: right;\">\n",
       "      <th></th>\n",
       "      <th>Scope-1 GHG emissions</th>\n",
       "      <th>Scope 2 [metric ton CO2e] (CDP)</th>\n",
       "      <th>Total Emissions [metric ton CO2e] (CDP)</th>\n",
       "    </tr>\n",
       "  </thead>\n",
       "  <tbody>\n",
       "    <tr>\n",
       "      <th>122</th>\n",
       "      <td>NaN</td>\n",
       "      <td>NaN</td>\n",
       "      <td>8675437.0</td>\n",
       "    </tr>\n",
       "  </tbody>\n",
       "</table>\n",
       "</div>"
      ],
      "text/plain": [
       "     Scope-1 GHG emissions  Scope 2 [metric ton CO2e] (CDP)  \\\n",
       "122 NaN                    NaN                                \n",
       "\n",
       "     Total Emissions [metric ton CO2e] (CDP)  \n",
       "122  8675437.0                                "
      ]
     },
     "execution_count": 88,
     "metadata": {},
     "output_type": "execute_result"
    }
   ],
   "source": [
    "#CDP does not have Scope 1 for Hiroshima\n",
    "cname='Hiroshima'\n",
    "df_emissions.loc[df_emissions[var_city]==cname, ['Scope-1 GHG emissions', 'Scope 2 [metric ton CO2e] (CDP)', 'Total Emissions [metric ton CO2e] (CDP)'] ]"
   ]
  },
  {
   "cell_type": "code",
   "execution_count": 89,
   "metadata": {},
   "outputs": [
    {
     "name": "stdout",
     "output_type": "stream",
     "text": [
      "329    12572000.0\n",
      "Name: Scope-1 GHG emissions, dtype: float64\n",
      "5    17869514.08\n",
      "Name: Scope 1 [tCO2], dtype: float64\n",
      "\n",
      "70.3544592411\n"
     ]
    }
   ],
   "source": [
    "cname='Yokohama'\n",
    "\n",
    "s1_cdp = df_emissions.loc[df_emissions[var_city]==cname, 'Scope-1 GHG emissions']\n",
    "s1_japan = df_japan.loc[df_japan[var_city]==cname, 'Scope 1 [tCO2]']\n",
    "print s1_cdp\n",
    "print s1_japan\n",
    "\n",
    "print ''\n",
    "print float(s1_cdp)/float(s1_japan ) * 100"
   ]
  },
  {
   "cell_type": "code",
   "execution_count": 90,
   "metadata": {},
   "outputs": [
    {
     "name": "stdout",
     "output_type": "stream",
     "text": [
      "291    27611000.0\n",
      "Name: Scope-1 GHG emissions, dtype: float64\n",
      "4    71096920.3\n",
      "Name: Scope 1 [tCO2], dtype: float64\n",
      "\n",
      "38.8357187393\n"
     ]
    }
   ],
   "source": [
    "cname='Tokyo'\n",
    "\n",
    "s1_cdp = df_emissions.loc[df_emissions[var_city]==cname, 'Scope-1 GHG emissions']\n",
    "s1_japan = df_japan.loc[df_japan[var_city]==cname, 'Scope 1 [tCO2]']\n",
    "print s1_cdp\n",
    "print s1_japan\n",
    "\n",
    "print ''\n",
    "print float(s1_cdp)/float(s1_japan ) * 100"
   ]
  },
  {
   "cell_type": "code",
   "execution_count": 91,
   "metadata": {},
   "outputs": [
    {
     "name": "stdout",
     "output_type": "stream",
     "text": [
      "262    13024847.61\n",
      "Name: Scope-1 GHG emissions, dtype: float64\n",
      "3    9892811.22\n",
      "Name: Scope 1 [tCO2], dtype: float64\n",
      "\n",
      "131.659720582\n"
     ]
    }
   ],
   "source": [
    "cname='Sapporo'\n",
    "\n",
    "s1_cdp = df_emissions.loc[df_emissions[var_city]==cname, 'Scope-1 GHG emissions']\n",
    "s1_japan = df_japan.loc[df_japan[var_city]==cname, 'Scope 1 [tCO2]']\n",
    "print s1_cdp\n",
    "print s1_japan\n",
    "\n",
    "print ''\n",
    "print float(s1_cdp)/float(s1_japan ) * 100"
   ]
  },
  {
   "cell_type": "code",
   "execution_count": null,
   "metadata": {},
   "outputs": [],
   "source": []
  },
  {
   "cell_type": "code",
   "execution_count": 92,
   "metadata": {},
   "outputs": [],
   "source": [
    "df_japan = df_japan.drop('Scope 1 [tCO2]', 1)"
   ]
  },
  {
   "cell_type": "code",
   "execution_count": null,
   "metadata": {},
   "outputs": [],
   "source": []
  },
  {
   "cell_type": "markdown",
   "metadata": {},
   "source": [
    "# Merge ancillary attributes from Traffic datasets"
   ]
  },
  {
   "cell_type": "markdown",
   "metadata": {},
   "source": [
    "## INRIX\n",
    "Note: The following cities are NOT in INRIX:\n",
    "* North Vancouver\n",
    "* London, ON  \n",
    "\n",
    "**118 cities in INRIX overlap with D<sup>emissions</sup>.**"
   ]
  },
  {
   "cell_type": "code",
   "execution_count": 93,
   "metadata": {},
   "outputs": [],
   "source": [
    "f_inrix = 'DATA/ORIGINAL_ANCILLARY_SOURCEFILES/INRIX_2016_Traffic_Scorecard_Appendix_EN_TableA2.xlsx'\n",
    "\n",
    "df_inrix = pd.read_excel(open(f_inrix,'rb'), sheetname='TableA2', encoding = 'utf-8')"
   ]
  },
  {
   "cell_type": "code",
   "execution_count": 94,
   "metadata": {},
   "outputs": [
    {
     "data": {
      "text/plain": [
       "[u'RANK',\n",
       " u'city name',\n",
       " u'CITY (ORIG)',\n",
       " u'COUNTRY',\n",
       " u'CONTINENT',\n",
       " u'PEAK HOURS SPENT IN CONGESTION',\n",
       " u'INRIX CONGESTION INDEX',\n",
       " u'AVERAGE CONGESTION RATE']"
      ]
     },
     "execution_count": 94,
     "metadata": {},
     "output_type": "execute_result"
    }
   ],
   "source": [
    "list(df_inrix)"
   ]
  },
  {
   "cell_type": "code",
   "execution_count": 95,
   "metadata": {},
   "outputs": [],
   "source": [
    "#Rename columns\n",
    "df_inrix.rename(columns = {'PEAK HOURS SPENT IN CONGESTION':'Peak hours spent in congestion'}, inplace = True)\n",
    "df_inrix.rename(columns = {'AVERAGE CONGESTION RATE':'Average Congestion Rate'}, inplace = True)\n",
    "df_inrix.rename(columns = {'RANK':'Congestion Rank'}, inplace = True)\n",
    "df_inrix.rename(columns = {'INRIX CONGESTION INDEX':'INRIX Congestion Index'}, inplace = True)"
   ]
  },
  {
   "cell_type": "code",
   "execution_count": 96,
   "metadata": {},
   "outputs": [
    {
     "data": {
      "text/plain": [
       "['Congestion Rank',\n",
       " u'city name',\n",
       " u'CITY (ORIG)',\n",
       " u'COUNTRY',\n",
       " u'CONTINENT',\n",
       " 'Peak hours spent in congestion',\n",
       " 'INRIX Congestion Index',\n",
       " 'Average Congestion Rate']"
      ]
     },
     "execution_count": 96,
     "metadata": {},
     "output_type": "execute_result"
    }
   ],
   "source": [
    "list(df_inrix)"
   ]
  },
  {
   "cell_type": "code",
   "execution_count": 97,
   "metadata": {},
   "outputs": [
    {
     "name": "stdout",
     "output_type": "stream",
     "text": [
      "(1064, 8)\n"
     ]
    },
    {
     "data": {
      "text/plain": [
       "['Congestion Rank (INRIX)',\n",
       " u'city name',\n",
       " u'CITY (ORIG) (INRIX)',\n",
       " u'COUNTRY (INRIX)',\n",
       " u'CONTINENT (INRIX)',\n",
       " 'Peak hours spent in congestion (INRIX)',\n",
       " 'INRIX Congestion Index (INRIX)',\n",
       " 'Average Congestion Rate (INRIX)']"
      ]
     },
     "execution_count": 97,
     "metadata": {},
     "output_type": "execute_result"
    }
   ],
   "source": [
    "tag_column_names_with_datasetname(df_inrix, 'INRIX')\n",
    "\n",
    "print df_inrix.shape\n",
    "list(df_inrix)"
   ]
  },
  {
   "cell_type": "code",
   "execution_count": 98,
   "metadata": {},
   "outputs": [],
   "source": [
    "df_inrix.drop('CITY (ORIG) (INRIX)', 1, inplace=True)\n",
    "df_inrix.drop('COUNTRY (INRIX)', 1, inplace=True)\n",
    "df_inrix.drop('CONTINENT (INRIX)', 1, inplace=True)"
   ]
  },
  {
   "cell_type": "code",
   "execution_count": 99,
   "metadata": {},
   "outputs": [
    {
     "name": "stdout",
     "output_type": "stream",
     "text": [
      "(343, 124)\n",
      "(343, 128)\n"
     ]
    }
   ],
   "source": [
    "#MERGE INRIX\n",
    "print df_merge5.shape\n",
    "\n",
    "df_merge6 = df_merge5 = pd.merge(df_merge5, df_inrix, on=var_city, how='left')\n",
    "\n",
    "print df_merge6.shape"
   ]
  },
  {
   "cell_type": "code",
   "execution_count": null,
   "metadata": {},
   "outputs": [],
   "source": []
  },
  {
   "cell_type": "code",
   "execution_count": 100,
   "metadata": {},
   "outputs": [
    {
     "data": {
      "text/plain": [
       "118"
      ]
     },
     "execution_count": 100,
     "metadata": {},
     "output_type": "execute_result"
    }
   ],
   "source": [
    "df_merge6.loc[~df_merge6['Congestion Rank (INRIX)'].isnull(), var_city].count()"
   ]
  },
  {
   "cell_type": "code",
   "execution_count": 101,
   "metadata": {
    "scrolled": false
   },
   "outputs": [
    {
     "name": "stdout",
     "output_type": "stream",
     "text": [
      "118\n"
     ]
    }
   ],
   "source": [
    "mergedList = list(df_merge6.loc[~df_merge6['Congestion Rank (INRIX)'].isnull(), var_city].sort_values())\n",
    "print len(mergedList)"
   ]
  },
  {
   "cell_type": "markdown",
   "metadata": {},
   "source": [
    "## TomTom\n",
    "Note: The following cities are NOT in TomTom:  \n",
    "* Brisbane, CA (Brisbane Australia is in TomTom)  \n",
    "* Buffalo City (Buffalo, USA is in TomTom)\n",
    "* District of Columbia (Columbia, South Carolina is in TomTom)\n",
    "* North Vancouver (Vancouver is in TomTom)  \n",
    "\n",
    "Note: 'Nashville' in TomTom edited to 'Nashville and Davidson' to match emissions dataset  \n",
    "\n",
    "**123 cities in INRIX overlap with D<sup>emissions</sup>.**"
   ]
  },
  {
   "cell_type": "code",
   "execution_count": 102,
   "metadata": {},
   "outputs": [
    {
     "name": "stdout",
     "output_type": "stream",
     "text": [
      "(390, 10)\n"
     ]
    }
   ],
   "source": [
    "f_tomtom = 'DATA/ORIGINAL_ANCILLARY_SOURCEFILES/tomtom_congestion.xlsx'\n",
    "\n",
    "df_tomtom = pd.read_excel(open(f_tomtom,'rb'), sheetname='tomtom', encoding = 'utf-8')\n",
    "\n",
    "print df_tomtom.shape"
   ]
  },
  {
   "cell_type": "code",
   "execution_count": 103,
   "metadata": {},
   "outputs": [],
   "source": [
    "#Rename columns\n",
    "df_tomtom.rename(columns = {'Congestion Level':'Congestion Level'}, inplace = True)\n",
    "df_tomtom.rename(columns = {'Congestion change':'Congestion Change'}, inplace = True)\n",
    "df_tomtom.rename(columns = {'Morning Peak':'Morning Peak'}, inplace = True)\n",
    "df_tomtom.rename(columns = {'Evening Peak':'Evening Peak'}, inplace = True)\n",
    "df_tomtom.rename(columns = {'World Rank':'Congestion Rank'}, inplace = True)"
   ]
  },
  {
   "cell_type": "code",
   "execution_count": 104,
   "metadata": {},
   "outputs": [
    {
     "data": {
      "text/plain": [
       "[u'Rank by filter (TomTom)',\n",
       " 'Congestion Rank (TomTom)',\n",
       " u'city name',\n",
       " u'City (orig) (TomTom)',\n",
       " u'Country (TomTom)',\n",
       " 'Congestion Level (TomTom)',\n",
       " 'Congestion Change (TomTom)',\n",
       " 'Morning Peak (TomTom)',\n",
       " 'Evening Peak (TomTom)',\n",
       " u'TomTom City (TomTom)']"
      ]
     },
     "execution_count": 104,
     "metadata": {},
     "output_type": "execute_result"
    }
   ],
   "source": [
    "tag_column_names_with_datasetname(df_tomtom, 'TomTom')\n",
    "\n",
    "list(df_tomtom)"
   ]
  },
  {
   "cell_type": "code",
   "execution_count": 105,
   "metadata": {},
   "outputs": [],
   "source": [
    "df_tomtom.drop('Rank by filter (TomTom)', 1, inplace=True)\n",
    "df_tomtom.drop('City (orig) (TomTom)', 1, inplace=True)\n",
    "df_tomtom.drop('TomTom City (TomTom)', 1, inplace=True)\n",
    "df_tomtom.drop('Country (TomTom)', 1, inplace=True)"
   ]
  },
  {
   "cell_type": "code",
   "execution_count": 106,
   "metadata": {},
   "outputs": [
    {
     "name": "stdout",
     "output_type": "stream",
     "text": [
      "(343, 128)\n",
      "(390, 6)\n",
      "(343, 133)\n"
     ]
    }
   ],
   "source": [
    "#MERGE IN TOMTOM\n",
    "print df_merge6.shape\n",
    "print df_tomtom.shape\n",
    "\n",
    "df_merge7 = pd.merge(df_merge6, df_tomtom, on=var_city, how='left')\n",
    "\n",
    "print df_merge7.shape"
   ]
  },
  {
   "cell_type": "code",
   "execution_count": 107,
   "metadata": {},
   "outputs": [
    {
     "data": {
      "text/plain": [
       "123"
      ]
     },
     "execution_count": 107,
     "metadata": {},
     "output_type": "execute_result"
    }
   ],
   "source": [
    "df_merge7.loc[~df_merge7['Congestion Level (TomTom)'].isnull(), var_city].count()"
   ]
  },
  {
   "cell_type": "code",
   "execution_count": null,
   "metadata": {},
   "outputs": [],
   "source": []
  },
  {
   "cell_type": "markdown",
   "metadata": {},
   "source": [
    "# Merge ancillary attributes from IESE dataset\n",
    "Note: The following cities are NOT in IESE:\n",
    "* London, ON (London UK is in IESE)  \n",
    "* New Taipei (Taipei is in IESE and assume it refers to Taipei City and not New Taipei)\n",
    "* North Vancouver (Vancouver is in IESE)  \n",
    "* Santiago de Guayaquil, Ecuador (Santiago, Chile is in IESE)\n",
    "* Santiago de Cali, Colombia  \n",
    "\n",
    "**85 cities in IESE overlap with D<sup>emissions</sup>.**"
   ]
  },
  {
   "cell_type": "code",
   "execution_count": 108,
   "metadata": {},
   "outputs": [
    {
     "name": "stdout",
     "output_type": "stream",
     "text": [
      "(180, 15)\n"
     ]
    }
   ],
   "source": [
    "f_iese = 'DATA/ORIGINAL_ANCILLARY_SOURCEFILES/IESE_Table12_11.xlsx'\n",
    "\n",
    "df_iese = pd.read_excel(open(f_iese,'rb'), sheetname='IESE Tables 11 and 12', encoding = 'utf-8')\n",
    "df_iese = df_iese.reset_index(drop=True)\n",
    "\n",
    "print df_iese.shape"
   ]
  },
  {
   "cell_type": "code",
   "execution_count": 109,
   "metadata": {},
   "outputs": [
    {
     "data": {
      "text/plain": [
       "[u'city name',\n",
       " u'country',\n",
       " u'economy (IESE)',\n",
       " u'human capital (IESE)',\n",
       " u'social cohesion (IESE)',\n",
       " u'environment (IESE)',\n",
       " u'public management (IESE)',\n",
       " u'governance (IESE)',\n",
       " u'urban planning (IESE)',\n",
       " u'international impact (IESE)',\n",
       " u'technology (IESE)',\n",
       " u'mobility and transportation (IESE)',\n",
       " u'CIMI (IESE)',\n",
       " u'CIMI Ranking (IESE)',\n",
       " u'CIMI Performance (IESE)']"
      ]
     },
     "execution_count": 109,
     "metadata": {},
     "output_type": "execute_result"
    }
   ],
   "source": [
    "tag_column_names_with_datasetname(df_iese, 'IESE')\n",
    "\n",
    "list(df_iese)"
   ]
  },
  {
   "cell_type": "code",
   "execution_count": null,
   "metadata": {},
   "outputs": [],
   "source": []
  },
  {
   "cell_type": "code",
   "execution_count": 110,
   "metadata": {},
   "outputs": [],
   "source": [
    "df_iese.drop('country', 1, inplace=True)"
   ]
  },
  {
   "cell_type": "code",
   "execution_count": 111,
   "metadata": {},
   "outputs": [
    {
     "name": "stdout",
     "output_type": "stream",
     "text": [
      "(343, 133)\n",
      "(180, 14)\n",
      "(343, 146)\n"
     ]
    }
   ],
   "source": [
    "#MERGE IN IESE\n",
    "print df_merge7.shape\n",
    "print df_iese.shape\n",
    "\n",
    "df_merge8 = pd.merge(df_merge7, df_iese, on=var_city, how='left')\n",
    "\n",
    "print df_merge8.shape"
   ]
  },
  {
   "cell_type": "code",
   "execution_count": 112,
   "metadata": {},
   "outputs": [
    {
     "data": {
      "text/plain": [
       "85"
      ]
     },
     "execution_count": 112,
     "metadata": {},
     "output_type": "execute_result"
    }
   ],
   "source": [
    "df_merge8.loc[~df_merge8['CIMI (IESE)'].isnull(), var_city].count() #67 before\n",
    "#=> 85 IESE cities overlap with emissions datasets"
   ]
  },
  {
   "cell_type": "code",
   "execution_count": null,
   "metadata": {},
   "outputs": [],
   "source": []
  },
  {
   "cell_type": "markdown",
   "metadata": {},
   "source": [
    "# Merge ancillary attributes from Urban Expansion dataset\n",
    "Note: 'Taipei Urban Area Name' includes three data point from the CDP (Taipei City, New Taipei City and Taoyuan City).  \n",
    "(CDP has both Taipei City and New Taipei City. Taipei City is an enclave of the municipality of New Taipei City.)"
   ]
  },
  {
   "cell_type": "code",
   "execution_count": 113,
   "metadata": {},
   "outputs": [
    {
     "name": "stdout",
     "output_type": "stream",
     "text": [
      "(341, 20)\n"
     ]
    },
    {
     "data": {
      "text/html": [
       "<div>\n",
       "<style scoped>\n",
       "    .dataframe tbody tr th:only-of-type {\n",
       "        vertical-align: middle;\n",
       "    }\n",
       "\n",
       "    .dataframe tbody tr th {\n",
       "        vertical-align: top;\n",
       "    }\n",
       "\n",
       "    .dataframe thead th {\n",
       "        text-align: right;\n",
       "    }\n",
       "</style>\n",
       "<table border=\"1\" class=\"dataframe\">\n",
       "  <thead>\n",
       "    <tr style=\"text-align: right;\">\n",
       "      <th></th>\n",
       "      <th>city name</th>\n",
       "      <th>Urban Area Name</th>\n",
       "      <th>Low BUA - 1990</th>\n",
       "      <th>Low BUA – 2000</th>\n",
       "      <th>Low BUA – 2014</th>\n",
       "      <th>High BUA - 1990</th>\n",
       "      <th>High BUA – 2000</th>\n",
       "      <th>High BUA – 2014</th>\n",
       "      <th>Low BUA % - 1990</th>\n",
       "      <th>Low BUA % – 2000</th>\n",
       "      <th>Low BUA % – 2014</th>\n",
       "      <th>High BUA % - 1990</th>\n",
       "      <th>High BUA % – 2000</th>\n",
       "      <th>High BUA % – 2014</th>\n",
       "      <th>Low BUA pop density - 1990</th>\n",
       "      <th>High BUA pop density – 1990</th>\n",
       "      <th>Low BUA pop density – 2000</th>\n",
       "      <th>High BUA pop density - 2000</th>\n",
       "      <th>Low BUA pop density – 2014</th>\n",
       "      <th>High BUA pop density - 2014</th>\n",
       "    </tr>\n",
       "  </thead>\n",
       "  <tbody>\n",
       "    <tr>\n",
       "      <th>0</th>\n",
       "      <td>Buenos Aires</td>\n",
       "      <td>City of Buenos Aires Urban Area</td>\n",
       "      <td>655.1875</td>\n",
       "      <td>700.4375</td>\n",
       "      <td>731.375</td>\n",
       "      <td>1702.0625</td>\n",
       "      <td>1887.5625</td>\n",
       "      <td>2046.3125</td>\n",
       "      <td>0.277946</td>\n",
       "      <td>0.270648</td>\n",
       "      <td>0.263304</td>\n",
       "      <td>0.722054</td>\n",
       "      <td>0.729352</td>\n",
       "      <td>0.736696</td>\n",
       "      <td>1990.000000</td>\n",
       "      <td>1990.000000</td>\n",
       "      <td>425.79253</td>\n",
       "      <td>6429.729951</td>\n",
       "      <td>497.821056</td>\n",
       "      <td>7166.397159</td>\n",
       "    </tr>\n",
       "    <tr>\n",
       "      <th>1</th>\n",
       "      <td>Adelaide</td>\n",
       "      <td>City of Adelaide Urban Area</td>\n",
       "      <td>234.5625</td>\n",
       "      <td>244.5000</td>\n",
       "      <td>250.125</td>\n",
       "      <td>595.0000</td>\n",
       "      <td>617.6250</td>\n",
       "      <td>639.2500</td>\n",
       "      <td>0.282754</td>\n",
       "      <td>0.283602</td>\n",
       "      <td>0.281237</td>\n",
       "      <td>0.717246</td>\n",
       "      <td>0.716398</td>\n",
       "      <td>0.718763</td>\n",
       "      <td>401.928179</td>\n",
       "      <td>6206.605592</td>\n",
       "      <td>75.98208</td>\n",
       "      <td>1470.030353</td>\n",
       "      <td>74.792580</td>\n",
       "      <td>1789.259778</td>\n",
       "    </tr>\n",
       "    <tr>\n",
       "      <th>2</th>\n",
       "      <td>Sydney</td>\n",
       "      <td>City of Sydney Urban Area</td>\n",
       "      <td>535.4375</td>\n",
       "      <td>523.1875</td>\n",
       "      <td>504.875</td>\n",
       "      <td>1359.8750</td>\n",
       "      <td>1440.6250</td>\n",
       "      <td>1507.3125</td>\n",
       "      <td>0.282506</td>\n",
       "      <td>0.266414</td>\n",
       "      <td>0.250909</td>\n",
       "      <td>0.717494</td>\n",
       "      <td>0.733586</td>\n",
       "      <td>0.749091</td>\n",
       "      <td>103.019859</td>\n",
       "      <td>1352.728702</td>\n",
       "      <td>118.21506</td>\n",
       "      <td>2278.088318</td>\n",
       "      <td>115.533774</td>\n",
       "      <td>2743.988705</td>\n",
       "    </tr>\n",
       "  </tbody>\n",
       "</table>\n",
       "</div>"
      ],
      "text/plain": [
       "      city name                  Urban Area Name  Low BUA - 1990  \\\n",
       "0  Buenos Aires  City of Buenos Aires Urban Area  655.1875         \n",
       "1  Adelaide      City of Adelaide Urban Area      234.5625         \n",
       "2  Sydney        City of Sydney Urban Area        535.4375         \n",
       "\n",
       "   Low BUA – 2000  Low BUA – 2014  High BUA - 1990  High BUA – 2000  \\\n",
       "0  700.4375        731.375         1702.0625        1887.5625         \n",
       "1  244.5000        250.125         595.0000         617.6250          \n",
       "2  523.1875        504.875         1359.8750        1440.6250         \n",
       "\n",
       "   High BUA – 2014  Low BUA % - 1990  Low BUA % – 2000  Low BUA % – 2014  \\\n",
       "0  2046.3125        0.277946          0.270648          0.263304           \n",
       "1  639.2500         0.282754          0.283602          0.281237           \n",
       "2  1507.3125        0.282506          0.266414          0.250909           \n",
       "\n",
       "   High BUA % - 1990  High BUA % – 2000  High BUA % – 2014  \\\n",
       "0  0.722054           0.729352           0.736696            \n",
       "1  0.717246           0.716398           0.718763            \n",
       "2  0.717494           0.733586           0.749091            \n",
       "\n",
       "   Low BUA pop density - 1990  High BUA pop density – 1990  \\\n",
       "0  1990.000000                 1990.000000                   \n",
       "1  401.928179                  6206.605592                   \n",
       "2  103.019859                  1352.728702                   \n",
       "\n",
       "   Low BUA pop density – 2000  High BUA pop density - 2000  \\\n",
       "0  425.79253                   6429.729951                   \n",
       "1  75.98208                    1470.030353                   \n",
       "2  118.21506                   2278.088318                   \n",
       "\n",
       "   Low BUA pop density – 2014  High BUA pop density - 2014  \n",
       "0  497.821056                  7166.397159                  \n",
       "1  74.792580                   1789.259778                  \n",
       "2  115.533774                  2743.988705                  "
      ]
     },
     "execution_count": 113,
     "metadata": {},
     "output_type": "execute_result"
    }
   ],
   "source": [
    "f_urban= 'DATA/ORIGINAL_ANCILLARY_SOURCEFILES/uex_prepared.tsv'\n",
    "\n",
    "df_urban = pd.read_csv(f_urban, sep=\"\\t\", encoding = 'utf-8')\n",
    "df_urban = df_urban.drop('Unnamed: 0', 1)\n",
    "\n",
    "print df_urban.shape\n",
    "df_urban.head(3)"
   ]
  },
  {
   "cell_type": "code",
   "execution_count": 114,
   "metadata": {},
   "outputs": [
    {
     "data": {
      "text/plain": [
       "[u'city name',\n",
       " u'Urban Area Name (UEX)',\n",
       " u'Low BUA - 1990 (UEX)',\n",
       " u'Low BUA \\u2013 2000 (UEX)',\n",
       " u'Low BUA \\u2013 2014 (UEX)',\n",
       " u'High BUA - 1990 (UEX)',\n",
       " u'High BUA \\u2013 2000 (UEX)',\n",
       " u'High BUA \\u2013 2014 (UEX)',\n",
       " u'Low BUA % - 1990 (UEX)',\n",
       " u'Low BUA % \\u2013 2000 (UEX)',\n",
       " u'Low BUA % \\u2013 2014 (UEX)',\n",
       " u'High BUA % - 1990 (UEX)',\n",
       " u'High BUA % \\u2013 2000 (UEX)',\n",
       " u'High BUA % \\u2013 2014 (UEX)',\n",
       " u'Low BUA pop density - 1990 (UEX)',\n",
       " u'High BUA pop density \\u2013 1990 (UEX)',\n",
       " u'Low BUA pop density \\u2013 2000 (UEX)',\n",
       " u'High BUA pop density - 2000 (UEX)',\n",
       " u'Low BUA pop density \\u2013 2014 (UEX)',\n",
       " u'High BUA pop density - 2014 (UEX)']"
      ]
     },
     "execution_count": 114,
     "metadata": {},
     "output_type": "execute_result"
    }
   ],
   "source": [
    "tag_column_names_with_datasetname(df_urban, 'UEX')\n",
    "\n",
    "list(df_urban)"
   ]
  },
  {
   "cell_type": "code",
   "execution_count": 115,
   "metadata": {},
   "outputs": [
    {
     "name": "stdout",
     "output_type": "stream",
     "text": [
      "(343, 146)\n",
      "(341, 20)\n",
      "(343, 165)\n"
     ]
    }
   ],
   "source": [
    "#MERGE IN UEX\n",
    "print df_merge8.shape\n",
    "print df_urban.shape\n",
    "\n",
    "df_merge9 = pd.merge(df_merge8, df_urban, on=var_city, how='left')\n",
    "\n",
    "print df_merge9.shape"
   ]
  },
  {
   "cell_type": "code",
   "execution_count": 116,
   "metadata": {
    "scrolled": false
   },
   "outputs": [
    {
     "name": "stdout",
     "output_type": "stream",
     "text": [
      "341\n"
     ]
    }
   ],
   "source": [
    "#Check\n",
    "print df_merge9.loc[~df_merge9['Urban Area Name (UEX)'].isnull(), var_city].count()"
   ]
  },
  {
   "cell_type": "code",
   "execution_count": null,
   "metadata": {},
   "outputs": [],
   "source": []
  },
  {
   "cell_type": "markdown",
   "metadata": {},
   "source": [
    "# Merge ancillary attributes from climate dataset"
   ]
  },
  {
   "cell_type": "code",
   "execution_count": 117,
   "metadata": {},
   "outputs": [
    {
     "name": "stdout",
     "output_type": "stream",
     "text": [
      "(343, 6)\n"
     ]
    },
    {
     "data": {
      "text/plain": [
       "[u'city name', u'lat', u'lon', u'CDD_23C', u'HDD_15.5C', u'coord source']"
      ]
     },
     "execution_count": 117,
     "metadata": {},
     "output_type": "execute_result"
    }
   ],
   "source": [
    "f_clim = 'DATA/ORIGINAL_ANCILLARY_SOURCEFILES/climAll_prepared.tsv'\n",
    "\n",
    "df_clim = pd.read_csv(f_clim, delimiter=\"\\t\", encoding = 'utf-8')\n",
    "\n",
    "df_clim.drop('Unnamed: 0', 1, inplace=True)\n",
    "\n",
    "print df_clim.shape\n",
    "list(df_clim)"
   ]
  },
  {
   "cell_type": "code",
   "execution_count": 118,
   "metadata": {},
   "outputs": [
    {
     "data": {
      "text/plain": [
       "[u'city name',\n",
       " u'lat (clim)',\n",
       " u'lon (clim)',\n",
       " u'CDD_23C (clim)',\n",
       " u'HDD_15.5C (clim)',\n",
       " u'coord source (clim)']"
      ]
     },
     "execution_count": 118,
     "metadata": {},
     "output_type": "execute_result"
    }
   ],
   "source": [
    "tag_column_names_with_datasetname(df_clim, 'clim')\n",
    "\n",
    "list(df_clim)"
   ]
  },
  {
   "cell_type": "code",
   "execution_count": null,
   "metadata": {},
   "outputs": [],
   "source": []
  },
  {
   "cell_type": "code",
   "execution_count": 119,
   "metadata": {},
   "outputs": [
    {
     "name": "stdout",
     "output_type": "stream",
     "text": [
      "(343, 165)\n",
      "(343, 6)\n",
      "(343, 170)\n"
     ]
    }
   ],
   "source": [
    "#MERGE IN UEX\n",
    "print df_merge9.shape\n",
    "print df_clim.shape\n",
    "\n",
    "df_merge10 = pd.merge(df_merge9, df_clim, on=var_city, how='left')\n",
    "\n",
    "print df_merge10.shape"
   ]
  },
  {
   "cell_type": "code",
   "execution_count": 120,
   "metadata": {},
   "outputs": [
    {
     "data": {
      "text/plain": [
       "343"
      ]
     },
     "execution_count": 120,
     "metadata": {},
     "output_type": "execute_result"
    }
   ],
   "source": [
    "#Check\n",
    "df_merge10.loc[~df_merge10['HDD_15.5C (clim)'].isnull(), var_city].count()"
   ]
  },
  {
   "cell_type": "code",
   "execution_count": 121,
   "metadata": {},
   "outputs": [
    {
     "data": {
      "text/plain": [
       "(343, 170)"
      ]
     },
     "execution_count": 121,
     "metadata": {},
     "output_type": "execute_result"
    }
   ],
   "source": [
    "df_merge10.shape"
   ]
  },
  {
   "cell_type": "markdown",
   "metadata": {},
   "source": [
    "# Consolidate remaining columns\n",
    "* 'lat (clim)', \n",
    "* 'lat (china)', \n",
    "* 'lon (carbonn)', \n",
    "* 'lat (carbonn)', \n",
    "* 'lon (clim)', \n",
    "* 'lon (china)', \n",
    "* 'coord source (clim)'"
   ]
  },
  {
   "cell_type": "code",
   "execution_count": 122,
   "metadata": {},
   "outputs": [],
   "source": [
    "df_merge10['lat'] = np.nan\n",
    "df_merge10['lon'] = np.nan\n",
    "df_merge10['coord source'] = np.nan"
   ]
  },
  {
   "cell_type": "code",
   "execution_count": 123,
   "metadata": {},
   "outputs": [],
   "source": [
    "#make a general column\n",
    "df_merge10['lat'] = df_merge10['lat (clim)']\n",
    "df_merge10['lon'] = df_merge10['lon (clim)']\n",
    "\n",
    "df_merge10['coord source'] = df_merge10['coord source (clim)']"
   ]
  },
  {
   "cell_type": "code",
   "execution_count": 124,
   "metadata": {},
   "outputs": [],
   "source": [
    "#Add lat/lon for carbonn cities\n",
    "df_merge10.loc[df_merge10['Scope-1 source dataset'].str.contains('carbonn'), 'lat'] = df_merge10['lat (carbonn)']\n",
    "df_merge10.loc[df_merge10['Scope-1 source dataset'].str.contains('carbonn'), 'lon'] = df_merge10['lon (carbonn)']\n",
    "df_merge10.loc[df_merge10['Scope-1 source dataset'].str.contains('carbonn'), 'coord source'] = 'carbonn'"
   ]
  },
  {
   "cell_type": "code",
   "execution_count": 125,
   "metadata": {},
   "outputs": [],
   "source": [
    "#Add lat/lon for chinese cities\n",
    "df_merge10.loc[df_merge10['Scope-1 source dataset'].str.contains('PKU'), 'lat'] = df_merge10['lat (PKU)']\n",
    "df_merge10.loc[df_merge10['Scope-1 source dataset'].str.contains('PKU'), 'lon'] = df_merge10['lon (PKU)']\n",
    "df_merge10.loc[df_merge10['Scope-1 source dataset'].str.contains('PKU'), 'coord source'] = 'wikipedia'"
   ]
  },
  {
   "cell_type": "code",
   "execution_count": 126,
   "metadata": {},
   "outputs": [
    {
     "data": {
      "text/html": [
       "<div>\n",
       "<style scoped>\n",
       "    .dataframe tbody tr th:only-of-type {\n",
       "        vertical-align: middle;\n",
       "    }\n",
       "\n",
       "    .dataframe tbody tr th {\n",
       "        vertical-align: top;\n",
       "    }\n",
       "\n",
       "    .dataframe thead th {\n",
       "        text-align: right;\n",
       "    }\n",
       "</style>\n",
       "<table border=\"1\" class=\"dataframe\">\n",
       "  <thead>\n",
       "    <tr style=\"text-align: right;\">\n",
       "      <th></th>\n",
       "      <th>city name</th>\n",
       "      <th>lat</th>\n",
       "      <th>Scope 1 source dataset</th>\n",
       "    </tr>\n",
       "  </thead>\n",
       "  <tbody>\n",
       "  </tbody>\n",
       "</table>\n",
       "</div>"
      ],
      "text/plain": [
       "Empty DataFrame\n",
       "Columns: [city name, lat, Scope 1 source dataset]\n",
       "Index: []"
      ]
     },
     "execution_count": 126,
     "metadata": {},
     "output_type": "execute_result"
    }
   ],
   "source": [
    "#Check\n",
    "df_merge10.loc[df_merge10['lat'].isnull(), [var_city, 'lat', 'Scope 1 source dataset']]\n",
    "#=> ok"
   ]
  },
  {
   "cell_type": "code",
   "execution_count": 127,
   "metadata": {},
   "outputs": [],
   "source": [
    "#drop columns no longer used\n",
    "df_merge10.drop('lat (clim)', 1, inplace=True)\n",
    "df_merge10.drop('lon (clim)', 1, inplace=True)\n",
    "df_merge10.drop('coord source (clim)', 1, inplace=True)\n",
    "\n",
    "df_merge10.drop('lat (carbonn)', 1, inplace=True)\n",
    "df_merge10.drop('lon (carbonn)', 1, inplace=True)\n",
    "df_merge10.drop('lat (PKU)', 1, inplace=True)\n",
    "df_merge10.drop('lon (PKU)', 1, inplace=True)"
   ]
  },
  {
   "cell_type": "code",
   "execution_count": null,
   "metadata": {},
   "outputs": [],
   "source": []
  },
  {
   "cell_type": "code",
   "execution_count": 128,
   "metadata": {},
   "outputs": [
    {
     "name": "stdout",
     "output_type": "stream",
     "text": [
      "(343, 166)\n"
     ]
    }
   ],
   "source": [
    "print df_merge10.shape"
   ]
  },
  {
   "cell_type": "code",
   "execution_count": null,
   "metadata": {},
   "outputs": [],
   "source": []
  },
  {
   "cell_type": "markdown",
   "metadata": {},
   "source": [
    "# Column order"
   ]
  },
  {
   "cell_type": "code",
   "execution_count": 129,
   "metadata": {},
   "outputs": [
    {
     "name": "stdout",
     "output_type": "stream",
     "text": [
      "166\n",
      "(343, 166)\n"
     ]
    }
   ],
   "source": [
    "col_order = [\n",
    "u'city name',\n",
    "u'City Name (CDP)',\n",
    "u'full city name (carbonn)',\n",
    "u'full city name (PKU)',\n",
    "'full city name (GEA)', 'full city name (UITP)', 'full city name (WB)',\n",
    "u'Boundary (CDP)',\n",
    "u'city_type (carbonn)',\n",
    "u'definition  (WB)',\n",
    "u'study_year (WB)',\n",
    "\n",
    "u'Reporting Year (CDP)',\n",
    "    \n",
    "u'Scope-1 GHG emissions',\n",
    "u'Scope-1 source dataset',\n",
    "u'Scope-1 GHG emissions units',\n",
    "u'Year of Emission',\n",
    "u'Emissions Protocol',\n",
    "u'Gases included (CDP)',\n",
    "u'Methodology Details (CDP)',\n",
    "u'Increase/Decrease from last year (CDP)',\n",
    "u'Reason for increase/decrease in emissions (CDP)',\n",
    "u'Scope 2 [metric ton CO2e] (CDP)',\n",
    "u'Total Emissions [metric ton CO2e] (CDP)',\n",
    "u'CDP2016 data edited (CDP)',\n",
    "u'Emissions Quality Flag (CDP)',\n",
    "u'S1 lower bound [tCO2] (CDP)',\n",
    "u'S1 upper bound [tCO2] (CDP)',\n",
    "u'S1 mean [tCO2] (CDP)',\n",
    "u'TOT lower bound [tCO2] (CDP)',\n",
    "u'TOT upper bound [tCO2] (CDP)',\n",
    "u'TOT mean [tCO2] (CDP)',\n",
    "u'scope fraction (CDP)',\n",
    "u'CO2 Emissions Per Capita (Ton) (PKU)',\n",
    "    \n",
    "\n",
    "'City Location (CDP)',\n",
    "'lat',\n",
    "'lon',\n",
    "'coord source',\n",
    "u'country',\n",
    "u'region',\n",
    "\n",
    "u'Current Population (CDP)',\n",
    "u'Current Population Year (CDP)',\n",
    "u'pop (carbonn)',\n",
    "u'pop_yr (carbonn)',\n",
    "u'Urban Population (PKU)',\n",
    "u'population (GEA)',\n",
    "u'population (UITP)',\n",
    "u'population (WB)',\n",
    "u'population_year (WB)',\n",
    "u'population (others)',\n",
    "u'population (others) source year',\n",
    "u'population (others) source',\n",
    "u'pop_1950 (WB)',\n",
    "u'pop_1990 (WB)',\n",
    "u'pop_2010 (WB)',\n",
    "u'growth_rate_1950-2010 (WB)',\n",
    "u'growth_rate_1990-2010 (WB)',\n",
    "'Ancillary from GEA+',\n",
    "\n",
    "\n",
    "u'Land area (in square km) (CDP)',\n",
    "u'area_size (GEA)',\n",
    "u'area_size (WB)',\n",
    "u'Built-up Area (km2) (PKU)',\n",
    "u'area [km2] (others)',\n",
    "u'area [km2] (others) source year',\n",
    "u'area [km2] (others) source',\n",
    "u'population_density (GEA)',\n",
    "u'population_density (UITP)',\n",
    "u'pop_density (WB)',\n",
    "u'pop/sqrt(area_size) (GEA)',\n",
    "u'pop/sqrt(area) (WB)',\n",
    "\n",
    "\n",
    "u'Average altitude (m)',\n",
    "u'Average annual temperature (in Celsius) (CDP)',\n",
    "\n",
    "u'weather_station_id (GEA+)',\n",
    "u'CDD_23C (GEA+)',\n",
    "u'HDD_15.5C (GEA+)',\n",
    "'HDD_15.5C (clim)',\n",
    "'CDD_23C (clim)',\n",
    "\n",
    "\n",
    "\n",
    "u'City GDP (CDP)',\n",
    "u'GDP Currency (CDP)',\n",
    "u'Year of GDP (CDP)',\n",
    "u'GDP Source (CDP)',\n",
    "u'GDP (carbonn)',\n",
    "u'nGDP (carbonn)',\n",
    "u'GDP unit (carbonn)',\n",
    "u'GDP year (carbonn)',\n",
    "u'GDP (10000 RMB) (PKU)',\n",
    "u'Income Per Capita (RMB) (PKU)',\n",
    "u'GDP-PPP [$BN] (others)',\n",
    "u'GDP-PPP/cap [$USD] (others)',\n",
    "u'GDP-PPP [$BN] (others) source',\n",
    "'GDP-PPP year (others)',   \n",
    "u'nGDP [$BN] (others)',\n",
    "u'nGDP/cap [$USD] (others)',\n",
    "u'nGDP [$BN] (others) source',\n",
    "u'nGDP [$BN] (others) source year',\n",
    "'GDP-PPP/cap (GEA)',\n",
    "'GDP-PPP/cap (UITP)',\n",
    "'GDP-PPP/cap (WB)',\n",
    "\n",
    "\n",
    "u'total_final_consumption_per_capita (GEA)',\n",
    "u'energy_per_cap_CO2 (WB)',\n",
    "\n",
    "u'diesel_price (GEA+)',\n",
    "u'gasoline_price (GEA+)',\n",
    "u'center_of_commerce_index (GEA+)',\n",
    "u'household_size (GEA+)',\n",
    "u'year_household_size (GEA+)',\n",
    "u'household_source (GEA+)',\n",
    "u'comment_household_size (GEA+)',\n",
    "u'urbanization_ratio (GEA+)',\n",
    "u'water_bounded (GEA+)',\n",
    "u'other_bounded (GEA+)',\n",
    "\n",
    "\n",
    "u'mean travel time [min] (others)',\n",
    "u'mean travel time ref year (others)',\n",
    "u'mean travel time ref (others)',\n",
    "u'diesel_price (2014) (others)',\n",
    "u'gasoline_price (2014) (others)',\n",
    "u'household_size (updated) (others)',\n",
    "u'year_household_size (updated) (others)',\n",
    "u'household_source (updated) (others)',\n",
    "u'comment_household_size (updated) (others)',\n",
    "\n",
    "\n",
    "'Congestion Rank (INRIX)',\n",
    " 'Peak hours spent in congestion (INRIX)',\n",
    " 'INRIX Congestion Index (INRIX)',\n",
    " 'Average Congestion Rate (INRIX)',\n",
    " 'Congestion Rank (TomTom)',\n",
    " 'Congestion Level (TomTom)',\n",
    " u'Congestion Change (TomTom)',\n",
    " 'Morning Peak (TomTom)',\n",
    " 'Evening Peak (TomTom)',\n",
    "\n",
    "u'economy (IESE)',\n",
    "u'environment (IESE)',\n",
    "u'governance (IESE)',\n",
    "u'human capital (IESE)',\n",
    "u'international impact (IESE)',\n",
    "u'mobility and transportation (IESE)',\n",
    "u'public management (IESE)',\n",
    "u'social cohesion (IESE)',\n",
    "u'technology (IESE)',\n",
    "u'urban planning (IESE)',\n",
    "u'CIMI (IESE)',\n",
    "u'CIMI Ranking (IESE)',\n",
    "u'CIMI Performance (IESE)',\n",
    "    \n",
    "u'Urban Area Name (UEX)',\n",
    "u'Low BUA - 1990 (UEX)',\n",
    "u'Low BUA \\u2013 2000 (UEX)',\n",
    "u'Low BUA \\u2013 2014 (UEX)',\n",
    "u'High BUA - 1990 (UEX)',\n",
    "u'High BUA \\u2013 2000 (UEX)',\n",
    "u'High BUA \\u2013 2014 (UEX)',\n",
    "u'Low BUA % - 1990 (UEX)',\n",
    "u'Low BUA % \\u2013 2000 (UEX)',\n",
    "u'Low BUA % \\u2013 2014 (UEX)',\n",
    "u'High BUA % - 1990 (UEX)',\n",
    "u'High BUA % \\u2013 2000 (UEX)',\n",
    "u'High BUA % \\u2013 2014 (UEX)',\n",
    "u'Low BUA pop density - 1990 (UEX)',\n",
    "u'High BUA pop density \\u2013 1990 (UEX)',\n",
    "u'Low BUA pop density \\u2013 2000 (UEX)',\n",
    "u'High BUA pop density - 2000 (UEX)',\n",
    "u'Low BUA pop density \\u2013 2014 (UEX)',\n",
    "u'High BUA pop density - 2014 (UEX)',\n",
    "\n",
    "\n",
    "u'Exports (m3)',\n",
    "u'Production (m3)',\n",
    "u'Export/Production',\n",
    "u'CH4_waste/person',\n",
    "u'CH4_(waste+natgas)/person',\n",
    "u'corrected CH4_(waste+natgas)/person',\n",
    "u'data from CIA World Fact Book for 2014'\n",
    "\n",
    "]\n",
    "\n",
    "print len(col_order)\n",
    "print df_merge10.shape"
   ]
  },
  {
   "cell_type": "code",
   "execution_count": 130,
   "metadata": {},
   "outputs": [],
   "source": [
    "df_merge10=df_merge10[col_order]"
   ]
  },
  {
   "cell_type": "code",
   "execution_count": null,
   "metadata": {},
   "outputs": [],
   "source": []
  },
  {
   "cell_type": "markdown",
   "metadata": {},
   "source": [
    "# Remove -999\n",
    "Replace with np.nan"
   ]
  },
  {
   "cell_type": "code",
   "execution_count": 131,
   "metadata": {},
   "outputs": [],
   "source": [
    "attr = 'center_of_commerce_index (GEA+)'\n",
    "df_merge10.loc[df_merge10[attr]==-999, attr] = np.nan"
   ]
  },
  {
   "cell_type": "code",
   "execution_count": 132,
   "metadata": {},
   "outputs": [],
   "source": [
    "attr = 'comment_household_size (GEA+)'\n",
    "df_merge10.loc[df_merge10[attr]==-999, attr] = np.nan"
   ]
  },
  {
   "cell_type": "code",
   "execution_count": 133,
   "metadata": {},
   "outputs": [],
   "source": [
    "attr = 'comment_household_size (GEA+)'\n",
    "df_merge10.loc[df_merge10[attr]==\"-999\", attr] = np.nan"
   ]
  },
  {
   "cell_type": "code",
   "execution_count": 134,
   "metadata": {},
   "outputs": [],
   "source": [
    "attr = 'other_bounded (GEA+)'\n",
    "df_merge10.loc[df_merge10[attr]==-999, attr] = np.nan"
   ]
  },
  {
   "cell_type": "code",
   "execution_count": 135,
   "metadata": {},
   "outputs": [],
   "source": [
    "attr = 'other_bounded (GEA+)'\n",
    "df_merge10.loc[df_merge10[attr]==\"-999\", attr] = np.nan"
   ]
  },
  {
   "cell_type": "code",
   "execution_count": 136,
   "metadata": {},
   "outputs": [],
   "source": [
    "attr = 'water_bounded (GEA+)'\n",
    "df_merge10.loc[df_merge10[attr]==-999, attr] = np.nan"
   ]
  },
  {
   "cell_type": "code",
   "execution_count": 137,
   "metadata": {},
   "outputs": [],
   "source": [
    "attr = 'household_source (updated) (others)'\n",
    "df_merge10.loc[df_merge10[attr]==\"-999\", attr] = np.nan"
   ]
  },
  {
   "cell_type": "code",
   "execution_count": 138,
   "metadata": {},
   "outputs": [],
   "source": [
    "attr = 'household_source (updated) (others)'\n",
    "df_merge10.loc[df_merge10[attr]==-999, attr] = np.nan"
   ]
  },
  {
   "cell_type": "code",
   "execution_count": 139,
   "metadata": {},
   "outputs": [],
   "source": [
    "attr = 'household_source (GEA+)'\n",
    "df_merge10.loc[df_merge10[attr]==\"-999\", attr] = np.nan"
   ]
  },
  {
   "cell_type": "code",
   "execution_count": 140,
   "metadata": {},
   "outputs": [],
   "source": [
    "attr = 'weather_station_id (GEA+)'\n",
    "df_merge10.loc[df_merge10[attr]==\"-999\", attr] = np.nan"
   ]
  },
  {
   "cell_type": "code",
   "execution_count": null,
   "metadata": {},
   "outputs": [],
   "source": []
  },
  {
   "cell_type": "markdown",
   "metadata": {},
   "source": [
    "# Save data"
   ]
  },
  {
   "cell_type": "code",
   "execution_count": 141,
   "metadata": {},
   "outputs": [
    {
     "name": "stdout",
     "output_type": "stream",
     "text": [
      "(343, 166)\n"
     ]
    }
   ],
   "source": [
    "print df_merge10.shape"
   ]
  },
  {
   "cell_type": "code",
   "execution_count": 142,
   "metadata": {},
   "outputs": [],
   "source": [
    "df_merge10.to_csv('DATA/INTERMEDIATE_FILES/merged_emissions_and_ancillary_datasets.tsv', sep='\\t' , encoding='utf-8')"
   ]
  },
  {
   "cell_type": "code",
   "execution_count": null,
   "metadata": {},
   "outputs": [],
   "source": []
  },
  {
   "cell_type": "markdown",
   "metadata": {},
   "source": [
    "# Continue to TechnicalValidation_qualityFlags.ipynb"
   ]
  }
 ],
 "metadata": {
  "kernelspec": {
   "display_name": "Python 2",
   "language": "python",
   "name": "python2"
  },
  "language_info": {
   "codemirror_mode": {
    "name": "ipython",
    "version": 2
   },
   "file_extension": ".py",
   "mimetype": "text/x-python",
   "name": "python",
   "nbconvert_exporter": "python",
   "pygments_lexer": "ipython2",
   "version": "2.7.14"
  }
 },
 "nbformat": 4,
 "nbformat_minor": 1
}
