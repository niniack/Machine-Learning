{
 "cells": [
  {
   "cell_type": "markdown",
   "metadata": {},
   "source": [
    "# Step 2. Separate CO2 emissions from non-CO2 GHGs in CDP\n",
    "Here, we estimate the contribution of CH4 and correct it out from the CDP Scope-1 values.  \n",
    "\n",
    "A region label was also assigned to CDP cities corresponding to definitions used in carbonn."
   ]
  },
  {
   "cell_type": "code",
   "execution_count": 1,
   "metadata": {},
   "outputs": [],
   "source": [
    "from matplotlib.pyplot import *\n",
    "%matplotlib inline"
   ]
  },
  {
   "cell_type": "code",
   "execution_count": 2,
   "metadata": {},
   "outputs": [],
   "source": [
    "import numpy as np\n",
    "from matplotlib import pyplot as plt"
   ]
  },
  {
   "cell_type": "code",
   "execution_count": 3,
   "metadata": {},
   "outputs": [],
   "source": [
    "import pandas as pd\n",
    "import collections\n",
    "from collections import Counter\n",
    "import os\n",
    "\n",
    "import csv"
   ]
  },
  {
   "cell_type": "code",
   "execution_count": 4,
   "metadata": {},
   "outputs": [],
   "source": [
    "pd.set_option('display.max_colwidth', -1)"
   ]
  },
  {
   "cell_type": "markdown",
   "metadata": {
    "collapsed": true
   },
   "source": [
    "# Variables"
   ]
  },
  {
   "cell_type": "code",
   "execution_count": 5,
   "metadata": {},
   "outputs": [],
   "source": [
    "fsize = (8,4)"
   ]
  },
  {
   "cell_type": "code",
   "execution_count": 6,
   "metadata": {},
   "outputs": [],
   "source": [
    "var_city2016 = 'City Short Name (CDP)'\n",
    "var_pop2016 = 'Current Population (CDP)'\n",
    "\n",
    "#Emissions\n",
    "var_tot2016 = 'Total City-wide Emissions (metric tonnes CO2e) (CDP)'\n",
    "var_s1_2016 = 'Total Scope 1 Emissions (metric tonnes CO2e) (CDP)'\n",
    "var_s2_2016 = 'Total Scope 2 Emissions (metric tonnes CO2e) (CDP)'\n",
    "var_gases2016 = 'Gases included (CDP)'"
   ]
  },
  {
   "cell_type": "code",
   "execution_count": 7,
   "metadata": {},
   "outputs": [],
   "source": [
    "# GWP coefficient for CH4 from Table 5.2, taken from IPCC 5th Assessment Report\n",
    "# http://www.iclei.org/fileadmin/user_upload/ICLEI_WS/Documents/Climate/GPC_12-8-14_1_.pdf\n",
    "GWP_CH4 = 28"
   ]
  },
  {
   "cell_type": "code",
   "execution_count": null,
   "metadata": {},
   "outputs": [],
   "source": []
  },
  {
   "cell_type": "code",
   "execution_count": 8,
   "metadata": {},
   "outputs": [],
   "source": [
    "#Region labels to add for CDP using regions as defined by carbonn\n",
    "# 'Europe', 'Latin America & Caribbean', 'North America', 'Oceania',\n",
    "# 'East Asia','South Asia', 'Southeast Asia', 'Africa',\n",
    "# 'North Africa, Middle East, West Asia'\n",
    "        \n",
    "groupEurope = ['Amsterdam','Athens','Barcelona',\n",
    "  'Barnsley, Doncaster and Rotherham','Barreiro', 'Basel',\n",
    "  'Bath and North East Somerset, North Somerset and South Gloucestershire',\n",
    "  'Bedfordshire CC','Belfast','Berkshire', 'Berlin', 'Berne',\n",
    "  'Birmingham', 'Blackburn with Darwen','Bologna','Bournemouth', 'Bradford',\n",
    "  'Bremen', 'Bridgend and Neath Port Talbot', 'Brighton and Hove', 'Bristol', 'Brussels',\n",
    "  'Buckinghamshire CC','Calderdale, Kirklees and Wakefield','Cambridgeshire CC',\n",
    "  'Cardiff', 'Cascais', 'Central Valleys (Wales)', 'Cheshire CC', 'Clackmannanshire and Fife',\n",
    "  'Darlington','Derby','Dublin', 'Durham CC', 'Dusseldorf',\n",
    "  'East Ayrshire and North Ayrshire mainland', 'East Cumbria','East Derbyshire',\n",
    "  'East Dunbartonshire, West Dunbartonshire and Helensburgh & Lomond',\n",
    "  'East Lothian and Midlothian', 'East Merseyside',\n",
    "  'East Riding of Yorkshire', 'East Sussex CC','East of Northern Ireland', 'Edinburgh',\n",
    "  'Essex CC','Falkirk', 'Faro','Ferrara','Flintshire and Wrexham','Frankfurt','Geneva', \n",
    "  'Genova', 'Glasgow','Gloucestershire','Graz','Gwent Valleys','Halton and Warrington', \n",
    "  'Hamburg','Hampshire CC','Hartlepool and Stockton-on-Tees','Heidelberg', 'Helsinki', \n",
    "  'Herefordshire, County of','Hertfordshire', 'Inverclyde, East Renfrewshire and Renfrewshire', \n",
    "  'Kent CC','Kingston upon Hull','Lancashire CC', 'Magdeburg', \n",
    "  'Lausanne', 'Leeds', 'Leicester', 'Leicestershire CC and Rutland','Lincolnshire',\n",
    "  'Lisbon', 'Liverpool','London','Luton', 'Lyon', 'Madrid','Manchester','Marseille',\n",
    "  'Medway','Milano', 'Milton Keynes','Moita','Monmouthshire and Newport','Munich', 'Nancy',\n",
    "  'Nantes','Newcastle', 'Nice','Norfolk','North Lanarkshire', 'North Nottinghamshire',\n",
    "  'North Yorkshire CC', 'North and North East Lincolnshire','Northamptonshire', 'Nottingham', \n",
    "  'Outer Belfast', 'Oxfordshire','Paris','Peterborough, UK','Piacenza','Plymouth','Porto',\n",
    "  'Portsmouth', 'Prague','Ravenna','Roma','Rotterdam','Ruhr', 'Santarém','Sefton',\n",
    "  'Sheffield','Shropshire CC','Somerset','South Ayrshire', 'South Lanarkshire', 'South Nottinghamshire',\n",
    "  'South and West Derbyshire', 'Southampton', 'Southend-on-Sea','Staffordshire CC',\n",
    "  'Stoke-on-Trent','Stuttgart', 'Suffolk', 'Sunderland','Surrey','Swansea', 'Swindon',\n",
    "  'Telford and Wrekin', 'Thurrock','Torino','Torres Vedras','Tyneside','Udine','Venezia', \n",
    "  'Vienna','Warwickshire','West Cumbria','West Lothian', 'West Sussex','Wiltshire CC',\n",
    "  'Wirral', 'Worcestershire','York','Zaragoza','Zürich', 'Águeda',\n",
    "      'Belgrade','Bratislava','Bucharest','Budapest','Cracow','Istanbul',\n",
    "  'Kiev', 'Ljubljana','Moscow','Riga','Sofia','Tallinn','Vilnius','Warsaw','Zagreb',\n",
    "  'Aarhus', 'Aerøskøbing', 'Copenhagen','Gladsaxe Kommune','Gävle',\n",
    "  'Halmstad', 'Hjørring','Hoeje-Taastrup Kommune','Jönköping','Karlstad','Lahti','Linköping',\n",
    "  'Norrköping','Oslo', 'Reykjavík','Skåne county','Stockholm','Sundsvall','Turku','Umeå',\n",
    "  'Uppsala','Västra Götaland county', 'Växjö','Örebro'\n",
    "]\n",
    "\n",
    "groupNAmer = ['Abington','Ajax, ON','Albany',\n",
    "       'Alton, IL', 'Arlington, VA', 'Aspen and Pitkin County','Atlanta', \n",
    "       'Austin', 'Baltimore','Benicia','Blacksburg','Boston', 'Boulder','Brisbane, CA',\n",
    "       'Burlington','Calgary', 'Chicago','Cleveland', 'Columbus','Dallas',\n",
    "       'Davis, CA','Denver','Detroit', 'District of Columbia', 'Durham','Edmonton',\n",
    "       'Emeryville, CA','Eugene','Flagstaff','Fort Collins','Hamilton, ON','Hayward',\n",
    "       'Hermosa Beach, CA','Houston','Indianapolis','Iowa','Knoxville','Lake Forest, IL','Lakewood',\n",
    "       'Lancaster, PA','Las Vegas','London, ON', 'Los Altos Hills','Los Angeles',\n",
    "       'Minneapolis','Montreal','Nashville and Davidson','New Orleans',\n",
    "       'New York City','North Vancouver','Oakland','Ottawa','Palo Alto',\n",
    "       'Peterborough, ON', 'Philadelphia', 'Phoenix','Piedmont, CA','Pittsburgh',\n",
    "       'Portland, OR','Reno','Richmond, VA','Roanoke','San Antonio', 'San Diego',\n",
    "       'San Francisco', 'Santa Monica','Savannah','Seattle','Somerville, MA',\n",
    "       'St Louis','Toronto','Tucson','University City, MO','Vancouver',\n",
    "       'Washington DC', 'West Hollywood','Windsor, ON','Winnipeg',\n",
    "       'Yonkers'\n",
    "]\n",
    "\n",
    "groupOceania = ['Adelaide', 'Auckland','Brisbane','Canberra',\n",
    "       'Melbourne','Perth', 'Sydney','Wellington'\n",
    "]\n",
    "\n",
    "groupLatinAmer =['Belo Horizonte', 'Bogotá', 'Brasília','Buenos Aires','Caracas',\n",
    "  'Curitiba', 'Florianópolis', 'Goiânia', 'Guaratinguetá','La Paz','Lima','Mexico City',\n",
    "  'Palmas','Porto Alegre','Quito','Recife','Rio de Janeiro', 'Salvador', 'San Luis Potosí',\n",
    "   'Santiago', 'Santiago de Cali','Santiago de Guayaquil', 'Sao Paulo','Sorocaba'\n",
    "]\n",
    "\n",
    "#for North Africa, Middle East, West Asia\n",
    "#NB: Put Bornova and Kadiovacik in Turkey in this group to be consistent with carbonn Istanbul and Izmir\n",
    "groupNorthAfrica = ['Amman','Bornova','Kadiovacik']\n",
    "\n",
    "#for Africa\n",
    "groupAfrica = ['Johannesburg', 'Pretoria Tshwane', 'Cape Town', 'Durban', 'Addis Ababa', 'Lagos']\n",
    "\n",
    "\n",
    "#for'East Asia' (Taiwan, South Korea, Japan, China [Hong Kong])\n",
    "groupEastAsia = ['Pingtung', 'Yilan', 'Taipei City', 'New Taipei', 'Kaohsiung', 'Taoyuan', \n",
    "                 'Suwon', 'Incheon', 'Seoul',\n",
    "                 'Tokyo', 'Okayama', 'Yokohama', 'Nagoya', 'Hiroshima', 'Hong Kong'\n",
    "]\n",
    "\n",
    "#for Southeast Asia (Philippines, Indonesia)\n",
    "groupSoutheastAsia = ['Makati', 'Batangas', 'Bogor', 'Jakarta'\n",
    "]"
   ]
  },
  {
   "cell_type": "markdown",
   "metadata": {},
   "source": [
    "# Functions"
   ]
  },
  {
   "cell_type": "code",
   "execution_count": 9,
   "metadata": {},
   "outputs": [],
   "source": [
    "def tag_column_names_with_datasetname(df, tagname):\n",
    "    \"\"\" Add to column name dataset from which column was obtained\"\"\"\n",
    "    \n",
    "    col_names = list(df)\n",
    "    \n",
    "    for cname in col_names:\n",
    "        if cname != 'Account Number':\n",
    "            df.rename(columns = {cname:cname + ' (' + tagname + ')'}, inplace = True)\n",
    "    \n",
    "    \n",
    "    return df"
   ]
  },
  {
   "cell_type": "code",
   "execution_count": 10,
   "metadata": {},
   "outputs": [],
   "source": [
    "def bar_strDim(df, dim):\n",
    "    \"\"\" Bar plot of dimension string values in df column\"\"\"\n",
    "              \n",
    "    s = df[dim]\n",
    "    counts = s.value_counts()\n",
    "    print counts\n",
    "    ax = counts.iloc[:len(counts)].plot(kind=\"bar\", figsize=fsize)\n",
    "    \n",
    "    plt.show()"
   ]
  },
  {
   "cell_type": "markdown",
   "metadata": {},
   "source": [
    "# Estimate CO<sub>2</sub>-only values from CO<sub>2-eq</sub> for Total Emissions and Scope1\n",
    "\n",
    "For emissions that include gases other than CO<sub>2</sub>.\n",
    "\n",
    "For city *i* in country *j*, CO2_scope1<sub>i</sub>:\n",
    "\n",
    "Lower bound = CO2eq_scope1<sub>i</sub> - [CH4waste/cap]<sub>j</sub> x cap<sub>i</sub> x GWP_CH4 \n",
    "\n",
    "\n",
    "Upper bound = CO2eq_scope1<sub>i</sub> - [(CH4waste + corrected_CH4natgas)/cap]<sub>j</sub> x cap<sub>i</sub> x GWP_CH4"
   ]
  },
  {
   "cell_type": "markdown",
   "metadata": {},
   "source": [
    "# Read data"
   ]
  },
  {
   "cell_type": "markdown",
   "metadata": {},
   "source": [
    "## QA/QC-checked CDP data output from Methods1_CDP2016_QAQC.ipynb"
   ]
  },
  {
   "cell_type": "code",
   "execution_count": 11,
   "metadata": {},
   "outputs": [],
   "source": [
    "fname = 'DATA/INTERMEDIATE_FILES/cdp_with_quality_flags.tsv'\n",
    "\n",
    "df = pd.read_csv(fname, sep='\\t')\n",
    "\n",
    "df.drop('Unnamed: 0',1, inplace=True)"
   ]
  },
  {
   "cell_type": "code",
   "execution_count": 12,
   "metadata": {},
   "outputs": [
    {
     "name": "stdout",
     "output_type": "stream",
     "text": [
      "(187, 31)\n"
     ]
    },
    {
     "data": {
      "text/html": [
       "<div>\n",
       "<style scoped>\n",
       "    .dataframe tbody tr th:only-of-type {\n",
       "        vertical-align: middle;\n",
       "    }\n",
       "\n",
       "    .dataframe tbody tr th {\n",
       "        vertical-align: top;\n",
       "    }\n",
       "\n",
       "    .dataframe thead th {\n",
       "        text-align: right;\n",
       "    }\n",
       "</style>\n",
       "<table border=\"1\" class=\"dataframe\">\n",
       "  <thead>\n",
       "    <tr style=\"text-align: right;\">\n",
       "      <th></th>\n",
       "      <th>Account Number (CDP)</th>\n",
       "      <th>City Name (CDP)</th>\n",
       "      <th>Country (CDP)</th>\n",
       "      <th>City Short Name (CDP)</th>\n",
       "      <th>C40 (CDP)</th>\n",
       "      <th>Reporting Year (CDP)</th>\n",
       "      <th>Measurement Year (CDP)</th>\n",
       "      <th>Boundary (CDP)</th>\n",
       "      <th>Primary Methodology (CDP)</th>\n",
       "      <th>Methodology Details (CDP)</th>\n",
       "      <th>...</th>\n",
       "      <th>GDP Source (CDP)</th>\n",
       "      <th>Average annual temperature (in Celsius) (CDP)</th>\n",
       "      <th>Land area (in square km) (CDP)</th>\n",
       "      <th>Average altitude (m) (CDP)</th>\n",
       "      <th>City Location (CDP)</th>\n",
       "      <th>Country Location (CDP)</th>\n",
       "      <th>Measurement year only (CDP)</th>\n",
       "      <th>scope fraction (CDP)</th>\n",
       "      <th>CDP2016 data edited (CDP)</th>\n",
       "      <th>Emissions Quality Flag (CDP)</th>\n",
       "    </tr>\n",
       "  </thead>\n",
       "  <tbody>\n",
       "    <tr>\n",
       "      <th>0</th>\n",
       "      <td>57347</td>\n",
       "      <td>Pingtung County Government</td>\n",
       "      <td>Taiwan</td>\n",
       "      <td>Pingtung</td>\n",
       "      <td>NaN</td>\n",
       "      <td>2017.0</td>\n",
       "      <td>2013-01-03 03:13:00</td>\n",
       "      <td>Administrative boundary of a local government</td>\n",
       "      <td>Global Protocol for Community-Scale Greenhouse Gas Emissions Inventories (GPC), (WRI, C40 and ICLEI)</td>\n",
       "      <td>NaN</td>\n",
       "      <td>...</td>\n",
       "      <td>NaN</td>\n",
       "      <td>25.0</td>\n",
       "      <td>2775.0</td>\n",
       "      <td>750.0</td>\n",
       "      <td>(22.551976, 120.54876)</td>\n",
       "      <td>(23.69781, 120.960515)</td>\n",
       "      <td>2013.0</td>\n",
       "      <td>1.0</td>\n",
       "      <td>Replaced by CDP2017 data. Reason:  TOT &gt;&gt; s1+s2 (Case 2b) in CDP2016. Soln: Replace with CDP2017 data (no edits required).</td>\n",
       "      <td>B</td>\n",
       "    </tr>\n",
       "    <tr>\n",
       "      <th>1</th>\n",
       "      <td>31170</td>\n",
       "      <td>Metropolitan Municipality of Lima</td>\n",
       "      <td>Peru</td>\n",
       "      <td>Lima</td>\n",
       "      <td>C40</td>\n",
       "      <td>2016.0</td>\n",
       "      <td>2012-12-31 00:00:00</td>\n",
       "      <td>A metropolitan area</td>\n",
       "      <td>Global Protocol for Community-Scale Greenhouse Gas Emissions Inventories (GPC), (WRI, C40 and ICLEI)</td>\n",
       "      <td>La metodología Global Protocol for Community- scale Greenhouse Gas emissions (GPC) establece que los límites pueden definirse en cualquiera de tres niveles: Internacional, inter-ciudades/subnacional, o al interior de la ciudad.</td>\n",
       "      <td>...</td>\n",
       "      <td>INEI</td>\n",
       "      <td>18.0</td>\n",
       "      <td>2672.0</td>\n",
       "      <td>154.0</td>\n",
       "      <td>(-12.046374, -77.042793)</td>\n",
       "      <td>(-9.189967, -75.015152)</td>\n",
       "      <td>2012.0</td>\n",
       "      <td>1.0</td>\n",
       "      <td>CDP2016 TOT recalculated by summing both CDP2016 scopes.</td>\n",
       "      <td>A</td>\n",
       "    </tr>\n",
       "  </tbody>\n",
       "</table>\n",
       "<p>2 rows × 31 columns</p>\n",
       "</div>"
      ],
      "text/plain": [
       "   Account Number (CDP)                    City Name (CDP) Country (CDP)  \\\n",
       "0  57347                 Pingtung County Government         Taiwan         \n",
       "1  31170                 Metropolitan Municipality of Lima  Peru           \n",
       "\n",
       "  City Short Name (CDP) C40 (CDP)  Reporting Year (CDP)  \\\n",
       "0  Pingtung              NaN       2017.0                 \n",
       "1  Lima                  C40       2016.0                 \n",
       "\n",
       "  Measurement Year (CDP)                                 Boundary (CDP)  \\\n",
       "0  2013-01-03 03:13:00    Administrative boundary of a local government   \n",
       "1  2012-12-31 00:00:00    A metropolitan area                             \n",
       "\n",
       "                                                                              Primary Methodology (CDP)  \\\n",
       "0  Global Protocol for Community-Scale Greenhouse Gas Emissions Inventories (GPC), (WRI, C40 and ICLEI)   \n",
       "1  Global Protocol for Community-Scale Greenhouse Gas Emissions Inventories (GPC), (WRI, C40 and ICLEI)   \n",
       "\n",
       "                                                                                                                                                                                                             Methodology Details (CDP)  \\\n",
       "0  NaN                                                                                                                                                                                                                                   \n",
       "1  La metodología Global Protocol for Community- scale Greenhouse Gas emissions (GPC) establece que los límites pueden definirse en cualquiera de tres niveles: Internacional, inter-ciudades/subnacional, o al interior de la ciudad.   \n",
       "\n",
       "              ...              GDP Source (CDP)  \\\n",
       "0             ...               NaN               \n",
       "1             ...               INEI              \n",
       "\n",
       "   Average annual temperature (in Celsius) (CDP)  \\\n",
       "0  25.0                                            \n",
       "1  18.0                                            \n",
       "\n",
       "   Land area (in square km) (CDP)  Average altitude (m) (CDP)  \\\n",
       "0  2775.0                          750.0                        \n",
       "1  2672.0                          154.0                        \n",
       "\n",
       "        City Location (CDP)   Country Location (CDP)  \\\n",
       "0  (22.551976, 120.54876)    (23.69781, 120.960515)    \n",
       "1  (-12.046374, -77.042793)  (-9.189967, -75.015152)   \n",
       "\n",
       "   Measurement year only (CDP)  scope fraction (CDP)  \\\n",
       "0  2013.0                       1.0                    \n",
       "1  2012.0                       1.0                    \n",
       "\n",
       "                                                                                                    CDP2016 data edited (CDP)  \\\n",
       "0  Replaced by CDP2017 data. Reason:  TOT >> s1+s2 (Case 2b) in CDP2016. Soln: Replace with CDP2017 data (no edits required).   \n",
       "1  CDP2016 TOT recalculated by summing both CDP2016 scopes.                                                                     \n",
       "\n",
       "  Emissions Quality Flag (CDP)  \n",
       "0  B                            \n",
       "1  A                            \n",
       "\n",
       "[2 rows x 31 columns]"
      ]
     },
     "execution_count": 12,
     "metadata": {},
     "output_type": "execute_result"
    }
   ],
   "source": [
    "print df.shape\n",
    "df.head(2)"
   ]
  },
  {
   "cell_type": "code",
   "execution_count": 13,
   "metadata": {},
   "outputs": [],
   "source": [
    "#Rename 'Country (CDP)' to 'Country' to allow merge with scaling factor dataframe (see below)\n",
    "df.rename(columns = {'Country (CDP)':'Country'}, inplace = True)"
   ]
  },
  {
   "cell_type": "markdown",
   "metadata": {},
   "source": [
    "### Add in population for La Paz deleted in latest version of online CDP2016 dataset\n",
    "Take value from previous version (no longer online)."
   ]
  },
  {
   "cell_type": "code",
   "execution_count": 14,
   "metadata": {},
   "outputs": [
    {
     "name": "stdout",
     "output_type": "stream",
     "text": [
      "97   NaN\n",
      "Name: Current Population (CDP), dtype: float64\n",
      "97    789541.0\n",
      "Name: Current Population (CDP), dtype: float64\n"
     ]
    }
   ],
   "source": [
    "print df.loc[df['City Short Name (CDP)'] == 'La Paz', 'Current Population (CDP)']\n",
    "\n",
    "df.loc[df['City Short Name (CDP)'] == 'La Paz', 'Current Population (CDP)'] = 789541\n",
    "\n",
    "print df.loc[df['City Short Name (CDP)'] == 'La Paz', 'Current Population (CDP)']"
   ]
  },
  {
   "cell_type": "markdown",
   "metadata": {},
   "source": [
    "## Read emission scaling factor file"
   ]
  },
  {
   "cell_type": "code",
   "execution_count": 15,
   "metadata": {},
   "outputs": [
    {
     "name": "stdout",
     "output_type": "stream",
     "text": [
      "(42, 8)\n"
     ]
    },
    {
     "name": "stderr",
     "output_type": "stream",
     "text": [
      "/homel/cnangini/anaconda2/lib/python2.7/site-packages/ipykernel_launcher.py:3: ParserWarning: Falling back to the 'python' engine because the 'c' engine does not support regex separators (separators > 1 char and different from '\\s+' are interpreted as regex); you can avoid this warning by specifying engine='python'.\n",
      "  This is separate from the ipykernel package so we can avoid doing imports until\n"
     ]
    },
    {
     "data": {
      "text/plain": [
       "['Country',\n",
       " 'CH4_waste/person',\n",
       " 'CH4_(waste+natgas)/person',\n",
       " 'corrected CH4_(waste+natgas)/person',\n",
       " 'Production (m3)',\n",
       " 'Exports (m3)',\n",
       " 'Export/Production',\n",
       " 'data from CIA World Fact Book for 2014']"
      ]
     },
     "execution_count": 15,
     "metadata": {},
     "output_type": "execute_result"
    }
   ],
   "source": [
    "fcoeff = 'DATA/ORIGINAL_ANCILLARY_SOURCEFILES/Calculate_CH4_SF_cities_corrected_NATGAS.csv'\n",
    "\n",
    "df_coeff = pd.read_csv(fcoeff, sep='\\,')\n",
    "\n",
    "print df_coeff.shape\n",
    "list(df_coeff)"
   ]
  },
  {
   "cell_type": "markdown",
   "metadata": {},
   "source": [
    "# Stats "
   ]
  },
  {
   "cell_type": "markdown",
   "metadata": {},
   "source": [
    "## Gases Included"
   ]
  },
  {
   "cell_type": "code",
   "execution_count": 16,
   "metadata": {},
   "outputs": [
    {
     "data": {
      "text/plain": [
       "181"
      ]
     },
     "execution_count": 16,
     "metadata": {},
     "output_type": "execute_result"
    }
   ],
   "source": [
    "df[var_gases2016].count() "
   ]
  },
  {
   "cell_type": "code",
   "execution_count": 17,
   "metadata": {},
   "outputs": [
    {
     "data": {
      "text/plain": [
       "6"
      ]
     },
     "execution_count": 17,
     "metadata": {},
     "output_type": "execute_result"
    }
   ],
   "source": [
    "df.loc[df[var_gases2016].isnull(), var_city2016].count() #6 cities missing gases"
   ]
  },
  {
   "cell_type": "code",
   "execution_count": 18,
   "metadata": {},
   "outputs": [
    {
     "data": {
      "text/plain": [
       "array(['CO2; CH4; N2O', 'CO2', 'CO2; PFCs; CH4; SF6; N2O; HFCs',\n",
       "       'CO2; PFCs; CH4; SF6; N2O; NF3; HFCs', 'CO2; CH4; N2O; HFCs',\n",
       "       'CO2; PFCs; CH4; N2O', 'CO2; PFCs; CH4; SF6; N2O', 'CO2; CH4',\n",
       "       'CO2; CH4; SF6; N2O; HFCs', 'CO2; CH4; SF6; N2O', nan,\n",
       "       'CO2; PFCs; CH4; N2O; HFCs', 'CO2; CH4; SF6'], dtype=object)"
      ]
     },
     "execution_count": 18,
     "metadata": {},
     "output_type": "execute_result"
    }
   ],
   "source": [
    "df[var_gases2016].unique()"
   ]
  },
  {
   "cell_type": "code",
   "execution_count": 19,
   "metadata": {},
   "outputs": [],
   "source": [
    "#Re-order gases in order of:\n",
    "#'CO2; CH4; N2O; HFCs; PFCs; SF6; NF3'\n",
    "\n",
    "df.loc[df[var_gases2016] == 'CO2; PFCs; CH4; N2O', var_gases2016] = 'CO2; CH4; N2O; PFCs'\n",
    "df.loc[df[var_gases2016] == 'CO2; PFCs; CH4; SF6; N2O', var_gases2016] = 'CO2; CH4; N2O; PFCs; SF6'\n",
    "df.loc[df[var_gases2016] == 'CO2; PFCs; CH4; N2O; HFCs', var_gases2016] = 'CO2; CH4; N2O; PFCs; HFCs'\n",
    "df.loc[df[var_gases2016] == 'CO2; CH4; SF6; N2O; HFCs', var_gases2016] = 'CO2; CH4; N2O; HFCs; SF6'\n",
    "df.loc[df[var_gases2016] == 'CO2; PFCs; CH4; SF6; N2O; HFCs', var_gases2016] = 'CO2; CH4; N2O; HFCs; PFCs; SF6'\n",
    "df.loc[df[var_gases2016] == 'CO2; PFCs; CH4; SF6; N2O; NF3; HFCs', var_gases2016] = 'CO2; CH4; N2O; HFCs; PFCs; SF6; NF3'"
   ]
  },
  {
   "cell_type": "code",
   "execution_count": 20,
   "metadata": {},
   "outputs": [
    {
     "name": "stdout",
     "output_type": "stream",
     "text": [
      "CO2; CH4; N2O                          87\n",
      "CO2                                    44\n",
      "CO2; CH4; N2O; HFCs; PFCs; SF6         23\n",
      "CO2; CH4; N2O; HFCs; PFCs; SF6; NF3    12\n",
      "CO2; CH4; N2O; HFCs                    4 \n",
      "CO2; CH4                               4 \n",
      "CO2; CH4; SF6; N2O                     2 \n",
      "CO2; CH4; N2O; PFCs                    1 \n",
      "CO2; CH4; SF6                          1 \n",
      "CO2; CH4; N2O; HFCs; SF6               1 \n",
      "CO2; CH4; N2O; PFCs; SF6               1 \n",
      "CO2; CH4; N2O; PFCs; HFCs              1 \n",
      "Name: Gases included (CDP), dtype: int64\n"
     ]
    },
    {
     "data": {
      "image/png": "[encoded data removed]",
      "text/plain": [
       "<matplotlib.figure.Figure at 0x7f51bf594d10>"
      ]
     },
     "metadata": {},
     "output_type": "display_data"
    }
   ],
   "source": [
    "bar_strDim(df, var_gases2016)"
   ]
  },
  {
   "cell_type": "code",
   "execution_count": null,
   "metadata": {},
   "outputs": [],
   "source": []
  },
  {
   "cell_type": "markdown",
   "metadata": {},
   "source": [
    "# Merge emissions scaling factors into dataframe\n",
    "Merge along 'Country' column"
   ]
  },
  {
   "cell_type": "code",
   "execution_count": 21,
   "metadata": {},
   "outputs": [],
   "source": [
    "df=df.merge(df_coeff, how='left')"
   ]
  },
  {
   "cell_type": "markdown",
   "metadata": {},
   "source": [
    "# Calculate upper and lower emission bounds using scaling factors and compute mean\n",
    "Exclude CO2-only values"
   ]
  },
  {
   "cell_type": "code",
   "execution_count": 22,
   "metadata": {},
   "outputs": [],
   "source": [
    "# Add in upper and lower bound\n",
    "#Total emissions\n",
    "df.loc[(df[var_gases2016] != 'CO2'), 'TOT lower bound [tCO2]'] = df[var_tot2016] - df['corrected CH4_(waste+natgas)/person']*df[var_pop2016]*GWP_CH4\n",
    "df.loc[(df[var_gases2016] != 'CO2'), 'TOT upper bound [tCO2]'] = df[var_tot2016] - df['CH4_waste/person']*df[var_pop2016]*GWP_CH4\n",
    "\n",
    "#Scope1\n",
    "df.loc[(df[var_gases2016] != 'CO2'), 'S1 lower bound [tCO2]'] = df[var_s1_2016] - df['corrected CH4_(waste+natgas)/person']*df[var_pop2016]*GWP_CH4\n",
    "df.loc[(df[var_gases2016] != 'CO2'), 'S1 upper bound [tCO2]'] = df[var_s1_2016] - df['CH4_waste/person']*df[var_pop2016]*GWP_CH4"
   ]
  },
  {
   "cell_type": "code",
   "execution_count": 23,
   "metadata": {},
   "outputs": [],
   "source": [
    "# Take mean of lower and upper bounds\n",
    "df['TOT mean [tCO2]'] = df[['TOT lower bound [tCO2]', 'TOT upper bound [tCO2]']].mean(axis=1)\n",
    "\n",
    "df['S1 mean [tCO2]'] = df[['S1 lower bound [tCO2]', 'S1 upper bound [tCO2]']].mean(axis=1)"
   ]
  },
  {
   "cell_type": "code",
   "execution_count": null,
   "metadata": {},
   "outputs": [],
   "source": []
  },
  {
   "cell_type": "code",
   "execution_count": 24,
   "metadata": {},
   "outputs": [
    {
     "data": {
      "text/html": [
       "<div>\n",
       "<style scoped>\n",
       "    .dataframe tbody tr th:only-of-type {\n",
       "        vertical-align: middle;\n",
       "    }\n",
       "\n",
       "    .dataframe tbody tr th {\n",
       "        vertical-align: top;\n",
       "    }\n",
       "\n",
       "    .dataframe thead th {\n",
       "        text-align: right;\n",
       "    }\n",
       "</style>\n",
       "<table border=\"1\" class=\"dataframe\">\n",
       "  <thead>\n",
       "    <tr style=\"text-align: right;\">\n",
       "      <th></th>\n",
       "      <th>Total City-wide Emissions (metric tonnes CO2e) (CDP)</th>\n",
       "      <th>TOT lower bound [tCO2]</th>\n",
       "      <th>TOT upper bound [tCO2]</th>\n",
       "      <th>TOT mean [tCO2]</th>\n",
       "      <th>Country</th>\n",
       "      <th>Total Scope 1 Emissions (metric tonnes CO2e) (CDP)</th>\n",
       "      <th>S1 lower bound [tCO2]</th>\n",
       "      <th>S1 upper bound [tCO2]</th>\n",
       "      <th>S1 mean [tCO2]</th>\n",
       "      <th>corrected CH4_(waste+natgas)/person</th>\n",
       "      <th>Current Population (CDP)</th>\n",
       "    </tr>\n",
       "  </thead>\n",
       "  <tbody>\n",
       "    <tr>\n",
       "      <th>37</th>\n",
       "      <td>19667128.00</td>\n",
       "      <td>1.926970e+07</td>\n",
       "      <td>1.931209e+07</td>\n",
       "      <td>1.929089e+07</td>\n",
       "      <td>Argentina</td>\n",
       "      <td>15561157.00</td>\n",
       "      <td>1.516372e+07</td>\n",
       "      <td>1.520612e+07</td>\n",
       "      <td>1.518492e+07</td>\n",
       "      <td>0.004647</td>\n",
       "      <td>3054267.0</td>\n",
       "    </tr>\n",
       "    <tr>\n",
       "      <th>93</th>\n",
       "      <td>4003900.00</td>\n",
       "      <td>3.626654e+06</td>\n",
       "      <td>3.692614e+06</td>\n",
       "      <td>3.659634e+06</td>\n",
       "      <td>Australia</td>\n",
       "      <td>1757500.00</td>\n",
       "      <td>1.380254e+06</td>\n",
       "      <td>1.446214e+06</td>\n",
       "      <td>1.413234e+06</td>\n",
       "      <td>0.033683</td>\n",
       "      <td>400000.0</td>\n",
       "    </tr>\n",
       "    <tr>\n",
       "      <th>83</th>\n",
       "      <td>3556529.00</td>\n",
       "      <td>3.362871e+06</td>\n",
       "      <td>3.396731e+06</td>\n",
       "      <td>3.379801e+06</td>\n",
       "      <td>Australia</td>\n",
       "      <td>359064.00</td>\n",
       "      <td>1.654057e+05</td>\n",
       "      <td>1.992662e+05</td>\n",
       "      <td>1.823360e+05</td>\n",
       "      <td>0.033683</td>\n",
       "      <td>205339.0</td>\n",
       "    </tr>\n",
       "    <tr>\n",
       "      <th>84</th>\n",
       "      <td>4372420.00</td>\n",
       "      <td>4.242375e+06</td>\n",
       "      <td>4.265113e+06</td>\n",
       "      <td>4.253744e+06</td>\n",
       "      <td>Australia</td>\n",
       "      <td>785326.00</td>\n",
       "      <td>6.552808e+05</td>\n",
       "      <td>6.780188e+05</td>\n",
       "      <td>6.666498e+05</td>\n",
       "      <td>0.033683</td>\n",
       "      <td>137889.0</td>\n",
       "    </tr>\n",
       "    <tr>\n",
       "      <th>91</th>\n",
       "      <td>486541.00</td>\n",
       "      <td>4.646900e+05</td>\n",
       "      <td>4.685106e+05</td>\n",
       "      <td>4.666003e+05</td>\n",
       "      <td>Australia</td>\n",
       "      <td>63724.00</td>\n",
       "      <td>4.187297e+04</td>\n",
       "      <td>4.569355e+04</td>\n",
       "      <td>4.378326e+04</td>\n",
       "      <td>0.033683</td>\n",
       "      <td>23169.0</td>\n",
       "    </tr>\n",
       "    <tr>\n",
       "      <th>97</th>\n",
       "      <td>1426533.80</td>\n",
       "      <td>6.105726e+05</td>\n",
       "      <td>1.276908e+06</td>\n",
       "      <td>9.437405e+05</td>\n",
       "      <td>Bolivia</td>\n",
       "      <td>1152922.40</td>\n",
       "      <td>3.369612e+05</td>\n",
       "      <td>1.003297e+06</td>\n",
       "      <td>6.701291e+05</td>\n",
       "      <td>0.036909</td>\n",
       "      <td>789541.0</td>\n",
       "    </tr>\n",
       "    <tr>\n",
       "      <th>102</th>\n",
       "      <td>1113971.00</td>\n",
       "      <td>8.109830e+05</td>\n",
       "      <td>8.409319e+05</td>\n",
       "      <td>8.259575e+05</td>\n",
       "      <td>Brazil</td>\n",
       "      <td>980290.00</td>\n",
       "      <td>6.773020e+05</td>\n",
       "      <td>7.072509e+05</td>\n",
       "      <td>6.922765e+05</td>\n",
       "      <td>0.016779</td>\n",
       "      <td>644919.0</td>\n",
       "    </tr>\n",
       "    <tr>\n",
       "      <th>101</th>\n",
       "      <td>3241713.00</td>\n",
       "      <td>2.065992e+06</td>\n",
       "      <td>2.182206e+06</td>\n",
       "      <td>2.124099e+06</td>\n",
       "      <td>Brazil</td>\n",
       "      <td>2804787.00</td>\n",
       "      <td>1.629066e+06</td>\n",
       "      <td>1.745280e+06</td>\n",
       "      <td>1.687173e+06</td>\n",
       "      <td>0.016779</td>\n",
       "      <td>2502557.0</td>\n",
       "    </tr>\n",
       "    <tr>\n",
       "      <th>20</th>\n",
       "      <td>625391.59</td>\n",
       "      <td>4.972628e+05</td>\n",
       "      <td>5.099277e+05</td>\n",
       "      <td>5.035952e+05</td>\n",
       "      <td>Brazil</td>\n",
       "      <td>589055.31</td>\n",
       "      <td>4.609265e+05</td>\n",
       "      <td>4.735914e+05</td>\n",
       "      <td>4.672590e+05</td>\n",
       "      <td>0.016779</td>\n",
       "      <td>272726.0</td>\n",
       "    </tr>\n",
       "    <tr>\n",
       "      <th>137</th>\n",
       "      <td>2016320.00</td>\n",
       "      <td>9.953614e+05</td>\n",
       "      <td>1.096278e+06</td>\n",
       "      <td>1.045820e+06</td>\n",
       "      <td>Brazil</td>\n",
       "      <td>NaN</td>\n",
       "      <td>NaN</td>\n",
       "      <td>NaN</td>\n",
       "      <td>NaN</td>\n",
       "      <td>0.016779</td>\n",
       "      <td>2173141.0</td>\n",
       "    </tr>\n",
       "  </tbody>\n",
       "</table>\n",
       "</div>"
      ],
      "text/plain": [
       "     Total City-wide Emissions (metric tonnes CO2e) (CDP)  \\\n",
       "37   19667128.00                                            \n",
       "93   4003900.00                                             \n",
       "83   3556529.00                                             \n",
       "84   4372420.00                                             \n",
       "91   486541.00                                              \n",
       "97   1426533.80                                             \n",
       "102  1113971.00                                             \n",
       "101  3241713.00                                             \n",
       "20   625391.59                                              \n",
       "137  2016320.00                                             \n",
       "\n",
       "     TOT lower bound [tCO2]  TOT upper bound [tCO2]  TOT mean [tCO2]  \\\n",
       "37   1.926970e+07            1.931209e+07            1.929089e+07      \n",
       "93   3.626654e+06            3.692614e+06            3.659634e+06      \n",
       "83   3.362871e+06            3.396731e+06            3.379801e+06      \n",
       "84   4.242375e+06            4.265113e+06            4.253744e+06      \n",
       "91   4.646900e+05            4.685106e+05            4.666003e+05      \n",
       "97   6.105726e+05            1.276908e+06            9.437405e+05      \n",
       "102  8.109830e+05            8.409319e+05            8.259575e+05      \n",
       "101  2.065992e+06            2.182206e+06            2.124099e+06      \n",
       "20   4.972628e+05            5.099277e+05            5.035952e+05      \n",
       "137  9.953614e+05            1.096278e+06            1.045820e+06      \n",
       "\n",
       "       Country  Total Scope 1 Emissions (metric tonnes CO2e) (CDP)  \\\n",
       "37   Argentina  15561157.00                                          \n",
       "93   Australia  1757500.00                                           \n",
       "83   Australia  359064.00                                            \n",
       "84   Australia  785326.00                                            \n",
       "91   Australia  63724.00                                             \n",
       "97   Bolivia    1152922.40                                           \n",
       "102  Brazil     980290.00                                            \n",
       "101  Brazil     2804787.00                                           \n",
       "20   Brazil     589055.31                                            \n",
       "137  Brazil    NaN                                                   \n",
       "\n",
       "     S1 lower bound [tCO2]  S1 upper bound [tCO2]  S1 mean [tCO2]  \\\n",
       "37   1.516372e+07           1.520612e+07           1.518492e+07     \n",
       "93   1.380254e+06           1.446214e+06           1.413234e+06     \n",
       "83   1.654057e+05           1.992662e+05           1.823360e+05     \n",
       "84   6.552808e+05           6.780188e+05           6.666498e+05     \n",
       "91   4.187297e+04           4.569355e+04           4.378326e+04     \n",
       "97   3.369612e+05           1.003297e+06           6.701291e+05     \n",
       "102  6.773020e+05           7.072509e+05           6.922765e+05     \n",
       "101  1.629066e+06           1.745280e+06           1.687173e+06     \n",
       "20   4.609265e+05           4.735914e+05           4.672590e+05     \n",
       "137 NaN                    NaN                    NaN               \n",
       "\n",
       "     corrected CH4_(waste+natgas)/person  Current Population (CDP)  \n",
       "37   0.004647                             3054267.0                 \n",
       "93   0.033683                             400000.0                  \n",
       "83   0.033683                             205339.0                  \n",
       "84   0.033683                             137889.0                  \n",
       "91   0.033683                             23169.0                   \n",
       "97   0.036909                             789541.0                  \n",
       "102  0.016779                             644919.0                  \n",
       "101  0.016779                             2502557.0                 \n",
       "20   0.016779                             272726.0                  \n",
       "137  0.016779                             2173141.0                 "
      ]
     },
     "execution_count": 24,
     "metadata": {},
     "output_type": "execute_result"
    }
   ],
   "source": [
    "df[[\n",
    "   var_tot2016,\n",
    "    'TOT lower bound [tCO2]','TOT upper bound [tCO2]','TOT mean [tCO2]', \n",
    "    'Country',var_s1_2016, 'S1 lower bound [tCO2]', 'S1 upper bound [tCO2]', \n",
    "    'S1 mean [tCO2]', 'corrected CH4_(waste+natgas)/person', \n",
    "    var_pop2016\n",
    "]].sort_values('Country').head(10)"
   ]
  },
  {
   "cell_type": "code",
   "execution_count": null,
   "metadata": {},
   "outputs": [],
   "source": []
  },
  {
   "cell_type": "markdown",
   "metadata": {},
   "source": [
    "# Assign a region to CDP cities"
   ]
  },
  {
   "cell_type": "code",
   "execution_count": 25,
   "metadata": {},
   "outputs": [],
   "source": [
    "#Make 'city name' column to be consistent with all datasets, to be used for merges later\n",
    "var_city = 'city name'\n",
    "\n",
    "df[var_city] = df['City Short Name (CDP)']"
   ]
  },
  {
   "cell_type": "code",
   "execution_count": null,
   "metadata": {},
   "outputs": [],
   "source": []
  },
  {
   "cell_type": "code",
   "execution_count": 26,
   "metadata": {},
   "outputs": [
    {
     "name": "stderr",
     "output_type": "stream",
     "text": [
      "/homel/cnangini/anaconda2/lib/python2.7/site-packages/pandas/core/ops.py:763: UnicodeWarning: Unicode equal comparison failed to convert both arguments to Unicode - interpreting them as being unequal\n",
      "  result = lib.scalar_compare(x, y, op)\n"
     ]
    }
   ],
   "source": [
    "df.loc[(df[var_city] == u'Hamilton'), [var_city]] = 'Hamilton, ON'\n",
    "df.loc[(df[var_city] == 'City of Winnipeg'), [var_city]] = 'Winnipeg'\n",
    "df.loc[(df[var_city] == 'Peterborough'), [var_city]] = 'Peterborough, ON'\n",
    "df.loc[df[var_city].str.contains('Ærøskøbing'), [var_city]] = 'Aerøskøbing'\n",
    "df.loc[(df[var_city] == 'Distrito Metropolitano de Quito'), [var_city]] = 'Quito'\n",
    "df.loc[df[var_city].str.contains(\"Nice\"), [var_city]] = 'Nice'\n",
    "df.loc[df[var_city].str.contains('Nancy'), [var_city]] = 'Nancy'\n",
    "df.loc[df[var_city].str.contains('Metropolitana de Santiago'), [var_city]] = 'Santiago'\n",
    "df.loc[(df[var_city] == 'Stadt Heidelberg'), [var_city]] = 'Heidelberg'\n",
    "df.loc[df[var_city].str.contains(u'Pretoria'), [var_city]] = 'Pretoria Tshwane'\n",
    "df.loc[(df[var_city].str.contains('Stadt Z')), [var_city]] = 'Zürich'\n",
    "df.loc[(df[var_city] == 'Basel-Stadt'), [var_city]] = 'Basel'\n",
    "df.loc[df[var_city].str.contains('Metropolitana de Caracas'), [var_city]] = 'Caracas'\n",
    "df.loc[(df[var_city] == u'Windsor'), [var_city]] = 'Windsor, ON'\n",
    "df.loc[(df[var_city] == u'Landeshauptstadt Magdeburg'), [var_city]] = 'Magdeburg'\n",
    "df.loc[df[var_city].str.contains('Aarhus'), var_city] = 'Aarhus'"
   ]
  },
  {
   "cell_type": "code",
   "execution_count": 27,
   "metadata": {},
   "outputs": [],
   "source": [
    "df.loc[(df[var_city] == 'London '), [var_city]] = 'London'\n",
    "df.loc[(df[var_city] == 'Roma '), [var_city]] = 'Roma'\n",
    "df.loc[(df[var_city] == 'Pretoria - Tshwane'), [var_city]] = 'Pretoria Tshwane'\n",
    "df.loc[(df[var_city] == 'Vilnius '), [var_city]] = 'Vilnius'\n",
    "df.loc[(df[var_city] == 'Bogot\\xc3\\xa1 '), [var_city]] = 'Bogot\\xc3\\xa1'\n",
    "df.loc[(df[var_city] == 'Jakarta '), [var_city]] = 'Jakarta'\n",
    "df.loc[(df[var_city] == 'Seoul '), [var_city]] = 'Seoul'"
   ]
  },
  {
   "cell_type": "code",
   "execution_count": 28,
   "metadata": {},
   "outputs": [],
   "source": [
    "#Fix trailing space\n",
    "df.loc[df[var_city].str.contains('Pingtung'), var_city] = 'Pingtung'\n",
    "df.loc[df[var_city].str.contains('Suwon'), var_city] = 'Suwon'\n",
    "df.loc[df[var_city].str.contains('Yilan'), var_city] = 'Yilan'\n",
    "df.loc[df[var_city].str.contains('New Taipei'), var_city] = 'New Taipei'\n",
    "df.loc[df[var_city].str.contains('Incheon'), var_city] = 'Incheon'\n",
    "df.loc[df[var_city].str.contains('Abington'), var_city] = 'Abington'\n",
    "df.loc[df[var_city].str.contains('Amman'), var_city] = 'Amman'\n",
    "df.loc[df[var_city].str.contains('Auckland'), var_city] = 'Auckland'\n",
    "df.loc[df[var_city].str.contains('Iowa'), var_city] = 'Iowa'\n",
    "df.loc[df[var_city].str.contains('Taoyuan'), var_city] = 'Taoyuan'\n",
    "df.loc[df[var_city].str.contains('Bornova'), var_city] = 'Bornova'\n",
    "df.loc[df[var_city].str.contains('Bogor'), var_city] = 'Bogor'\n",
    "df.loc[df[var_city].str.contains('Torres Vedras'), var_city] = 'Torres Vedras'\n",
    "df.loc[df[var_city].str.contains('Nashville and Davidson'), var_city] = 'Nashville and Davidson'"
   ]
  },
  {
   "cell_type": "code",
   "execution_count": null,
   "metadata": {},
   "outputs": [],
   "source": []
  },
  {
   "cell_type": "code",
   "execution_count": 29,
   "metadata": {},
   "outputs": [],
   "source": [
    "#Small edits\n",
    "df.loc[df['Country'].str.contains('Hong Kong'), 'Country'] = 'China'\n",
    "\n",
    "df.loc[df[var_city]=='Hong Kong', 'Country']\n",
    "\n",
    "df.rename(columns = {'Country':'country'}, inplace = True)"
   ]
  },
  {
   "cell_type": "code",
   "execution_count": 30,
   "metadata": {},
   "outputs": [],
   "source": [
    "#Add CDP tags to columns missing it\n",
    "col_list=['TOT lower bound [tCO2]',  'TOT upper bound [tCO2]',  'TOT mean [tCO2]',  'S1 lower bound [tCO2]',  \n",
    "          'S1 upper bound [tCO2]', 'S1 mean [tCO2]']\n",
    "\n",
    "for idx in range(len(col_list)):\n",
    "    df = df.rename(columns={col_list[idx]: col_list[idx] + ' (CDP)'})"
   ]
  },
  {
   "cell_type": "code",
   "execution_count": null,
   "metadata": {},
   "outputs": [],
   "source": []
  },
  {
   "cell_type": "markdown",
   "metadata": {},
   "source": [
    "# Add geographic regions"
   ]
  },
  {
   "cell_type": "code",
   "execution_count": 31,
   "metadata": {},
   "outputs": [],
   "source": [
    "df.loc[(df[var_city].isin(groupEurope)), 'region (CDP)'] = 'Europe'\n",
    "df.loc[(df[var_city].isin(groupNAmer)), 'region (CDP)'] = 'North America'\n",
    "df.loc[(df[var_city].isin(groupOceania)), 'region (CDP)'] = 'Oceania'\n",
    "df.loc[(df[var_city].isin(groupLatinAmer)), 'region (CDP)'] = 'Latin America & Caribbean'\n",
    "df.loc[(df[var_city].isin(groupNorthAfrica)), 'region (CDP)'] = 'North Africa, Middle East, West Asia'\n",
    "df.loc[(df[var_city].isin(groupEastAsia)), 'region (CDP)'] = 'East Asia'\n",
    "df.loc[(df[var_city].isin(groupSoutheastAsia)), 'region (CDP)'] = 'Southeast Asia'\n",
    "df.loc[(df[var_city].isin(groupAfrica)), 'region (CDP)'] = 'Africa'"
   ]
  },
  {
   "cell_type": "markdown",
   "metadata": {},
   "source": [
    "# Drop unwanted columns"
   ]
  },
  {
   "cell_type": "code",
   "execution_count": 32,
   "metadata": {},
   "outputs": [],
   "source": [
    "df.drop('Account Number (CDP)', 1, inplace=True)\n",
    "df.drop('City Short Name (CDP)', 1, inplace=True)\n",
    "df.drop('C40 (CDP)', 1, inplace=True)\n",
    "df.drop('Measurement Year (CDP)', 1, inplace=True)\n",
    "df.drop('Country Location (CDP)', 1, inplace=True)"
   ]
  },
  {
   "cell_type": "markdown",
   "metadata": {},
   "source": [
    "# Rename columns"
   ]
  },
  {
   "cell_type": "code",
   "execution_count": 33,
   "metadata": {},
   "outputs": [],
   "source": [
    "#Fix 'metric tonne' typo to 'metric ton'\n",
    "df.rename(columns = {'Total City-wide Emissions (metric tonnes CO2e) (CDP)':'Total City-wide Emissions (metric ton CO2e) (CDP)'}, inplace = True)\n",
    "df.rename(columns = {'Total Scope 1 Emissions (metric tonnes CO2e) (CDP)':'Total Scope 1 Emissions (metric ton CO2e) (CDP)'}, inplace = True)\n",
    "df.rename(columns = {'Total Scope 2 Emissions (metric tonnes CO2e) (CDP)':'Total Scope 2 Emissions (metric ton CO2e) (CDP)'}, inplace = True)"
   ]
  },
  {
   "cell_type": "code",
   "execution_count": null,
   "metadata": {},
   "outputs": [],
   "source": []
  },
  {
   "cell_type": "code",
   "execution_count": 34,
   "metadata": {},
   "outputs": [
    {
     "name": "stdout",
     "output_type": "stream",
     "text": [
      "41\n",
      "41\n"
     ]
    }
   ],
   "source": [
    "col_order = [\n",
    " 'city name',\n",
    " 'City Name (CDP)',\n",
    " 'country',\n",
    " 'region (CDP)',\n",
    " 'Boundary (CDP)',\n",
    " 'Reporting Year (CDP)',\n",
    " 'Measurement year only (CDP)',\n",
    " 'Current Population (CDP)',\n",
    " 'Current Population Year (CDP)',\n",
    " 'scope fraction (CDP)',\n",
    " 'Total City-wide Emissions (metric ton CO2e) (CDP)',\n",
    " 'Total Scope 1 Emissions (metric ton CO2e) (CDP)',\n",
    " 'Total Scope 2 Emissions (metric ton CO2e) (CDP)',\n",
    " 'CDP2016 data edited (CDP)',\n",
    " 'Emissions Quality Flag (CDP)',\n",
    " 'Gases included (CDP)',\n",
    " 'TOT lower bound [tCO2] (CDP)',\n",
    " 'TOT upper bound [tCO2] (CDP)',\n",
    " 'TOT mean [tCO2] (CDP)',\n",
    " 'S1 lower bound [tCO2] (CDP)',\n",
    " 'S1 upper bound [tCO2] (CDP)',\n",
    " 'S1 mean [tCO2] (CDP)',\n",
    " \n",
    " 'Primary Methodology (CDP)',\n",
    " 'Methodology Details (CDP)',\n",
    " 'Increase/Decrease from last year (CDP)',\n",
    " 'Reason for increase/decrease in emissions (CDP)',\n",
    " 'Average annual temperature (in Celsius) (CDP)',\n",
    " 'Land area (in square km) (CDP)',\n",
    " 'Average altitude (m) (CDP)',\n",
    " 'CH4_waste/person',\n",
    " 'CH4_(waste+natgas)/person',\n",
    " 'corrected CH4_(waste+natgas)/person',\n",
    " 'Production (m3)',\n",
    " 'Exports (m3)',\n",
    " 'Export/Production',\n",
    " 'data from CIA World Fact Book for 2014',\n",
    " 'City Location (CDP)',\n",
    " 'City GDP (CDP)',\n",
    " 'GDP Currency (CDP)',\n",
    " 'Year of GDP (CDP)',\n",
    " 'GDP Source (CDP)'\n",
    "]\n",
    "\n",
    "print len(col_order)\n",
    "print df.shape[1]"
   ]
  },
  {
   "cell_type": "code",
   "execution_count": 35,
   "metadata": {},
   "outputs": [
    {
     "name": "stdout",
     "output_type": "stream",
     "text": [
      "(187, 41)\n"
     ]
    }
   ],
   "source": [
    "df=df[col_order]\n",
    "print df.shape"
   ]
  },
  {
   "cell_type": "markdown",
   "metadata": {
    "collapsed": true
   },
   "source": [
    "# save"
   ]
  },
  {
   "cell_type": "code",
   "execution_count": 36,
   "metadata": {},
   "outputs": [],
   "source": [
    "df.to_csv('DATA/INTERMEDIATE_FILES/cdp_correctedCO2.csv', sep='\\t', encoding='utf-8')"
   ]
  },
  {
   "cell_type": "code",
   "execution_count": null,
   "metadata": {},
   "outputs": [],
   "source": []
  },
  {
   "cell_type": "markdown",
   "metadata": {
    "collapsed": true
   },
   "source": [
    "# Continue to Methods3_mergeEmissionsDatasets.ipynb"
   ]
  }
 ],
 "metadata": {
  "kernelspec": {
   "display_name": "Python 2",
   "language": "python",
   "name": "python2"
  },
  "language_info": {
   "codemirror_mode": {
    "name": "ipython",
    "version": 2
   },
   "file_extension": ".py",
   "mimetype": "text/x-python",
   "name": "python",
   "nbconvert_exporter": "python",
   "pygments_lexer": "ipython2",
   "version": "2.7.14"
  }
 },
 "nbformat": 4,
 "nbformat_minor": 1
}
